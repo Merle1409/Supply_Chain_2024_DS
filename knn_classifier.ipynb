{
 "cells": [
  {
   "cell_type": "code",
   "execution_count": 1,
   "metadata": {},
   "outputs": [],
   "source": [
    "import pandas as pd\n",
    "import numpy as np\n"
   ]
  },
  {
   "cell_type": "code",
   "execution_count": 10,
   "metadata": {},
   "outputs": [],
   "source": [
    "from sklearn.feature_extraction.text import CountVectorizer\n",
    "from sklearn.feature_extraction.text import TfidfVectorizer\n",
    "from gensim.models import Word2Vec\n",
    "from sklearn import neighbors\n",
    "from sklearn.model_selection import train_test_split\n",
    "from sklearn.metrics import classification_report\n",
    "from nltk.stem.snowball import PorterStemmer\n",
    "from nltk.stem import WordNetLemmatizer\n",
    "from sklearn.metrics import accuracy_score\n"
   ]
  },
  {
   "cell_type": "code",
   "execution_count": 23,
   "metadata": {},
   "outputs": [
    {
     "data": {
      "text/html": [
       "<div>\n",
       "<style scoped>\n",
       "    .dataframe tbody tr th:only-of-type {\n",
       "        vertical-align: middle;\n",
       "    }\n",
       "\n",
       "    .dataframe tbody tr th {\n",
       "        vertical-align: top;\n",
       "    }\n",
       "\n",
       "    .dataframe thead th {\n",
       "        text-align: right;\n",
       "    }\n",
       "</style>\n",
       "<table border=\"1\" class=\"dataframe\">\n",
       "  <thead>\n",
       "    <tr style=\"text-align: right;\">\n",
       "      <th></th>\n",
       "      <th>rating</th>\n",
       "      <th>location</th>\n",
       "      <th>username</th>\n",
       "      <th>number_reviews</th>\n",
       "      <th>verification</th>\n",
       "      <th>repeat_reviewer</th>\n",
       "      <th>repeat_reviewer_encoded</th>\n",
       "      <th>company</th>\n",
       "      <th>text</th>\n",
       "      <th>text_processed</th>\n",
       "      <th>...</th>\n",
       "      <th>date_posted</th>\n",
       "      <th>local_date_posted</th>\n",
       "      <th>month_local</th>\n",
       "      <th>local_hour</th>\n",
       "      <th>time_of_day</th>\n",
       "      <th>day_of_week_posted</th>\n",
       "      <th>day_type</th>\n",
       "      <th>days_between_experience_and_post</th>\n",
       "      <th>review_time</th>\n",
       "      <th>review_time_encoded</th>\n",
       "    </tr>\n",
       "  </thead>\n",
       "  <tbody>\n",
       "    <tr>\n",
       "      <th>0</th>\n",
       "      <td>5</td>\n",
       "      <td>CA</td>\n",
       "      <td>Rob Crane</td>\n",
       "      <td>2</td>\n",
       "      <td>Redirected</td>\n",
       "      <td>repeat</td>\n",
       "      <td>1</td>\n",
       "      <td>Flashbay</td>\n",
       "      <td>The company rep I worked with made my transact...</td>\n",
       "      <td>company rep worked made transaction smooth qui...</td>\n",
       "      <td>...</td>\n",
       "      <td>2024-10-23 04:17:44</td>\n",
       "      <td>2024-10-22</td>\n",
       "      <td>10</td>\n",
       "      <td>21</td>\n",
       "      <td>Evening</td>\n",
       "      <td>1</td>\n",
       "      <td>Business Day</td>\n",
       "      <td>129</td>\n",
       "      <td>late_review</td>\n",
       "      <td>0</td>\n",
       "    </tr>\n",
       "    <tr>\n",
       "      <th>1</th>\n",
       "      <td>5</td>\n",
       "      <td>US</td>\n",
       "      <td>Pat Anderson</td>\n",
       "      <td>1</td>\n",
       "      <td>Verified</td>\n",
       "      <td>one-time</td>\n",
       "      <td>0</td>\n",
       "      <td>Flashbay</td>\n",
       "      <td>I highly recommend using Flashbay. Immediately...</td>\n",
       "      <td>highly recommend using flashbay immediately or...</td>\n",
       "      <td>...</td>\n",
       "      <td>2024-10-16 19:34:05</td>\n",
       "      <td>2024-10-16</td>\n",
       "      <td>10</td>\n",
       "      <td>12</td>\n",
       "      <td>Business Hours</td>\n",
       "      <td>2</td>\n",
       "      <td>Business Day</td>\n",
       "      <td>0</td>\n",
       "      <td>quick_review</td>\n",
       "      <td>1</td>\n",
       "    </tr>\n",
       "    <tr>\n",
       "      <th>2</th>\n",
       "      <td>5</td>\n",
       "      <td>CZ</td>\n",
       "      <td>Margarita Orlova</td>\n",
       "      <td>1</td>\n",
       "      <td>Verified</td>\n",
       "      <td>one-time</td>\n",
       "      <td>0</td>\n",
       "      <td>Flashbay</td>\n",
       "      <td>I had the pleasure of working with Shelby Gibs...</td>\n",
       "      <td>pleasure working shelby gibson large order nee...</td>\n",
       "      <td>...</td>\n",
       "      <td>2024-10-17 10:27:44</td>\n",
       "      <td>2024-10-17</td>\n",
       "      <td>10</td>\n",
       "      <td>10</td>\n",
       "      <td>Business Hours</td>\n",
       "      <td>3</td>\n",
       "      <td>Business Day</td>\n",
       "      <td>7</td>\n",
       "      <td>late_review</td>\n",
       "      <td>0</td>\n",
       "    </tr>\n",
       "    <tr>\n",
       "      <th>3</th>\n",
       "      <td>5</td>\n",
       "      <td>US</td>\n",
       "      <td>Paola Rivas</td>\n",
       "      <td>1</td>\n",
       "      <td>Verified</td>\n",
       "      <td>one-time</td>\n",
       "      <td>0</td>\n",
       "      <td>Flashbay</td>\n",
       "      <td>I had a fantastic experience with Brian Truong...</td>\n",
       "      <td>fantastic experience brian truong attentive tr...</td>\n",
       "      <td>...</td>\n",
       "      <td>2024-10-21 22:38:50</td>\n",
       "      <td>2024-10-21</td>\n",
       "      <td>10</td>\n",
       "      <td>15</td>\n",
       "      <td>Business Hours</td>\n",
       "      <td>0</td>\n",
       "      <td>Business Day</td>\n",
       "      <td>0</td>\n",
       "      <td>quick_review</td>\n",
       "      <td>1</td>\n",
       "    </tr>\n",
       "    <tr>\n",
       "      <th>4</th>\n",
       "      <td>5</td>\n",
       "      <td>CA</td>\n",
       "      <td>Fiona Mckelvey Keenan</td>\n",
       "      <td>3</td>\n",
       "      <td>Not Verified</td>\n",
       "      <td>repeat</td>\n",
       "      <td>1</td>\n",
       "      <td>Flashbay</td>\n",
       "      <td>My number-one go-to for computer accessories. ...</td>\n",
       "      <td>numberone goto computer accessories rachel sup...</td>\n",
       "      <td>...</td>\n",
       "      <td>2024-10-23 04:09:05</td>\n",
       "      <td>2024-10-22</td>\n",
       "      <td>10</td>\n",
       "      <td>21</td>\n",
       "      <td>Evening</td>\n",
       "      <td>1</td>\n",
       "      <td>Business Day</td>\n",
       "      <td>103</td>\n",
       "      <td>late_review</td>\n",
       "      <td>0</td>\n",
       "    </tr>\n",
       "  </tbody>\n",
       "</table>\n",
       "<p>5 rows × 34 columns</p>\n",
       "</div>"
      ],
      "text/plain": [
       "   rating location               username  number_reviews  verification  \\\n",
       "0       5       CA              Rob Crane               2    Redirected   \n",
       "1       5       US           Pat Anderson               1      Verified   \n",
       "2       5       CZ       Margarita Orlova               1      Verified   \n",
       "3       5       US            Paola Rivas               1      Verified   \n",
       "4       5       CA  Fiona Mckelvey Keenan               3  Not Verified   \n",
       "\n",
       "  repeat_reviewer  repeat_reviewer_encoded   company  \\\n",
       "0          repeat                        1  Flashbay   \n",
       "1        one-time                        0  Flashbay   \n",
       "2        one-time                        0  Flashbay   \n",
       "3        one-time                        0  Flashbay   \n",
       "4          repeat                        1  Flashbay   \n",
       "\n",
       "                                                text  \\\n",
       "0  The company rep I worked with made my transact...   \n",
       "1  I highly recommend using Flashbay. Immediately...   \n",
       "2  I had the pleasure of working with Shelby Gibs...   \n",
       "3  I had a fantastic experience with Brian Truong...   \n",
       "4  My number-one go-to for computer accessories. ...   \n",
       "\n",
       "                                      text_processed  ...  \\\n",
       "0  company rep worked made transaction smooth qui...  ...   \n",
       "1  highly recommend using flashbay immediately or...  ...   \n",
       "2  pleasure working shelby gibson large order nee...  ...   \n",
       "3  fantastic experience brian truong attentive tr...  ...   \n",
       "4  numberone goto computer accessories rachel sup...  ...   \n",
       "\n",
       "           date_posted  local_date_posted  month_local  local_hour  \\\n",
       "0  2024-10-23 04:17:44         2024-10-22           10          21   \n",
       "1  2024-10-16 19:34:05         2024-10-16           10          12   \n",
       "2  2024-10-17 10:27:44         2024-10-17           10          10   \n",
       "3  2024-10-21 22:38:50         2024-10-21           10          15   \n",
       "4  2024-10-23 04:09:05         2024-10-22           10          21   \n",
       "\n",
       "      time_of_day  day_of_week_posted      day_type  \\\n",
       "0         Evening                   1  Business Day   \n",
       "1  Business Hours                   2  Business Day   \n",
       "2  Business Hours                   3  Business Day   \n",
       "3  Business Hours                   0  Business Day   \n",
       "4         Evening                   1  Business Day   \n",
       "\n",
       "  days_between_experience_and_post   review_time  review_time_encoded  \n",
       "0                              129   late_review                    0  \n",
       "1                                0  quick_review                    1  \n",
       "2                                7   late_review                    0  \n",
       "3                                0  quick_review                    1  \n",
       "4                              103   late_review                    0  \n",
       "\n",
       "[5 rows x 34 columns]"
      ]
     },
     "execution_count": 23,
     "metadata": {},
     "output_type": "execute_result"
    }
   ],
   "source": [
    "df = pd.read_csv(r\"data/data_trustpilot.csv\")\n",
    "df.head()"
   ]
  },
  {
   "cell_type": "code",
   "execution_count": 24,
   "metadata": {},
   "outputs": [],
   "source": [
    "X= df[\"text_processed\"]\n",
    "y = df[\"rating\"]\n",
    "\n",
    "X_train, X_test, y_train, y_test = train_test_split(X,y, test_size = 0.2, random_state = 30)\n"
   ]
  },
  {
   "cell_type": "code",
   "execution_count": 25,
   "metadata": {},
   "outputs": [],
   "source": [
    "# BoW\n",
    "vectorizer = CountVectorizer()\n",
    "X_train_BoW = vectorizer.fit_transform(X_train)\n",
    "X_test_BoW = vectorizer.transform(X_test)"
   ]
  },
  {
   "cell_type": "code",
   "execution_count": 27,
   "metadata": {},
   "outputs": [],
   "source": [
    "#classifier on basis of Bow\n",
    "clf_BoW = neighbors.KNeighborsClassifier(n_neighbors = 3, metric = 'minkowski')\n",
    "clf_BoW.fit(X_train_BoW, y_train)\n",
    "y_pred_BoW = clf_BoW.predict(X_test_BoW)"
   ]
  },
  {
   "cell_type": "code",
   "execution_count": 28,
   "metadata": {},
   "outputs": [
    {
     "name": "stdout",
     "output_type": "stream",
     "text": [
      "              precision    recall  f1-score   support\n",
      "\n",
      "           1       0.64      0.48      0.54      3279\n",
      "           2       0.17      0.06      0.09       854\n",
      "           3       0.29      0.09      0.14      1271\n",
      "           4       0.17      0.06      0.09      1248\n",
      "           5       0.63      0.94      0.76      6223\n",
      "\n",
      "    accuracy                           0.59     12875\n",
      "   macro avg       0.38      0.33      0.33     12875\n",
      "weighted avg       0.52      0.59      0.53     12875\n",
      "\n",
      "Pred     1    2    3    4     5\n",
      "real                           \n",
      "1     1560  106  115   96  1402\n",
      "2      303   55   68   52   376\n",
      "3      301   89  117   98   666\n",
      "4      141   38   47   78   944\n",
      "5      147   31   51  145  5849\n"
     ]
    }
   ],
   "source": [
    "# results classification with BoW\n",
    "print(classification_report(y_test, y_pred_BoW))\n",
    "\n",
    "cm_K_BoW = pd.crosstab(y_test, y_pred_BoW, rownames=['real'], colnames=['Pred'])\n",
    "print(cm_K_BoW) "
   ]
  },
  {
   "cell_type": "code",
   "execution_count": 54,
   "metadata": {},
   "outputs": [
    {
     "name": "stderr",
     "output_type": "stream",
     "text": [
      "c:\\Users\\Admin\\.conda\\envs\\supply_chain\\Lib\\site-packages\\sklearn\\model_selection\\_search.py:1102: UserWarning: One or more of the test scores are non-finite: [nan nan nan nan nan nan nan nan nan nan nan nan nan nan nan nan nan nan\n",
      " nan nan nan nan nan nan nan nan nan nan nan nan]\n",
      "  warnings.warn(\n"
     ]
    },
    {
     "name": "stdout",
     "output_type": "stream",
     "text": [
      "Best Parameters: {'metric': 'euclidean', 'n_neighbors': 3, 'weights': 'uniform'}\n",
      "Best Cross-Validation Score: nan\n"
     ]
    }
   ],
   "source": [
    "# grid search\n",
    "from sklearn.model_selection import GridSearchCV\n",
    "\n",
    "param_grid = {'n_neighbors': [3, 5, 7, 9, 11], 'weights': ['uniform', 'distance'], 'metric': ['euclidean', 'manhattan', 'minkowski']}\n",
    "grid_search_BoW = GridSearchCV(estimator=clf_BoW, param_grid=param_grid, scoring='accuracy', cv=5, n_jobs=-1)\n",
    "grid_search_BoW.fit(X_train_BoW, y_train)\n",
    "\n",
    "print(\"Best Parameters:\", grid_search_BoW.best_params_)\n",
    "print(\"Best Cross-Validation Score:\", grid_search_BoW.best_score_)"
   ]
  },
  {
   "cell_type": "code",
   "execution_count": 56,
   "metadata": {},
   "outputs": [],
   "source": [
    "# Tfidf\n",
    "vec_tfidf = TfidfVectorizer()\n",
    "X_train_tfidf = vec_tfidf.fit_transform(X_train)\n",
    "X_test_tfidf = vec_tfidf.transform(X_test)"
   ]
  },
  {
   "cell_type": "code",
   "execution_count": 57,
   "metadata": {},
   "outputs": [],
   "source": [
    "#classifier on basis of Tfidf\n",
    "clf_tfidf = neighbors.KNeighborsClassifier(n_neighbors = 3, metric = 'minkowski')\n",
    "clf_tfidf.fit(X_train_tfidf, y_train)\n",
    "y_pred_tfidf = clf_tfidf.predict(X_test_tfidf)"
   ]
  },
  {
   "cell_type": "code",
   "execution_count": 58,
   "metadata": {},
   "outputs": [
    {
     "name": "stdout",
     "output_type": "stream",
     "text": [
      "              precision    recall  f1-score   support\n",
      "\n",
      "           1       0.66      0.71      0.69      3279\n",
      "           2       0.20      0.13      0.16       854\n",
      "           3       0.33      0.18      0.23      1271\n",
      "           4       0.25      0.09      0.14      1248\n",
      "           5       0.75      0.92      0.83      6223\n",
      "\n",
      "    accuracy                           0.66     12875\n",
      "   macro avg       0.44      0.41      0.41     12875\n",
      "weighted avg       0.60      0.66      0.62     12875\n",
      "\n",
      "Pred     1    2    3    4     5\n",
      "real                           \n",
      "1     2343  139  149   60   588\n",
      "2      366  113  114   49   212\n",
      "3      403  159  224  102   383\n",
      "4      198   76  131  118   725\n",
      "5      232   66   69  144  5712\n"
     ]
    }
   ],
   "source": [
    "# results classification with Tfidf\n",
    "print(classification_report(y_test, y_pred_tfidf))\n",
    "\n",
    "cm_K_tfidf = pd.crosstab(y_test, y_pred_tfidf, rownames=['real'], colnames=['Pred'])\n",
    "print(cm_K_tfidf) "
   ]
  },
  {
   "cell_type": "code",
   "execution_count": 59,
   "metadata": {},
   "outputs": [
    {
     "name": "stderr",
     "output_type": "stream",
     "text": [
      "c:\\Users\\Admin\\.conda\\envs\\supply_chain\\Lib\\site-packages\\sklearn\\model_selection\\_search.py:1102: UserWarning: One or more of the test scores are non-finite: [       nan        nan        nan        nan        nan        nan\n",
      "        nan        nan        nan        nan 0.47764034 0.4784559\n",
      " 0.47789292 0.48092207 0.48022302 0.48253373 0.48738812 0.4880095\n",
      " 0.48830076 0.48824252        nan        nan        nan        nan\n",
      "        nan        nan        nan        nan        nan        nan]\n",
      "  warnings.warn(\n"
     ]
    },
    {
     "name": "stdout",
     "output_type": "stream",
     "text": [
      "Best Parameters: {'metric': 'manhattan', 'n_neighbors': 11, 'weights': 'uniform'}\n",
      "Best Cross-Validation Score: 0.4883007625398639\n"
     ]
    }
   ],
   "source": [
    "grid_search_tfidf = GridSearchCV(estimator=clf_tfidf, param_grid=param_grid, scoring='accuracy', cv=5, n_jobs=-1)\n",
    "grid_search_tfidf.fit(X_train_tfidf, y_train)\n",
    "\n",
    "print(\"Best Parameters:\", grid_search_tfidf.best_params_)\n",
    "print(\"Best Cross-Validation Score:\", grid_search_tfidf.best_score_)"
   ]
  },
  {
   "cell_type": "code",
   "execution_count": 34,
   "metadata": {},
   "outputs": [],
   "source": [
    "# w2v vector creation\n",
    "def get_review_vector(review, model):\n",
    "    vectors = [model.wv[word] for word in review if word in model.wv]\n",
    "    if not vectors:\n",
    "        return np.zeros(model.vector_size)\n",
    "    return np.mean(vectors, axis=0)"
   ]
  },
  {
   "cell_type": "code",
   "execution_count": null,
   "metadata": {},
   "outputs": [],
   "source": [
    "# creating list of vectors\n",
    "word2vec_model = Word2Vec(X_train, vector_size=100, window=5, min_count=1, workers=4)\n",
    "X_train_vectors = [get_review_vector(review, word2vec_model) for review in X_train]\n",
    "X_test_vectors = [get_review_vector(review, word2vec_model) for review in X_test]"
   ]
  },
  {
   "cell_type": "code",
   "execution_count": 36,
   "metadata": {},
   "outputs": [],
   "source": [
    "# converting list of vectors into arrays\n",
    "X_train_w2v = np.array(X_train_vectors)\n",
    "X_test_w2v = np.array(X_test_vectors)"
   ]
  },
  {
   "cell_type": "code",
   "execution_count": 37,
   "metadata": {},
   "outputs": [],
   "source": [
    "#classifier on basis of Word2Vec\n",
    "clf_w2v = neighbors.KNeighborsClassifier(n_neighbors = 3, metric = 'minkowski')\n",
    "clf_w2v.fit(X_train_w2v, y_train)\n",
    "y_pred_w2v = clf_w2v.predict(X_test_w2v)"
   ]
  },
  {
   "cell_type": "code",
   "execution_count": 38,
   "metadata": {},
   "outputs": [
    {
     "name": "stdout",
     "output_type": "stream",
     "text": [
      "              precision    recall  f1-score   support\n",
      "\n",
      "           1       0.44      0.71      0.55      3279\n",
      "           2       0.11      0.11      0.11       854\n",
      "           3       0.20      0.14      0.17      1271\n",
      "           4       0.15      0.04      0.07      1248\n",
      "           5       0.71      0.63      0.66      6223\n",
      "\n",
      "    accuracy                           0.51     12875\n",
      "   macro avg       0.32      0.33      0.31     12875\n",
      "weighted avg       0.50      0.51      0.49     12875\n",
      "\n",
      "Pred     1    2    3    4     5\n",
      "real                           \n",
      "1     2321  176  146   62   574\n",
      "2      443   97  106   22   186\n",
      "3      505  150  178   53   385\n",
      "4      430  127  148   53   490\n",
      "5     1522  313  300  174  3914\n"
     ]
    }
   ],
   "source": [
    "# results classification with Word2Vec\n",
    "print(classification_report(y_test, y_pred_w2v))\n",
    "\n",
    "cm_K_w2v = pd.crosstab(y_test, y_pred_w2v, rownames=['real'], colnames=['Pred'])\n",
    "print(cm_K_w2v) "
   ]
  },
  {
   "cell_type": "code",
   "execution_count": 60,
   "metadata": {},
   "outputs": [
    {
     "name": "stdout",
     "output_type": "stream",
     "text": [
      "Best Parameters: {'metric': 'euclidean', 'n_neighbors': 11, 'weights': 'distance'}\n",
      "Best Cross-Validation Score: 0.5678556500442593\n"
     ]
    }
   ],
   "source": [
    "grid_search_w2v = GridSearchCV(estimator=clf_w2v, param_grid=param_grid, scoring='accuracy', cv=5, n_jobs=-1)\n",
    "grid_search_w2v.fit(X_train_w2v, y_train)\n",
    "\n",
    "print(\"Best Parameters:\", grid_search_w2v.best_params_)\n",
    "print(\"Best Cross-Validation Score:\", grid_search_w2v.best_score_)"
   ]
  },
  {
   "cell_type": "code",
   "execution_count": 39,
   "metadata": {},
   "outputs": [],
   "source": [
    "# loading GloVe embedding\n",
    "def load_glove_embeddings(file_path):\n",
    "    embeddings = {}\n",
    "    with open(file_path, 'r', encoding='utf-8') as f:\n",
    "        for line in f:\n",
    "            values = line.split()\n",
    "            word = values[0]\n",
    "            vector = np.array(values[1:], dtype='float32')\n",
    "            embeddings[word] = vector\n",
    "    return embeddings\n",
    "\n",
    "# Path to GloVe file\n",
    "glove_file = \"data/glove.6B.300d.txt\"  \n",
    "glove_embeddings = load_glove_embeddings(glove_file)"
   ]
  },
  {
   "cell_type": "code",
   "execution_count": 44,
   "metadata": {},
   "outputs": [],
   "source": [
    "# GloVe vector creation\n",
    "def get_review_vector_glove(review, embeddings, dim = 100):\n",
    "    vectors_glove = [embeddings[word] for word in review if word in embeddings]\n",
    "    if not vectors_glove:\n",
    "        return np.zeros(dim)\n",
    "    return np.mean(vectors_glove, axis=0)"
   ]
  },
  {
   "cell_type": "code",
   "execution_count": 45,
   "metadata": {},
   "outputs": [],
   "source": [
    "# creating list of glove vectors\n",
    "\n",
    "X_train_glove = np.array([get_review_vector_glove(review, glove_embeddings) for review in X_train])\n",
    "X_test_glove = np.array([get_review_vector_glove(review, glove_embeddings) for review in X_test])\n"
   ]
  },
  {
   "cell_type": "code",
   "execution_count": 46,
   "metadata": {},
   "outputs": [],
   "source": [
    "# converting list of vectors into arrays\n",
    "X_train_GloVe = np.array(X_train_glove)\n",
    "X_test_GloVe = np.array(X_test_glove)"
   ]
  },
  {
   "cell_type": "code",
   "execution_count": 47,
   "metadata": {},
   "outputs": [],
   "source": [
    "#classifier on basis of GloVe\n",
    "clf_GloVe = neighbors.KNeighborsClassifier(n_neighbors = 3, metric = 'minkowski')\n",
    "clf_GloVe.fit(X_train_GloVe, y_train)\n",
    "y_pred_GloVe = clf_GloVe.predict(X_test_GloVe)"
   ]
  },
  {
   "cell_type": "code",
   "execution_count": 48,
   "metadata": {},
   "outputs": [
    {
     "name": "stdout",
     "output_type": "stream",
     "text": [
      "              precision    recall  f1-score   support\n",
      "\n",
      "           1       0.41      0.69      0.51      3279\n",
      "           2       0.10      0.09      0.10       854\n",
      "           3       0.17      0.10      0.13      1271\n",
      "           4       0.17      0.05      0.07      1248\n",
      "           5       0.67      0.59      0.63      6223\n",
      "\n",
      "    accuracy                           0.48     12875\n",
      "   macro avg       0.31      0.30      0.29     12875\n",
      "weighted avg       0.47      0.48      0.46     12875\n",
      "\n",
      "Pred     1    2    3    4     5\n",
      "real                           \n",
      "1     2261  158  141   47   672\n",
      "2      453   81   85   29   206\n",
      "3      538  153  131   48   401\n",
      "4      483   99  124   59   483\n",
      "5     1823  298  288  160  3654\n"
     ]
    }
   ],
   "source": [
    "# results classification with GloVe\n",
    "print(classification_report(y_test, y_pred_GloVe))\n",
    "\n",
    "cm_K_GloVe = pd.crosstab(y_test, y_pred_GloVe, rownames=['real'], colnames=['Pred'])\n",
    "print(cm_K_GloVe) "
   ]
  },
  {
   "cell_type": "code",
   "execution_count": 61,
   "metadata": {},
   "outputs": [
    {
     "name": "stdout",
     "output_type": "stream",
     "text": [
      "Best Parameters: {'metric': 'euclidean', 'n_neighbors': 11, 'weights': 'distance'}\n",
      "Best Cross-Validation Score: 0.5532728259978111\n"
     ]
    }
   ],
   "source": [
    "grid_search_GloVe = GridSearchCV(estimator=clf_GloVe, param_grid=param_grid, scoring='accuracy', cv=5, n_jobs=-1)\n",
    "grid_search_GloVe.fit(X_train_GloVe, y_train)\n",
    "\n",
    "print(\"Best Parameters:\", grid_search_GloVe.best_params_)\n",
    "print(\"Best Cross-Validation Score:\", grid_search_GloVe.best_score_)"
   ]
  },
  {
   "cell_type": "code",
   "execution_count": null,
   "metadata": {},
   "outputs": [],
   "source": []
  },
  {
   "cell_type": "code",
   "execution_count": null,
   "metadata": {},
   "outputs": [],
   "source": []
  }
 ],
 "metadata": {
  "kernelspec": {
   "display_name": "supply_chain",
   "language": "python",
   "name": "python3"
  },
  "language_info": {
   "codemirror_mode": {
    "name": "ipython",
    "version": 3
   },
   "file_extension": ".py",
   "mimetype": "text/x-python",
   "name": "python",
   "nbconvert_exporter": "python",
   "pygments_lexer": "ipython3",
   "version": "3.12.7"
  }
 },
 "nbformat": 4,
 "nbformat_minor": 2
}
