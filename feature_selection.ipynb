{
 "cells": [
  {
   "cell_type": "code",
   "execution_count": 70,
   "metadata": {},
   "outputs": [],
   "source": [
    "%matplotlib inline\n",
    "import seaborn as sns\n",
    "import matplotlib.pyplot as plt\n",
    "import numpy as np\n",
    "import pandas as pd\n",
    "import statsmodels.api as sm\n",
    "from scipy.stats import pearsonr, spearmanr\n",
    "from scipy import stats\n",
    "from IPython.display import display, HTML\n",
    "from sklearn.linear_model import LogisticRegression\n",
    "from sklearn.metrics import roc_curve, auc, classification_report\n",
    "from sklearn.model_selection import train_test_split\n",
    "from datetime import datetime\n",
    "from statsmodels.formula.api import ols\n",
    "from statsmodels.stats.api import anova_lm\n",
    "from statsmodels.stats.outliers_influence import variance_inflation_factor\n",
    "from sklearn.feature_selection import mutual_info_regression\n",
    "from sklearn.feature_selection import VarianceThreshold\n",
    "from sklearn.preprocessing import LabelEncoder\n",
    "\n",
    "pd.set_option('display.max_rows', None)\n",
    "pd.set_option('display.max_columns', None)\n",
    "pd.set_option('display.width', None)\n",
    "pd.set_option('display.max_colwidth', None)\n",
    "pd.set_option('display.expand_frame_repr', False)\n",
    "pd.set_option('display.precision', 3)\n",
    "import warnings\n",
    "warnings.filterwarnings('ignore')\n",
    "\n"
   ]
  },
  {
   "cell_type": "code",
   "execution_count": 71,
   "metadata": {},
   "outputs": [
    {
     "data": {
      "text/html": [
       "<div>\n",
       "<style scoped>\n",
       "    .dataframe tbody tr th:only-of-type {\n",
       "        vertical-align: middle;\n",
       "    }\n",
       "\n",
       "    .dataframe tbody tr th {\n",
       "        vertical-align: top;\n",
       "    }\n",
       "\n",
       "    .dataframe thead th {\n",
       "        text-align: right;\n",
       "    }\n",
       "</style>\n",
       "<table border=\"1\" class=\"dataframe\">\n",
       "  <thead>\n",
       "    <tr style=\"text-align: right;\">\n",
       "      <th></th>\n",
       "      <th>rating</th>\n",
       "      <th>location</th>\n",
       "      <th>username</th>\n",
       "      <th>verification</th>\n",
       "      <th>repeat_reviewer_encoded</th>\n",
       "      <th>company</th>\n",
       "      <th>subject</th>\n",
       "      <th>text</th>\n",
       "      <th>answer</th>\n",
       "      <th>answered</th>\n",
       "      <th>local_date_posted</th>\n",
       "      <th>month_posted</th>\n",
       "      <th>local_hour</th>\n",
       "      <th>time_of_day</th>\n",
       "      <th>day_of_week_posted</th>\n",
       "      <th>day_type</th>\n",
       "      <th>review_time</th>\n",
       "    </tr>\n",
       "  </thead>\n",
       "  <tbody>\n",
       "    <tr>\n",
       "      <th>0</th>\n",
       "      <td>5</td>\n",
       "      <td>US</td>\n",
       "      <td>Mark Bock</td>\n",
       "      <td>1</td>\n",
       "      <td>0</td>\n",
       "      <td>Flashbay</td>\n",
       "      <td>Great work</td>\n",
       "      <td>Great experience all around working with Flashbay. I was very impressed from the start -- the sample box they send to display the various styles of flash drives is ingeniously designed, and having actual samples of the styles helped a lot. My initial thought was that we would just go with the least expensive option, but everyone at my company liked one of the higher end options so much after handling it that we ended up going with that. \\r Our account manager, Samantha, was very easy to work with and quickly answered all questions, and once our management gave the green light to place the order, she got it into production immediately, and the finished drives arrived a day ahead of schedule. And the end product looks outstanding. All of us here are very pleased.\\r Consider me very impressed. I wish all vendors were this pleasant to work with.</td>\n",
       "      <td>Hi Mark,We are glad you found the sample pack useful in making your selection. It is also great to hear that Samantha was able to answer all of your questions, and you are happy with the final product.We look forward to working with you next time!-Flashbay Management</td>\n",
       "      <td>1</td>\n",
       "      <td>2016-02-09</td>\n",
       "      <td>2</td>\n",
       "      <td>11</td>\n",
       "      <td>3</td>\n",
       "      <td>1</td>\n",
       "      <td>1</td>\n",
       "      <td>1</td>\n",
       "    </tr>\n",
       "    <tr>\n",
       "      <th>1</th>\n",
       "      <td>5</td>\n",
       "      <td>US</td>\n",
       "      <td>Walt</td>\n",
       "      <td>1</td>\n",
       "      <td>1</td>\n",
       "      <td>Quicken</td>\n",
       "      <td>Works as it should.</td>\n",
       "      <td>Works as it should.</td>\n",
       "      <td>0</td>\n",
       "      <td>0</td>\n",
       "      <td>2024-04-03</td>\n",
       "      <td>4</td>\n",
       "      <td>8</td>\n",
       "      <td>1</td>\n",
       "      <td>2</td>\n",
       "      <td>1</td>\n",
       "      <td>1</td>\n",
       "    </tr>\n",
       "    <tr>\n",
       "      <th>2</th>\n",
       "      <td>3</td>\n",
       "      <td>US</td>\n",
       "      <td>David Banoff</td>\n",
       "      <td>1</td>\n",
       "      <td>0</td>\n",
       "      <td>Quicken</td>\n",
       "      <td>Earlier versions of Quicken saved the…</td>\n",
       "      <td>Earlier versions of Quicken saved the most recent values for entries and presented them the next time (e.g. categories. amounts). Quicken no longer does this, but it still presents the previous entries when a payee, for example, created under the older version is used again. This creates more editing than necessary.</td>\n",
       "      <td>0</td>\n",
       "      <td>0</td>\n",
       "      <td>2023-01-16</td>\n",
       "      <td>1</td>\n",
       "      <td>13</td>\n",
       "      <td>3</td>\n",
       "      <td>0</td>\n",
       "      <td>1</td>\n",
       "      <td>0</td>\n",
       "    </tr>\n",
       "    <tr>\n",
       "      <th>3</th>\n",
       "      <td>5</td>\n",
       "      <td>US</td>\n",
       "      <td>Sheri - March Of Dimes</td>\n",
       "      <td>1</td>\n",
       "      <td>0</td>\n",
       "      <td>Flashbay</td>\n",
       "      <td>Great Customer Service, Super Fast Turn</td>\n",
       "      <td>Extremely communicative sales rep (Mike Dods) - responsive and helpful through the entire order process.  Product arrived quickly and exactly as ordered.  We will definitely use Flashbay again without hesitation should the need arise.</td>\n",
       "      <td>Hi Sheri,Thank you for your kind words.It’s great to hear that Mike was so helpful throughout the ordering process. I will make sure to pass this along to him.We appreciate your business, and look forward to working with you next time! -Flashbay Management</td>\n",
       "      <td>1</td>\n",
       "      <td>2015-05-01</td>\n",
       "      <td>5</td>\n",
       "      <td>16</td>\n",
       "      <td>3</td>\n",
       "      <td>4</td>\n",
       "      <td>1</td>\n",
       "      <td>1</td>\n",
       "    </tr>\n",
       "    <tr>\n",
       "      <th>4</th>\n",
       "      <td>5</td>\n",
       "      <td>NL</td>\n",
       "      <td>Pascal</td>\n",
       "      <td>1</td>\n",
       "      <td>1</td>\n",
       "      <td>SteelSeries</td>\n",
       "      <td>Great product</td>\n",
       "      <td>Great product, great after sales!</td>\n",
       "      <td>0</td>\n",
       "      <td>0</td>\n",
       "      <td>2021-12-03</td>\n",
       "      <td>12</td>\n",
       "      <td>20</td>\n",
       "      <td>2</td>\n",
       "      <td>4</td>\n",
       "      <td>1</td>\n",
       "      <td>1</td>\n",
       "    </tr>\n",
       "  </tbody>\n",
       "</table>\n",
       "</div>"
      ],
      "text/plain": [
       "   rating location                username  verification  repeat_reviewer_encoded      company                                  subject                                                                                                                                                                                                                                                                                                                                                                                                                                                                                                                                                                                                                                                                                                                                                                                                                                                                                   text                                                                                                                                                                                                                                                                       answer  answered local_date_posted  month_posted  local_hour  time_of_day  day_of_week_posted  day_type  review_time\n",
       "0       5       US               Mark Bock             1                        0     Flashbay                               Great work  Great experience all around working with Flashbay. I was very impressed from the start -- the sample box they send to display the various styles of flash drives is ingeniously designed, and having actual samples of the styles helped a lot. My initial thought was that we would just go with the least expensive option, but everyone at my company liked one of the higher end options so much after handling it that we ended up going with that. \\r Our account manager, Samantha, was very easy to work with and quickly answered all questions, and once our management gave the green light to place the order, she got it into production immediately, and the finished drives arrived a day ahead of schedule. And the end product looks outstanding. All of us here are very pleased.\\r Consider me very impressed. I wish all vendors were this pleasant to work with.  Hi Mark,We are glad you found the sample pack useful in making your selection. It is also great to hear that Samantha was able to answer all of your questions, and you are happy with the final product.We look forward to working with you next time!-Flashbay Management         1        2016-02-09             2          11            3                   1         1            1\n",
       "1       5       US                    Walt             1                        1      Quicken                      Works as it should.                                                                                                                                                                                                                                                                                                                                                                                                                                                                                                                                                                                                                                                                                                                                                                                                                                                                    Works as it should.                                                                                                                                                                                                                                                                            0         0        2024-04-03             4           8            1                   2         1            1\n",
       "2       3       US            David Banoff             1                        0      Quicken   Earlier versions of Quicken saved the…                                                                                                                                                                                                                                                                                                                                                                                                                                                                                                                                                          Earlier versions of Quicken saved the most recent values for entries and presented them the next time (e.g. categories. amounts). Quicken no longer does this, but it still presents the previous entries when a payee, for example, created under the older version is used again. This creates more editing than necessary.                                                                                                                                                                                                                                                                            0         0        2023-01-16             1          13            3                   0         1            0\n",
       "3       5       US  Sheri - March Of Dimes             1                        0     Flashbay  Great Customer Service, Super Fast Turn                                                                                                                                                                                                                                                                                                                                                                                                                                                                                                                                                                                                                                             Extremely communicative sales rep (Mike Dods) - responsive and helpful through the entire order process.  Product arrived quickly and exactly as ordered.  We will definitely use Flashbay again without hesitation should the need arise.             Hi Sheri,Thank you for your kind words.It’s great to hear that Mike was so helpful throughout the ordering process. I will make sure to pass this along to him.We appreciate your business, and look forward to working with you next time! -Flashbay Management         1        2015-05-01             5          16            3                   4         1            1\n",
       "4       5       NL                  Pascal             1                        1  SteelSeries                            Great product                                                                                                                                                                                                                                                                                                                                                                                                                                                                                                                                                                                                                                                                                                                                                                                                                                                      Great product, great after sales!                                                                                                                                                                                                                                                                            0         0        2021-12-03            12          20            2                   4         1            1"
      ]
     },
     "metadata": {},
     "output_type": "display_data"
    }
   ],
   "source": [
    "#loading the dataset\n",
    "\n",
    "train_df = pd.read_csv('data/train_trustpilot_3.csv', engine='python')\n",
    "\n",
    "display(train_df.head())\n",
    "\n"
   ]
  },
  {
   "cell_type": "code",
   "execution_count": 72,
   "metadata": {},
   "outputs": [
    {
     "name": "stdout",
     "output_type": "stream",
     "text": [
      "Index(['rating', 'location', 'username', 'verification',\n",
      "       'repeat_reviewer_encoded', 'company', 'subject', 'text', 'answer',\n",
      "       'answered', 'local_date_posted', 'month_posted', 'local_hour',\n",
      "       'time_of_day', 'day_of_week_posted', 'day_type', 'review_time'],\n",
      "      dtype='object')\n",
      "<class 'pandas.core.frame.DataFrame'>\n",
      "RangeIndex: 62723 entries, 0 to 62722\n",
      "Data columns (total 17 columns):\n",
      " #   Column                   Non-Null Count  Dtype         \n",
      "---  ------                   --------------  -----         \n",
      " 0   rating                   62723 non-null  int64         \n",
      " 1   location                 62723 non-null  object        \n",
      " 2   username                 62720 non-null  object        \n",
      " 3   verification             62723 non-null  int64         \n",
      " 4   repeat_reviewer_encoded  62723 non-null  int64         \n",
      " 5   company                  62723 non-null  object        \n",
      " 6   subject                  62723 non-null  object        \n",
      " 7   text                     62723 non-null  object        \n",
      " 8   answer                   62723 non-null  object        \n",
      " 9   answered                 62723 non-null  int64         \n",
      " 10  local_date_posted        62723 non-null  datetime64[ns]\n",
      " 11  month_posted             62723 non-null  int64         \n",
      " 12  local_hour               62723 non-null  int64         \n",
      " 13  time_of_day              62723 non-null  int64         \n",
      " 14  day_of_week_posted       62723 non-null  int64         \n",
      " 15  day_type                 62723 non-null  int64         \n",
      " 16  review_time              62723 non-null  int64         \n",
      "dtypes: datetime64[ns](1), int64(10), object(6)\n",
      "memory usage: 8.1+ MB\n"
     ]
    },
    {
     "data": {
      "text/plain": [
       "None"
      ]
     },
     "metadata": {},
     "output_type": "display_data"
    }
   ],
   "source": [
    "#First check\n",
    "train_df['local_date_posted'] = pd.to_datetime(train_df['local_date_posted'])\n",
    "\n",
    "print(train_df.columns)\n",
    "display(train_df.info())"
   ]
  },
  {
   "cell_type": "markdown",
   "metadata": {},
   "source": [
    "STAGE 1 - HEATMAP & MULTICOLLINEARITY"
   ]
  },
  {
   "cell_type": "code",
   "execution_count": 73,
   "metadata": {},
   "outputs": [],
   "source": [
    "#Split set into numeric, categorical and datetime variables\n",
    "#Provide statistical metrics for numeric variables\n",
    "\n",
    "numeric_variables = train_df.select_dtypes(include = ['int', 'float'])\n",
    "categorical_variables = train_df.select_dtypes(include=['object']) \n",
    "datetime_variables = train_df.select_dtypes(include=['datetime64'])"
   ]
  },
  {
   "cell_type": "code",
   "execution_count": 74,
   "metadata": {},
   "outputs": [
    {
     "data": {
      "image/png": "[encoded data removed]",
      "text/plain": [
       "<Figure size 1000x800 with 2 Axes>"
      ]
     },
     "metadata": {},
     "output_type": "display_data"
    },
    {
     "name": "stdout",
     "output_type": "stream",
     "text": [
      "\n",
      "Highly correlated pairs (>0.7) with analysis:\n",
      "\n",
      "day_type & day_of_week_posted: -0.738\n",
      "Correlation with rating: day_type: 0.151, day_of_week_posted: 0.119\n",
      "Recommendation: Keep day_type (stronger correlation with target)\n"
     ]
    }
   ],
   "source": [
    "# Correlation heatmap for numeric variables\n",
    "plt.figure(figsize=(10, 8))\n",
    "correlation_matrix = numeric_variables.corr()\n",
    "sns.heatmap(correlation_matrix, annot=True, cmap='coolwarm')\n",
    "plt.title('Correlation Heatmap of Numeric Variables')\n",
    "plt.show()\n",
    "\n",
    "# Find and analyze highly correlated pairs\n",
    "print(\"\\nHighly correlated pairs (>0.7) with analysis:\")\n",
    "for i in range(len(correlation_matrix.columns)):\n",
    "    for j in range(i):\n",
    "        if abs(correlation_matrix.iloc[i, j]) > 0.7:\n",
    "            var1 = correlation_matrix.columns[i]\n",
    "            var2 = correlation_matrix.columns[j]\n",
    "            correlation = correlation_matrix.iloc[i, j]\n",
    "            \n",
    "            # Get correlations with target\n",
    "            corr_with_target1 = abs(correlation_matrix.loc[var1, 'rating'])\n",
    "            corr_with_target2 = abs(correlation_matrix.loc[var2, 'rating'])\n",
    "            \n",
    "            print(f\"\\n{var1} & {var2}: {correlation:.3f}\")\n",
    "            print(f\"Correlation with rating: {var1}: {corr_with_target1:.3f}, {var2}: {corr_with_target2:.3f}\")\n",
    "            print(f\"Recommendation: Keep {var1 if corr_with_target1 > corr_with_target2 else var2} \"\n",
    "                  f\"(stronger correlation with target)\")"
   ]
  },
  {
   "cell_type": "markdown",
   "metadata": {},
   "source": [
    "STAGE 2 - PEARSON AND SPEARMAN"
   ]
  },
  {
   "cell_type": "code",
   "execution_count": 75,
   "metadata": {},
   "outputs": [
    {
     "name": "stdout",
     "output_type": "stream",
     "text": [
      "Starting correlation analysis for all numeric variables...\n",
      "================================================================================\n"
     ]
    },
    {
     "data": {
      "text/html": [
       "<pre>Correlation Analysis: rating vs verification\n",
       "==================================================\n",
       "Hypothesis:\n",
       "H0: The two variables are uncorrelated\n",
       "H1: The two variables are correlated\n",
       "\n",
       "Results:\n",
       "--------------------------------------------------\n",
       "Pearson coefficient: 0.43418371102863856\n",
       "Negative sign indicates an inverse relationship but as the value is moderate, this indicates amoderate positive correlation.\n",
       "\n",
       "Pearson p_value: 0.0\n",
       "Value is smaller than the common significance level of 0.05. This indicates that the correlation, although moderate, is statistically significant.\n",
       "\n",
       "Spearman coefficient: 0.4179938369808715\n",
       "Negative sign indicates an inverse relationship and as the value is moderate, this indicates a moderate positive correlation.\n",
       "\n",
       "Spearman p_value: 0.0\n",
       "Value is smaller than the common significance level of 0.05. This indicates that the correlation, although moderate, is statistically significant.\n",
       "\n",
       "Conclusion:\n",
       "--------------------------------------------------\n",
       "H0 is rejected\n",
       "H1 is confirmed\n",
       "\n",
       "As verification increases, ratings tend to increase\n",
       "While statistically significant, the relationship is moderate\n",
       "Keep for model training of a rating model</pre>"
      ],
      "text/plain": [
       "<IPython.core.display.HTML object>"
      ]
     },
     "metadata": {},
     "output_type": "display_data"
    },
    {
     "data": {
      "text/html": [
       "<hr>"
      ],
      "text/plain": [
       "<IPython.core.display.HTML object>"
      ]
     },
     "metadata": {},
     "output_type": "display_data"
    },
    {
     "data": {
      "text/html": [
       "<pre>Correlation Analysis: rating vs repeat_reviewer_encoded\n",
       "==================================================\n",
       "Hypothesis:\n",
       "H0: The two variables are uncorrelated\n",
       "H1: The two variables are correlated\n",
       "\n",
       "Results:\n",
       "--------------------------------------------------\n",
       "Pearson coefficient: -0.25957330166109044\n",
       "Negative sign indicates an inverse relationship but as the value is weak, this indicates aweak negative correlation.\n",
       "\n",
       "Pearson p_value: 0.0\n",
       "Value is smaller than the common significance level of 0.05. This indicates that the correlation, although weak, is statistically significant.\n",
       "\n",
       "Spearman coefficient: -0.26163089339729534\n",
       "Negative sign indicates an inverse relationship and as the value is weak, this indicates a weak negative correlation.\n",
       "\n",
       "Spearman p_value: 0.0\n",
       "Value is smaller than the common significance level of 0.05. This indicates that the correlation, although weak, is statistically significant.\n",
       "\n",
       "Conclusion:\n",
       "--------------------------------------------------\n",
       "H0 is rejected\n",
       "H1 is confirmed\n",
       "\n",
       "As repeat_reviewer_encoded increases, ratings tend to decrease\n",
       "While statistically significant, the relationship is weak\n",
       "Keep for model training of a rating model</pre>"
      ],
      "text/plain": [
       "<IPython.core.display.HTML object>"
      ]
     },
     "metadata": {},
     "output_type": "display_data"
    },
    {
     "data": {
      "text/html": [
       "<hr>"
      ],
      "text/plain": [
       "<IPython.core.display.HTML object>"
      ]
     },
     "metadata": {},
     "output_type": "display_data"
    },
    {
     "data": {
      "text/html": [
       "<pre>Correlation Analysis: rating vs answered\n",
       "==================================================\n",
       "Hypothesis:\n",
       "H0: The two variables are uncorrelated\n",
       "H1: The two variables are correlated\n",
       "\n",
       "Results:\n",
       "--------------------------------------------------\n",
       "Pearson coefficient: 0.39564410662979804\n",
       "Negative sign indicates an inverse relationship but as the value is moderate, this indicates amoderate positive correlation.\n",
       "\n",
       "Pearson p_value: 0.0\n",
       "Value is smaller than the common significance level of 0.05. This indicates that the correlation, although moderate, is statistically significant.\n",
       "\n",
       "Spearman coefficient: 0.4270095949893843\n",
       "Negative sign indicates an inverse relationship and as the value is moderate, this indicates a moderate positive correlation.\n",
       "\n",
       "Spearman p_value: 0.0\n",
       "Value is smaller than the common significance level of 0.05. This indicates that the correlation, although moderate, is statistically significant.\n",
       "\n",
       "Conclusion:\n",
       "--------------------------------------------------\n",
       "H0 is rejected\n",
       "H1 is confirmed\n",
       "\n",
       "As answered increases, ratings tend to increase\n",
       "While statistically significant, the relationship is moderate\n",
       "Keep for model training of a rating model</pre>"
      ],
      "text/plain": [
       "<IPython.core.display.HTML object>"
      ]
     },
     "metadata": {},
     "output_type": "display_data"
    },
    {
     "data": {
      "text/html": [
       "<hr>"
      ],
      "text/plain": [
       "<IPython.core.display.HTML object>"
      ]
     },
     "metadata": {},
     "output_type": "display_data"
    },
    {
     "data": {
      "text/html": [
       "<pre>Correlation Analysis: rating vs month_posted\n",
       "==================================================\n",
       "Hypothesis:\n",
       "H0: The two variables are uncorrelated\n",
       "H1: The two variables are correlated\n",
       "\n",
       "Results:\n",
       "--------------------------------------------------\n",
       "Pearson coefficient: -0.04293573831873251\n",
       "Negative sign indicates an inverse relationship but as the value is extremely weak/negligible, this indicates aextremely weak/negligible negative correlation.\n",
       "\n",
       "Pearson p_value: 5.444685105104093e-27\n",
       "Value is smaller than the common significance level of 0.05. This indicates that the correlation, although extremely weak/negligible, is statistically significant.\n",
       "\n",
       "Spearman coefficient: -0.0316508703712497\n",
       "Negative sign indicates an inverse relationship and as the value is extremely weak/negligible, this indicates a extremely weak/negligible negative correlation.\n",
       "\n",
       "Spearman p_value: 2.2154165634712407e-15\n",
       "Value is smaller than the common significance level of 0.05. This indicates that the correlation, although extremely weak/negligible, is statistically significant.\n",
       "\n",
       "Conclusion:\n",
       "--------------------------------------------------\n",
       "H0 is rejected\n",
       "H1 is confirmed\n",
       "\n",
       "As month_posted increases, ratings tend to decrease\n",
       "While statistically significant, the relationship is extremely weak/negligible\n",
       "Keep for model training of a rating model</pre>"
      ],
      "text/plain": [
       "<IPython.core.display.HTML object>"
      ]
     },
     "metadata": {},
     "output_type": "display_data"
    },
    {
     "data": {
      "text/html": [
       "<hr>"
      ],
      "text/plain": [
       "<IPython.core.display.HTML object>"
      ]
     },
     "metadata": {},
     "output_type": "display_data"
    },
    {
     "data": {
      "text/html": [
       "<pre>Correlation Analysis: rating vs local_hour\n",
       "==================================================\n",
       "Hypothesis:\n",
       "H0: The two variables are uncorrelated\n",
       "H1: The two variables are correlated\n",
       "\n",
       "Results:\n",
       "--------------------------------------------------\n",
       "Pearson coefficient: -0.10572816097693621\n",
       "Negative sign indicates an inverse relationship but as the value is weak, this indicates aweak negative correlation.\n",
       "\n",
       "Pearson p_value: 2.366616354447676e-155\n",
       "Value is smaller than the common significance level of 0.05. This indicates that the correlation, although weak, is statistically significant.\n",
       "\n",
       "Spearman coefficient: -0.09632444938880315\n",
       "Negative sign indicates an inverse relationship and as the value is extremely weak/negligible, this indicates a extremely weak/negligible negative correlation.\n",
       "\n",
       "Spearman p_value: 3.630041037608963e-129\n",
       "Value is smaller than the common significance level of 0.05. This indicates that the correlation, although extremely weak/negligible, is statistically significant.\n",
       "\n",
       "Conclusion:\n",
       "--------------------------------------------------\n",
       "H0 is rejected\n",
       "H1 is confirmed\n",
       "\n",
       "As local_hour increases, ratings tend to decrease\n",
       "While statistically significant, the relationship is extremely weak/negligible\n",
       "Keep for model training of a rating model</pre>"
      ],
      "text/plain": [
       "<IPython.core.display.HTML object>"
      ]
     },
     "metadata": {},
     "output_type": "display_data"
    },
    {
     "data": {
      "text/html": [
       "<hr>"
      ],
      "text/plain": [
       "<IPython.core.display.HTML object>"
      ]
     },
     "metadata": {},
     "output_type": "display_data"
    },
    {
     "data": {
      "text/html": [
       "<pre>Correlation Analysis: rating vs time_of_day\n",
       "==================================================\n",
       "Hypothesis:\n",
       "H0: The two variables are uncorrelated\n",
       "H1: The two variables are correlated\n",
       "\n",
       "Results:\n",
       "--------------------------------------------------\n",
       "Pearson coefficient: 0.026371458389194934\n",
       "Negative sign indicates an inverse relationship but as the value is extremely weak/negligible, this indicates aextremely weak/negligible positive correlation.\n",
       "\n",
       "Pearson p_value: 3.9582267223998834e-11\n",
       "Value is smaller than the common significance level of 0.05. This indicates that the correlation, although extremely weak/negligible, is statistically significant.\n",
       "\n",
       "Spearman coefficient: 0.04701347324025266\n",
       "Negative sign indicates an inverse relationship and as the value is extremely weak/negligible, this indicates a extremely weak/negligible positive correlation.\n",
       "\n",
       "Spearman p_value: 4.9143893835023906e-32\n",
       "Value is smaller than the common significance level of 0.05. This indicates that the correlation, although extremely weak/negligible, is statistically significant.\n",
       "\n",
       "Conclusion:\n",
       "--------------------------------------------------\n",
       "H0 is rejected\n",
       "H1 is confirmed\n",
       "\n",
       "As time_of_day increases, ratings tend to increase\n",
       "While statistically significant, the relationship is extremely weak/negligible\n",
       "Keep for model training of a rating model</pre>"
      ],
      "text/plain": [
       "<IPython.core.display.HTML object>"
      ]
     },
     "metadata": {},
     "output_type": "display_data"
    },
    {
     "data": {
      "text/html": [
       "<hr>"
      ],
      "text/plain": [
       "<IPython.core.display.HTML object>"
      ]
     },
     "metadata": {},
     "output_type": "display_data"
    },
    {
     "data": {
      "text/html": [
       "<pre>Correlation Analysis: rating vs day_of_week_posted\n",
       "==================================================\n",
       "Hypothesis:\n",
       "H0: The two variables are uncorrelated\n",
       "H1: The two variables are correlated\n",
       "\n",
       "Results:\n",
       "--------------------------------------------------\n",
       "Pearson coefficient: -0.11893521639382817\n",
       "Negative sign indicates an inverse relationship but as the value is weak, this indicates aweak negative correlation.\n",
       "\n",
       "Pearson p_value: 2.4734121543470016e-196\n",
       "Value is smaller than the common significance level of 0.05. This indicates that the correlation, although weak, is statistically significant.\n",
       "\n",
       "Spearman coefficient: -0.11344512134251254\n",
       "Negative sign indicates an inverse relationship and as the value is weak, this indicates a weak negative correlation.\n",
       "\n",
       "Spearman p_value: 1.0655305386600787e-178\n",
       "Value is smaller than the common significance level of 0.05. This indicates that the correlation, although weak, is statistically significant.\n",
       "\n",
       "Conclusion:\n",
       "--------------------------------------------------\n",
       "H0 is rejected\n",
       "H1 is confirmed\n",
       "\n",
       "As day_of_week_posted increases, ratings tend to decrease\n",
       "While statistically significant, the relationship is weak\n",
       "Keep for model training of a rating model</pre>"
      ],
      "text/plain": [
       "<IPython.core.display.HTML object>"
      ]
     },
     "metadata": {},
     "output_type": "display_data"
    },
    {
     "data": {
      "text/html": [
       "<hr>"
      ],
      "text/plain": [
       "<IPython.core.display.HTML object>"
      ]
     },
     "metadata": {},
     "output_type": "display_data"
    },
    {
     "data": {
      "text/html": [
       "<pre>Correlation Analysis: rating vs day_type\n",
       "==================================================\n",
       "Hypothesis:\n",
       "H0: The two variables are uncorrelated\n",
       "H1: The two variables are correlated\n",
       "\n",
       "Results:\n",
       "--------------------------------------------------\n",
       "Pearson coefficient: 0.1513661412629657\n",
       "Negative sign indicates an inverse relationship but as the value is weak, this indicates aweak positive correlation.\n",
       "\n",
       "Pearson p_value: 4.38658e-318\n",
       "Value is smaller than the common significance level of 0.05. This indicates that the correlation, although weak, is statistically significant.\n",
       "\n",
       "Spearman coefficient: 0.1557211562814602\n",
       "Negative sign indicates an inverse relationship and as the value is weak, this indicates a weak positive correlation.\n",
       "\n",
       "Spearman p_value: 0.0\n",
       "Value is smaller than the common significance level of 0.05. This indicates that the correlation, although weak, is statistically significant.\n",
       "\n",
       "Conclusion:\n",
       "--------------------------------------------------\n",
       "H0 is rejected\n",
       "H1 is confirmed\n",
       "\n",
       "As day_type increases, ratings tend to increase\n",
       "While statistically significant, the relationship is weak\n",
       "Keep for model training of a rating model</pre>"
      ],
      "text/plain": [
       "<IPython.core.display.HTML object>"
      ]
     },
     "metadata": {},
     "output_type": "display_data"
    },
    {
     "data": {
      "text/html": [
       "<hr>"
      ],
      "text/plain": [
       "<IPython.core.display.HTML object>"
      ]
     },
     "metadata": {},
     "output_type": "display_data"
    },
    {
     "data": {
      "text/html": [
       "<pre>Correlation Analysis: rating vs review_time\n",
       "==================================================\n",
       "Hypothesis:\n",
       "H0: The two variables are uncorrelated\n",
       "H1: The two variables are correlated\n",
       "\n",
       "Results:\n",
       "--------------------------------------------------\n",
       "Pearson coefficient: 0.12408104433980184\n",
       "Negative sign indicates an inverse relationship but as the value is weak, this indicates aweak positive correlation.\n",
       "\n",
       "Pearson p_value: 1.2243314670280837e-213\n",
       "Value is smaller than the common significance level of 0.05. This indicates that the correlation, although weak, is statistically significant.\n",
       "\n",
       "Spearman coefficient: 0.14282196067411174\n",
       "Negative sign indicates an inverse relationship and as the value is weak, this indicates a weak positive correlation.\n",
       "\n",
       "Spearman p_value: 4.565644435060146e-283\n",
       "Value is smaller than the common significance level of 0.05. This indicates that the correlation, although weak, is statistically significant.\n",
       "\n",
       "Conclusion:\n",
       "--------------------------------------------------\n",
       "H0 is rejected\n",
       "H1 is confirmed\n",
       "\n",
       "As review_time increases, ratings tend to increase\n",
       "While statistically significant, the relationship is weak\n",
       "Keep for model training of a rating model</pre>"
      ],
      "text/plain": [
       "<IPython.core.display.HTML object>"
      ]
     },
     "metadata": {},
     "output_type": "display_data"
    },
    {
     "data": {
      "text/html": [
       "<hr>"
      ],
      "text/plain": [
       "<IPython.core.display.HTML object>"
      ]
     },
     "metadata": {},
     "output_type": "display_data"
    }
   ],
   "source": [
    "#Pearson and Spearman\n",
    "\n",
    "def analyze_correlation_with_rating(column_name):\n",
    "    if column_name not in train_df.columns:\n",
    "        return f\"Error: Column '{column_name}' not found in dataframe\"\n",
    "    \n",
    "    # Calculate correlations\n",
    "    pearson_coeff, pearson_p = pearsonr(train_df['rating'], train_df[column_name])\n",
    "    spearman_coeff, spearman_p = spearmanr(train_df['rating'], train_df[column_name])\n",
    "    \n",
    "    # Format output\n",
    "    output = []\n",
    "    output.append(f\"Correlation Analysis: rating vs {column_name}\")\n",
    "    output.append(\"=\" * 50)\n",
    "    output.append(\"Hypothesis:\")\n",
    "    output.append(\"H0: The two variables are uncorrelated\")\n",
    "    output.append(\"H1: The two variables are correlated\")\n",
    "    output.append(\"\\nResults:\")\n",
    "    output.append(\"-\" * 50)\n",
    "    \n",
    "    # Pearson Analysis\n",
    "    output.append(f\"Pearson coefficient: {pearson_coeff}\")\n",
    "    if abs(pearson_coeff) < 0.1:\n",
    "        strength = \"extremely weak/negligible\"\n",
    "    elif abs(pearson_coeff) < 0.3:\n",
    "        strength = \"weak\"\n",
    "    elif abs(pearson_coeff) < 0.5:\n",
    "        strength = \"moderate\"\n",
    "    else:\n",
    "        strength = \"strong\"\n",
    "    direction = \"negative\" if pearson_coeff < 0 else \"positive\"\n",
    "    output.append(f\"Negative sign indicates an inverse relationship but as the value is {strength}, \"\n",
    "                 f\"this indicates a{strength} {direction} correlation.\")\n",
    "    \n",
    "    output.append(f\"\\nPearson p_value: {pearson_p}\")\n",
    "    if pearson_p < 0.05:\n",
    "        output.append(\"Value is smaller than the common significance level of 0.05. \"\n",
    "                     f\"This indicates that the correlation, although {strength}, is statistically significant.\")\n",
    "    else:\n",
    "        output.append(\"Value is larger than the common significance level of 0.05. \"\n",
    "                     \"This indicates that the correlation is not statistically significant.\")\n",
    "    \n",
    "    # Spearman Analysis\n",
    "    output.append(f\"\\nSpearman coefficient: {spearman_coeff}\")\n",
    "    if abs(spearman_coeff) < 0.1:\n",
    "        strength = \"extremely weak/negligible\"\n",
    "    elif abs(spearman_coeff) < 0.3:\n",
    "        strength = \"weak\"\n",
    "    elif abs(spearman_coeff) < 0.5:\n",
    "        strength = \"moderate\"\n",
    "    else:\n",
    "        strength = \"strong\"\n",
    "    output.append(f\"Negative sign indicates an inverse relationship and as the value is {strength}, \"\n",
    "                 f\"this indicates a {strength} {direction} correlation.\")\n",
    "    \n",
    "    output.append(f\"\\nSpearman p_value: {spearman_p}\")\n",
    "    if spearman_p < 0.05:\n",
    "        output.append(\"Value is smaller than the common significance level of 0.05. \"\n",
    "                     f\"This indicates that the correlation, although {strength}, is statistically significant.\")\n",
    "    else:\n",
    "        output.append(\"Value is larger than the common significance level of 0.05. \"\n",
    "                     \"This indicates that the correlation is not statistically significant.\")\n",
    "    \n",
    "    # Conclusion\n",
    "    output.append(\"\\nConclusion:\")\n",
    "    output.append(\"-\" * 50)\n",
    "    if pearson_p < 0.05 or spearman_p < 0.05:\n",
    "        output.append(\"H0 is rejected\")\n",
    "        output.append(\"H1 is confirmed\")\n",
    "    else:\n",
    "        output.append(\"Failed to reject H0\")\n",
    "        \n",
    "    # Additional insights\n",
    "    if abs(abs(spearman_coeff) - abs(pearson_coeff)) > 0.1:\n",
    "        output.append(f\"\\nThe difference between Pearson ({pearson_coeff:.3f}) and \"\n",
    "                     f\"Spearman ({spearman_coeff:.3f}) suggests a non-linear relationship\")\n",
    "    \n",
    "    # Practical interpretation\n",
    "    output.append(f\"\\nAs {column_name} increases, ratings tend to \"\n",
    "                 f\"{'decrease' if pearson_coeff < 0 else 'increase'}\")\n",
    "    output.append(\"While statistically significant, the relationship is \"\n",
    "                 f\"{strength}\")\n",
    "    output.append(\"Keep for model training of a rating model\")\n",
    "    \n",
    "    return \"\\n\".join(output)\n",
    "\n",
    "\n",
    "# Get list of numeric columns excluding 'rating'\n",
    "numeric_columns = train_df.select_dtypes(include=['int64', 'float64']).columns\n",
    "numeric_columns = [col for col in numeric_columns if col != 'rating']\n",
    "\n",
    "print(\"Starting correlation analysis for all numeric variables...\")\n",
    "print(\"=\" * 80)\n",
    "\n",
    "# Loop through each numeric column\n",
    "for column in numeric_columns:\n",
    "    display(HTML(f\"<pre>{analyze_correlation_with_rating(column)}</pre>\"))\n",
    "    display(HTML(\"<hr>\")) \n"
   ]
  },
  {
   "cell_type": "markdown",
   "metadata": {},
   "source": [
    "STAGE 3 - MUTUAL INFORMATION"
   ]
  },
  {
   "cell_type": "code",
   "execution_count": 76,
   "metadata": {},
   "outputs": [
    {
     "name": "stdout",
     "output_type": "stream",
     "text": [
      "Starting mutual information analysis for all numeric variables...\n",
      "================================================================================\n"
     ]
    },
    {
     "data": {
      "text/html": [
       "<pre>Mutual Information Analysis: rating vs verification\n",
       "==================================================\n",
       "Interpretation:\n",
       "Mutual Information measures the dependency between variables (including non-linear relationships)\n",
       "Score ranges from 0 (no mutual information) to ln(n_classes) (perfect mutual information)\n",
       "\n",
       "Results:\n",
       "--------------------------------------------------\n",
       "Mutual Information score: 0.1090\n",
       "This indicates a moderate dependency between verification and rating\n",
       "\n",
       "Conclusion:\n",
       "--------------------------------------------------\n",
       "There is a moderate statistical dependency between verification and rating\n",
       "Feature could be valuable for predictive modeling</pre>"
      ],
      "text/plain": [
       "<IPython.core.display.HTML object>"
      ]
     },
     "metadata": {},
     "output_type": "display_data"
    },
    {
     "data": {
      "text/html": [
       "<hr>"
      ],
      "text/plain": [
       "<IPython.core.display.HTML object>"
      ]
     },
     "metadata": {},
     "output_type": "display_data"
    },
    {
     "data": {
      "text/html": [
       "<pre>Mutual Information Analysis: rating vs repeat_reviewer_encoded\n",
       "==================================================\n",
       "Interpretation:\n",
       "Mutual Information measures the dependency between variables (including non-linear relationships)\n",
       "Score ranges from 0 (no mutual information) to ln(n_classes) (perfect mutual information)\n",
       "\n",
       "Results:\n",
       "--------------------------------------------------\n",
       "Mutual Information score: 0.0434\n",
       "This indicates a weak dependency between repeat_reviewer_encoded and rating\n",
       "\n",
       "Conclusion:\n",
       "--------------------------------------------------\n",
       "There is a weak statistical dependency between repeat_reviewer_encoded and rating\n",
       "Feature could be valuable for predictive modeling</pre>"
      ],
      "text/plain": [
       "<IPython.core.display.HTML object>"
      ]
     },
     "metadata": {},
     "output_type": "display_data"
    },
    {
     "data": {
      "text/html": [
       "<hr>"
      ],
      "text/plain": [
       "<IPython.core.display.HTML object>"
      ]
     },
     "metadata": {},
     "output_type": "display_data"
    },
    {
     "data": {
      "text/html": [
       "<pre>Mutual Information Analysis: rating vs answered\n",
       "==================================================\n",
       "Interpretation:\n",
       "Mutual Information measures the dependency between variables (including non-linear relationships)\n",
       "Score ranges from 0 (no mutual information) to ln(n_classes) (perfect mutual information)\n",
       "\n",
       "Results:\n",
       "--------------------------------------------------\n",
       "Mutual Information score: 0.1206\n",
       "This indicates a moderate dependency between answered and rating\n",
       "\n",
       "Conclusion:\n",
       "--------------------------------------------------\n",
       "There is a moderate statistical dependency between answered and rating\n",
       "Feature could be valuable for predictive modeling</pre>"
      ],
      "text/plain": [
       "<IPython.core.display.HTML object>"
      ]
     },
     "metadata": {},
     "output_type": "display_data"
    },
    {
     "data": {
      "text/html": [
       "<hr>"
      ],
      "text/plain": [
       "<IPython.core.display.HTML object>"
      ]
     },
     "metadata": {},
     "output_type": "display_data"
    },
    {
     "data": {
      "text/html": [
       "<pre>Mutual Information Analysis: rating vs month_posted\n",
       "==================================================\n",
       "Interpretation:\n",
       "Mutual Information measures the dependency between variables (including non-linear relationships)\n",
       "Score ranges from 0 (no mutual information) to ln(n_classes) (perfect mutual information)\n",
       "\n",
       "Results:\n",
       "--------------------------------------------------\n",
       "Mutual Information score: 0.0170\n",
       "This indicates a weak dependency between month_posted and rating\n",
       "\n",
       "Conclusion:\n",
       "--------------------------------------------------\n",
       "There is a weak statistical dependency between month_posted and rating\n",
       "Feature could be valuable for predictive modeling</pre>"
      ],
      "text/plain": [
       "<IPython.core.display.HTML object>"
      ]
     },
     "metadata": {},
     "output_type": "display_data"
    },
    {
     "data": {
      "text/html": [
       "<hr>"
      ],
      "text/plain": [
       "<IPython.core.display.HTML object>"
      ]
     },
     "metadata": {},
     "output_type": "display_data"
    },
    {
     "data": {
      "text/html": [
       "<pre>Mutual Information Analysis: rating vs local_hour\n",
       "==================================================\n",
       "Interpretation:\n",
       "Mutual Information measures the dependency between variables (including non-linear relationships)\n",
       "Score ranges from 0 (no mutual information) to ln(n_classes) (perfect mutual information)\n",
       "\n",
       "Results:\n",
       "--------------------------------------------------\n",
       "Mutual Information score: 0.0174\n",
       "This indicates a weak dependency between local_hour and rating\n",
       "\n",
       "Conclusion:\n",
       "--------------------------------------------------\n",
       "There is a weak statistical dependency between local_hour and rating\n",
       "Feature could be valuable for predictive modeling</pre>"
      ],
      "text/plain": [
       "<IPython.core.display.HTML object>"
      ]
     },
     "metadata": {},
     "output_type": "display_data"
    },
    {
     "data": {
      "text/html": [
       "<hr>"
      ],
      "text/plain": [
       "<IPython.core.display.HTML object>"
      ]
     },
     "metadata": {},
     "output_type": "display_data"
    },
    {
     "data": {
      "text/html": [
       "<pre>Mutual Information Analysis: rating vs time_of_day\n",
       "==================================================\n",
       "Interpretation:\n",
       "Mutual Information measures the dependency between variables (including non-linear relationships)\n",
       "Score ranges from 0 (no mutual information) to ln(n_classes) (perfect mutual information)\n",
       "\n",
       "Results:\n",
       "--------------------------------------------------\n",
       "Mutual Information score: 0.0101\n",
       "This indicates a weak dependency between time_of_day and rating\n",
       "\n",
       "Conclusion:\n",
       "--------------------------------------------------\n",
       "There is a weak statistical dependency between time_of_day and rating\n",
       "Feature could be valuable for predictive modeling</pre>"
      ],
      "text/plain": [
       "<IPython.core.display.HTML object>"
      ]
     },
     "metadata": {},
     "output_type": "display_data"
    },
    {
     "data": {
      "text/html": [
       "<hr>"
      ],
      "text/plain": [
       "<IPython.core.display.HTML object>"
      ]
     },
     "metadata": {},
     "output_type": "display_data"
    },
    {
     "data": {
      "text/html": [
       "<pre>Mutual Information Analysis: rating vs day_of_week_posted\n",
       "==================================================\n",
       "Interpretation:\n",
       "Mutual Information measures the dependency between variables (including non-linear relationships)\n",
       "Score ranges from 0 (no mutual information) to ln(n_classes) (perfect mutual information)\n",
       "\n",
       "Results:\n",
       "--------------------------------------------------\n",
       "Mutual Information score: 0.0086\n",
       "This indicates a extremely weak/negligible dependency between day_of_week_posted and rating\n",
       "\n",
       "Conclusion:\n",
       "--------------------------------------------------\n",
       "There is negligible statistical dependency between the variables\n",
       "Consider dropping this feature for modeling</pre>"
      ],
      "text/plain": [
       "<IPython.core.display.HTML object>"
      ]
     },
     "metadata": {},
     "output_type": "display_data"
    },
    {
     "data": {
      "text/html": [
       "<hr>"
      ],
      "text/plain": [
       "<IPython.core.display.HTML object>"
      ]
     },
     "metadata": {},
     "output_type": "display_data"
    },
    {
     "data": {
      "text/html": [
       "<pre>Mutual Information Analysis: rating vs day_type\n",
       "==================================================\n",
       "Interpretation:\n",
       "Mutual Information measures the dependency between variables (including non-linear relationships)\n",
       "Score ranges from 0 (no mutual information) to ln(n_classes) (perfect mutual information)\n",
       "\n",
       "Results:\n",
       "--------------------------------------------------\n",
       "Mutual Information score: 0.0206\n",
       "This indicates a weak dependency between day_type and rating\n",
       "\n",
       "Conclusion:\n",
       "--------------------------------------------------\n",
       "There is a weak statistical dependency between day_type and rating\n",
       "Feature could be valuable for predictive modeling</pre>"
      ],
      "text/plain": [
       "<IPython.core.display.HTML object>"
      ]
     },
     "metadata": {},
     "output_type": "display_data"
    },
    {
     "data": {
      "text/html": [
       "<hr>"
      ],
      "text/plain": [
       "<IPython.core.display.HTML object>"
      ]
     },
     "metadata": {},
     "output_type": "display_data"
    },
    {
     "data": {
      "text/html": [
       "<pre>Mutual Information Analysis: rating vs review_time\n",
       "==================================================\n",
       "Interpretation:\n",
       "Mutual Information measures the dependency between variables (including non-linear relationships)\n",
       "Score ranges from 0 (no mutual information) to ln(n_classes) (perfect mutual information)\n",
       "\n",
       "Results:\n",
       "--------------------------------------------------\n",
       "Mutual Information score: 0.0257\n",
       "This indicates a weak dependency between review_time and rating\n",
       "\n",
       "Conclusion:\n",
       "--------------------------------------------------\n",
       "There is a weak statistical dependency between review_time and rating\n",
       "Feature could be valuable for predictive modeling</pre>"
      ],
      "text/plain": [
       "<IPython.core.display.HTML object>"
      ]
     },
     "metadata": {},
     "output_type": "display_data"
    },
    {
     "data": {
      "text/html": [
       "<hr>"
      ],
      "text/plain": [
       "<IPython.core.display.HTML object>"
      ]
     },
     "metadata": {},
     "output_type": "display_data"
    }
   ],
   "source": [
    "def analyze_mutual_information_with_rating(column_name):\n",
    "    if column_name not in train_df.columns:\n",
    "        return f\"Error: Column '{column_name}' not found in dataframe\"\n",
    "    \n",
    "    # Calculate mutual information\n",
    "    mi_score = mutual_info_regression(train_df[[column_name]], train_df['rating'], random_state=42)[0]\n",
    "    \n",
    "    # Format output\n",
    "    output = []\n",
    "    output.append(f\"Mutual Information Analysis: rating vs {column_name}\")\n",
    "    output.append(\"=\" * 50)\n",
    "    output.append(\"Interpretation:\")\n",
    "    output.append(\"Mutual Information measures the dependency between variables (including non-linear relationships)\")\n",
    "    output.append(\"Score ranges from 0 (no mutual information) to ln(n_classes) (perfect mutual information)\")\n",
    "    output.append(\"\\nResults:\")\n",
    "    output.append(\"-\" * 50)\n",
    "    \n",
    "    # MI Analysis\n",
    "    output.append(f\"Mutual Information score: {mi_score:.4f}\")\n",
    "    if mi_score < 0.01:\n",
    "        strength = \"extremely weak/negligible\"\n",
    "    elif mi_score < 0.05:\n",
    "        strength = \"weak\"\n",
    "    elif mi_score < 0.2:\n",
    "        strength = \"moderate\"\n",
    "    else:\n",
    "        strength = \"strong\"\n",
    "    \n",
    "    output.append(f\"This indicates a {strength} dependency between {column_name} and rating\")\n",
    "    \n",
    "    # Conclusion\n",
    "    output.append(\"\\nConclusion:\")\n",
    "    output.append(\"-\" * 50)\n",
    "    if mi_score > 0.01:\n",
    "        output.append(f\"There is a {strength} statistical dependency between {column_name} and rating\")\n",
    "        output.append(\"Feature could be valuable for predictive modeling\")\n",
    "    else:\n",
    "        output.append(\"There is negligible statistical dependency between the variables\")\n",
    "        output.append(\"Consider dropping this feature for modeling\")\n",
    "    \n",
    "    return \"\\n\".join(output)\n",
    "\n",
    "# Get list of numeric columns excluding 'rating'\n",
    "numeric_columns = train_df.select_dtypes(include=['int64', 'float64']).columns\n",
    "numeric_columns = [col for col in numeric_columns if col != 'rating']\n",
    "\n",
    "print(\"Starting mutual information analysis for all numeric variables...\")\n",
    "print(\"=\" * 80)\n",
    "\n",
    "# Loop through each numeric column\n",
    "for column in numeric_columns:\n",
    "    display(HTML(f\"<pre>{analyze_mutual_information_with_rating(column)}</pre>\"))\n",
    "    display(HTML(\"<hr>\"))"
   ]
  },
  {
   "cell_type": "markdown",
   "metadata": {},
   "source": [
    "STAGE 4 - ANOVA"
   ]
  },
  {
   "cell_type": "code",
   "execution_count": 77,
   "metadata": {},
   "outputs": [
    {
     "name": "stdout",
     "output_type": "stream",
     "text": [
      "ANOVA Analysis: Features vs Rating\n",
      "==================================================\n",
      "\n",
      "Selected Features (p ≤ 0.05):\n",
      "                   Feature     P-value\n",
      "0             verification   0.000e+00\n",
      "1  repeat_reviewer_encoded   0.000e+00\n",
      "2                 answered   0.000e+00\n",
      "7                 day_type  4.387e-318\n",
      "8              review_time  1.224e-213\n",
      "6       day_of_week_posted  2.473e-196\n",
      "4               local_hour  2.367e-155\n",
      "3             month_posted   5.445e-27\n",
      "5              time_of_day   3.958e-11\n"
     ]
    }
   ],
   "source": [
    "#ANOVA\n",
    "\n",
    "def analyze_anova_with_rating(df):\n",
    "    # Get numeric columns except rating\n",
    "    attributes = df.select_dtypes(include=['int64', 'float64']).columns\n",
    "    attributes = [col for col in attributes if col != 'rating']\n",
    "    \n",
    "    # Store results and selected features\n",
    "    results = {}\n",
    "    feat_select = []\n",
    "    \n",
    "    print(\"ANOVA Analysis: Features vs Rating\")\n",
    "    print(\"=\" * 50)\n",
    "    \n",
    "    # Analyze each feature\n",
    "    for feature in attributes:\n",
    "        try:\n",
    "            # Perform ANOVA\n",
    "            lm = ols('rating ~ {}'.format(feature), data=df).fit()\n",
    "            table = anova_lm(lm)\n",
    "            p_value = table['PR(>F)'].iloc[0]\n",
    "            \n",
    "            # If significant, add to selected features\n",
    "            if p_value <= 0.05:\n",
    "                feat_select.append(feature)\n",
    "                results[feature] = p_value\n",
    "                \n",
    "        except Exception as e:\n",
    "            print(f\"Error analyzing {feature}: {str(e)}\")\n",
    "    \n",
    "    # Create and display results table\n",
    "    if feat_select:\n",
    "        results_df = pd.DataFrame({\n",
    "            'Feature': feat_select,\n",
    "            'P-value': [results[f] for f in feat_select]\n",
    "        }).sort_values('P-value')\n",
    "        \n",
    "        print(\"\\nSelected Features (p ≤ 0.05):\")\n",
    "        print(results_df)\n",
    "    \n",
    "    return feat_select\n",
    "\n",
    "# Usage:\n",
    "selected_features = analyze_anova_with_rating(train_df)"
   ]
  },
  {
   "cell_type": "code",
   "execution_count": 78,
   "metadata": {},
   "outputs": [
    {
     "name": "stdout",
     "output_type": "stream",
     "text": [
      "ANOVA Analysis: Features vs Rating\n",
      "==================================================\n",
      "\n",
      "Analysis for: verification\n",
      "------------------------------\n",
      "F-statistic: 14570.6791\n",
      "P-value: 0.0000e+00\n",
      "Effect size (η²): 0.1885\n",
      "Effect strength: large\n",
      "Selected for model: Yes\n",
      "\n",
      "Analysis for: repeat_reviewer_encoded\n",
      "------------------------------\n",
      "F-statistic: 4531.3489\n",
      "P-value: 0.0000e+00\n",
      "Effect size (η²): 0.0674\n",
      "Effect strength: medium\n",
      "Selected for model: Yes\n",
      "\n",
      "Analysis for: answered\n",
      "------------------------------\n",
      "F-statistic: 11640.0522\n",
      "P-value: 0.0000e+00\n",
      "Effect size (η²): 0.1565\n",
      "Effect strength: large\n",
      "Selected for model: Yes\n",
      "\n",
      "Analysis for: month_posted\n",
      "------------------------------\n",
      "F-statistic: 115.8383\n",
      "P-value: 5.4447e-27\n",
      "Effect size (η²): 0.0018\n",
      "Effect strength: negligible\n",
      "Selected for model: Yes\n",
      "\n",
      "Analysis for: local_hour\n",
      "------------------------------\n",
      "F-statistic: 709.0493\n",
      "P-value: 2.3666e-155\n",
      "Effect size (η²): 0.0112\n",
      "Effect strength: small\n",
      "Selected for model: Yes\n",
      "\n",
      "Analysis for: time_of_day\n",
      "------------------------------\n",
      "F-statistic: 43.6499\n",
      "P-value: 3.9582e-11\n",
      "Effect size (η²): 0.0007\n",
      "Effect strength: negligible\n",
      "Selected for model: Yes\n",
      "\n",
      "Analysis for: day_of_week_posted\n",
      "------------------------------\n",
      "F-statistic: 899.9557\n",
      "P-value: 2.4734e-196\n",
      "Effect size (η²): 0.0141\n",
      "Effect strength: small\n",
      "Selected for model: Yes\n",
      "\n",
      "Analysis for: day_type\n",
      "------------------------------\n",
      "F-statistic: 1470.7425\n",
      "P-value: 4.3866e-318\n",
      "Effect size (η²): 0.0229\n",
      "Effect strength: small\n",
      "Selected for model: Yes\n",
      "\n",
      "Analysis for: review_time\n",
      "------------------------------\n",
      "F-statistic: 980.7590\n",
      "P-value: 1.2243e-213\n",
      "Effect size (η²): 0.0154\n",
      "Effect strength: small\n",
      "Selected for model: Yes\n",
      "\n",
      "==================================================\n",
      "\n",
      "Summary:\n",
      "Total features analyzed: 9\n",
      "Features selected: 9\n",
      "\n",
      "Selected features:\n",
      "- verification: p=0.0000e+00, η²=0.1885\n",
      "- repeat_reviewer_encoded: p=0.0000e+00, η²=0.0674\n",
      "- answered: p=0.0000e+00, η²=0.1565\n",
      "- month_posted: p=5.4447e-27, η²=0.0018\n",
      "- local_hour: p=2.3666e-155, η²=0.0112\n",
      "- time_of_day: p=3.9582e-11, η²=0.0007\n",
      "- day_of_week_posted: p=2.4734e-196, η²=0.0141\n",
      "- day_type: p=4.3866e-318, η²=0.0229\n",
      "- review_time: p=1.2243e-213, η²=0.0154\n"
     ]
    }
   ],
   "source": [
    "#ANOVA \n",
    "\n",
    "def analyze_anova_with_rating(df):\n",
    "    attributes = df.select_dtypes(include=['int64', 'float64']).columns\n",
    "    attributes = [col for col in attributes if col != 'rating']\n",
    "    \n",
    "    results = {}\n",
    "    feat_select = []\n",
    "    output_text = []\n",
    "    \n",
    "    output_text.append(\"ANOVA Analysis: Features vs Rating\")\n",
    "    output_text.append(\"=\" * 50)\n",
    "    \n",
    "    for feature in attributes:\n",
    "        try:\n",
    "            lm = ols('rating ~ {}'.format(feature), data=df).fit()\n",
    "            table = anova_lm(lm)\n",
    "            p_value = table['PR(>F)'].iloc[0]\n",
    "            f_stat = table['F'].iloc[0]\n",
    "            \n",
    "            # Calculate effect size (eta-squared)\n",
    "            ss_between = table['sum_sq'][0]\n",
    "            ss_total = ss_between + table['sum_sq'][1]\n",
    "            eta_squared = ss_between / ss_total\n",
    "            \n",
    "            # Store results\n",
    "            results[feature] = {\n",
    "                'p_value': p_value,\n",
    "                'f_stat': f_stat,\n",
    "                'eta_squared': eta_squared\n",
    "            }\n",
    "            \n",
    "            # Interpret effect size\n",
    "            if eta_squared < 0.01:\n",
    "                effect_strength = \"negligible\"\n",
    "            elif eta_squared < 0.06:\n",
    "                effect_strength = \"small\"\n",
    "            elif eta_squared < 0.14:\n",
    "                effect_strength = \"medium\"\n",
    "            else:\n",
    "                effect_strength = \"large\"\n",
    "            \n",
    "            # Feature selection\n",
    "            if p_value <= 0.05:\n",
    "                feat_select.append(feature)\n",
    "            \n",
    "            # Output for each feature\n",
    "            output_text.append(f\"\\nAnalysis for: {feature}\")\n",
    "            output_text.append(\"-\" * 30)\n",
    "            output_text.append(f\"F-statistic: {f_stat:.4f}\")\n",
    "            output_text.append(f\"P-value: {p_value:.4e}\")\n",
    "            output_text.append(f\"Effect size (η²): {eta_squared:.4f}\")\n",
    "            output_text.append(f\"Effect strength: {effect_strength}\")\n",
    "            output_text.append(f\"Selected for model: {'Yes' if p_value <= 0.05 else 'No'}\")\n",
    "            \n",
    "        except Exception as e:\n",
    "            output_text.append(f\"\\nError analyzing {feature}: {str(e)}\")\n",
    "    \n",
    "    # Summary\n",
    "    output_text.append(\"\\n\" + \"=\" * 50)\n",
    "    output_text.append(\"\\nSummary:\")\n",
    "    output_text.append(f\"Total features analyzed: {len(attributes)}\")\n",
    "    output_text.append(f\"Features selected: {len(feat_select)}\")\n",
    "    output_text.append(\"\\nSelected features:\")\n",
    "    for feat in feat_select:\n",
    "        p_value = results[feat]['p_value']\n",
    "        eta = results[feat]['eta_squared']\n",
    "        output_text.append(f\"- {feat}: p={p_value:.4e}, η²={eta:.4f}\")\n",
    "    \n",
    "    print(\"\\n\".join(output_text))\n",
    "    return results, feat_select\n",
    "\n",
    "# Usage:\n",
    "results, selected_features = analyze_anova_with_rating(train_df)"
   ]
  },
  {
   "cell_type": "markdown",
   "metadata": {},
   "source": [
    "STAGE 5 - VARIANCE THRESHOLD"
   ]
  },
  {
   "cell_type": "code",
   "execution_count": 79,
   "metadata": {},
   "outputs": [
    {
     "data": {
      "text/html": [
       "<pre>Variance Threshold Analysis\n",
       "==================================================\n",
       "\n",
       "Feature Variances:\n",
       "--------------------------------------------------\n",
       "local_hour: 24.000677\n",
       "month_posted: 13.319656\n",
       "day_of_week_posted: 3.421600\n",
       "rating: 2.882846\n",
       "time_of_day: 0.932525\n",
       "repeat_reviewer_encoded: 0.246139\n",
       "verification: 0.228786\n",
       "answered: 0.186432\n",
       "review_time: 0.159066\n",
       "day_type: 0.150398\n",
       "\n",
       "Conclusion:\n",
       "--------------------------------------------------\n",
       "All features have variance > 0.01</pre>"
      ],
      "text/plain": [
       "<IPython.core.display.HTML object>"
      ]
     },
     "metadata": {},
     "output_type": "display_data"
    }
   ],
   "source": [
    "def analyze_variance_threshold(threshold=0.0):\n",
    "   \"\"\"\n",
    "   Analyze features based on variance threshold\n",
    "   \"\"\"\n",
    "   # Get numeric columns only\n",
    "   numeric_data = train_df.select_dtypes(include=['int64', 'float64'])\n",
    "   \n",
    "   # Calculate variance for each feature\n",
    "   variances = numeric_data.var()\n",
    "   \n",
    "   output = []\n",
    "   output.append(\"Variance Threshold Analysis\")\n",
    "   output.append(\"=\" * 50)\n",
    "   output.append(\"\\nFeature Variances:\")\n",
    "   output.append(\"-\" * 50)\n",
    "   \n",
    "   # Sort variances in descending order\n",
    "   sorted_variances = variances.sort_values(ascending=False)\n",
    "   for feature, var in sorted_variances.items():\n",
    "       output.append(f\"{feature}: {var:.6f}\")\n",
    "       if var <= threshold:\n",
    "           output.append(f\"WARNING: {feature} has variance <= {threshold}\")\n",
    "   \n",
    "   # Identify low variance features\n",
    "   low_variance_features = variances[variances <= threshold].index.tolist()\n",
    "   \n",
    "   output.append(\"\\nConclusion:\")\n",
    "   output.append(\"-\" * 50)\n",
    "   if low_variance_features:\n",
    "       output.append(f\"Features with variance <= {threshold}:\")\n",
    "       for feature in low_variance_features:\n",
    "           output.append(f\"- {feature}\")\n",
    "       output.append(\"\\nConsider removing these low-variance features\")\n",
    "   else:\n",
    "       output.append(f\"All features have variance > {threshold}\")\n",
    "   \n",
    "   return \"\\n\".join(output)\n",
    "\n",
    "# Run the analysis\n",
    "display(HTML(f\"<pre>{analyze_variance_threshold(threshold=0.01)}</pre>\"))"
   ]
  },
  {
   "cell_type": "markdown",
   "metadata": {},
   "source": [
    "STAGE 6 - FISHER SCORE"
   ]
  },
  {
   "cell_type": "code",
   "execution_count": 80,
   "metadata": {},
   "outputs": [
    {
     "data": {
      "text/html": [
       "<pre>Fisher Score Analysis\n",
       "==================================================\n",
       "\n",
       "Feature Scores (sorted by discriminative power):\n",
       "--------------------------------------------------\n",
       "verification: 0.272336 (weak discriminative power)\n",
       "answered: 0.263230 (weak discriminative power)\n",
       "repeat_reviewer_encoded: 0.076597 (very weak discriminative power)\n",
       "review_time: 0.041972 (very weak discriminative power)\n",
       "day_type: 0.025183 (very weak discriminative power)\n",
       "local_hour: 0.015444 (very weak discriminative power)\n",
       "day_of_week_posted: 0.015373 (very weak discriminative power)\n",
       "month_posted: 0.006395 (very weak discriminative power)\n",
       "time_of_day: 0.004258 (very weak discriminative power)\n",
       "\n",
       "Interpretation:\n",
       "--------------------------------------------------\n",
       "Higher Fisher scores indicate better discriminative power for rating prediction\n",
       "• Strong: > 1.0\n",
       "• Moderate: 0.5 - 1.0\n",
       "• Weak: 0.1 - 0.5\n",
       "• Very weak: < 0.1\n",
       "\n",
       "Recommendations:\n",
       "--------------------------------------------------\n",
       "Consider removing these features with very weak discriminative power:\n",
       "- repeat_reviewer_encoded\n",
       "- review_time\n",
       "- day_type\n",
       "- local_hour\n",
       "- day_of_week_posted\n",
       "- month_posted\n",
       "- time_of_day</pre>"
      ],
      "text/plain": [
       "<IPython.core.display.HTML object>"
      ]
     },
     "metadata": {},
     "output_type": "display_data"
    }
   ],
   "source": [
    "def analyze_fisher_score():\n",
    "    \"\"\"\n",
    "    Calculate and analyze Fisher scores for numeric features relative to rating\n",
    "    \"\"\"\n",
    "    # Get numeric features excluding the target\n",
    "    numeric_data = train_df.select_dtypes(include=['int64', 'float64'])\n",
    "    numeric_features = [col for col in numeric_data.columns if col != 'rating']\n",
    "    \n",
    "    # Function to calculate Fisher score for a single feature\n",
    "    def calculate_fisher_score(feature):\n",
    "        # Calculate mean and variance for each class\n",
    "        class_stats = train_df.groupby('rating').agg({\n",
    "            feature: ['mean', 'var', 'count']\n",
    "        })[feature]\n",
    "        \n",
    "        # Overall mean of the feature\n",
    "        overall_mean = train_df[feature].mean()\n",
    "        \n",
    "        # Calculate between-class and within-class variance\n",
    "        between_class = sum(class_stats['count'] * (class_stats['mean'] - overall_mean) ** 2)\n",
    "        within_class = sum((class_stats['count'] - 1) * class_stats['var'])\n",
    "        \n",
    "        # Fisher score is between-class variance divided by within-class variance\n",
    "        if within_class == 0:\n",
    "            return 0  # To handle division by zero\n",
    "        return between_class / within_class\n",
    "    \n",
    "    # Calculate Fisher scores for all features\n",
    "    fisher_scores = {}\n",
    "    for feature in numeric_features:\n",
    "        fisher_scores[feature] = calculate_fisher_score(feature)\n",
    "    \n",
    "    # Sort scores in descending order\n",
    "    sorted_scores = sorted(fisher_scores.items(), key=lambda x: x[1], reverse=True)\n",
    "    \n",
    "    # Prepare output\n",
    "    output = []\n",
    "    output.append(\"Fisher Score Analysis\")\n",
    "    output.append(\"=\" * 50)\n",
    "    output.append(\"\\nFeature Scores (sorted by discriminative power):\")\n",
    "    output.append(\"-\" * 50)\n",
    "    \n",
    "    # Add interpretation based on score magnitude\n",
    "    for feature, score in sorted_scores:\n",
    "        if score > 1.0:\n",
    "            strength = \"strong\"\n",
    "        elif score > 0.5:\n",
    "            strength = \"moderate\"\n",
    "        elif score > 0.1:\n",
    "            strength = \"weak\"\n",
    "        else:\n",
    "            strength = \"very weak\"\n",
    "            \n",
    "        output.append(f\"{feature}: {score:.6f} ({strength} discriminative power)\")\n",
    "    \n",
    "    output.append(\"\\nInterpretation:\")\n",
    "    output.append(\"-\" * 50)\n",
    "    output.append(\"Higher Fisher scores indicate better discriminative power for rating prediction\")\n",
    "    output.append(\"• Strong: > 1.0\")\n",
    "    output.append(\"• Moderate: 0.5 - 1.0\")\n",
    "    output.append(\"• Weak: 0.1 - 0.5\")\n",
    "    output.append(\"• Very weak: < 0.1\")\n",
    "    \n",
    "    output.append(\"\\nRecommendations:\")\n",
    "    output.append(\"-\" * 50)\n",
    "    weak_features = [feature for feature, score in sorted_scores if score < 0.1]\n",
    "    if weak_features:\n",
    "        output.append(\"Consider removing these features with very weak discriminative power:\")\n",
    "        for feature in weak_features:\n",
    "            output.append(f\"- {feature}\")\n",
    "    \n",
    "    return \"\\n\".join(output)\n",
    "\n",
    "# Run the analysis\n",
    "display(HTML(f\"<pre>{analyze_fisher_score()}</pre>\"))"
   ]
  },
  {
   "cell_type": "markdown",
   "metadata": {},
   "source": [
    "STAGE 7 - MEAN ABSOLUTE DIFFERENCE"
   ]
  },
  {
   "cell_type": "code",
   "execution_count": 81,
   "metadata": {},
   "outputs": [
    {
     "data": {
      "text/html": [
       "<pre>Mean Absolute Difference Analysis\n",
       "==================================================\n",
       "\n",
       "Feature MAD Scores (sorted by variability):\n",
       "--------------------------------------------------\n",
       "local_hour: 4.066945 (high variability)\n",
       "month_posted: 3.173191 (high variability)\n",
       "day_of_week_posted: 1.585046 (moderate variability)\n",
       "time_of_day: 0.844532 (low variability)\n",
       "repeat_reviewer_encoded: 0.492270 (low variability)\n",
       "verification: 0.457564 (low variability)\n",
       "answered: 0.372859 (low variability)\n",
       "review_time: 0.318128 (low variability)\n",
       "day_type: 0.300791 (low variability)\n",
       "\n",
       "Interpretation:\n",
       "--------------------------------------------------\n",
       "MAD measures the average absolute deviation from the mean\n",
       "Average MAD across features: 1.290147\n",
       "• High variability: > 2x average MAD\n",
       "• Moderate variability: > average MAD\n",
       "• Low variability: ≤ average MAD\n",
       "\n",
       "Recommendations:\n",
       "--------------------------------------------------\n",
       "Consider investigating these features with very low variability:\n",
       "- repeat_reviewer_encoded\n",
       "- verification\n",
       "- answered\n",
       "- review_time\n",
       "- day_type</pre>"
      ],
      "text/plain": [
       "<IPython.core.display.HTML object>"
      ]
     },
     "metadata": {},
     "output_type": "display_data"
    }
   ],
   "source": [
    "def analyze_mean_absolute_difference():\n",
    "   \"\"\"\n",
    "   Calculate and analyze Mean Absolute Difference for numeric features relative to rating\n",
    "   \"\"\"\n",
    "   # Get numeric features excluding the target\n",
    "   numeric_data = train_df.select_dtypes(include=['int64', 'float64'])\n",
    "   numeric_features = [col for col in numeric_data.columns if col != 'rating']\n",
    "   \n",
    "   # Function to calculate MAD for a single feature\n",
    "   def calculate_mad(feature):\n",
    "       feature_mean = train_df[feature].mean()\n",
    "       mad = (train_df[feature] - feature_mean).abs().mean()\n",
    "       return mad\n",
    "   \n",
    "   # Calculate MAD for all features\n",
    "   mad_scores = {}\n",
    "   for feature in numeric_features:\n",
    "       mad_scores[feature] = calculate_mad(feature)\n",
    "   \n",
    "   # Sort scores in descending order\n",
    "   sorted_scores = sorted(mad_scores.items(), key=lambda x: x[1], reverse=True)\n",
    "   \n",
    "   # Prepare output\n",
    "   output = []\n",
    "   output.append(\"Mean Absolute Difference Analysis\")\n",
    "   output.append(\"=\" * 50)\n",
    "   output.append(\"\\nFeature MAD Scores (sorted by variability):\")\n",
    "   output.append(\"-\" * 50)\n",
    "   \n",
    "   # Calculate mean MAD for threshold reference\n",
    "   mean_mad = np.mean(list(mad_scores.values()))\n",
    "   \n",
    "   # Add interpretation for each feature\n",
    "   for feature, score in sorted_scores:\n",
    "       if score > 2 * mean_mad:\n",
    "           variability = \"high\"\n",
    "       elif score > mean_mad:\n",
    "           variability = \"moderate\"\n",
    "       else:\n",
    "           variability = \"low\"\n",
    "           \n",
    "       output.append(f\"{feature}: {score:.6f} ({variability} variability)\")\n",
    "   \n",
    "   output.append(\"\\nInterpretation:\")\n",
    "   output.append(\"-\" * 50)\n",
    "   output.append(\"MAD measures the average absolute deviation from the mean\")\n",
    "   output.append(f\"Average MAD across features: {mean_mad:.6f}\")\n",
    "   output.append(\"• High variability: > 2x average MAD\")\n",
    "   output.append(\"• Moderate variability: > average MAD\")\n",
    "   output.append(\"• Low variability: ≤ average MAD\")\n",
    "   \n",
    "   output.append(\"\\nRecommendations:\")\n",
    "   output.append(\"-\" * 50)\n",
    "   low_var_features = [feature for feature, score in sorted_scores if score <= mean_mad/2]\n",
    "   if low_var_features:\n",
    "       output.append(\"Consider investigating these features with very low variability:\")\n",
    "       for feature in low_var_features:\n",
    "           output.append(f\"- {feature}\")\n",
    "   \n",
    "   return \"\\n\".join(output)\n",
    "\n",
    "# Run the analysis\n",
    "display(HTML(f\"<pre>{analyze_mean_absolute_difference()}</pre>\"))"
   ]
  },
  {
   "cell_type": "markdown",
   "metadata": {},
   "source": [
    "STAGE 8 - DISPERSION RATIO"
   ]
  },
  {
   "cell_type": "code",
   "execution_count": 82,
   "metadata": {},
   "outputs": [
    {
     "data": {
      "text/html": [
       "<pre>Dispersion Ratio Analysis\n",
       "==================================================\n",
       "\n",
       "Feature Dispersion Ratios (sorted by magnitude):\n",
       "--------------------------------------------------\n",
       "answered: 10.146680752436065 (very high dispersion)\n",
       "review_time: 2.0596176936002473 (moderate dispersion)\n",
       "day_type: 1.764063128708422 (low dispersion)\n",
       "verification: 1.459701530467765 (low dispersion)\n",
       "day_of_week_posted: 1.3015853528899344 (low dispersion)\n",
       "local_hour: 1.272520865094106 (low dispersion)\n",
       "month_posted: 1.1870429829281373 (low dispersion)\n",
       "repeat_reviewer_encoded: 1.143692042705547 (low dispersion)\n",
       "time_of_day: 1.0917196430018894 (low dispersion)\n",
       "\n",
       "Interpretation:\n",
       "--------------------------------------------------\n",
       "Dispersion Ratio measures the spread variation across rating groups\n",
       "• Very High: > 10\n",
       "• High: 5 - 10\n",
       "• Moderate: 2 - 5\n",
       "• Low: < 2\n",
       "\n",
       "Recommendations:\n",
       "--------------------------------------------------\n",
       "Features with low dispersion (might have limited discriminative power):\n",
       "- day_type\n",
       "- verification\n",
       "- day_of_week_posted\n",
       "- local_hour\n",
       "- month_posted\n",
       "- repeat_reviewer_encoded\n",
       "- time_of_day</pre>"
      ],
      "text/plain": [
       "<IPython.core.display.HTML object>"
      ]
     },
     "metadata": {},
     "output_type": "display_data"
    }
   ],
   "source": [
    "def analyze_dispersion_ratio():\n",
    "   \"\"\"\n",
    "   Calculate and analyze Dispersion Ratio for numeric features relative to rating\n",
    "   \"\"\"\n",
    "   # Get numeric features excluding the target\n",
    "   numeric_data = train_df.select_dtypes(include=['int64', 'float64'])\n",
    "   numeric_features = [col for col in numeric_data.columns if col != 'rating']\n",
    "   \n",
    "   # Function to calculate dispersion ratio for a single feature\n",
    "   def calculate_dispersion_ratio(feature):\n",
    "       # Calculate dispersion (variance) for each rating group\n",
    "       group_vars = train_df.groupby('rating')[feature].var()\n",
    "       # Calculate overall variance\n",
    "       total_var = train_df[feature].var()\n",
    "       # Dispersion ratio is max group variance / min group variance\n",
    "       if group_vars.min() == 0:\n",
    "           return float('inf')  # Handle division by zero\n",
    "       return group_vars.max() / group_vars.min()\n",
    "   \n",
    "   # Calculate dispersion ratios for all features\n",
    "   dispersion_ratios = {}\n",
    "   for feature in numeric_features:\n",
    "       dispersion_ratios[feature] = calculate_dispersion_ratio(feature)\n",
    "   \n",
    "   # Sort ratios in descending order\n",
    "   sorted_ratios = sorted(dispersion_ratios.items(), key=lambda x: x[1], reverse=True)\n",
    "   \n",
    "   # Prepare output\n",
    "   output = []\n",
    "   output.append(\"Dispersion Ratio Analysis\")\n",
    "   output.append(\"=\" * 50)\n",
    "   output.append(\"\\nFeature Dispersion Ratios (sorted by magnitude):\")\n",
    "   output.append(\"-\" * 50)\n",
    "   \n",
    "   # Add interpretation for each feature\n",
    "   for feature, ratio in sorted_ratios:\n",
    "       if ratio == float('inf'):\n",
    "           interpretation = \"infinite (contains zero variance group)\"\n",
    "       elif ratio > 10:\n",
    "           interpretation = \"very high dispersion\"\n",
    "       elif ratio > 5:\n",
    "           interpretation = \"high dispersion\"\n",
    "       elif ratio > 2:\n",
    "           interpretation = \"moderate dispersion\"\n",
    "       else:\n",
    "           interpretation = \"low dispersion\"\n",
    "           \n",
    "       output.append(f\"{feature}: {ratio if ratio != float('inf') else 'inf'} ({interpretation})\")\n",
    "   \n",
    "   output.append(\"\\nInterpretation:\")\n",
    "   output.append(\"-\" * 50)\n",
    "   output.append(\"Dispersion Ratio measures the spread variation across rating groups\")\n",
    "   output.append(\"• Very High: > 10\")\n",
    "   output.append(\"• High: 5 - 10\")\n",
    "   output.append(\"• Moderate: 2 - 5\")\n",
    "   output.append(\"• Low: < 2\")\n",
    "   \n",
    "   output.append(\"\\nRecommendations:\")\n",
    "   output.append(\"-\" * 50)\n",
    "   low_disp_features = [feature for feature, ratio in sorted_ratios if ratio < 2 and ratio != float('inf')]\n",
    "   if low_disp_features:\n",
    "       output.append(\"Features with low dispersion (might have limited discriminative power):\")\n",
    "       for feature in low_disp_features:\n",
    "           output.append(f\"- {feature}\")\n",
    "   \n",
    "   return \"\\n\".join(output)\n",
    "\n",
    "# Run the analysis\n",
    "display(HTML(f\"<pre>{analyze_dispersion_ratio()}</pre>\"))"
   ]
  },
  {
   "cell_type": "markdown",
   "metadata": {},
   "source": [
    "STAGE 9 - KRUSKAL-WALLIS TEST"
   ]
  },
  {
   "cell_type": "code",
   "execution_count": 83,
   "metadata": {},
   "outputs": [
    {
     "name": "stdout",
     "output_type": "stream",
     "text": [
      "Starting Kruskal-Wallis analysis for all numeric variables...\n",
      "================================================================================\n"
     ]
    },
    {
     "data": {
      "text/html": [
       "<pre>Kruskal-Wallis Test Analysis: rating vs verification\n",
       "==================================================\n",
       "Hypothesis:\n",
       "H0: The samples come from the same distribution (no difference between rating groups)\n",
       "H1: The samples come from different distributions (difference exists between rating groups)\n",
       "\n",
       "Results:\n",
       "--------------------------------------------------\n",
       "H-statistic: 13425.2857\n",
       "p-value: 0.0000\n",
       "\n",
       "Interpretation:\n",
       "--------------------------------------------------\n",
       "p-value < 0.05: Reject H0\n",
       "There is a statistically significant difference in verification across rating groups\n",
       "The effect size appears to be strong (H = 13425.29)</pre>"
      ],
      "text/plain": [
       "<IPython.core.display.HTML object>"
      ]
     },
     "metadata": {},
     "output_type": "display_data"
    },
    {
     "data": {
      "text/html": [
       "<hr>"
      ],
      "text/plain": [
       "<IPython.core.display.HTML object>"
      ]
     },
     "metadata": {},
     "output_type": "display_data"
    },
    {
     "data": {
      "text/html": [
       "<pre>Kruskal-Wallis Test Analysis: rating vs repeat_reviewer_encoded\n",
       "==================================================\n",
       "Hypothesis:\n",
       "H0: The samples come from the same distribution (no difference between rating groups)\n",
       "H1: The samples come from different distributions (difference exists between rating groups)\n",
       "\n",
       "Results:\n",
       "--------------------------------------------------\n",
       "H-statistic: 4462.5119\n",
       "p-value: 0.0000\n",
       "\n",
       "Interpretation:\n",
       "--------------------------------------------------\n",
       "p-value < 0.05: Reject H0\n",
       "There is a statistically significant difference in repeat_reviewer_encoded across rating groups\n",
       "The effect size appears to be strong (H = 4462.51)</pre>"
      ],
      "text/plain": [
       "<IPython.core.display.HTML object>"
      ]
     },
     "metadata": {},
     "output_type": "display_data"
    },
    {
     "data": {
      "text/html": [
       "<hr>"
      ],
      "text/plain": [
       "<IPython.core.display.HTML object>"
      ]
     },
     "metadata": {},
     "output_type": "display_data"
    },
    {
     "data": {
      "text/html": [
       "<pre>Kruskal-Wallis Test Analysis: rating vs answered\n",
       "==================================================\n",
       "Hypothesis:\n",
       "H0: The samples come from the same distribution (no difference between rating groups)\n",
       "H1: The samples come from different distributions (difference exists between rating groups)\n",
       "\n",
       "Results:\n",
       "--------------------------------------------------\n",
       "H-statistic: 13069.9306\n",
       "p-value: 0.0000\n",
       "\n",
       "Interpretation:\n",
       "--------------------------------------------------\n",
       "p-value < 0.05: Reject H0\n",
       "There is a statistically significant difference in answered across rating groups\n",
       "The effect size appears to be strong (H = 13069.93)</pre>"
      ],
      "text/plain": [
       "<IPython.core.display.HTML object>"
      ]
     },
     "metadata": {},
     "output_type": "display_data"
    },
    {
     "data": {
      "text/html": [
       "<hr>"
      ],
      "text/plain": [
       "<IPython.core.display.HTML object>"
      ]
     },
     "metadata": {},
     "output_type": "display_data"
    },
    {
     "data": {
      "text/html": [
       "<pre>Kruskal-Wallis Test Analysis: rating vs month_posted\n",
       "==================================================\n",
       "Hypothesis:\n",
       "H0: The samples come from the same distribution (no difference between rating groups)\n",
       "H1: The samples come from different distributions (difference exists between rating groups)\n",
       "\n",
       "Results:\n",
       "--------------------------------------------------\n",
       "H-statistic: 423.0590\n",
       "p-value: 0.0000\n",
       "\n",
       "Interpretation:\n",
       "--------------------------------------------------\n",
       "p-value < 0.05: Reject H0\n",
       "There is a statistically significant difference in month_posted across rating groups\n",
       "The effect size appears to be strong (H = 423.06)</pre>"
      ],
      "text/plain": [
       "<IPython.core.display.HTML object>"
      ]
     },
     "metadata": {},
     "output_type": "display_data"
    },
    {
     "data": {
      "text/html": [
       "<hr>"
      ],
      "text/plain": [
       "<IPython.core.display.HTML object>"
      ]
     },
     "metadata": {},
     "output_type": "display_data"
    },
    {
     "data": {
      "text/html": [
       "<pre>Kruskal-Wallis Test Analysis: rating vs local_hour\n",
       "==================================================\n",
       "Hypothesis:\n",
       "H0: The samples come from the same distribution (no difference between rating groups)\n",
       "H1: The samples come from different distributions (difference exists between rating groups)\n",
       "\n",
       "Results:\n",
       "--------------------------------------------------\n",
       "H-statistic: 1022.1906\n",
       "p-value: 0.0000\n",
       "\n",
       "Interpretation:\n",
       "--------------------------------------------------\n",
       "p-value < 0.05: Reject H0\n",
       "There is a statistically significant difference in local_hour across rating groups\n",
       "The effect size appears to be strong (H = 1022.19)</pre>"
      ],
      "text/plain": [
       "<IPython.core.display.HTML object>"
      ]
     },
     "metadata": {},
     "output_type": "display_data"
    },
    {
     "data": {
      "text/html": [
       "<hr>"
      ],
      "text/plain": [
       "<IPython.core.display.HTML object>"
      ]
     },
     "metadata": {},
     "output_type": "display_data"
    },
    {
     "data": {
      "text/html": [
       "<pre>Kruskal-Wallis Test Analysis: rating vs time_of_day\n",
       "==================================================\n",
       "Hypothesis:\n",
       "H0: The samples come from the same distribution (no difference between rating groups)\n",
       "H1: The samples come from different distributions (difference exists between rating groups)\n",
       "\n",
       "Results:\n",
       "--------------------------------------------------\n",
       "H-statistic: 334.4169\n",
       "p-value: 0.0000\n",
       "\n",
       "Interpretation:\n",
       "--------------------------------------------------\n",
       "p-value < 0.05: Reject H0\n",
       "There is a statistically significant difference in time_of_day across rating groups\n",
       "The effect size appears to be strong (H = 334.42)</pre>"
      ],
      "text/plain": [
       "<IPython.core.display.HTML object>"
      ]
     },
     "metadata": {},
     "output_type": "display_data"
    },
    {
     "data": {
      "text/html": [
       "<hr>"
      ],
      "text/plain": [
       "<IPython.core.display.HTML object>"
      ]
     },
     "metadata": {},
     "output_type": "display_data"
    },
    {
     "data": {
      "text/html": [
       "<pre>Kruskal-Wallis Test Analysis: rating vs day_of_week_posted\n",
       "==================================================\n",
       "Hypothesis:\n",
       "H0: The samples come from the same distribution (no difference between rating groups)\n",
       "H1: The samples come from different distributions (difference exists between rating groups)\n",
       "\n",
       "Results:\n",
       "--------------------------------------------------\n",
       "H-statistic: 815.3249\n",
       "p-value: 0.0000\n",
       "\n",
       "Interpretation:\n",
       "--------------------------------------------------\n",
       "p-value < 0.05: Reject H0\n",
       "There is a statistically significant difference in day_of_week_posted across rating groups\n",
       "The effect size appears to be strong (H = 815.32)</pre>"
      ],
      "text/plain": [
       "<IPython.core.display.HTML object>"
      ]
     },
     "metadata": {},
     "output_type": "display_data"
    },
    {
     "data": {
      "text/html": [
       "<hr>"
      ],
      "text/plain": [
       "<IPython.core.display.HTML object>"
      ]
     },
     "metadata": {},
     "output_type": "display_data"
    },
    {
     "data": {
      "text/html": [
       "<pre>Kruskal-Wallis Test Analysis: rating vs day_type\n",
       "==================================================\n",
       "Hypothesis:\n",
       "H0: The samples come from the same distribution (no difference between rating groups)\n",
       "H1: The samples come from different distributions (difference exists between rating groups)\n",
       "\n",
       "Results:\n",
       "--------------------------------------------------\n",
       "H-statistic: 1540.7197\n",
       "p-value: 0.0000\n",
       "\n",
       "Interpretation:\n",
       "--------------------------------------------------\n",
       "p-value < 0.05: Reject H0\n",
       "There is a statistically significant difference in day_type across rating groups\n",
       "The effect size appears to be strong (H = 1540.72)</pre>"
      ],
      "text/plain": [
       "<IPython.core.display.HTML object>"
      ]
     },
     "metadata": {},
     "output_type": "display_data"
    },
    {
     "data": {
      "text/html": [
       "<hr>"
      ],
      "text/plain": [
       "<IPython.core.display.HTML object>"
      ]
     },
     "metadata": {},
     "output_type": "display_data"
    },
    {
     "data": {
      "text/html": [
       "<pre>Kruskal-Wallis Test Analysis: rating vs review_time\n",
       "==================================================\n",
       "Hypothesis:\n",
       "H0: The samples come from the same distribution (no difference between rating groups)\n",
       "H1: The samples come from different distributions (difference exists between rating groups)\n",
       "\n",
       "Results:\n",
       "--------------------------------------------------\n",
       "H-statistic: 2526.5178\n",
       "p-value: 0.0000\n",
       "\n",
       "Interpretation:\n",
       "--------------------------------------------------\n",
       "p-value < 0.05: Reject H0\n",
       "There is a statistically significant difference in review_time across rating groups\n",
       "The effect size appears to be strong (H = 2526.52)</pre>"
      ],
      "text/plain": [
       "<IPython.core.display.HTML object>"
      ]
     },
     "metadata": {},
     "output_type": "display_data"
    },
    {
     "data": {
      "text/html": [
       "<hr>"
      ],
      "text/plain": [
       "<IPython.core.display.HTML object>"
      ]
     },
     "metadata": {},
     "output_type": "display_data"
    }
   ],
   "source": [
    "from scipy.stats import kruskal\n",
    "\n",
    "def analyze_kruskal_wallis(column_name):\n",
    "   \"\"\"\n",
    "   Perform Kruskal-Wallis H test between a numeric column and rating\n",
    "   \"\"\"\n",
    "   if column_name not in train_df.columns:\n",
    "       return f\"Error: Column '{column_name}' not found in dataframe\"\n",
    "   \n",
    "   # Calculate test statistics\n",
    "   rating_groups = [train_df[train_df['rating'] == rating][column_name] \n",
    "                   for rating in train_df['rating'].unique()]\n",
    "   h_statistic, p_value = kruskal(*rating_groups)\n",
    "   \n",
    "   # Format output\n",
    "   output = []\n",
    "   output.append(f\"Kruskal-Wallis Test Analysis: rating vs {column_name}\")\n",
    "   output.append(\"=\" * 50)\n",
    "   \n",
    "   output.append(\"Hypothesis:\")\n",
    "   output.append(\"H0: The samples come from the same distribution (no difference between rating groups)\")\n",
    "   output.append(\"H1: The samples come from different distributions (difference exists between rating groups)\")\n",
    "   \n",
    "   output.append(\"\\nResults:\")\n",
    "   output.append(\"-\" * 50)\n",
    "   output.append(f\"H-statistic: {h_statistic:.4f}\")\n",
    "   output.append(f\"p-value: {p_value:.4f}\")\n",
    "   \n",
    "   # Interpretation\n",
    "   output.append(\"\\nInterpretation:\")\n",
    "   output.append(\"-\" * 50)\n",
    "   if p_value < 0.05:\n",
    "       output.append(\"p-value < 0.05: Reject H0\")\n",
    "       output.append(f\"There is a statistically significant difference in {column_name} across rating groups\")\n",
    "       \n",
    "       # Effect size interpretation (using H-statistic)\n",
    "       if h_statistic > 50:\n",
    "           strength = \"strong\"\n",
    "       elif h_statistic > 30:\n",
    "           strength = \"moderate\"\n",
    "       else:\n",
    "           strength = \"weak\"\n",
    "       output.append(f\"The effect size appears to be {strength} (H = {h_statistic:.2f})\")\n",
    "   else:\n",
    "       output.append(\"p-value ≥ 0.05: Fail to reject H0\")\n",
    "       output.append(f\"No significant difference in {column_name} across rating groups\")\n",
    "   \n",
    "   return \"\\n\".join(output)\n",
    "\n",
    "# Get numeric columns excluding 'rating'\n",
    "numeric_columns = train_df.select_dtypes(include=['int64', 'float64']).columns\n",
    "numeric_columns = [col for col in numeric_columns if col != 'rating']\n",
    "\n",
    "print(\"Starting Kruskal-Wallis analysis for all numeric variables...\")\n",
    "print(\"=\" * 80)\n",
    "\n",
    "# Loop through each numeric column\n",
    "for column in numeric_columns:\n",
    "   display(HTML(f\"<pre>{analyze_kruskal_wallis(column)}</pre>\"))\n",
    "   display(HTML(\"<hr>\"))"
   ]
  },
  {
   "cell_type": "markdown",
   "metadata": {},
   "source": [
    "STAGE 10 - RECURSIVE FEATURE ELIMINATION"
   ]
  },
  {
   "cell_type": "code",
   "execution_count": 84,
   "metadata": {},
   "outputs": [
    {
     "name": "stderr",
     "output_type": "stream",
     "text": [
      "/Library/Frameworks/Python.framework/Versions/3.12/lib/python3.12/site-packages/sklearn/linear_model/_logistic.py:1247: FutureWarning: 'multi_class' was deprecated in version 1.5 and will be removed in 1.7. From then on, it will always use 'multinomial'. Leave it to its default value to avoid this warning.\n",
      "  warnings.warn(\n",
      "/Library/Frameworks/Python.framework/Versions/3.12/lib/python3.12/site-packages/sklearn/linear_model/_logistic.py:1247: FutureWarning: 'multi_class' was deprecated in version 1.5 and will be removed in 1.7. From then on, it will always use 'multinomial'. Leave it to its default value to avoid this warning.\n",
      "  warnings.warn(\n",
      "/Library/Frameworks/Python.framework/Versions/3.12/lib/python3.12/site-packages/sklearn/linear_model/_logistic.py:1247: FutureWarning: 'multi_class' was deprecated in version 1.5 and will be removed in 1.7. From then on, it will always use 'multinomial'. Leave it to its default value to avoid this warning.\n",
      "  warnings.warn(\n",
      "/Library/Frameworks/Python.framework/Versions/3.12/lib/python3.12/site-packages/sklearn/linear_model/_logistic.py:1247: FutureWarning: 'multi_class' was deprecated in version 1.5 and will be removed in 1.7. From then on, it will always use 'multinomial'. Leave it to its default value to avoid this warning.\n",
      "  warnings.warn(\n",
      "/Library/Frameworks/Python.framework/Versions/3.12/lib/python3.12/site-packages/sklearn/linear_model/_logistic.py:1247: FutureWarning: 'multi_class' was deprecated in version 1.5 and will be removed in 1.7. From then on, it will always use 'multinomial'. Leave it to its default value to avoid this warning.\n",
      "  warnings.warn(\n",
      "/Library/Frameworks/Python.framework/Versions/3.12/lib/python3.12/site-packages/sklearn/linear_model/_logistic.py:1247: FutureWarning: 'multi_class' was deprecated in version 1.5 and will be removed in 1.7. From then on, it will always use 'multinomial'. Leave it to its default value to avoid this warning.\n",
      "  warnings.warn(\n",
      "/Library/Frameworks/Python.framework/Versions/3.12/lib/python3.12/site-packages/sklearn/linear_model/_logistic.py:1247: FutureWarning: 'multi_class' was deprecated in version 1.5 and will be removed in 1.7. From then on, it will always use 'multinomial'. Leave it to its default value to avoid this warning.\n",
      "  warnings.warn(\n",
      "/Library/Frameworks/Python.framework/Versions/3.12/lib/python3.12/site-packages/sklearn/linear_model/_logistic.py:1247: FutureWarning: 'multi_class' was deprecated in version 1.5 and will be removed in 1.7. From then on, it will always use 'multinomial'. Leave it to its default value to avoid this warning.\n",
      "  warnings.warn(\n",
      "/Library/Frameworks/Python.framework/Versions/3.12/lib/python3.12/site-packages/sklearn/linear_model/_logistic.py:1247: FutureWarning: 'multi_class' was deprecated in version 1.5 and will be removed in 1.7. From then on, it will always use 'multinomial'. Leave it to its default value to avoid this warning.\n",
      "  warnings.warn(\n",
      "/Library/Frameworks/Python.framework/Versions/3.12/lib/python3.12/site-packages/sklearn/linear_model/_logistic.py:1247: FutureWarning: 'multi_class' was deprecated in version 1.5 and will be removed in 1.7. From then on, it will always use 'multinomial'. Leave it to its default value to avoid this warning.\n",
      "  warnings.warn(\n",
      "/Library/Frameworks/Python.framework/Versions/3.12/lib/python3.12/site-packages/sklearn/linear_model/_logistic.py:1247: FutureWarning: 'multi_class' was deprecated in version 1.5 and will be removed in 1.7. From then on, it will always use 'multinomial'. Leave it to its default value to avoid this warning.\n",
      "  warnings.warn(\n",
      "/Library/Frameworks/Python.framework/Versions/3.12/lib/python3.12/site-packages/sklearn/linear_model/_logistic.py:1247: FutureWarning: 'multi_class' was deprecated in version 1.5 and will be removed in 1.7. From then on, it will always use 'multinomial'. Leave it to its default value to avoid this warning.\n",
      "  warnings.warn(\n",
      "/Library/Frameworks/Python.framework/Versions/3.12/lib/python3.12/site-packages/sklearn/linear_model/_logistic.py:1247: FutureWarning: 'multi_class' was deprecated in version 1.5 and will be removed in 1.7. From then on, it will always use 'multinomial'. Leave it to its default value to avoid this warning.\n",
      "  warnings.warn(\n",
      "/Library/Frameworks/Python.framework/Versions/3.12/lib/python3.12/site-packages/sklearn/linear_model/_logistic.py:1247: FutureWarning: 'multi_class' was deprecated in version 1.5 and will be removed in 1.7. From then on, it will always use 'multinomial'. Leave it to its default value to avoid this warning.\n",
      "  warnings.warn(\n",
      "/Library/Frameworks/Python.framework/Versions/3.12/lib/python3.12/site-packages/sklearn/linear_model/_logistic.py:1247: FutureWarning: 'multi_class' was deprecated in version 1.5 and will be removed in 1.7. From then on, it will always use 'multinomial'. Leave it to its default value to avoid this warning.\n",
      "  warnings.warn(\n",
      "/Library/Frameworks/Python.framework/Versions/3.12/lib/python3.12/site-packages/sklearn/linear_model/_logistic.py:1247: FutureWarning: 'multi_class' was deprecated in version 1.5 and will be removed in 1.7. From then on, it will always use 'multinomial'. Leave it to its default value to avoid this warning.\n",
      "  warnings.warn(\n",
      "/Library/Frameworks/Python.framework/Versions/3.12/lib/python3.12/site-packages/sklearn/linear_model/_logistic.py:1247: FutureWarning: 'multi_class' was deprecated in version 1.5 and will be removed in 1.7. From then on, it will always use 'multinomial'. Leave it to its default value to avoid this warning.\n",
      "  warnings.warn(\n",
      "/Library/Frameworks/Python.framework/Versions/3.12/lib/python3.12/site-packages/sklearn/linear_model/_logistic.py:1247: FutureWarning: 'multi_class' was deprecated in version 1.5 and will be removed in 1.7. From then on, it will always use 'multinomial'. Leave it to its default value to avoid this warning.\n",
      "  warnings.warn(\n",
      "/Library/Frameworks/Python.framework/Versions/3.12/lib/python3.12/site-packages/sklearn/linear_model/_logistic.py:1247: FutureWarning: 'multi_class' was deprecated in version 1.5 and will be removed in 1.7. From then on, it will always use 'multinomial'. Leave it to its default value to avoid this warning.\n",
      "  warnings.warn(\n",
      "/Library/Frameworks/Python.framework/Versions/3.12/lib/python3.12/site-packages/sklearn/linear_model/_logistic.py:1247: FutureWarning: 'multi_class' was deprecated in version 1.5 and will be removed in 1.7. From then on, it will always use 'multinomial'. Leave it to its default value to avoid this warning.\n",
      "  warnings.warn(\n",
      "/Library/Frameworks/Python.framework/Versions/3.12/lib/python3.12/site-packages/sklearn/linear_model/_logistic.py:1247: FutureWarning: 'multi_class' was deprecated in version 1.5 and will be removed in 1.7. From then on, it will always use 'multinomial'. Leave it to its default value to avoid this warning.\n",
      "  warnings.warn(\n",
      "/Library/Frameworks/Python.framework/Versions/3.12/lib/python3.12/site-packages/sklearn/linear_model/_logistic.py:1247: FutureWarning: 'multi_class' was deprecated in version 1.5 and will be removed in 1.7. From then on, it will always use 'multinomial'. Leave it to its default value to avoid this warning.\n",
      "  warnings.warn(\n",
      "/Library/Frameworks/Python.framework/Versions/3.12/lib/python3.12/site-packages/sklearn/linear_model/_logistic.py:1247: FutureWarning: 'multi_class' was deprecated in version 1.5 and will be removed in 1.7. From then on, it will always use 'multinomial'. Leave it to its default value to avoid this warning.\n",
      "  warnings.warn(\n",
      "/Library/Frameworks/Python.framework/Versions/3.12/lib/python3.12/site-packages/sklearn/linear_model/_logistic.py:1247: FutureWarning: 'multi_class' was deprecated in version 1.5 and will be removed in 1.7. From then on, it will always use 'multinomial'. Leave it to its default value to avoid this warning.\n",
      "  warnings.warn(\n",
      "/Library/Frameworks/Python.framework/Versions/3.12/lib/python3.12/site-packages/sklearn/linear_model/_logistic.py:1247: FutureWarning: 'multi_class' was deprecated in version 1.5 and will be removed in 1.7. From then on, it will always use 'multinomial'. Leave it to its default value to avoid this warning.\n",
      "  warnings.warn(\n",
      "/Library/Frameworks/Python.framework/Versions/3.12/lib/python3.12/site-packages/sklearn/linear_model/_logistic.py:1247: FutureWarning: 'multi_class' was deprecated in version 1.5 and will be removed in 1.7. From then on, it will always use 'multinomial'. Leave it to its default value to avoid this warning.\n",
      "  warnings.warn(\n",
      "/Library/Frameworks/Python.framework/Versions/3.12/lib/python3.12/site-packages/sklearn/linear_model/_logistic.py:1247: FutureWarning: 'multi_class' was deprecated in version 1.5 and will be removed in 1.7. From then on, it will always use 'multinomial'. Leave it to its default value to avoid this warning.\n",
      "  warnings.warn(\n",
      "/Library/Frameworks/Python.framework/Versions/3.12/lib/python3.12/site-packages/sklearn/linear_model/_logistic.py:1247: FutureWarning: 'multi_class' was deprecated in version 1.5 and will be removed in 1.7. From then on, it will always use 'multinomial'. Leave it to its default value to avoid this warning.\n",
      "  warnings.warn(\n",
      "/Library/Frameworks/Python.framework/Versions/3.12/lib/python3.12/site-packages/sklearn/linear_model/_logistic.py:1247: FutureWarning: 'multi_class' was deprecated in version 1.5 and will be removed in 1.7. From then on, it will always use 'multinomial'. Leave it to its default value to avoid this warning.\n",
      "  warnings.warn(\n",
      "/Library/Frameworks/Python.framework/Versions/3.12/lib/python3.12/site-packages/sklearn/linear_model/_logistic.py:1247: FutureWarning: 'multi_class' was deprecated in version 1.5 and will be removed in 1.7. From then on, it will always use 'multinomial'. Leave it to its default value to avoid this warning.\n",
      "  warnings.warn(\n",
      "/Library/Frameworks/Python.framework/Versions/3.12/lib/python3.12/site-packages/sklearn/linear_model/_logistic.py:1247: FutureWarning: 'multi_class' was deprecated in version 1.5 and will be removed in 1.7. From then on, it will always use 'multinomial'. Leave it to its default value to avoid this warning.\n",
      "  warnings.warn(\n",
      "/Library/Frameworks/Python.framework/Versions/3.12/lib/python3.12/site-packages/sklearn/linear_model/_logistic.py:1247: FutureWarning: 'multi_class' was deprecated in version 1.5 and will be removed in 1.7. From then on, it will always use 'multinomial'. Leave it to its default value to avoid this warning.\n",
      "  warnings.warn(\n",
      "/Library/Frameworks/Python.framework/Versions/3.12/lib/python3.12/site-packages/sklearn/linear_model/_logistic.py:1247: FutureWarning: 'multi_class' was deprecated in version 1.5 and will be removed in 1.7. From then on, it will always use 'multinomial'. Leave it to its default value to avoid this warning.\n",
      "  warnings.warn(\n",
      "/Library/Frameworks/Python.framework/Versions/3.12/lib/python3.12/site-packages/sklearn/linear_model/_logistic.py:1247: FutureWarning: 'multi_class' was deprecated in version 1.5 and will be removed in 1.7. From then on, it will always use 'multinomial'. Leave it to its default value to avoid this warning.\n",
      "  warnings.warn(\n",
      "/Library/Frameworks/Python.framework/Versions/3.12/lib/python3.12/site-packages/sklearn/linear_model/_logistic.py:1247: FutureWarning: 'multi_class' was deprecated in version 1.5 and will be removed in 1.7. From then on, it will always use 'multinomial'. Leave it to its default value to avoid this warning.\n",
      "  warnings.warn(\n",
      "/Library/Frameworks/Python.framework/Versions/3.12/lib/python3.12/site-packages/sklearn/linear_model/_logistic.py:1247: FutureWarning: 'multi_class' was deprecated in version 1.5 and will be removed in 1.7. From then on, it will always use 'multinomial'. Leave it to its default value to avoid this warning.\n",
      "  warnings.warn(\n",
      "/Library/Frameworks/Python.framework/Versions/3.12/lib/python3.12/site-packages/sklearn/linear_model/_logistic.py:1247: FutureWarning: 'multi_class' was deprecated in version 1.5 and will be removed in 1.7. From then on, it will always use 'multinomial'. Leave it to its default value to avoid this warning.\n",
      "  warnings.warn(\n",
      "/Library/Frameworks/Python.framework/Versions/3.12/lib/python3.12/site-packages/sklearn/linear_model/_logistic.py:1247: FutureWarning: 'multi_class' was deprecated in version 1.5 and will be removed in 1.7. From then on, it will always use 'multinomial'. Leave it to its default value to avoid this warning.\n",
      "  warnings.warn(\n",
      "/Library/Frameworks/Python.framework/Versions/3.12/lib/python3.12/site-packages/sklearn/linear_model/_logistic.py:1247: FutureWarning: 'multi_class' was deprecated in version 1.5 and will be removed in 1.7. From then on, it will always use 'multinomial'. Leave it to its default value to avoid this warning.\n",
      "  warnings.warn(\n",
      "/Library/Frameworks/Python.framework/Versions/3.12/lib/python3.12/site-packages/sklearn/linear_model/_logistic.py:1247: FutureWarning: 'multi_class' was deprecated in version 1.5 and will be removed in 1.7. From then on, it will always use 'multinomial'. Leave it to its default value to avoid this warning.\n",
      "  warnings.warn(\n",
      "/Library/Frameworks/Python.framework/Versions/3.12/lib/python3.12/site-packages/sklearn/linear_model/_logistic.py:1247: FutureWarning: 'multi_class' was deprecated in version 1.5 and will be removed in 1.7. From then on, it will always use 'multinomial'. Leave it to its default value to avoid this warning.\n",
      "  warnings.warn(\n",
      "/Library/Frameworks/Python.framework/Versions/3.12/lib/python3.12/site-packages/sklearn/linear_model/_logistic.py:1247: FutureWarning: 'multi_class' was deprecated in version 1.5 and will be removed in 1.7. From then on, it will always use 'multinomial'. Leave it to its default value to avoid this warning.\n",
      "  warnings.warn(\n",
      "/Library/Frameworks/Python.framework/Versions/3.12/lib/python3.12/site-packages/sklearn/linear_model/_logistic.py:1247: FutureWarning: 'multi_class' was deprecated in version 1.5 and will be removed in 1.7. From then on, it will always use 'multinomial'. Leave it to its default value to avoid this warning.\n",
      "  warnings.warn(\n",
      "/Library/Frameworks/Python.framework/Versions/3.12/lib/python3.12/site-packages/sklearn/linear_model/_logistic.py:1247: FutureWarning: 'multi_class' was deprecated in version 1.5 and will be removed in 1.7. From then on, it will always use 'multinomial'. Leave it to its default value to avoid this warning.\n",
      "  warnings.warn(\n",
      "/Library/Frameworks/Python.framework/Versions/3.12/lib/python3.12/site-packages/sklearn/linear_model/_logistic.py:1247: FutureWarning: 'multi_class' was deprecated in version 1.5 and will be removed in 1.7. From then on, it will always use 'multinomial'. Leave it to its default value to avoid this warning.\n",
      "  warnings.warn(\n"
     ]
    },
    {
     "ename": "AttributeError",
     "evalue": "'RFECV' object has no attribute 'grid_scores_'",
     "output_type": "error",
     "traceback": [
      "\u001b[0;31m---------------------------------------------------------------------------\u001b[0m",
      "\u001b[0;31mAttributeError\u001b[0m                            Traceback (most recent call last)",
      "Cell \u001b[0;32mIn[84], line 71\u001b[0m\n\u001b[1;32m     68\u001b[0m    \u001b[38;5;28;01mreturn\u001b[39;00m \u001b[38;5;124m\"\u001b[39m\u001b[38;5;130;01m\\n\u001b[39;00m\u001b[38;5;124m\"\u001b[39m\u001b[38;5;241m.\u001b[39mjoin(output)\n\u001b[1;32m     70\u001b[0m \u001b[38;5;66;03m# Run the analysis\u001b[39;00m\n\u001b[0;32m---> 71\u001b[0m display(HTML(\u001b[38;5;124mf\u001b[39m\u001b[38;5;124m\"\u001b[39m\u001b[38;5;124m<pre>\u001b[39m\u001b[38;5;132;01m{\u001b[39;00m\u001b[43manalyze_recursive_feature_elimination\u001b[49m\u001b[43m(\u001b[49m\u001b[43m)\u001b[49m\u001b[38;5;132;01m}\u001b[39;00m\u001b[38;5;124m</pre>\u001b[39m\u001b[38;5;124m\"\u001b[39m))\n",
      "Cell \u001b[0;32mIn[84], line 47\u001b[0m, in \u001b[0;36manalyze_recursive_feature_elimination\u001b[0;34m()\u001b[0m\n\u001b[1;32m     44\u001b[0m output\u001b[38;5;241m.\u001b[39mappend(\u001b[38;5;124m\"\u001b[39m\u001b[38;5;124m=\u001b[39m\u001b[38;5;124m\"\u001b[39m \u001b[38;5;241m*\u001b[39m \u001b[38;5;241m50\u001b[39m)\n\u001b[1;32m     46\u001b[0m output\u001b[38;5;241m.\u001b[39mappend(\u001b[38;5;124mf\u001b[39m\u001b[38;5;124m\"\u001b[39m\u001b[38;5;130;01m\\n\u001b[39;00m\u001b[38;5;124mOptimal number of features: \u001b[39m\u001b[38;5;132;01m{\u001b[39;00mselector\u001b[38;5;241m.\u001b[39mn_features_\u001b[38;5;132;01m}\u001b[39;00m\u001b[38;5;124m\"\u001b[39m)\n\u001b[0;32m---> 47\u001b[0m output\u001b[38;5;241m.\u001b[39mappend(\u001b[38;5;124mf\u001b[39m\u001b[38;5;124m\"\u001b[39m\u001b[38;5;124mBest CV score: \u001b[39m\u001b[38;5;132;01m{\u001b[39;00m\u001b[43mselector\u001b[49m\u001b[38;5;241;43m.\u001b[39;49m\u001b[43mgrid_scores_\u001b[49m[selector\u001b[38;5;241m.\u001b[39mn_features_\u001b[38;5;241m-\u001b[39m\u001b[38;5;241m1\u001b[39m]\u001b[38;5;132;01m:\u001b[39;00m\u001b[38;5;124m.4f\u001b[39m\u001b[38;5;132;01m}\u001b[39;00m\u001b[38;5;124m\"\u001b[39m)\n\u001b[1;32m     49\u001b[0m output\u001b[38;5;241m.\u001b[39mappend(\u001b[38;5;124m\"\u001b[39m\u001b[38;5;130;01m\\n\u001b[39;00m\u001b[38;5;124mFeature Rankings (1 = selected, higher = eliminated earlier):\u001b[39m\u001b[38;5;124m\"\u001b[39m)\n\u001b[1;32m     50\u001b[0m output\u001b[38;5;241m.\u001b[39mappend(\u001b[38;5;124m\"\u001b[39m\u001b[38;5;124m-\u001b[39m\u001b[38;5;124m\"\u001b[39m \u001b[38;5;241m*\u001b[39m \u001b[38;5;241m50\u001b[39m)\n",
      "\u001b[0;31mAttributeError\u001b[0m: 'RFECV' object has no attribute 'grid_scores_'"
     ]
    }
   ],
   "source": [
    "from sklearn.feature_selection import RFECV\n",
    "from sklearn.linear_model import LogisticRegression\n",
    "from sklearn.preprocessing import StandardScaler\n",
    "\n",
    "def analyze_recursive_feature_elimination():\n",
    "   \"\"\"\n",
    "   Perform Recursive Feature Elimination with Cross-Validation\n",
    "   \"\"\"\n",
    "   # Get numeric features excluding the target\n",
    "   numeric_data = train_df.select_dtypes(include=['int64', 'float64'])\n",
    "   X = numeric_data.drop('rating', axis=1)\n",
    "   y = train_df['rating']\n",
    "   \n",
    "   # Scale the features\n",
    "   scaler = StandardScaler()\n",
    "   X_scaled = scaler.fit_transform(X)\n",
    "   \n",
    "   # Initialize the estimator\n",
    "   estimator = LogisticRegression(max_iter=1000, multi_class='multinomial')\n",
    "   \n",
    "   # Initialize RFECV\n",
    "   selector = RFECV(\n",
    "       estimator=estimator,\n",
    "       step=1,\n",
    "       min_features_to_select=1,\n",
    "       cv=5,\n",
    "       scoring='accuracy',\n",
    "       n_jobs=-1\n",
    "   )\n",
    "   \n",
    "   # Fit RFECV\n",
    "   selector = selector.fit(X_scaled, y)\n",
    "   \n",
    "   # Get selected features and their ranks\n",
    "   feature_ranks = dict(zip(X.columns, selector.ranking_))\n",
    "   selected_features = X.columns[selector.support_].tolist()\n",
    "   \n",
    "   # Sort features by importance rank\n",
    "   sorted_features = sorted(feature_ranks.items(), key=lambda x: x[1])\n",
    "   \n",
    "   # Prepare output\n",
    "   output = []\n",
    "   output.append(\"Recursive Feature Elimination Analysis\")\n",
    "   output.append(\"=\" * 50)\n",
    "   \n",
    "   output.append(f\"\\nOptimal number of features: {selector.n_features_}\")\n",
    "   output.append(f\"Best CV score: {selector.grid_scores_[selector.n_features_-1]:.4f}\")\n",
    "   \n",
    "   output.append(\"\\nFeature Rankings (1 = selected, higher = eliminated earlier):\")\n",
    "   output.append(\"-\" * 50)\n",
    "   for feature, rank in sorted_features:\n",
    "       status = \"selected\" if rank == 1 else \"eliminated\"\n",
    "       output.append(f\"{feature}: {rank} ({status})\")\n",
    "   \n",
    "   output.append(\"\\nSelected Features:\")\n",
    "   output.append(\"-\" * 50)\n",
    "   for feature in selected_features:\n",
    "       output.append(f\"- {feature}\")\n",
    "   \n",
    "   output.append(\"\\nRecommendations:\")\n",
    "   output.append(\"-\" * 50)\n",
    "   eliminated_features = [feature for feature, rank in feature_ranks.items() if rank > 1]\n",
    "   if eliminated_features:\n",
    "       output.append(\"Consider removing these features:\")\n",
    "       for feature in eliminated_features:\n",
    "           output.append(f\"- {feature}\")\n",
    "   \n",
    "   return \"\\n\".join(output)\n",
    "\n",
    "# Run the analysis\n",
    "display(HTML(f\"<pre>{analyze_recursive_feature_elimination()}</pre>\"))"
   ]
  },
  {
   "cell_type": "markdown",
   "metadata": {},
   "source": [
    "STAGE 11 - LASSO"
   ]
  },
  {
   "cell_type": "code",
   "execution_count": 85,
   "metadata": {},
   "outputs": [
    {
     "data": {
      "text/html": [
       "<pre>Lasso Feature Selection Analysis\n",
       "==================================================\n",
       "\n",
       "Best alpha: 0.000737\n",
       "\n",
       "Feature Coefficients (sorted by importance):\n",
       "--------------------------------------------------\n",
       "verification: 0.615704 (strong importance)\n",
       "answered: 0.377730 (moderate importance)\n",
       "review_time: 0.195695 (moderate importance)\n",
       "day_type: 0.136589 (moderate importance)\n",
       "repeat_reviewer_encoded: -0.106571 (moderate importance)\n",
       "month_posted: 0.075609 (weak importance)\n",
       "time_of_day: -0.028693 (weak importance)\n",
       "local_hour: -0.016742 (weak importance)\n",
       "day_of_week_posted: -0.008972 (very weak importance)\n",
       "\n",
       "Selected Features:\n",
       "--------------------------------------------------\n",
       "Number of features selected: 9\n",
       "- verification\n",
       "- answered\n",
       "- review_time\n",
       "- day_type\n",
       "- repeat_reviewer_encoded\n",
       "- month_posted\n",
       "- time_of_day\n",
       "- local_hour\n",
       "- day_of_week_posted\n",
       "\n",
       "Recommendations:\n",
       "--------------------------------------------------\n",
       "\n",
       "Features with very weak importance:\n",
       "- day_of_week_posted</pre>"
      ],
      "text/plain": [
       "<IPython.core.display.HTML object>"
      ]
     },
     "metadata": {},
     "output_type": "display_data"
    }
   ],
   "source": [
    "from sklearn.linear_model import LassoCV\n",
    "from sklearn.preprocessing import StandardScaler\n",
    "\n",
    "def analyze_lasso_feature_selection():\n",
    "   \"\"\"\n",
    "   Perform Lasso feature selection with cross-validation\n",
    "   \"\"\"\n",
    "   # Get numeric features excluding the target\n",
    "   numeric_data = train_df.select_dtypes(include=['int64', 'float64'])\n",
    "   X = numeric_data.drop('rating', axis=1)\n",
    "   y = train_df['rating']\n",
    "   \n",
    "   # Scale the features\n",
    "   scaler = StandardScaler()\n",
    "   X_scaled = scaler.fit_transform(X)\n",
    "   \n",
    "   # Initialize and fit LassoCV\n",
    "   lasso = LassoCV(\n",
    "       cv=5,\n",
    "       random_state=42,\n",
    "       max_iter=1000\n",
    "   )\n",
    "   lasso.fit(X_scaled, y)\n",
    "   \n",
    "   # Get feature coefficients\n",
    "   feature_coef = dict(zip(X.columns, lasso.coef_))\n",
    "   \n",
    "   # Sort features by absolute coefficient values\n",
    "   sorted_features = sorted(feature_coef.items(), key=lambda x: abs(x[1]), reverse=True)\n",
    "   \n",
    "   # Prepare output\n",
    "   output = []\n",
    "   output.append(\"Lasso Feature Selection Analysis\")\n",
    "   output.append(\"=\" * 50)\n",
    "   \n",
    "   output.append(f\"\\nBest alpha: {lasso.alpha_:.6f}\")\n",
    "   \n",
    "   output.append(\"\\nFeature Coefficients (sorted by importance):\")\n",
    "   output.append(\"-\" * 50)\n",
    "   \n",
    "   # Categorize features by importance\n",
    "   for feature, coef in sorted_features:\n",
    "       if abs(coef) == 0:\n",
    "           importance = \"not important (eliminated)\"\n",
    "       elif abs(coef) < 0.01:\n",
    "           importance = \"very weak importance\"\n",
    "       elif abs(coef) < 0.1:\n",
    "           importance = \"weak importance\"\n",
    "       elif abs(coef) < 0.5:\n",
    "           importance = \"moderate importance\"\n",
    "       else:\n",
    "           importance = \"strong importance\"\n",
    "           \n",
    "       output.append(f\"{feature}: {coef:.6f} ({importance})\")\n",
    "   \n",
    "   # Selected features (non-zero coefficients)\n",
    "   selected_features = [feature for feature, coef in sorted_features if coef != 0]\n",
    "   \n",
    "   output.append(\"\\nSelected Features:\")\n",
    "   output.append(\"-\" * 50)\n",
    "   output.append(f\"Number of features selected: {len(selected_features)}\")\n",
    "   for feature in selected_features:\n",
    "       output.append(f\"- {feature}\")\n",
    "   \n",
    "   output.append(\"\\nRecommendations:\")\n",
    "   output.append(\"-\" * 50)\n",
    "   eliminated_features = [feature for feature, coef in sorted_features if coef == 0]\n",
    "   if eliminated_features:\n",
    "       output.append(\"Consider removing these features (zero coefficients):\")\n",
    "       for feature in eliminated_features:\n",
    "           output.append(f\"- {feature}\")\n",
    "   \n",
    "   weak_features = [feature for feature, coef in sorted_features \n",
    "                   if 0 < abs(coef) < 0.01]\n",
    "   if weak_features:\n",
    "       output.append(\"\\nFeatures with very weak importance:\")\n",
    "       for feature in weak_features:\n",
    "           output.append(f\"- {feature}\")\n",
    "   \n",
    "   return \"\\n\".join(output)\n",
    "\n",
    "# Run the analysis\n",
    "display(HTML(f\"<pre>{analyze_lasso_feature_selection()}</pre>\"))"
   ]
  },
  {
   "cell_type": "markdown",
   "metadata": {},
   "source": [
    "STAGE 12 - RANDOM FOREST IMPORTANCE"
   ]
  },
  {
   "cell_type": "markdown",
   "metadata": {},
   "source": [
    "STAGE 13 - LOGISTIC REGRESSION WITH RIB RATIO STUDY"
   ]
  },
  {
   "cell_type": "code",
   "execution_count": 67,
   "metadata": {},
   "outputs": [
    {
     "name": "stdout",
     "output_type": "stream",
     "text": [
      "Starting variable importance analysis...\n",
      "================================================================================\n"
     ]
    },
    {
     "data": {
      "text/html": [
       "<pre>Variable Importance Analysis: verification vs High/Low Rating\n",
       "============================================================\n",
       "\n",
       "Basic Statistics:\n",
       "Mean value for low ratings: 0.436\n",
       "Mean value for high ratings: 0.790\n",
       "Correlation coefficient: 0.364\n",
       "P-value: 0.000e+00\n",
       "\n",
       "Logistic Regression Results:\n",
       "Coefficient: 1.578\n",
       "Intercept: -0.613\n",
       "ROC AUC Score: 0.678\n",
       "\n",
       "Classification Report:\n",
       "              precision    recall  f1-score   support\n",
       "\n",
       "           0       0.65      0.56      0.60      5108\n",
       "           1       0.73      0.79      0.76      7437\n",
       "\n",
       "    accuracy                           0.70     12545\n",
       "   macro avg       0.69      0.68      0.68     12545\n",
       "weighted avg       0.70      0.70      0.70     12545\n",
       "\n",
       "\n",
       "Interpretation:\n",
       "- The relationship is moderate and positive\n",
       "- The relationship is statistically significant\n",
       "- As verification increases, the likelihood of a high rating\n",
       "  increases\n",
       "- The model has an ROC AUC of 0.678, indicating\n",
       "  fair predictive power\n",
       "\n",
       "Keep for model training: \n",
       "Yes</pre>"
      ],
      "text/plain": [
       "<IPython.core.display.HTML object>"
      ]
     },
     "metadata": {},
     "output_type": "display_data"
    },
    {
     "data": {
      "text/html": [
       "<hr>"
      ],
      "text/plain": [
       "<IPython.core.display.HTML object>"
      ]
     },
     "metadata": {},
     "output_type": "display_data"
    },
    {
     "data": {
      "text/html": [
       "<pre>Variable Importance Analysis: repeat_reviewer_encoded vs High/Low Rating\n",
       "============================================================\n",
       "\n",
       "Basic Statistics:\n",
       "Mean value for low ratings: 0.574\n",
       "Mean value for high ratings: 0.344\n",
       "Correlation coefficient: -0.228\n",
       "P-value: 0.000e+00\n",
       "\n",
       "Logistic Regression Results:\n",
       "Coefficient: -0.937\n",
       "Intercept: 0.800\n",
       "ROC AUC Score: 0.619\n",
       "\n",
       "Classification Report:\n",
       "              precision    recall  f1-score   support\n",
       "\n",
       "           0       0.54      0.58      0.56      5108\n",
       "           1       0.69      0.66      0.68      7437\n",
       "\n",
       "    accuracy                           0.63     12545\n",
       "   macro avg       0.62      0.62      0.62     12545\n",
       "weighted avg       0.63      0.63      0.63     12545\n",
       "\n",
       "\n",
       "Interpretation:\n",
       "- The relationship is weak and negative\n",
       "- The relationship is statistically significant\n",
       "- As repeat_reviewer_encoded increases, the likelihood of a high rating\n",
       "  decreases\n",
       "- The model has an ROC AUC of 0.619, indicating\n",
       "  fair predictive power\n",
       "\n",
       "Keep for model training: \n",
       "Yes</pre>"
      ],
      "text/plain": [
       "<IPython.core.display.HTML object>"
      ]
     },
     "metadata": {},
     "output_type": "display_data"
    },
    {
     "data": {
      "text/html": [
       "<hr>"
      ],
      "text/plain": [
       "<IPython.core.display.HTML object>"
      ]
     },
     "metadata": {},
     "output_type": "display_data"
    },
    {
     "data": {
      "text/html": [
       "<pre>Variable Importance Analysis: answered vs High/Low Rating\n",
       "============================================================\n",
       "\n",
       "Basic Statistics:\n",
       "Mean value for low ratings: 0.049\n",
       "Mean value for high ratings: 0.385\n",
       "Correlation coefficient: 0.382\n",
       "P-value: 0.000e+00\n",
       "\n",
       "Logistic Regression Results:\n",
       "Coefficient: 2.491\n",
       "Intercept: -0.066\n",
       "ROC AUC Score: 0.665\n",
       "\n",
       "Classification Report:\n",
       "              precision    recall  f1-score   support\n",
       "\n",
       "           0       0.51      0.95      0.67      5108\n",
       "           1       0.92      0.38      0.54      7437\n",
       "\n",
       "    accuracy                           0.61     12545\n",
       "   macro avg       0.72      0.66      0.60     12545\n",
       "weighted avg       0.75      0.61      0.59     12545\n",
       "\n",
       "\n",
       "Interpretation:\n",
       "- The relationship is moderate and positive\n",
       "- The relationship is statistically significant\n",
       "- As answered increases, the likelihood of a high rating\n",
       "  increases\n",
       "- The model has an ROC AUC of 0.665, indicating\n",
       "  fair predictive power\n",
       "\n",
       "Keep for model training: \n",
       "Yes</pre>"
      ],
      "text/plain": [
       "<IPython.core.display.HTML object>"
      ]
     },
     "metadata": {},
     "output_type": "display_data"
    },
    {
     "data": {
      "text/html": [
       "<hr>"
      ],
      "text/plain": [
       "<IPython.core.display.HTML object>"
      ]
     },
     "metadata": {},
     "output_type": "display_data"
    },
    {
     "data": {
      "text/html": [
       "<pre>Variable Importance Analysis: month_posted vs High/Low Rating\n",
       "============================================================\n",
       "\n",
       "Basic Statistics:\n",
       "Mean value for low ratings: 6.273\n",
       "Mean value for high ratings: 6.082\n",
       "Correlation coefficient: -0.026\n",
       "P-value: 1.334e-10\n",
       "\n",
       "Logistic Regression Results:\n",
       "Coefficient: -0.013\n",
       "Intercept: 0.454\n",
       "ROC AUC Score: 0.518\n",
       "\n",
       "Classification Report:\n",
       "              precision    recall  f1-score   support\n",
       "\n",
       "           0       0.00      0.00      0.00      5108\n",
       "           1       0.59      1.00      0.74      7437\n",
       "\n",
       "    accuracy                           0.59     12545\n",
       "   macro avg       0.30      0.50      0.37     12545\n",
       "weighted avg       0.35      0.59      0.44     12545\n",
       "\n",
       "\n",
       "Interpretation:\n",
       "- The relationship is negligible and negative\n",
       "- The relationship is statistically significant\n",
       "- As month_posted increases, the likelihood of a high rating\n",
       "  decreases\n",
       "- The model has an ROC AUC of 0.518, indicating\n",
       "  poor predictive power\n",
       "\n",
       "Keep for model training: \n",
       "Consider dropping</pre>"
      ],
      "text/plain": [
       "<IPython.core.display.HTML object>"
      ]
     },
     "metadata": {},
     "output_type": "display_data"
    },
    {
     "data": {
      "text/html": [
       "<hr>"
      ],
      "text/plain": [
       "<IPython.core.display.HTML object>"
      ]
     },
     "metadata": {},
     "output_type": "display_data"
    },
    {
     "data": {
      "text/html": [
       "<pre>Variable Importance Analysis: local_hour vs High/Low Rating\n",
       "============================================================\n",
       "\n",
       "Basic Statistics:\n",
       "Mean value for low ratings: 12.878\n",
       "Mean value for high ratings: 12.047\n",
       "Correlation coefficient: -0.083\n",
       "P-value: 2.952e-97\n",
       "\n",
       "Logistic Regression Results:\n",
       "Coefficient: -0.036\n",
       "Intercept: 0.818\n",
       "ROC AUC Score: 0.541\n",
       "\n",
       "Classification Report:\n",
       "              precision    recall  f1-score   support\n",
       "\n",
       "           0       0.55      0.02      0.03      5108\n",
       "           1       0.59      0.99      0.74      7437\n",
       "\n",
       "    accuracy                           0.59     12545\n",
       "   macro avg       0.57      0.50      0.39     12545\n",
       "weighted avg       0.58      0.59      0.45     12545\n",
       "\n",
       "\n",
       "Interpretation:\n",
       "- The relationship is negligible and negative\n",
       "- The relationship is statistically significant\n",
       "- As local_hour increases, the likelihood of a high rating\n",
       "  decreases\n",
       "- The model has an ROC AUC of 0.541, indicating\n",
       "  poor predictive power\n",
       "\n",
       "Keep for model training: \n",
       "Consider dropping</pre>"
      ],
      "text/plain": [
       "<IPython.core.display.HTML object>"
      ]
     },
     "metadata": {},
     "output_type": "display_data"
    },
    {
     "data": {
      "text/html": [
       "<hr>"
      ],
      "text/plain": [
       "<IPython.core.display.HTML object>"
      ]
     },
     "metadata": {},
     "output_type": "display_data"
    },
    {
     "data": {
      "text/html": [
       "<pre>Variable Importance Analysis: time_of_day vs High/Low Rating\n",
       "============================================================\n",
       "\n",
       "Basic Statistics:\n",
       "Mean value for low ratings: 2.231\n",
       "Mean value for high ratings: 2.297\n",
       "Correlation coefficient: 0.033\n",
       "P-value: 9.189e-17\n",
       "\n",
       "Logistic Regression Results:\n",
       "Coefficient: 0.062\n",
       "Intercept: 0.230\n",
       "ROC AUC Score: 0.530\n",
       "\n",
       "Classification Report:\n",
       "              precision    recall  f1-score   support\n",
       "\n",
       "           0       0.00      0.00      0.00      5108\n",
       "           1       0.59      1.00      0.74      7437\n",
       "\n",
       "    accuracy                           0.59     12545\n",
       "   macro avg       0.30      0.50      0.37     12545\n",
       "weighted avg       0.35      0.59      0.44     12545\n",
       "\n",
       "\n",
       "Interpretation:\n",
       "- The relationship is negligible and positive\n",
       "- The relationship is statistically significant\n",
       "- As time_of_day increases, the likelihood of a high rating\n",
       "  increases\n",
       "- The model has an ROC AUC of 0.530, indicating\n",
       "  poor predictive power\n",
       "\n",
       "Keep for model training: \n",
       "Consider dropping</pre>"
      ],
      "text/plain": [
       "<IPython.core.display.HTML object>"
      ]
     },
     "metadata": {},
     "output_type": "display_data"
    },
    {
     "data": {
      "text/html": [
       "<hr>"
      ],
      "text/plain": [
       "<IPython.core.display.HTML object>"
      ]
     },
     "metadata": {},
     "output_type": "display_data"
    },
    {
     "data": {
      "text/html": [
       "<pre>Variable Importance Analysis: day_of_week_posted vs High/Low Rating\n",
       "============================================================\n",
       "\n",
       "Basic Statistics:\n",
       "Mean value for low ratings: 2.860\n",
       "Mean value for high ratings: 2.438\n",
       "Correlation coefficient: -0.112\n",
       "P-value: 5.976e-175\n",
       "\n",
       "Logistic Regression Results:\n",
       "Coefficient: -0.126\n",
       "Intercept: 0.704\n",
       "ROC AUC Score: 0.557\n",
       "\n",
       "Classification Report:\n",
       "              precision    recall  f1-score   support\n",
       "\n",
       "           0       0.55      0.12      0.20      5108\n",
       "           1       0.61      0.93      0.74      7437\n",
       "\n",
       "    accuracy                           0.60     12545\n",
       "   macro avg       0.58      0.53      0.47     12545\n",
       "weighted avg       0.58      0.60      0.52     12545\n",
       "\n",
       "\n",
       "Interpretation:\n",
       "- The relationship is weak and negative\n",
       "- The relationship is statistically significant\n",
       "- As day_of_week_posted increases, the likelihood of a high rating\n",
       "  decreases\n",
       "- The model has an ROC AUC of 0.557, indicating\n",
       "  poor predictive power\n",
       "\n",
       "Keep for model training: \n",
       "Consider dropping</pre>"
      ],
      "text/plain": [
       "<IPython.core.display.HTML object>"
      ]
     },
     "metadata": {},
     "output_type": "display_data"
    },
    {
     "data": {
      "text/html": [
       "<hr>"
      ],
      "text/plain": [
       "<IPython.core.display.HTML object>"
      ]
     },
     "metadata": {},
     "output_type": "display_data"
    },
    {
     "data": {
      "text/html": [
       "<pre>Variable Importance Analysis: day_type vs High/Low Rating\n",
       "============================================================\n",
       "\n",
       "Basic Statistics:\n",
       "Mean value for low ratings: 0.749\n",
       "Mean value for high ratings: 0.862\n",
       "Correlation coefficient: 0.143\n",
       "P-value: 1.252e-283\n",
       "\n",
       "Logistic Regression Results:\n",
       "Coefficient: 0.748\n",
       "Intercept: -0.234\n",
       "ROC AUC Score: 0.554\n",
       "\n",
       "Classification Report:\n",
       "              precision    recall  f1-score   support\n",
       "\n",
       "           0       0.55      0.25      0.34      5108\n",
       "           1       0.62      0.86      0.72      7437\n",
       "\n",
       "    accuracy                           0.61     12545\n",
       "   macro avg       0.59      0.55      0.53     12545\n",
       "weighted avg       0.59      0.61      0.57     12545\n",
       "\n",
       "\n",
       "Interpretation:\n",
       "- The relationship is weak and positive\n",
       "- The relationship is statistically significant\n",
       "- As day_type increases, the likelihood of a high rating\n",
       "  increases\n",
       "- The model has an ROC AUC of 0.554, indicating\n",
       "  poor predictive power\n",
       "\n",
       "Keep for model training: \n",
       "Consider dropping</pre>"
      ],
      "text/plain": [
       "<IPython.core.display.HTML object>"
      ]
     },
     "metadata": {},
     "output_type": "display_data"
    },
    {
     "data": {
      "text/html": [
       "<hr>"
      ],
      "text/plain": [
       "<IPython.core.display.HTML object>"
      ]
     },
     "metadata": {},
     "output_type": "display_data"
    },
    {
     "data": {
      "text/html": [
       "<pre>Variable Importance Analysis: review_time vs High/Low Rating\n",
       "============================================================\n",
       "\n",
       "Basic Statistics:\n",
       "Mean value for low ratings: 0.732\n",
       "Mean value for high ratings: 0.849\n",
       "Correlation coefficient: 0.144\n",
       "P-value: 7.175e-287\n",
       "\n",
       "Logistic Regression Results:\n",
       "Coefficient: 0.712\n",
       "Intercept: -0.195\n",
       "ROC AUC Score: 0.562\n",
       "\n",
       "Classification Report:\n",
       "              precision    recall  f1-score   support\n",
       "\n",
       "           0       0.56      0.27      0.37      5108\n",
       "           1       0.63      0.85      0.72      7437\n",
       "\n",
       "    accuracy                           0.61     12545\n",
       "   macro avg       0.59      0.56      0.55     12545\n",
       "weighted avg       0.60      0.61      0.58     12545\n",
       "\n",
       "\n",
       "Interpretation:\n",
       "- The relationship is weak and positive\n",
       "- The relationship is statistically significant\n",
       "- As review_time increases, the likelihood of a high rating\n",
       "  increases\n",
       "- The model has an ROC AUC of 0.562, indicating\n",
       "  poor predictive power\n",
       "\n",
       "Keep for model training: \n",
       "Consider dropping</pre>"
      ],
      "text/plain": [
       "<IPython.core.display.HTML object>"
      ]
     },
     "metadata": {},
     "output_type": "display_data"
    },
    {
     "data": {
      "text/html": [
       "<hr>"
      ],
      "text/plain": [
       "<IPython.core.display.HTML object>"
      ]
     },
     "metadata": {},
     "output_type": "display_data"
    }
   ],
   "source": [
    "#Logistic regression with rib ratio study\n",
    "\n",
    "\n",
    "def analyze_variable_importance(column_name):\n",
    "    if column_name not in train_df.columns:\n",
    "        return f\"Error: Column '{column_name}' not found in dataframe\"\n",
    "    \n",
    "    y = (train_df['rating'] >= 4).astype(int)\n",
    "    \n",
    "    X = train_df[column_name]\n",
    "    \n",
    "    if not np.issubdtype(X.dtype, np.number):\n",
    "        return f\"Error: Column '{column_name}' is not numeric. Please encode categorical variables first.\"\n",
    "    \n",
    "    X = X.values.reshape(-1, 1)\n",
    "    \n",
    "    X_train, X_test, y_train, y_test = train_test_split(X, y, test_size=0.2, random_state=42)\n",
    "    \n",
    "    # Fit logistic regression\n",
    "    model = LogisticRegression(random_state=42)\n",
    "    model.fit(X_train, y_train)\n",
    "    \n",
    "    # Make predictions\n",
    "    y_pred_proba = model.predict_proba(X_test)[:, 1]\n",
    "    y_pred = model.predict(X_test)\n",
    "    \n",
    "    # Calculate ROC curve\n",
    "    fpr, tpr, _ = roc_curve(y_test, y_pred_proba)\n",
    "    roc_auc = auc(fpr, tpr)\n",
    "    \n",
    "    # Calculate correlation (point biserial for binary vs continuous)\n",
    "    correlation, p_value = stats.pointbiserialr(y, X.ravel())\n",
    "    \n",
    "    output = []\n",
    "    output.append(f\"Variable Importance Analysis: {column_name} vs High/Low Rating\")\n",
    "    output.append(\"=\" * 60)\n",
    "    \n",
    "    # Basic statistics\n",
    "    output.append(\"\\nBasic Statistics:\")\n",
    "    output.append(f\"Mean value for low ratings: {X[y==0].mean():.3f}\")\n",
    "    output.append(f\"Mean value for high ratings: {X[y==1].mean():.3f}\")\n",
    "    output.append(f\"Correlation coefficient: {correlation:.3f}\")\n",
    "    output.append(f\"P-value: {p_value:.3e}\")\n",
    "    \n",
    "    # Logistic Regression Results\n",
    "    output.append(\"\\nLogistic Regression Results:\")\n",
    "    output.append(f\"Coefficient: {model.coef_[0][0]:.3f}\")\n",
    "    output.append(f\"Intercept: {model.intercept_[0]:.3f}\")\n",
    "    output.append(f\"ROC AUC Score: {roc_auc:.3f}\")\n",
    "    \n",
    "    # Classification Report\n",
    "    output.append(\"\\nClassification Report:\")\n",
    "    output.append(classification_report(y_test, y_pred))\n",
    "    \n",
    "    # Effect interpretation\n",
    "    output.append(\"\\nInterpretation:\")\n",
    "    if abs(correlation) < 0.1:\n",
    "        strength = \"negligible\"\n",
    "    elif abs(correlation) < 0.3:\n",
    "        strength = \"weak\"\n",
    "    elif abs(correlation) < 0.5:\n",
    "        strength = \"moderate\"\n",
    "    else:\n",
    "        strength = \"strong\"\n",
    "    \n",
    "    direction = \"positive\" if correlation > 0 else \"negative\"\n",
    "    \n",
    "    output.append(f\"- The relationship is {strength} and {direction}\")\n",
    "    if p_value < 0.05:\n",
    "        output.append(\"- The relationship is statistically significant\")\n",
    "        output.append(f\"- As {column_name} increases, the likelihood of a high rating\")\n",
    "        output.append(f\"  {'increases' if correlation > 0 else 'decreases'}\")\n",
    "    else:\n",
    "        output.append(\"- The relationship is not statistically significant\")\n",
    "    \n",
    "    output.append(f\"- The model has an ROC AUC of {roc_auc:.3f}, indicating\")\n",
    "    if roc_auc < 0.6:\n",
    "        output.append(\"  poor predictive power\")\n",
    "    elif roc_auc < 0.7:\n",
    "        output.append(\"  fair predictive power\")\n",
    "    elif roc_auc < 0.8:\n",
    "        output.append(\"  good predictive power\")\n",
    "    else:\n",
    "        output.append(\"  excellent predictive power\")\n",
    "    \n",
    "    output.append(\"\\nKeep for model training: \")\n",
    "    output.append(\"Yes\" if (p_value < 0.05 and roc_auc > 0.6) else \"Consider dropping\")\n",
    "    \n",
    "    return \"\\n\".join(output)\n",
    "\n",
    "# Get numeric columns excluding rating\n",
    "numeric_columns = train_df.select_dtypes(include=['int64', 'float64']).columns\n",
    "numeric_columns = [col for col in numeric_columns if col != 'rating']\n",
    "\n",
    "print(\"Starting variable importance analysis...\")\n",
    "print(\"=\" * 80)\n",
    "\n",
    "# Loop through each numeric column\n",
    "for column in numeric_columns:\n",
    "    display(HTML(f\"<pre>{analyze_variable_importance(column)}</pre>\"))\n",
    "    display(HTML(\"<hr>\"))"
   ]
  },
  {
   "cell_type": "markdown",
   "metadata": {},
   "source": [
    "STAGE 14 - VALIDATE AND COMPARE METHODS"
   ]
  },
  {
   "cell_type": "markdown",
   "metadata": {},
   "source": [
    "STAGE 15 - DIMENSION REDUCTION"
   ]
  },
  {
   "cell_type": "markdown",
   "metadata": {},
   "source": [
    "STAGE 16 - UPDATING TRAIN/TEST SPLIT"
   ]
  },
  {
   "cell_type": "code",
   "execution_count": 68,
   "metadata": {},
   "outputs": [
    {
     "name": "stdout",
     "output_type": "stream",
     "text": [
      "Index(['rating', 'location', 'username', 'verification',\n",
      "       'repeat_reviewer_encoded', 'company', 'subject', 'text', 'answer',\n",
      "       'answered', 'local_date_posted', 'month_posted', 'local_hour',\n",
      "       'time_of_day', 'day_of_week_posted', 'day_type', 'review_time'],\n",
      "      dtype='object')\n",
      "<class 'pandas.core.frame.DataFrame'>\n",
      "RangeIndex: 62723 entries, 0 to 62722\n",
      "Data columns (total 17 columns):\n",
      " #   Column                   Non-Null Count  Dtype         \n",
      "---  ------                   --------------  -----         \n",
      " 0   rating                   62723 non-null  int64         \n",
      " 1   location                 62723 non-null  object        \n",
      " 2   username                 62720 non-null  object        \n",
      " 3   verification             62723 non-null  int64         \n",
      " 4   repeat_reviewer_encoded  62723 non-null  int64         \n",
      " 5   company                  62723 non-null  object        \n",
      " 6   subject                  62723 non-null  object        \n",
      " 7   text                     62723 non-null  object        \n",
      " 8   answer                   62723 non-null  object        \n",
      " 9   answered                 62723 non-null  int64         \n",
      " 10  local_date_posted        62723 non-null  datetime64[ns]\n",
      " 11  month_posted             62723 non-null  int64         \n",
      " 12  local_hour               62723 non-null  int64         \n",
      " 13  time_of_day              62723 non-null  int64         \n",
      " 14  day_of_week_posted       62723 non-null  int64         \n",
      " 15  day_type                 62723 non-null  int64         \n",
      " 16  review_time              62723 non-null  int64         \n",
      "dtypes: datetime64[ns](1), int64(10), object(6)\n",
      "memory usage: 8.1+ MB\n",
      "None\n",
      "The Trustpilot training dataset has  17 columns\n",
      "The Trustpilot training dataset has  62723 rows\n"
     ]
    },
    {
     "data": {
      "text/html": [
       "<div>\n",
       "<style scoped>\n",
       "    .dataframe tbody tr th:only-of-type {\n",
       "        vertical-align: middle;\n",
       "    }\n",
       "\n",
       "    .dataframe tbody tr th {\n",
       "        vertical-align: top;\n",
       "    }\n",
       "\n",
       "    .dataframe thead th {\n",
       "        text-align: right;\n",
       "    }\n",
       "</style>\n",
       "<table border=\"1\" class=\"dataframe\">\n",
       "  <thead>\n",
       "    <tr style=\"text-align: right;\">\n",
       "      <th></th>\n",
       "      <th>rating</th>\n",
       "      <th>location</th>\n",
       "      <th>username</th>\n",
       "      <th>verification</th>\n",
       "      <th>repeat_reviewer_encoded</th>\n",
       "      <th>company</th>\n",
       "      <th>subject</th>\n",
       "      <th>text</th>\n",
       "      <th>answer</th>\n",
       "      <th>answered</th>\n",
       "      <th>local_date_posted</th>\n",
       "      <th>month_posted</th>\n",
       "      <th>local_hour</th>\n",
       "      <th>time_of_day</th>\n",
       "      <th>day_of_week_posted</th>\n",
       "      <th>day_type</th>\n",
       "      <th>review_time</th>\n",
       "    </tr>\n",
       "  </thead>\n",
       "  <tbody>\n",
       "    <tr>\n",
       "      <th>0</th>\n",
       "      <td>5</td>\n",
       "      <td>US</td>\n",
       "      <td>Mark Bock</td>\n",
       "      <td>1</td>\n",
       "      <td>0</td>\n",
       "      <td>Flashbay</td>\n",
       "      <td>Great work</td>\n",
       "      <td>Great experience all around working with Flashbay. I was very impressed from the start -- the sample box they send to display the various styles of flash drives is ingeniously designed, and having actual samples of the styles helped a lot. My initial thought was that we would just go with the least expensive option, but everyone at my company liked one of the higher end options so much after handling it that we ended up going with that. \\r Our account manager, Samantha, was very easy to work with and quickly answered all questions, and once our management gave the green light to place the order, she got it into production immediately, and the finished drives arrived a day ahead of schedule. And the end product looks outstanding. All of us here are very pleased.\\r Consider me very impressed. I wish all vendors were this pleasant to work with.</td>\n",
       "      <td>Hi Mark,We are glad you found the sample pack useful in making your selection. It is also great to hear that Samantha was able to answer all of your questions, and you are happy with the final product.We look forward to working with you next time!-Flashbay Management</td>\n",
       "      <td>1</td>\n",
       "      <td>2016-02-09</td>\n",
       "      <td>2</td>\n",
       "      <td>11</td>\n",
       "      <td>3</td>\n",
       "      <td>1</td>\n",
       "      <td>1</td>\n",
       "      <td>1</td>\n",
       "    </tr>\n",
       "    <tr>\n",
       "      <th>1</th>\n",
       "      <td>5</td>\n",
       "      <td>US</td>\n",
       "      <td>Walt</td>\n",
       "      <td>1</td>\n",
       "      <td>1</td>\n",
       "      <td>Quicken</td>\n",
       "      <td>Works as it should.</td>\n",
       "      <td>Works as it should.</td>\n",
       "      <td>0</td>\n",
       "      <td>0</td>\n",
       "      <td>2024-04-03</td>\n",
       "      <td>4</td>\n",
       "      <td>8</td>\n",
       "      <td>1</td>\n",
       "      <td>2</td>\n",
       "      <td>1</td>\n",
       "      <td>1</td>\n",
       "    </tr>\n",
       "    <tr>\n",
       "      <th>2</th>\n",
       "      <td>3</td>\n",
       "      <td>US</td>\n",
       "      <td>David Banoff</td>\n",
       "      <td>1</td>\n",
       "      <td>0</td>\n",
       "      <td>Quicken</td>\n",
       "      <td>Earlier versions of Quicken saved the…</td>\n",
       "      <td>Earlier versions of Quicken saved the most recent values for entries and presented them the next time (e.g. categories. amounts). Quicken no longer does this, but it still presents the previous entries when a payee, for example, created under the older version is used again. This creates more editing than necessary.</td>\n",
       "      <td>0</td>\n",
       "      <td>0</td>\n",
       "      <td>2023-01-16</td>\n",
       "      <td>1</td>\n",
       "      <td>13</td>\n",
       "      <td>3</td>\n",
       "      <td>0</td>\n",
       "      <td>1</td>\n",
       "      <td>0</td>\n",
       "    </tr>\n",
       "    <tr>\n",
       "      <th>3</th>\n",
       "      <td>5</td>\n",
       "      <td>US</td>\n",
       "      <td>Sheri - March Of Dimes</td>\n",
       "      <td>1</td>\n",
       "      <td>0</td>\n",
       "      <td>Flashbay</td>\n",
       "      <td>Great Customer Service, Super Fast Turn</td>\n",
       "      <td>Extremely communicative sales rep (Mike Dods) - responsive and helpful through the entire order process.  Product arrived quickly and exactly as ordered.  We will definitely use Flashbay again without hesitation should the need arise.</td>\n",
       "      <td>Hi Sheri,Thank you for your kind words.It’s great to hear that Mike was so helpful throughout the ordering process. I will make sure to pass this along to him.We appreciate your business, and look forward to working with you next time! -Flashbay Management</td>\n",
       "      <td>1</td>\n",
       "      <td>2015-05-01</td>\n",
       "      <td>5</td>\n",
       "      <td>16</td>\n",
       "      <td>3</td>\n",
       "      <td>4</td>\n",
       "      <td>1</td>\n",
       "      <td>1</td>\n",
       "    </tr>\n",
       "    <tr>\n",
       "      <th>4</th>\n",
       "      <td>5</td>\n",
       "      <td>NL</td>\n",
       "      <td>Pascal</td>\n",
       "      <td>1</td>\n",
       "      <td>1</td>\n",
       "      <td>SteelSeries</td>\n",
       "      <td>Great product</td>\n",
       "      <td>Great product, great after sales!</td>\n",
       "      <td>0</td>\n",
       "      <td>0</td>\n",
       "      <td>2021-12-03</td>\n",
       "      <td>12</td>\n",
       "      <td>20</td>\n",
       "      <td>2</td>\n",
       "      <td>4</td>\n",
       "      <td>1</td>\n",
       "      <td>1</td>\n",
       "    </tr>\n",
       "  </tbody>\n",
       "</table>\n",
       "</div>"
      ],
      "text/plain": [
       "   rating location                username  verification  repeat_reviewer_encoded      company                                  subject                                                                                                                                                                                                                                                                                                                                                                                                                                                                                                                                                                                                                                                                                                                                                                                                                                                                                   text                                                                                                                                                                                                                                                                       answer  answered local_date_posted  month_posted  local_hour  time_of_day  day_of_week_posted  day_type  review_time\n",
       "0       5       US               Mark Bock             1                        0     Flashbay                               Great work  Great experience all around working with Flashbay. I was very impressed from the start -- the sample box they send to display the various styles of flash drives is ingeniously designed, and having actual samples of the styles helped a lot. My initial thought was that we would just go with the least expensive option, but everyone at my company liked one of the higher end options so much after handling it that we ended up going with that. \\r Our account manager, Samantha, was very easy to work with and quickly answered all questions, and once our management gave the green light to place the order, she got it into production immediately, and the finished drives arrived a day ahead of schedule. And the end product looks outstanding. All of us here are very pleased.\\r Consider me very impressed. I wish all vendors were this pleasant to work with.  Hi Mark,We are glad you found the sample pack useful in making your selection. It is also great to hear that Samantha was able to answer all of your questions, and you are happy with the final product.We look forward to working with you next time!-Flashbay Management         1        2016-02-09             2          11            3                   1         1            1\n",
       "1       5       US                    Walt             1                        1      Quicken                      Works as it should.                                                                                                                                                                                                                                                                                                                                                                                                                                                                                                                                                                                                                                                                                                                                                                                                                                                                    Works as it should.                                                                                                                                                                                                                                                                            0         0        2024-04-03             4           8            1                   2         1            1\n",
       "2       3       US            David Banoff             1                        0      Quicken   Earlier versions of Quicken saved the…                                                                                                                                                                                                                                                                                                                                                                                                                                                                                                                                                          Earlier versions of Quicken saved the most recent values for entries and presented them the next time (e.g. categories. amounts). Quicken no longer does this, but it still presents the previous entries when a payee, for example, created under the older version is used again. This creates more editing than necessary.                                                                                                                                                                                                                                                                            0         0        2023-01-16             1          13            3                   0         1            0\n",
       "3       5       US  Sheri - March Of Dimes             1                        0     Flashbay  Great Customer Service, Super Fast Turn                                                                                                                                                                                                                                                                                                                                                                                                                                                                                                                                                                                                                                             Extremely communicative sales rep (Mike Dods) - responsive and helpful through the entire order process.  Product arrived quickly and exactly as ordered.  We will definitely use Flashbay again without hesitation should the need arise.             Hi Sheri,Thank you for your kind words.It’s great to hear that Mike was so helpful throughout the ordering process. I will make sure to pass this along to him.We appreciate your business, and look forward to working with you next time! -Flashbay Management         1        2015-05-01             5          16            3                   4         1            1\n",
       "4       5       NL                  Pascal             1                        1  SteelSeries                            Great product                                                                                                                                                                                                                                                                                                                                                                                                                                                                                                                                                                                                                                                                                                                                                                                                                                                      Great product, great after sales!                                                                                                                                                                                                                                                                            0         0        2021-12-03            12          20            2                   4         1            1"
      ]
     },
     "metadata": {},
     "output_type": "display_data"
    }
   ],
   "source": [
    "#Inspecting final output \n",
    "\n",
    "print(train_df.columns)\n",
    "print(train_df.info())\n",
    "print(\"The Trustpilot training dataset has \", train_df.shape[1], \"columns\")\n",
    "print(\"The Trustpilot training dataset has \", train_df.shape[0], \"rows\")\n",
    "display(train_df.head())"
   ]
  },
  {
   "cell_type": "code",
   "execution_count": 69,
   "metadata": {},
   "outputs": [
    {
     "ename": "NameError",
     "evalue": "name 'df_trustpilot' is not defined",
     "output_type": "error",
     "traceback": [
      "\u001b[0;31m---------------------------------------------------------------------------\u001b[0m",
      "\u001b[0;31mNameError\u001b[0m                                 Traceback (most recent call last)",
      "Cell \u001b[0;32mIn[69], line 5\u001b[0m\n\u001b[1;32m      2\u001b[0m os\u001b[38;5;241m.\u001b[39mmakedirs(\u001b[38;5;124m'\u001b[39m\u001b[38;5;124mdata\u001b[39m\u001b[38;5;124m'\u001b[39m, exist_ok\u001b[38;5;241m=\u001b[39m\u001b[38;5;28;01mTrue\u001b[39;00m)\n\u001b[1;32m      4\u001b[0m csv_path \u001b[38;5;241m=\u001b[39m \u001b[38;5;124m'\u001b[39m\u001b[38;5;124mdata/data_trustpilot_4.csv\u001b[39m\u001b[38;5;124m'\u001b[39m\n\u001b[0;32m----> 5\u001b[0m \u001b[43mdf_trustpilot\u001b[49m\u001b[38;5;241m.\u001b[39mto_csv(csv_path, index\u001b[38;5;241m=\u001b[39m\u001b[38;5;28;01mFalse\u001b[39;00m)\n\u001b[1;32m      6\u001b[0m \u001b[38;5;28mprint\u001b[39m(\u001b[38;5;124mf\u001b[39m\u001b[38;5;124m\"\u001b[39m\u001b[38;5;124mFull DataFrame exported to \u001b[39m\u001b[38;5;132;01m{\u001b[39;00mcsv_path\u001b[38;5;132;01m}\u001b[39;00m\u001b[38;5;124m\"\u001b[39m)\n\u001b[1;32m      8\u001b[0m train_path \u001b[38;5;241m=\u001b[39m \u001b[38;5;124m'\u001b[39m\u001b[38;5;124mdata/train_trustpilot_4.csv\u001b[39m\u001b[38;5;124m'\u001b[39m\n",
      "\u001b[0;31mNameError\u001b[0m: name 'df_trustpilot' is not defined"
     ]
    }
   ],
   "source": [
    "import os\n",
    "os.makedirs('data', exist_ok=True)\n",
    "\n",
    "csv_path = 'data/data_trustpilot_4.csv'\n",
    "#df_trustpilot.to_csv(csv_path, index=False)\n",
    "print(f\"Full DataFrame exported to {csv_path}\")\n",
    "\n",
    "train_path = 'data/train_trustpilot_4.csv'\n",
    "#test_path = 'data/test_trustpilot_4.csv'\n",
    "\n",
    "#train_df.to_csv(train_path, index=False)\n",
    "#test_df.to_csv(test_path, index=False)\n",
    "\n",
    "print(f\"Training set exported to {train_path}\")\n",
    "print(f\"Test set exported to {test_path}\")"
   ]
  }
 ],
 "metadata": {
  "kernelspec": {
   "display_name": "Python 3",
   "language": "python",
   "name": "python3"
  },
  "language_info": {
   "codemirror_mode": {
    "name": "ipython",
    "version": 3
   },
   "file_extension": ".py",
   "mimetype": "text/x-python",
   "name": "python",
   "nbconvert_exporter": "python",
   "pygments_lexer": "ipython3",
   "version": "3.12.2"
  }
 },
 "nbformat": 4,
 "nbformat_minor": 2
}
