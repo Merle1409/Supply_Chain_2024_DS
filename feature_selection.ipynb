{
 "cells": [
  {
   "cell_type": "code",
   "execution_count": 237,
   "metadata": {},
   "outputs": [],
   "source": [
    "%matplotlib inline\n",
    "import seaborn as sns\n",
    "import matplotlib.pyplot as plt\n",
    "import numpy as np\n",
    "import pandas as pd\n",
    "import statsmodels.api as sm\n",
    "from scipy.stats import pearsonr, spearmanr\n",
    "from scipy import stats\n",
    "from IPython.display import display, HTML\n",
    "from sklearn.linear_model import LogisticRegression\n",
    "from sklearn.metrics import roc_curve, auc, classification_report\n",
    "from sklearn.model_selection import train_test_split\n",
    "from datetime import datetime\n",
    "from statsmodels.formula.api import ols\n",
    "from statsmodels.stats.api import anova_lm\n",
    "from statsmodels.stats.outliers_influence import variance_inflation_factor\n",
    "from sklearn.feature_selection import mutual_info_regression\n",
    "from sklearn.feature_selection import VarianceThreshold\n",
    "from sklearn.preprocessing import LabelEncoder\n",
    "\n",
    "pd.set_option('display.max_rows', None)\n",
    "pd.set_option('display.max_columns', None)\n",
    "pd.set_option('display.width', None)\n",
    "pd.set_option('display.max_colwidth', None)\n",
    "pd.set_option('display.expand_frame_repr', False)\n",
    "pd.set_option('display.precision', 3)\n",
    "import warnings\n",
    "warnings.filterwarnings('ignore')\n",
    "\n"
   ]
  },
  {
   "cell_type": "code",
   "execution_count": 238,
   "metadata": {},
   "outputs": [
    {
     "data": {
      "text/html": [
       "<div>\n",
       "<style scoped>\n",
       "    .dataframe tbody tr th:only-of-type {\n",
       "        vertical-align: middle;\n",
       "    }\n",
       "\n",
       "    .dataframe tbody tr th {\n",
       "        vertical-align: top;\n",
       "    }\n",
       "\n",
       "    .dataframe thead th {\n",
       "        text-align: right;\n",
       "    }\n",
       "</style>\n",
       "<table border=\"1\" class=\"dataframe\">\n",
       "  <thead>\n",
       "    <tr style=\"text-align: right;\">\n",
       "      <th></th>\n",
       "      <th>rating</th>\n",
       "      <th>location</th>\n",
       "      <th>username</th>\n",
       "      <th>verification</th>\n",
       "      <th>repeat_reviewer_encoded</th>\n",
       "      <th>company</th>\n",
       "      <th>subject</th>\n",
       "      <th>text</th>\n",
       "      <th>answer</th>\n",
       "      <th>answered</th>\n",
       "      <th>local_date_posted</th>\n",
       "      <th>month_posted</th>\n",
       "      <th>local_hour</th>\n",
       "      <th>time_of_day</th>\n",
       "      <th>day_of_week_posted</th>\n",
       "      <th>day_type</th>\n",
       "      <th>review_time</th>\n",
       "    </tr>\n",
       "  </thead>\n",
       "  <tbody>\n",
       "    <tr>\n",
       "      <th>0</th>\n",
       "      <td>5</td>\n",
       "      <td>US</td>\n",
       "      <td>Mark Bock</td>\n",
       "      <td>1</td>\n",
       "      <td>0</td>\n",
       "      <td>Flashbay</td>\n",
       "      <td>Great work</td>\n",
       "      <td>Great experience all around working with Flashbay. I was very impressed from the start -- the sample box they send to display the various styles of flash drives is ingeniously designed, and having actual samples of the styles helped a lot. My initial thought was that we would just go with the least expensive option, but everyone at my company liked one of the higher end options so much after handling it that we ended up going with that. \\r Our account manager, Samantha, was very easy to work with and quickly answered all questions, and once our management gave the green light to place the order, she got it into production immediately, and the finished drives arrived a day ahead of schedule. And the end product looks outstanding. All of us here are very pleased.\\r Consider me very impressed. I wish all vendors were this pleasant to work with.</td>\n",
       "      <td>Hi Mark,We are glad you found the sample pack useful in making your selection. It is also great to hear that Samantha was able to answer all of your questions, and you are happy with the final product.We look forward to working with you next time!-Flashbay Management</td>\n",
       "      <td>1</td>\n",
       "      <td>2016-02-09</td>\n",
       "      <td>2</td>\n",
       "      <td>11</td>\n",
       "      <td>3</td>\n",
       "      <td>1</td>\n",
       "      <td>1</td>\n",
       "      <td>1</td>\n",
       "    </tr>\n",
       "    <tr>\n",
       "      <th>1</th>\n",
       "      <td>5</td>\n",
       "      <td>US</td>\n",
       "      <td>Walt</td>\n",
       "      <td>1</td>\n",
       "      <td>1</td>\n",
       "      <td>Quicken</td>\n",
       "      <td>Works as it should.</td>\n",
       "      <td>Works as it should.</td>\n",
       "      <td>0</td>\n",
       "      <td>0</td>\n",
       "      <td>2024-04-03</td>\n",
       "      <td>4</td>\n",
       "      <td>8</td>\n",
       "      <td>1</td>\n",
       "      <td>2</td>\n",
       "      <td>1</td>\n",
       "      <td>1</td>\n",
       "    </tr>\n",
       "    <tr>\n",
       "      <th>2</th>\n",
       "      <td>3</td>\n",
       "      <td>US</td>\n",
       "      <td>David Banoff</td>\n",
       "      <td>1</td>\n",
       "      <td>0</td>\n",
       "      <td>Quicken</td>\n",
       "      <td>Earlier versions of Quicken saved the…</td>\n",
       "      <td>Earlier versions of Quicken saved the most recent values for entries and presented them the next time (e.g. categories. amounts). Quicken no longer does this, but it still presents the previous entries when a payee, for example, created under the older version is used again. This creates more editing than necessary.</td>\n",
       "      <td>0</td>\n",
       "      <td>0</td>\n",
       "      <td>2023-01-16</td>\n",
       "      <td>1</td>\n",
       "      <td>13</td>\n",
       "      <td>3</td>\n",
       "      <td>0</td>\n",
       "      <td>1</td>\n",
       "      <td>0</td>\n",
       "    </tr>\n",
       "    <tr>\n",
       "      <th>3</th>\n",
       "      <td>5</td>\n",
       "      <td>US</td>\n",
       "      <td>Sheri - March Of Dimes</td>\n",
       "      <td>1</td>\n",
       "      <td>0</td>\n",
       "      <td>Flashbay</td>\n",
       "      <td>Great Customer Service, Super Fast Turn</td>\n",
       "      <td>Extremely communicative sales rep (Mike Dods) - responsive and helpful through the entire order process.  Product arrived quickly and exactly as ordered.  We will definitely use Flashbay again without hesitation should the need arise.</td>\n",
       "      <td>Hi Sheri,Thank you for your kind words.It’s great to hear that Mike was so helpful throughout the ordering process. I will make sure to pass this along to him.We appreciate your business, and look forward to working with you next time! -Flashbay Management</td>\n",
       "      <td>1</td>\n",
       "      <td>2015-05-01</td>\n",
       "      <td>5</td>\n",
       "      <td>16</td>\n",
       "      <td>3</td>\n",
       "      <td>4</td>\n",
       "      <td>1</td>\n",
       "      <td>1</td>\n",
       "    </tr>\n",
       "    <tr>\n",
       "      <th>4</th>\n",
       "      <td>5</td>\n",
       "      <td>NL</td>\n",
       "      <td>Pascal</td>\n",
       "      <td>1</td>\n",
       "      <td>1</td>\n",
       "      <td>SteelSeries</td>\n",
       "      <td>Great product</td>\n",
       "      <td>Great product, great after sales!</td>\n",
       "      <td>0</td>\n",
       "      <td>0</td>\n",
       "      <td>2021-12-03</td>\n",
       "      <td>12</td>\n",
       "      <td>20</td>\n",
       "      <td>2</td>\n",
       "      <td>4</td>\n",
       "      <td>1</td>\n",
       "      <td>1</td>\n",
       "    </tr>\n",
       "  </tbody>\n",
       "</table>\n",
       "</div>"
      ],
      "text/plain": [
       "   rating location                username  verification  repeat_reviewer_encoded      company                                  subject                                                                                                                                                                                                                                                                                                                                                                                                                                                                                                                                                                                                                                                                                                                                                                                                                                                                                   text                                                                                                                                                                                                                                                                       answer  answered local_date_posted  month_posted  local_hour  time_of_day  day_of_week_posted  day_type  review_time\n",
       "0       5       US               Mark Bock             1                        0     Flashbay                               Great work  Great experience all around working with Flashbay. I was very impressed from the start -- the sample box they send to display the various styles of flash drives is ingeniously designed, and having actual samples of the styles helped a lot. My initial thought was that we would just go with the least expensive option, but everyone at my company liked one of the higher end options so much after handling it that we ended up going with that. \\r Our account manager, Samantha, was very easy to work with and quickly answered all questions, and once our management gave the green light to place the order, she got it into production immediately, and the finished drives arrived a day ahead of schedule. And the end product looks outstanding. All of us here are very pleased.\\r Consider me very impressed. I wish all vendors were this pleasant to work with.  Hi Mark,We are glad you found the sample pack useful in making your selection. It is also great to hear that Samantha was able to answer all of your questions, and you are happy with the final product.We look forward to working with you next time!-Flashbay Management         1        2016-02-09             2          11            3                   1         1            1\n",
       "1       5       US                    Walt             1                        1      Quicken                      Works as it should.                                                                                                                                                                                                                                                                                                                                                                                                                                                                                                                                                                                                                                                                                                                                                                                                                                                                    Works as it should.                                                                                                                                                                                                                                                                            0         0        2024-04-03             4           8            1                   2         1            1\n",
       "2       3       US            David Banoff             1                        0      Quicken   Earlier versions of Quicken saved the…                                                                                                                                                                                                                                                                                                                                                                                                                                                                                                                                                          Earlier versions of Quicken saved the most recent values for entries and presented them the next time (e.g. categories. amounts). Quicken no longer does this, but it still presents the previous entries when a payee, for example, created under the older version is used again. This creates more editing than necessary.                                                                                                                                                                                                                                                                            0         0        2023-01-16             1          13            3                   0         1            0\n",
       "3       5       US  Sheri - March Of Dimes             1                        0     Flashbay  Great Customer Service, Super Fast Turn                                                                                                                                                                                                                                                                                                                                                                                                                                                                                                                                                                                                                                             Extremely communicative sales rep (Mike Dods) - responsive and helpful through the entire order process.  Product arrived quickly and exactly as ordered.  We will definitely use Flashbay again without hesitation should the need arise.             Hi Sheri,Thank you for your kind words.It’s great to hear that Mike was so helpful throughout the ordering process. I will make sure to pass this along to him.We appreciate your business, and look forward to working with you next time! -Flashbay Management         1        2015-05-01             5          16            3                   4         1            1\n",
       "4       5       NL                  Pascal             1                        1  SteelSeries                            Great product                                                                                                                                                                                                                                                                                                                                                                                                                                                                                                                                                                                                                                                                                                                                                                                                                                                      Great product, great after sales!                                                                                                                                                                                                                                                                            0         0        2021-12-03            12          20            2                   4         1            1"
      ]
     },
     "metadata": {},
     "output_type": "display_data"
    }
   ],
   "source": [
    "#loading the dataset\n",
    "\n",
    "train_df = pd.read_csv('data/train_trustpilot_3.csv', engine='python')\n",
    "df_trustpilot = pd.read_csv('data/data_trustpilot_3.csv', engine='python')\n",
    "test_df = pd.read_csv('data/test_trustpilot_3.csv', engine='python')\n",
    "\n",
    "display(train_df.head())\n",
    "\n"
   ]
  },
  {
   "cell_type": "code",
   "execution_count": 239,
   "metadata": {},
   "outputs": [
    {
     "name": "stdout",
     "output_type": "stream",
     "text": [
      "Index(['rating', 'location', 'username', 'verification',\n",
      "       'repeat_reviewer_encoded', 'company', 'subject', 'text', 'answer',\n",
      "       'answered', 'local_date_posted', 'month_posted', 'local_hour',\n",
      "       'time_of_day', 'day_of_week_posted', 'day_type', 'review_time'],\n",
      "      dtype='object')\n",
      "<class 'pandas.core.frame.DataFrame'>\n",
      "RangeIndex: 62723 entries, 0 to 62722\n",
      "Data columns (total 17 columns):\n",
      " #   Column                   Non-Null Count  Dtype         \n",
      "---  ------                   --------------  -----         \n",
      " 0   rating                   62723 non-null  int64         \n",
      " 1   location                 62723 non-null  object        \n",
      " 2   username                 62720 non-null  object        \n",
      " 3   verification             62723 non-null  int64         \n",
      " 4   repeat_reviewer_encoded  62723 non-null  int64         \n",
      " 5   company                  62723 non-null  object        \n",
      " 6   subject                  62723 non-null  object        \n",
      " 7   text                     62723 non-null  object        \n",
      " 8   answer                   62723 non-null  object        \n",
      " 9   answered                 62723 non-null  int64         \n",
      " 10  local_date_posted        62723 non-null  datetime64[ns]\n",
      " 11  month_posted             62723 non-null  int64         \n",
      " 12  local_hour               62723 non-null  int64         \n",
      " 13  time_of_day              62723 non-null  int64         \n",
      " 14  day_of_week_posted       62723 non-null  int64         \n",
      " 15  day_type                 62723 non-null  int64         \n",
      " 16  review_time              62723 non-null  int64         \n",
      "dtypes: datetime64[ns](1), int64(10), object(6)\n",
      "memory usage: 8.1+ MB\n"
     ]
    },
    {
     "data": {
      "text/plain": [
       "None"
      ]
     },
     "metadata": {},
     "output_type": "display_data"
    }
   ],
   "source": [
    "#First check\n",
    "train_df['local_date_posted'] = pd.to_datetime(train_df['local_date_posted'])\n",
    "\n",
    "print(train_df.columns)\n",
    "display(train_df.info())"
   ]
  },
  {
   "cell_type": "markdown",
   "metadata": {},
   "source": [
    "STAGE 1 - HEATMAP & MULTICOLLINEARITY"
   ]
  },
  {
   "cell_type": "code",
   "execution_count": 240,
   "metadata": {},
   "outputs": [],
   "source": [
    "#Split set into numeric, categorical and datetime variables\n",
    "#Provide statistical metrics for numeric variables\n",
    "\n",
    "numeric_variables = train_df.select_dtypes(include = ['int', 'float'])\n",
    "categorical_variables = train_df.select_dtypes(include=['object']) \n",
    "datetime_variables = train_df.select_dtypes(include=['datetime64'])"
   ]
  },
  {
   "cell_type": "code",
   "execution_count": 241,
   "metadata": {},
   "outputs": [
    {
     "data": {
      "image/png": "[encoded data removed]",
      "text/plain": [
       "<Figure size 1000x800 with 2 Axes>"
      ]
     },
     "metadata": {},
     "output_type": "display_data"
    },
    {
     "name": "stdout",
     "output_type": "stream",
     "text": [
      "Highly correlated pairs (>0.7) with analysis:\n",
      "day_type & day_of_week_posted: -0.738\n",
      "Correlation with rating: day_type: 0.151, day_of_week_posted: 0.119\n",
      "Recommendation: Keep day_type (stronger correlation with target)\n"
     ]
    }
   ],
   "source": [
    "# Correlation heatmap for numeric variables\n",
    "plt.figure(figsize=(10, 8))\n",
    "correlation_matrix = numeric_variables.corr()\n",
    "sns.heatmap(correlation_matrix, annot=True, cmap='coolwarm')\n",
    "plt.title('Correlation Heatmap of Numeric Variables')\n",
    "plt.show()\n",
    "\n",
    "print(\"Highly correlated pairs (>0.7) with analysis:\")\n",
    "for i in range(len(correlation_matrix.columns)):\n",
    "    for j in range(i):\n",
    "        if abs(correlation_matrix.iloc[i, j]) > 0.7:\n",
    "            var1 = correlation_matrix.columns[i]\n",
    "            var2 = correlation_matrix.columns[j]\n",
    "            correlation = correlation_matrix.iloc[i, j]\n",
    "            \n",
    "            corr_with_target1 = abs(correlation_matrix.loc[var1, 'rating'])\n",
    "            corr_with_target2 = abs(correlation_matrix.loc[var2, 'rating'])\n",
    "            \n",
    "            print(f\"{var1} & {var2}: {correlation:.3f}\")\n",
    "            print(f\"Correlation with rating: {var1}: {corr_with_target1:.3f}, {var2}: {corr_with_target2:.3f}\")\n",
    "            print(f\"Recommendation: Keep {var1 if corr_with_target1 > corr_with_target2 else var2} \"\n",
    "                  f\"(stronger correlation with target)\")"
   ]
  },
  {
   "cell_type": "markdown",
   "metadata": {},
   "source": [
    "STAGE 2 - PEARSON AND SPEARMAN"
   ]
  },
  {
   "cell_type": "code",
   "execution_count": 242,
   "metadata": {},
   "outputs": [
    {
     "name": "stdout",
     "output_type": "stream",
     "text": [
      "Starting correlation analysis for all numeric variables...\n",
      "================================================================================\n"
     ]
    },
    {
     "data": {
      "text/html": [
       "<pre>Correlation Analysis: rating vs verification==================================================Hypothesis:H0: The two variables are uncorrelatedH1: The two variables are correlatedResults:--------------------------------------------------Pearson coefficient: 0.43418371102863856Negative sign indicates an inverse relationship but as the value is moderate, this indicates amoderate positive correlation.Pearson p_value: 0.0Value is smaller than the common significance level of 0.05. This indicates that the correlation, although moderate, is statistically significant.Spearman coefficient: 0.4179938369808715Negative sign indicates an inverse relationship and as the value is moderate, this indicates a moderate positive correlation.Spearman p_value: 0.0Value is smaller than the common significance level of 0.05. This indicates that the correlation, although moderate, is statistically significant.Conclusion:--------------------------------------------------H0 is rejectedH1 is confirmedAs verification increases, ratings tend to increaseWhile statistically significant, the relationship is moderateKeep for model training of a rating model</pre>"
      ],
      "text/plain": [
       "<IPython.core.display.HTML object>"
      ]
     },
     "metadata": {},
     "output_type": "display_data"
    },
    {
     "data": {
      "text/html": [
       "<hr>"
      ],
      "text/plain": [
       "<IPython.core.display.HTML object>"
      ]
     },
     "metadata": {},
     "output_type": "display_data"
    },
    {
     "data": {
      "text/html": [
       "<pre>Correlation Analysis: rating vs repeat_reviewer_encoded==================================================Hypothesis:H0: The two variables are uncorrelatedH1: The two variables are correlatedResults:--------------------------------------------------Pearson coefficient: -0.25957330166109044Negative sign indicates an inverse relationship but as the value is weak, this indicates aweak negative correlation.Pearson p_value: 0.0Value is smaller than the common significance level of 0.05. This indicates that the correlation, although weak, is statistically significant.Spearman coefficient: -0.26163089339729534Negative sign indicates an inverse relationship and as the value is weak, this indicates a weak negative correlation.Spearman p_value: 0.0Value is smaller than the common significance level of 0.05. This indicates that the correlation, although weak, is statistically significant.Conclusion:--------------------------------------------------H0 is rejectedH1 is confirmedAs repeat_reviewer_encoded increases, ratings tend to decreaseWhile statistically significant, the relationship is weakKeep for model training of a rating model</pre>"
      ],
      "text/plain": [
       "<IPython.core.display.HTML object>"
      ]
     },
     "metadata": {},
     "output_type": "display_data"
    },
    {
     "data": {
      "text/html": [
       "<hr>"
      ],
      "text/plain": [
       "<IPython.core.display.HTML object>"
      ]
     },
     "metadata": {},
     "output_type": "display_data"
    },
    {
     "data": {
      "text/html": [
       "<pre>Correlation Analysis: rating vs answered==================================================Hypothesis:H0: The two variables are uncorrelatedH1: The two variables are correlatedResults:--------------------------------------------------Pearson coefficient: 0.39564410662979804Negative sign indicates an inverse relationship but as the value is moderate, this indicates amoderate positive correlation.Pearson p_value: 0.0Value is smaller than the common significance level of 0.05. This indicates that the correlation, although moderate, is statistically significant.Spearman coefficient: 0.4270095949893843Negative sign indicates an inverse relationship and as the value is moderate, this indicates a moderate positive correlation.Spearman p_value: 0.0Value is smaller than the common significance level of 0.05. This indicates that the correlation, although moderate, is statistically significant.Conclusion:--------------------------------------------------H0 is rejectedH1 is confirmedAs answered increases, ratings tend to increaseWhile statistically significant, the relationship is moderateKeep for model training of a rating model</pre>"
      ],
      "text/plain": [
       "<IPython.core.display.HTML object>"
      ]
     },
     "metadata": {},
     "output_type": "display_data"
    },
    {
     "data": {
      "text/html": [
       "<hr>"
      ],
      "text/plain": [
       "<IPython.core.display.HTML object>"
      ]
     },
     "metadata": {},
     "output_type": "display_data"
    },
    {
     "data": {
      "text/html": [
       "<pre>Correlation Analysis: rating vs month_posted==================================================Hypothesis:H0: The two variables are uncorrelatedH1: The two variables are correlatedResults:--------------------------------------------------Pearson coefficient: -0.04293573831873251Negative sign indicates an inverse relationship but as the value is extremely weak/negligible, this indicates aextremely weak/negligible negative correlation.Pearson p_value: 5.444685105104093e-27Value is smaller than the common significance level of 0.05. This indicates that the correlation, although extremely weak/negligible, is statistically significant.Spearman coefficient: -0.0316508703712497Negative sign indicates an inverse relationship and as the value is extremely weak/negligible, this indicates a extremely weak/negligible negative correlation.Spearman p_value: 2.2154165634712407e-15Value is smaller than the common significance level of 0.05. This indicates that the correlation, although extremely weak/negligible, is statistically significant.Conclusion:--------------------------------------------------H0 is rejectedH1 is confirmedAs month_posted increases, ratings tend to decreaseWhile statistically significant, the relationship is extremely weak/negligibleKeep for model training of a rating model</pre>"
      ],
      "text/plain": [
       "<IPython.core.display.HTML object>"
      ]
     },
     "metadata": {},
     "output_type": "display_data"
    },
    {
     "data": {
      "text/html": [
       "<hr>"
      ],
      "text/plain": [
       "<IPython.core.display.HTML object>"
      ]
     },
     "metadata": {},
     "output_type": "display_data"
    },
    {
     "data": {
      "text/html": [
       "<pre>Correlation Analysis: rating vs local_hour==================================================Hypothesis:H0: The two variables are uncorrelatedH1: The two variables are correlatedResults:--------------------------------------------------Pearson coefficient: -0.10572816097693621Negative sign indicates an inverse relationship but as the value is weak, this indicates aweak negative correlation.Pearson p_value: 2.366616354447676e-155Value is smaller than the common significance level of 0.05. This indicates that the correlation, although weak, is statistically significant.Spearman coefficient: -0.09632444938880315Negative sign indicates an inverse relationship and as the value is extremely weak/negligible, this indicates a extremely weak/negligible negative correlation.Spearman p_value: 3.630041037608963e-129Value is smaller than the common significance level of 0.05. This indicates that the correlation, although extremely weak/negligible, is statistically significant.Conclusion:--------------------------------------------------H0 is rejectedH1 is confirmedAs local_hour increases, ratings tend to decreaseWhile statistically significant, the relationship is extremely weak/negligibleKeep for model training of a rating model</pre>"
      ],
      "text/plain": [
       "<IPython.core.display.HTML object>"
      ]
     },
     "metadata": {},
     "output_type": "display_data"
    },
    {
     "data": {
      "text/html": [
       "<hr>"
      ],
      "text/plain": [
       "<IPython.core.display.HTML object>"
      ]
     },
     "metadata": {},
     "output_type": "display_data"
    },
    {
     "data": {
      "text/html": [
       "<pre>Correlation Analysis: rating vs time_of_day==================================================Hypothesis:H0: The two variables are uncorrelatedH1: The two variables are correlatedResults:--------------------------------------------------Pearson coefficient: 0.026371458389194934Negative sign indicates an inverse relationship but as the value is extremely weak/negligible, this indicates aextremely weak/negligible positive correlation.Pearson p_value: 3.9582267223998834e-11Value is smaller than the common significance level of 0.05. This indicates that the correlation, although extremely weak/negligible, is statistically significant.Spearman coefficient: 0.04701347324025266Negative sign indicates an inverse relationship and as the value is extremely weak/negligible, this indicates a extremely weak/negligible positive correlation.Spearman p_value: 4.9143893835023906e-32Value is smaller than the common significance level of 0.05. This indicates that the correlation, although extremely weak/negligible, is statistically significant.Conclusion:--------------------------------------------------H0 is rejectedH1 is confirmedAs time_of_day increases, ratings tend to increaseWhile statistically significant, the relationship is extremely weak/negligibleKeep for model training of a rating model</pre>"
      ],
      "text/plain": [
       "<IPython.core.display.HTML object>"
      ]
     },
     "metadata": {},
     "output_type": "display_data"
    },
    {
     "data": {
      "text/html": [
       "<hr>"
      ],
      "text/plain": [
       "<IPython.core.display.HTML object>"
      ]
     },
     "metadata": {},
     "output_type": "display_data"
    },
    {
     "data": {
      "text/html": [
       "<pre>Correlation Analysis: rating vs day_of_week_posted==================================================Hypothesis:H0: The two variables are uncorrelatedH1: The two variables are correlatedResults:--------------------------------------------------Pearson coefficient: -0.11893521639382817Negative sign indicates an inverse relationship but as the value is weak, this indicates aweak negative correlation.Pearson p_value: 2.4734121543470016e-196Value is smaller than the common significance level of 0.05. This indicates that the correlation, although weak, is statistically significant.Spearman coefficient: -0.11344512134251254Negative sign indicates an inverse relationship and as the value is weak, this indicates a weak negative correlation.Spearman p_value: 1.0655305386600787e-178Value is smaller than the common significance level of 0.05. This indicates that the correlation, although weak, is statistically significant.Conclusion:--------------------------------------------------H0 is rejectedH1 is confirmedAs day_of_week_posted increases, ratings tend to decreaseWhile statistically significant, the relationship is weakKeep for model training of a rating model</pre>"
      ],
      "text/plain": [
       "<IPython.core.display.HTML object>"
      ]
     },
     "metadata": {},
     "output_type": "display_data"
    },
    {
     "data": {
      "text/html": [
       "<hr>"
      ],
      "text/plain": [
       "<IPython.core.display.HTML object>"
      ]
     },
     "metadata": {},
     "output_type": "display_data"
    },
    {
     "data": {
      "text/html": [
       "<pre>Correlation Analysis: rating vs day_type==================================================Hypothesis:H0: The two variables are uncorrelatedH1: The two variables are correlatedResults:--------------------------------------------------Pearson coefficient: 0.1513661412629657Negative sign indicates an inverse relationship but as the value is weak, this indicates aweak positive correlation.Pearson p_value: 4.38658e-318Value is smaller than the common significance level of 0.05. This indicates that the correlation, although weak, is statistically significant.Spearman coefficient: 0.1557211562814602Negative sign indicates an inverse relationship and as the value is weak, this indicates a weak positive correlation.Spearman p_value: 0.0Value is smaller than the common significance level of 0.05. This indicates that the correlation, although weak, is statistically significant.Conclusion:--------------------------------------------------H0 is rejectedH1 is confirmedAs day_type increases, ratings tend to increaseWhile statistically significant, the relationship is weakKeep for model training of a rating model</pre>"
      ],
      "text/plain": [
       "<IPython.core.display.HTML object>"
      ]
     },
     "metadata": {},
     "output_type": "display_data"
    },
    {
     "data": {
      "text/html": [
       "<hr>"
      ],
      "text/plain": [
       "<IPython.core.display.HTML object>"
      ]
     },
     "metadata": {},
     "output_type": "display_data"
    },
    {
     "data": {
      "text/html": [
       "<pre>Correlation Analysis: rating vs review_time==================================================Hypothesis:H0: The two variables are uncorrelatedH1: The two variables are correlatedResults:--------------------------------------------------Pearson coefficient: 0.12408104433980184Negative sign indicates an inverse relationship but as the value is weak, this indicates aweak positive correlation.Pearson p_value: 1.2243314670280837e-213Value is smaller than the common significance level of 0.05. This indicates that the correlation, although weak, is statistically significant.Spearman coefficient: 0.14282196067411174Negative sign indicates an inverse relationship and as the value is weak, this indicates a weak positive correlation.Spearman p_value: 4.565644435060146e-283Value is smaller than the common significance level of 0.05. This indicates that the correlation, although weak, is statistically significant.Conclusion:--------------------------------------------------H0 is rejectedH1 is confirmedAs review_time increases, ratings tend to increaseWhile statistically significant, the relationship is weakKeep for model training of a rating model</pre>"
      ],
      "text/plain": [
       "<IPython.core.display.HTML object>"
      ]
     },
     "metadata": {},
     "output_type": "display_data"
    },
    {
     "data": {
      "text/html": [
       "<hr>"
      ],
      "text/plain": [
       "<IPython.core.display.HTML object>"
      ]
     },
     "metadata": {},
     "output_type": "display_data"
    }
   ],
   "source": [
    "#Pearson and Spearman\n",
    "\n",
    "def analyze_correlation_with_rating(column_name):\n",
    "    if column_name not in train_df.columns:\n",
    "        return f\"Error: Column '{column_name}' not found in dataframe\"\n",
    "    \n",
    "    # Calculate correlations\n",
    "    pearson_coeff, pearson_p = pearsonr(train_df['rating'], train_df[column_name])\n",
    "    spearman_coeff, spearman_p = spearmanr(train_df['rating'], train_df[column_name])\n",
    "    \n",
    "    # Format output\n",
    "    output = []\n",
    "    output.append(f\"Correlation Analysis: rating vs {column_name}\")\n",
    "    output.append(\"=\" * 50)\n",
    "    output.append(\"Hypothesis:\")\n",
    "    output.append(\"H0: The two variables are uncorrelated\")\n",
    "    output.append(\"H1: The two variables are correlated\")\n",
    "    output.append(\"Results:\")\n",
    "    output.append(\"-\" * 50)\n",
    "    \n",
    "    # Pearson Analysis\n",
    "    output.append(f\"Pearson coefficient: {pearson_coeff}\")\n",
    "    if abs(pearson_coeff) < 0.1:\n",
    "        strength = \"extremely weak/negligible\"\n",
    "    elif abs(pearson_coeff) < 0.3:\n",
    "        strength = \"weak\"\n",
    "    elif abs(pearson_coeff) < 0.5:\n",
    "        strength = \"moderate\"\n",
    "    else:\n",
    "        strength = \"strong\"\n",
    "    direction = \"negative\" if pearson_coeff < 0 else \"positive\"\n",
    "    output.append(f\"Negative sign indicates an inverse relationship but as the value is {strength}, \"\n",
    "                 f\"this indicates a{strength} {direction} correlation.\")\n",
    "    \n",
    "    output.append(f\"Pearson p_value: {pearson_p}\")\n",
    "    if pearson_p < 0.05:\n",
    "        output.append(\"Value is smaller than the common significance level of 0.05. \"\n",
    "                     f\"This indicates that the correlation, although {strength}, is statistically significant.\")\n",
    "    else:\n",
    "        output.append(\"Value is larger than the common significance level of 0.05. \"\n",
    "                     \"This indicates that the correlation is not statistically significant.\")\n",
    "    \n",
    "    # Spearman Analysis\n",
    "    output.append(f\"Spearman coefficient: {spearman_coeff}\")\n",
    "    if abs(spearman_coeff) < 0.1:\n",
    "        strength = \"extremely weak/negligible\"\n",
    "    elif abs(spearman_coeff) < 0.3:\n",
    "        strength = \"weak\"\n",
    "    elif abs(spearman_coeff) < 0.5:\n",
    "        strength = \"moderate\"\n",
    "    else:\n",
    "        strength = \"strong\"\n",
    "    output.append(f\"Negative sign indicates an inverse relationship and as the value is {strength}, \"\n",
    "                 f\"this indicates a {strength} {direction} correlation.\")\n",
    "    \n",
    "    output.append(f\"Spearman p_value: {spearman_p}\")\n",
    "    if spearman_p < 0.05:\n",
    "        output.append(\"Value is smaller than the common significance level of 0.05. \"\n",
    "                     f\"This indicates that the correlation, although {strength}, is statistically significant.\")\n",
    "    else:\n",
    "        output.append(\"Value is larger than the common significance level of 0.05. \"\n",
    "                     \"This indicates that the correlation is not statistically significant.\")\n",
    "    \n",
    "    # Conclusion\n",
    "    output.append(\"Conclusion:\")\n",
    "    output.append(\"-\" * 50)\n",
    "    if pearson_p < 0.05 or spearman_p < 0.05:\n",
    "        output.append(\"H0 is rejected\")\n",
    "        output.append(\"H1 is confirmed\")\n",
    "    else:\n",
    "        output.append(\"Failed to reject H0\")\n",
    "        \n",
    "    # Additional insights\n",
    "    if abs(abs(spearman_coeff) - abs(pearson_coeff)) > 0.1:\n",
    "        output.append(f\"The difference between Pearson ({pearson_coeff:.3f}) and \"\n",
    "                     f\"Spearman ({spearman_coeff:.3f}) suggests a non-linear relationship\")\n",
    "    \n",
    "    # Practical interpretation\n",
    "    output.append(f\"As {column_name} increases, ratings tend to \"\n",
    "                 f\"{'decrease' if pearson_coeff < 0 else 'increase'}\")\n",
    "    output.append(\"While statistically significant, the relationship is \"\n",
    "                 f\"{strength}\")\n",
    "    output.append(\"Keep for model training of a rating model\")\n",
    "    \n",
    "    return \"\".join(output)\n",
    "\n",
    "\n",
    "# Get list of numeric columns excluding 'rating'\n",
    "numeric_columns = train_df.select_dtypes(include=['int64', 'float64']).columns\n",
    "numeric_columns = [col for col in numeric_columns if col != 'rating']\n",
    "\n",
    "print(\"Starting correlation analysis for all numeric variables...\")\n",
    "print(\"=\" * 80)\n",
    "\n",
    "# Loop through each numeric column\n",
    "for column in numeric_columns:\n",
    "    display(HTML(f\"<pre>{analyze_correlation_with_rating(column)}</pre>\"))\n",
    "    display(HTML(\"<hr>\")) \n"
   ]
  },
  {
   "cell_type": "markdown",
   "metadata": {},
   "source": [
    "STAGE 3 - MUTUAL INFORMATION"
   ]
  },
  {
   "cell_type": "code",
   "execution_count": 243,
   "metadata": {},
   "outputs": [
    {
     "name": "stdout",
     "output_type": "stream",
     "text": [
      "Starting mutual information analysis for all numeric variables...\n",
      "================================================================================\n"
     ]
    },
    {
     "data": {
      "text/html": [
       "<pre>Mutual Information Analysis: rating vs verification==================================================Interpretation:Mutual Information measures the dependency between variables (including non-linear relationships)Score ranges from 0 (no mutual information) to ln(n_classes) (perfect mutual information)Results:--------------------------------------------------Mutual Information score: 0.1090This indicates a moderate dependency between verification and ratingConclusion:--------------------------------------------------There is a moderate statistical dependency between verification and ratingFeature could be valuable for predictive modeling</pre>"
      ],
      "text/plain": [
       "<IPython.core.display.HTML object>"
      ]
     },
     "metadata": {},
     "output_type": "display_data"
    },
    {
     "data": {
      "text/html": [
       "<hr>"
      ],
      "text/plain": [
       "<IPython.core.display.HTML object>"
      ]
     },
     "metadata": {},
     "output_type": "display_data"
    },
    {
     "data": {
      "text/html": [
       "<pre>Mutual Information Analysis: rating vs repeat_reviewer_encoded==================================================Interpretation:Mutual Information measures the dependency between variables (including non-linear relationships)Score ranges from 0 (no mutual information) to ln(n_classes) (perfect mutual information)Results:--------------------------------------------------Mutual Information score: 0.0434This indicates a weak dependency between repeat_reviewer_encoded and ratingConclusion:--------------------------------------------------There is a weak statistical dependency between repeat_reviewer_encoded and ratingFeature could be valuable for predictive modeling</pre>"
      ],
      "text/plain": [
       "<IPython.core.display.HTML object>"
      ]
     },
     "metadata": {},
     "output_type": "display_data"
    },
    {
     "data": {
      "text/html": [
       "<hr>"
      ],
      "text/plain": [
       "<IPython.core.display.HTML object>"
      ]
     },
     "metadata": {},
     "output_type": "display_data"
    },
    {
     "data": {
      "text/html": [
       "<pre>Mutual Information Analysis: rating vs answered==================================================Interpretation:Mutual Information measures the dependency between variables (including non-linear relationships)Score ranges from 0 (no mutual information) to ln(n_classes) (perfect mutual information)Results:--------------------------------------------------Mutual Information score: 0.1206This indicates a moderate dependency between answered and ratingConclusion:--------------------------------------------------There is a moderate statistical dependency between answered and ratingFeature could be valuable for predictive modeling</pre>"
      ],
      "text/plain": [
       "<IPython.core.display.HTML object>"
      ]
     },
     "metadata": {},
     "output_type": "display_data"
    },
    {
     "data": {
      "text/html": [
       "<hr>"
      ],
      "text/plain": [
       "<IPython.core.display.HTML object>"
      ]
     },
     "metadata": {},
     "output_type": "display_data"
    },
    {
     "data": {
      "text/html": [
       "<pre>Mutual Information Analysis: rating vs month_posted==================================================Interpretation:Mutual Information measures the dependency between variables (including non-linear relationships)Score ranges from 0 (no mutual information) to ln(n_classes) (perfect mutual information)Results:--------------------------------------------------Mutual Information score: 0.0170This indicates a weak dependency between month_posted and ratingConclusion:--------------------------------------------------There is a weak statistical dependency between month_posted and ratingFeature could be valuable for predictive modeling</pre>"
      ],
      "text/plain": [
       "<IPython.core.display.HTML object>"
      ]
     },
     "metadata": {},
     "output_type": "display_data"
    },
    {
     "data": {
      "text/html": [
       "<hr>"
      ],
      "text/plain": [
       "<IPython.core.display.HTML object>"
      ]
     },
     "metadata": {},
     "output_type": "display_data"
    },
    {
     "data": {
      "text/html": [
       "<pre>Mutual Information Analysis: rating vs local_hour==================================================Interpretation:Mutual Information measures the dependency between variables (including non-linear relationships)Score ranges from 0 (no mutual information) to ln(n_classes) (perfect mutual information)Results:--------------------------------------------------Mutual Information score: 0.0174This indicates a weak dependency between local_hour and ratingConclusion:--------------------------------------------------There is a weak statistical dependency between local_hour and ratingFeature could be valuable for predictive modeling</pre>"
      ],
      "text/plain": [
       "<IPython.core.display.HTML object>"
      ]
     },
     "metadata": {},
     "output_type": "display_data"
    },
    {
     "data": {
      "text/html": [
       "<hr>"
      ],
      "text/plain": [
       "<IPython.core.display.HTML object>"
      ]
     },
     "metadata": {},
     "output_type": "display_data"
    },
    {
     "data": {
      "text/html": [
       "<pre>Mutual Information Analysis: rating vs time_of_day==================================================Interpretation:Mutual Information measures the dependency between variables (including non-linear relationships)Score ranges from 0 (no mutual information) to ln(n_classes) (perfect mutual information)Results:--------------------------------------------------Mutual Information score: 0.0101This indicates a weak dependency between time_of_day and ratingConclusion:--------------------------------------------------There is a weak statistical dependency between time_of_day and ratingFeature could be valuable for predictive modeling</pre>"
      ],
      "text/plain": [
       "<IPython.core.display.HTML object>"
      ]
     },
     "metadata": {},
     "output_type": "display_data"
    },
    {
     "data": {
      "text/html": [
       "<hr>"
      ],
      "text/plain": [
       "<IPython.core.display.HTML object>"
      ]
     },
     "metadata": {},
     "output_type": "display_data"
    },
    {
     "data": {
      "text/html": [
       "<pre>Mutual Information Analysis: rating vs day_of_week_posted==================================================Interpretation:Mutual Information measures the dependency between variables (including non-linear relationships)Score ranges from 0 (no mutual information) to ln(n_classes) (perfect mutual information)Results:--------------------------------------------------Mutual Information score: 0.0086This indicates a extremely weak/negligible dependency between day_of_week_posted and ratingConclusion:--------------------------------------------------There is negligible statistical dependency between the variablesConsider dropping this feature for modeling</pre>"
      ],
      "text/plain": [
       "<IPython.core.display.HTML object>"
      ]
     },
     "metadata": {},
     "output_type": "display_data"
    },
    {
     "data": {
      "text/html": [
       "<hr>"
      ],
      "text/plain": [
       "<IPython.core.display.HTML object>"
      ]
     },
     "metadata": {},
     "output_type": "display_data"
    },
    {
     "data": {
      "text/html": [
       "<pre>Mutual Information Analysis: rating vs day_type==================================================Interpretation:Mutual Information measures the dependency between variables (including non-linear relationships)Score ranges from 0 (no mutual information) to ln(n_classes) (perfect mutual information)Results:--------------------------------------------------Mutual Information score: 0.0206This indicates a weak dependency between day_type and ratingConclusion:--------------------------------------------------There is a weak statistical dependency between day_type and ratingFeature could be valuable for predictive modeling</pre>"
      ],
      "text/plain": [
       "<IPython.core.display.HTML object>"
      ]
     },
     "metadata": {},
     "output_type": "display_data"
    },
    {
     "data": {
      "text/html": [
       "<hr>"
      ],
      "text/plain": [
       "<IPython.core.display.HTML object>"
      ]
     },
     "metadata": {},
     "output_type": "display_data"
    },
    {
     "data": {
      "text/html": [
       "<pre>Mutual Information Analysis: rating vs review_time==================================================Interpretation:Mutual Information measures the dependency between variables (including non-linear relationships)Score ranges from 0 (no mutual information) to ln(n_classes) (perfect mutual information)Results:--------------------------------------------------Mutual Information score: 0.0257This indicates a weak dependency between review_time and ratingConclusion:--------------------------------------------------There is a weak statistical dependency between review_time and ratingFeature could be valuable for predictive modeling</pre>"
      ],
      "text/plain": [
       "<IPython.core.display.HTML object>"
      ]
     },
     "metadata": {},
     "output_type": "display_data"
    },
    {
     "data": {
      "text/html": [
       "<hr>"
      ],
      "text/plain": [
       "<IPython.core.display.HTML object>"
      ]
     },
     "metadata": {},
     "output_type": "display_data"
    }
   ],
   "source": [
    "def analyze_mutual_information_with_rating(column_name):\n",
    "    if column_name not in train_df.columns:\n",
    "        return f\"Error: Column '{column_name}' not found in dataframe\"\n",
    "    \n",
    "    # Calculate mutual information\n",
    "    mi_score = mutual_info_regression(train_df[[column_name]], train_df['rating'], random_state=42)[0]\n",
    "    \n",
    "    # Format output\n",
    "    output = []\n",
    "    output.append(f\"Mutual Information Analysis: rating vs {column_name}\")\n",
    "    output.append(\"=\" * 50)\n",
    "    output.append(\"Interpretation:\")\n",
    "    output.append(\"Mutual Information measures the dependency between variables (including non-linear relationships)\")\n",
    "    output.append(\"Score ranges from 0 (no mutual information) to ln(n_classes) (perfect mutual information)\")\n",
    "    output.append(\"Results:\")\n",
    "    output.append(\"-\" * 50)\n",
    "    \n",
    "    # MI Analysis\n",
    "    output.append(f\"Mutual Information score: {mi_score:.4f}\")\n",
    "    if mi_score < 0.01:\n",
    "        strength = \"extremely weak/negligible\"\n",
    "    elif mi_score < 0.05:\n",
    "        strength = \"weak\"\n",
    "    elif mi_score < 0.2:\n",
    "        strength = \"moderate\"\n",
    "    else:\n",
    "        strength = \"strong\"\n",
    "    \n",
    "    output.append(f\"This indicates a {strength} dependency between {column_name} and rating\")\n",
    "    \n",
    "    # Conclusion\n",
    "    output.append(\"Conclusion:\")\n",
    "    output.append(\"-\" * 50)\n",
    "    if mi_score > 0.01:\n",
    "        output.append(f\"There is a {strength} statistical dependency between {column_name} and rating\")\n",
    "        output.append(\"Feature could be valuable for predictive modeling\")\n",
    "    else:\n",
    "        output.append(\"There is negligible statistical dependency between the variables\")\n",
    "        output.append(\"Consider dropping this feature for modeling\")\n",
    "    \n",
    "    return \"\".join(output)\n",
    "\n",
    "# Get list of numeric columns excluding 'rating'\n",
    "numeric_columns = train_df.select_dtypes(include=['int64', 'float64']).columns\n",
    "numeric_columns = [col for col in numeric_columns if col != 'rating']\n",
    "\n",
    "print(\"Starting mutual information analysis for all numeric variables...\")\n",
    "print(\"=\" * 80)\n",
    "\n",
    "# Loop through each numeric column\n",
    "for column in numeric_columns:\n",
    "    display(HTML(f\"<pre>{analyze_mutual_information_with_rating(column)}</pre>\"))\n",
    "    display(HTML(\"<hr>\"))"
   ]
  },
  {
   "cell_type": "markdown",
   "metadata": {},
   "source": [
    "STAGE 4 - ANOVA"
   ]
  },
  {
   "cell_type": "code",
   "execution_count": 244,
   "metadata": {},
   "outputs": [
    {
     "name": "stdout",
     "output_type": "stream",
     "text": [
      "ANOVA Analysis: Features vs Rating\n",
      "==================================================\n",
      "Selected Features (p ≤ 0.05):\n",
      "                   Feature     P-value\n",
      "0             verification   0.000e+00\n",
      "1  repeat_reviewer_encoded   0.000e+00\n",
      "2                 answered   0.000e+00\n",
      "7                 day_type  4.387e-318\n",
      "8              review_time  1.224e-213\n",
      "6       day_of_week_posted  2.473e-196\n",
      "4               local_hour  2.367e-155\n",
      "3             month_posted   5.445e-27\n",
      "5              time_of_day   3.958e-11\n"
     ]
    }
   ],
   "source": [
    "#ANOVA\n",
    "\n",
    "def analyze_anova_with_rating(df):\n",
    "    attributes = df.select_dtypes(include=['int64', 'float64']).columns\n",
    "    attributes = [col for col in attributes if col != 'rating']\n",
    "    \n",
    "    # Store results and selected features\n",
    "    results = {}\n",
    "    feat_select = []\n",
    "    \n",
    "    print(\"ANOVA Analysis: Features vs Rating\")\n",
    "    print(\"=\" * 50)\n",
    "    \n",
    "    # Analyze each feature\n",
    "    for feature in attributes:\n",
    "        try:\n",
    "            lm = ols('rating ~ {}'.format(feature), data=df).fit()\n",
    "            table = anova_lm(lm)\n",
    "            p_value = table['PR(>F)'].iloc[0]\n",
    "            \n",
    "            # If significant, add to selected features\n",
    "            if p_value <= 0.05:\n",
    "                feat_select.append(feature)\n",
    "                results[feature] = p_value\n",
    "                \n",
    "        except Exception as e:\n",
    "            print(f\"Error analyzing {feature}: {str(e)}\")\n",
    "    \n",
    "    # Create and display results table\n",
    "    if feat_select:\n",
    "        results_df = pd.DataFrame({\n",
    "            'Feature': feat_select,\n",
    "            'P-value': [results[f] for f in feat_select]\n",
    "        }).sort_values('P-value')\n",
    "        \n",
    "        print(\"Selected Features (p ≤ 0.05):\")\n",
    "        print(results_df)\n",
    "    \n",
    "    return feat_select\n",
    "\n",
    "selected_features = analyze_anova_with_rating(train_df)"
   ]
  },
  {
   "cell_type": "code",
   "execution_count": 245,
   "metadata": {},
   "outputs": [
    {
     "name": "stdout",
     "output_type": "stream",
     "text": [
      "ANOVA Analysis: Features vs Rating==================================================Analysis for: verification------------------------------F-statistic: 14570.6791P-value: 0.0000e+00Effect size (η²): 0.1885Effect strength: largeSelected for model: YesAnalysis for: repeat_reviewer_encoded------------------------------F-statistic: 4531.3489P-value: 0.0000e+00Effect size (η²): 0.0674Effect strength: mediumSelected for model: YesAnalysis for: answered------------------------------F-statistic: 11640.0522P-value: 0.0000e+00Effect size (η²): 0.1565Effect strength: largeSelected for model: YesAnalysis for: month_posted------------------------------F-statistic: 115.8383P-value: 5.4447e-27Effect size (η²): 0.0018Effect strength: negligibleSelected for model: YesAnalysis for: local_hour------------------------------F-statistic: 709.0493P-value: 2.3666e-155Effect size (η²): 0.0112Effect strength: smallSelected for model: YesAnalysis for: time_of_day------------------------------F-statistic: 43.6499P-value: 3.9582e-11Effect size (η²): 0.0007Effect strength: negligibleSelected for model: YesAnalysis for: day_of_week_posted------------------------------F-statistic: 899.9557P-value: 2.4734e-196Effect size (η²): 0.0141Effect strength: smallSelected for model: YesAnalysis for: day_type------------------------------F-statistic: 1470.7425P-value: 4.3866e-318Effect size (η²): 0.0229Effect strength: smallSelected for model: YesAnalysis for: review_time------------------------------F-statistic: 980.7590P-value: 1.2243e-213Effect size (η²): 0.0154Effect strength: smallSelected for model: Yes==================================================Summary:Total features analyzed: 9Features selected: 9Selected features:- verification: p=0.0000e+00, η²=0.1885- repeat_reviewer_encoded: p=0.0000e+00, η²=0.0674- answered: p=0.0000e+00, η²=0.1565- month_posted: p=5.4447e-27, η²=0.0018- local_hour: p=2.3666e-155, η²=0.0112- time_of_day: p=3.9582e-11, η²=0.0007- day_of_week_posted: p=2.4734e-196, η²=0.0141- day_type: p=4.3866e-318, η²=0.0229- review_time: p=1.2243e-213, η²=0.0154\n"
     ]
    }
   ],
   "source": [
    "#ANOVA \n",
    "\n",
    "def analyze_anova_with_rating(df):\n",
    "    attributes = df.select_dtypes(include=['int64', 'float64']).columns\n",
    "    attributes = [col for col in attributes if col != 'rating']\n",
    "    \n",
    "    results = {}\n",
    "    feat_select = []\n",
    "    output_text = []\n",
    "    \n",
    "    output_text.append(\"ANOVA Analysis: Features vs Rating\")\n",
    "    output_text.append(\"=\" * 50)\n",
    "    \n",
    "    for feature in attributes:\n",
    "        try:\n",
    "            lm = ols('rating ~ {}'.format(feature), data=df).fit()\n",
    "            table = anova_lm(lm)\n",
    "            p_value = table['PR(>F)'].iloc[0]\n",
    "            f_stat = table['F'].iloc[0]\n",
    "            \n",
    "            # Calculate effect size (eta-squared)\n",
    "            ss_between = table['sum_sq'][0]\n",
    "            ss_total = ss_between + table['sum_sq'][1]\n",
    "            eta_squared = ss_between / ss_total\n",
    "            \n",
    "            # Store results\n",
    "            results[feature] = {\n",
    "                'p_value': p_value,\n",
    "                'f_stat': f_stat,\n",
    "                'eta_squared': eta_squared\n",
    "            }\n",
    "            \n",
    "            # Interpret effect size\n",
    "            if eta_squared < 0.01:\n",
    "                effect_strength = \"negligible\"\n",
    "            elif eta_squared < 0.06:\n",
    "                effect_strength = \"small\"\n",
    "            elif eta_squared < 0.14:\n",
    "                effect_strength = \"medium\"\n",
    "            else:\n",
    "                effect_strength = \"large\"\n",
    "            \n",
    "            # Feature selection\n",
    "            if p_value <= 0.05:\n",
    "                feat_select.append(feature)\n",
    "            \n",
    "            # Output for each feature\n",
    "            output_text.append(f\"Analysis for: {feature}\")\n",
    "            output_text.append(\"-\" * 30)\n",
    "            output_text.append(f\"F-statistic: {f_stat:.4f}\")\n",
    "            output_text.append(f\"P-value: {p_value:.4e}\")\n",
    "            output_text.append(f\"Effect size (η²): {eta_squared:.4f}\")\n",
    "            output_text.append(f\"Effect strength: {effect_strength}\")\n",
    "            output_text.append(f\"Selected for model: {'Yes' if p_value <= 0.05 else 'No'}\")\n",
    "            \n",
    "        except Exception as e:\n",
    "            output_text.append(f\"Error analyzing {feature}: {str(e)}\")\n",
    "    \n",
    "    output_text.append(\"\" + \"=\" * 50)\n",
    "    output_text.append(\"Summary:\")\n",
    "    output_text.append(f\"Total features analyzed: {len(attributes)}\")\n",
    "    output_text.append(f\"Features selected: {len(feat_select)}\")\n",
    "    output_text.append(\"Selected features:\")\n",
    "    for feat in feat_select:\n",
    "        p_value = results[feat]['p_value']\n",
    "        eta = results[feat]['eta_squared']\n",
    "        output_text.append(f\"- {feat}: p={p_value:.4e}, η²={eta:.4f}\")\n",
    "    \n",
    "    print(\"\".join(output_text))\n",
    "    return results, feat_select\n",
    "\n",
    "results, selected_features = analyze_anova_with_rating(train_df)"
   ]
  },
  {
   "cell_type": "markdown",
   "metadata": {},
   "source": [
    "STAGE 5 - VARIANCE THRESHOLD"
   ]
  },
  {
   "cell_type": "code",
   "execution_count": 246,
   "metadata": {},
   "outputs": [
    {
     "data": {
      "text/html": [
       "<pre>Variance Threshold Analysis==================================================Feature Variances:--------------------------------------------------local_hour: 24.000677month_posted: 13.319656day_of_week_posted: 3.421600rating: 2.882846time_of_day: 0.932525repeat_reviewer_encoded: 0.246139verification: 0.228786answered: 0.186432review_time: 0.159066day_type: 0.150398Conclusion:--------------------------------------------------All features have variance > 0.01</pre>"
      ],
      "text/plain": [
       "<IPython.core.display.HTML object>"
      ]
     },
     "metadata": {},
     "output_type": "display_data"
    }
   ],
   "source": [
    "#Variance Threshold\n",
    "\n",
    "def analyze_variance_threshold(threshold=0.0):\n",
    "   # Get numeric columns only\n",
    "   numeric_data = train_df.select_dtypes(include=['int64', 'float64'])\n",
    "   \n",
    "   # Calculate variance for each feature\n",
    "   variances = numeric_data.var()\n",
    "   \n",
    "   output = []\n",
    "   output.append(\"Variance Threshold Analysis\")\n",
    "   output.append(\"=\" * 50)\n",
    "   output.append(\"Feature Variances:\")\n",
    "   output.append(\"-\" * 50)\n",
    "   \n",
    "   # Sort variances in descending order\n",
    "   sorted_variances = variances.sort_values(ascending=False)\n",
    "   for feature, var in sorted_variances.items():\n",
    "       output.append(f\"{feature}: {var:.6f}\")\n",
    "       if var <= threshold:\n",
    "           output.append(f\"WARNING: {feature} has variance <= {threshold}\")\n",
    "   \n",
    "   # Identify low variance features\n",
    "   low_variance_features = variances[variances <= threshold].index.tolist()\n",
    "   \n",
    "   output.append(\"Conclusion:\")\n",
    "   output.append(\"-\" * 50)\n",
    "   if low_variance_features:\n",
    "       output.append(f\"Features with variance <= {threshold}:\")\n",
    "       for feature in low_variance_features:\n",
    "           output.append(f\"- {feature}\")\n",
    "       output.append(\"Consider removing these low-variance features\")\n",
    "   else:\n",
    "       output.append(f\"All features have variance > {threshold}\")\n",
    "   \n",
    "   return \"\".join(output)\n",
    "\n",
    "display(HTML(f\"<pre>{analyze_variance_threshold(threshold=0.01)}</pre>\"))"
   ]
  },
  {
   "cell_type": "markdown",
   "metadata": {},
   "source": [
    "STAGE 6 - FISHER SCORE"
   ]
  },
  {
   "cell_type": "code",
   "execution_count": 247,
   "metadata": {},
   "outputs": [
    {
     "data": {
      "text/html": [
       "<pre>Fisher Score Analysis==================================================Feature Scores (sorted by discriminative power):--------------------------------------------------verification: 0.272336 (weak discriminative power)answered: 0.263230 (weak discriminative power)repeat_reviewer_encoded: 0.076597 (very weak discriminative power)review_time: 0.041972 (very weak discriminative power)day_type: 0.025183 (very weak discriminative power)local_hour: 0.015444 (very weak discriminative power)day_of_week_posted: 0.015373 (very weak discriminative power)month_posted: 0.006395 (very weak discriminative power)time_of_day: 0.004258 (very weak discriminative power)Interpretation:--------------------------------------------------Higher Fisher scores indicate better discriminative power for rating prediction• Strong: > 1.0• Moderate: 0.5 - 1.0• Weak: 0.1 - 0.5• Very weak: < 0.1Recommendations:--------------------------------------------------Consider removing these features with very weak discriminative power:- repeat_reviewer_encoded- review_time- day_type- local_hour- day_of_week_posted- month_posted- time_of_day</pre>"
      ],
      "text/plain": [
       "<IPython.core.display.HTML object>"
      ]
     },
     "metadata": {},
     "output_type": "display_data"
    }
   ],
   "source": [
    "def analyze_fisher_score():\n",
    "    # Get numeric features excluding the target\n",
    "    numeric_data = train_df.select_dtypes(include=['int64', 'float64'])\n",
    "    numeric_features = [col for col in numeric_data.columns if col != 'rating']\n",
    "    \n",
    "    # Function to calculate Fisher score for a single feature\n",
    "    def calculate_fisher_score(feature):\n",
    "        # Calculate mean and variance for each class\n",
    "        class_stats = train_df.groupby('rating').agg({\n",
    "            feature: ['mean', 'var', 'count']\n",
    "        })[feature]\n",
    "        \n",
    "        # Overall mean of the feature\n",
    "        overall_mean = train_df[feature].mean()\n",
    "        \n",
    "        # Calculate between-class and within-class variance\n",
    "        between_class = sum(class_stats['count'] * (class_stats['mean'] - overall_mean) ** 2)\n",
    "        within_class = sum((class_stats['count'] - 1) * class_stats['var'])\n",
    "        \n",
    "        # Fisher score is between-class variance divided by within-class variance\n",
    "        if within_class == 0:\n",
    "            return 0  # To handle division by zero\n",
    "        return between_class / within_class\n",
    "    \n",
    "    # Calculate Fisher scores for all features\n",
    "    fisher_scores = {}\n",
    "    for feature in numeric_features:\n",
    "        fisher_scores[feature] = calculate_fisher_score(feature)\n",
    "    \n",
    "    # Sort scores in descending order\n",
    "    sorted_scores = sorted(fisher_scores.items(), key=lambda x: x[1], reverse=True)\n",
    "    \n",
    "    # Prepare output\n",
    "    output = []\n",
    "    output.append(\"Fisher Score Analysis\")\n",
    "    output.append(\"=\" * 50)\n",
    "    output.append(\"Feature Scores (sorted by discriminative power):\")\n",
    "    output.append(\"-\" * 50)\n",
    "    \n",
    "    # Add interpretation based on score magnitude\n",
    "    for feature, score in sorted_scores:\n",
    "        if score > 1.0:\n",
    "            strength = \"strong\"\n",
    "        elif score > 0.5:\n",
    "            strength = \"moderate\"\n",
    "        elif score > 0.1:\n",
    "            strength = \"weak\"\n",
    "        else:\n",
    "            strength = \"very weak\"\n",
    "            \n",
    "        output.append(f\"{feature}: {score:.6f} ({strength} discriminative power)\")\n",
    "    \n",
    "    output.append(\"Interpretation:\")\n",
    "    output.append(\"-\" * 50)\n",
    "    output.append(\"Higher Fisher scores indicate better discriminative power for rating prediction\")\n",
    "    output.append(\"• Strong: > 1.0\")\n",
    "    output.append(\"• Moderate: 0.5 - 1.0\")\n",
    "    output.append(\"• Weak: 0.1 - 0.5\")\n",
    "    output.append(\"• Very weak: < 0.1\")\n",
    "    \n",
    "    output.append(\"Recommendations:\")\n",
    "    output.append(\"-\" * 50)\n",
    "    weak_features = [feature for feature, score in sorted_scores if score < 0.1]\n",
    "    if weak_features:\n",
    "        output.append(\"Consider removing these features with very weak discriminative power:\")\n",
    "        for feature in weak_features:\n",
    "            output.append(f\"- {feature}\")\n",
    "    \n",
    "    return \"\".join(output)\n",
    "\n",
    "display(HTML(f\"<pre>{analyze_fisher_score()}</pre>\"))"
   ]
  },
  {
   "cell_type": "markdown",
   "metadata": {},
   "source": [
    "STAGE 7 - MEAN ABSOLUTE DIFFERENCE"
   ]
  },
  {
   "cell_type": "code",
   "execution_count": 248,
   "metadata": {},
   "outputs": [
    {
     "data": {
      "text/html": [
       "<pre>Mean Absolute Difference Analysis==================================================Feature MAD Scores (sorted by variability):--------------------------------------------------local_hour: 4.066945 (high variability)month_posted: 3.173191 (high variability)day_of_week_posted: 1.585046 (moderate variability)time_of_day: 0.844532 (low variability)repeat_reviewer_encoded: 0.492270 (low variability)verification: 0.457564 (low variability)answered: 0.372859 (low variability)review_time: 0.318128 (low variability)day_type: 0.300791 (low variability)Interpretation:--------------------------------------------------MAD measures the average absolute deviation from the meanAverage MAD across features: 1.290147• High variability: > 2x average MAD• Moderate variability: > average MAD• Low variability: ≤ average MADRecommendations:--------------------------------------------------Consider investigating these features with very low variability:- repeat_reviewer_encoded- verification- answered- review_time- day_type</pre>"
      ],
      "text/plain": [
       "<IPython.core.display.HTML object>"
      ]
     },
     "metadata": {},
     "output_type": "display_data"
    }
   ],
   "source": [
    "def analyze_mean_absolute_difference():\n",
    "   # Get numeric features excluding the target\n",
    "   numeric_data = train_df.select_dtypes(include=['int64', 'float64'])\n",
    "   numeric_features = [col for col in numeric_data.columns if col != 'rating']\n",
    "   \n",
    "   # Function to calculate MAD for a single feature\n",
    "   def calculate_mad(feature):\n",
    "       feature_mean = train_df[feature].mean()\n",
    "       mad = (train_df[feature] - feature_mean).abs().mean()\n",
    "       return mad\n",
    "   \n",
    "   # Calculate MAD for all features\n",
    "   mad_scores = {}\n",
    "   for feature in numeric_features:\n",
    "       mad_scores[feature] = calculate_mad(feature)\n",
    "   \n",
    "   # Sort scores in descending order\n",
    "   sorted_scores = sorted(mad_scores.items(), key=lambda x: x[1], reverse=True)\n",
    "   \n",
    "   # Prepare output\n",
    "   output = []\n",
    "   output.append(\"Mean Absolute Difference Analysis\")\n",
    "   output.append(\"=\" * 50)\n",
    "   output.append(\"Feature MAD Scores (sorted by variability):\")\n",
    "   output.append(\"-\" * 50)\n",
    "   \n",
    "   # Calculate mean MAD for threshold reference\n",
    "   mean_mad = np.mean(list(mad_scores.values()))\n",
    "   \n",
    "   # Add interpretation for each feature\n",
    "   for feature, score in sorted_scores:\n",
    "       if score > 2 * mean_mad:\n",
    "           variability = \"high\"\n",
    "       elif score > mean_mad:\n",
    "           variability = \"moderate\"\n",
    "       else:\n",
    "           variability = \"low\"\n",
    "           \n",
    "       output.append(f\"{feature}: {score:.6f} ({variability} variability)\")\n",
    "   \n",
    "   output.append(\"Interpretation:\")\n",
    "   output.append(\"-\" * 50)\n",
    "   output.append(\"MAD measures the average absolute deviation from the mean\")\n",
    "   output.append(f\"Average MAD across features: {mean_mad:.6f}\")\n",
    "   output.append(\"• High variability: > 2x average MAD\")\n",
    "   output.append(\"• Moderate variability: > average MAD\")\n",
    "   output.append(\"• Low variability: ≤ average MAD\")\n",
    "   \n",
    "   output.append(\"Recommendations:\")\n",
    "   output.append(\"-\" * 50)\n",
    "   low_var_features = [feature for feature, score in sorted_scores if score <= mean_mad/2]\n",
    "   if low_var_features:\n",
    "       output.append(\"Consider investigating these features with very low variability:\")\n",
    "       for feature in low_var_features:\n",
    "           output.append(f\"- {feature}\")\n",
    "   \n",
    "   return \"\".join(output)\n",
    "\n",
    "display(HTML(f\"<pre>{analyze_mean_absolute_difference()}</pre>\"))"
   ]
  },
  {
   "cell_type": "markdown",
   "metadata": {},
   "source": [
    "STAGE 8 - DISPERSION RATIO"
   ]
  },
  {
   "cell_type": "code",
   "execution_count": 249,
   "metadata": {},
   "outputs": [
    {
     "data": {
      "text/html": [
       "<pre>Dispersion Ratio Analysis==================================================Feature Dispersion Ratios (sorted by magnitude):--------------------------------------------------answered: 10.146680752436065 (very high dispersion)review_time: 2.0596176936002473 (moderate dispersion)day_type: 1.764063128708422 (low dispersion)verification: 1.459701530467765 (low dispersion)day_of_week_posted: 1.3015853528899344 (low dispersion)local_hour: 1.272520865094106 (low dispersion)month_posted: 1.1870429829281373 (low dispersion)repeat_reviewer_encoded: 1.143692042705547 (low dispersion)time_of_day: 1.0917196430018894 (low dispersion)Interpretation:--------------------------------------------------Dispersion Ratio measures the spread variation across rating groups• Very High: > 10• High: 5 - 10• Moderate: 2 - 5• Low: < 2Recommendations:--------------------------------------------------Features with low dispersion (might have limited discriminative power):- day_type- verification- day_of_week_posted- local_hour- month_posted- repeat_reviewer_encoded- time_of_day</pre>"
      ],
      "text/plain": [
       "<IPython.core.display.HTML object>"
      ]
     },
     "metadata": {},
     "output_type": "display_data"
    }
   ],
   "source": [
    "def analyze_dispersion_ratio():\n",
    "   # Get numeric features excluding the target\n",
    "   numeric_data = train_df.select_dtypes(include=['int64', 'float64'])\n",
    "   numeric_features = [col for col in numeric_data.columns if col != 'rating']\n",
    "   \n",
    "   # Function to calculate dispersion ratio for a single feature\n",
    "   def calculate_dispersion_ratio(feature):\n",
    "       # Calculate dispersion (variance) for each rating group\n",
    "       group_vars = train_df.groupby('rating')[feature].var()\n",
    "       # Calculate overall variance\n",
    "       total_var = train_df[feature].var()\n",
    "       # Dispersion ratio is max group variance / min group variance\n",
    "       if group_vars.min() == 0:\n",
    "           return float('inf')  # Handle division by zero\n",
    "       return group_vars.max() / group_vars.min()\n",
    "   \n",
    "   # Calculate dispersion ratios for all features\n",
    "   dispersion_ratios = {}\n",
    "   for feature in numeric_features:\n",
    "       dispersion_ratios[feature] = calculate_dispersion_ratio(feature)\n",
    "   \n",
    "   # Sort ratios in descending order\n",
    "   sorted_ratios = sorted(dispersion_ratios.items(), key=lambda x: x[1], reverse=True)\n",
    "   \n",
    "   # Prepare output\n",
    "   output = []\n",
    "   output.append(\"Dispersion Ratio Analysis\")\n",
    "   output.append(\"=\" * 50)\n",
    "   output.append(\"Feature Dispersion Ratios (sorted by magnitude):\")\n",
    "   output.append(\"-\" * 50)\n",
    "   \n",
    "   # Add interpretation for each feature\n",
    "   for feature, ratio in sorted_ratios:\n",
    "       if ratio == float('inf'):\n",
    "           interpretation = \"infinite (contains zero variance group)\"\n",
    "       elif ratio > 10:\n",
    "           interpretation = \"very high dispersion\"\n",
    "       elif ratio > 5:\n",
    "           interpretation = \"high dispersion\"\n",
    "       elif ratio > 2:\n",
    "           interpretation = \"moderate dispersion\"\n",
    "       else:\n",
    "           interpretation = \"low dispersion\"\n",
    "           \n",
    "       output.append(f\"{feature}: {ratio if ratio != float('inf') else 'inf'} ({interpretation})\")\n",
    "   \n",
    "   output.append(\"Interpretation:\")\n",
    "   output.append(\"-\" * 50)\n",
    "   output.append(\"Dispersion Ratio measures the spread variation across rating groups\")\n",
    "   output.append(\"• Very High: > 10\")\n",
    "   output.append(\"• High: 5 - 10\")\n",
    "   output.append(\"• Moderate: 2 - 5\")\n",
    "   output.append(\"• Low: < 2\")\n",
    "   \n",
    "   output.append(\"Recommendations:\")\n",
    "   output.append(\"-\" * 50)\n",
    "   low_disp_features = [feature for feature, ratio in sorted_ratios if ratio < 2 and ratio != float('inf')]\n",
    "   if low_disp_features:\n",
    "       output.append(\"Features with low dispersion (might have limited discriminative power):\")\n",
    "       for feature in low_disp_features:\n",
    "           output.append(f\"- {feature}\")\n",
    "   \n",
    "   return \"\".join(output)\n",
    "\n",
    "display(HTML(f\"<pre>{analyze_dispersion_ratio()}</pre>\"))"
   ]
  },
  {
   "cell_type": "markdown",
   "metadata": {},
   "source": [
    "STAGE 9 - KRUSKAL-WALLIS TEST"
   ]
  },
  {
   "cell_type": "code",
   "execution_count": 250,
   "metadata": {},
   "outputs": [
    {
     "name": "stdout",
     "output_type": "stream",
     "text": [
      "Starting Kruskal-Wallis analysis for all numeric variables...\n",
      "================================================================================\n"
     ]
    },
    {
     "data": {
      "text/html": [
       "<pre>Kruskal-Wallis Test Analysis: rating vs verification==================================================Hypothesis:H0: The samples come from the same distribution (no difference between rating groups)H1: The samples come from different distributions (difference exists between rating groups)Results:--------------------------------------------------H-statistic: 13425.2857p-value: 0.0000Interpretation:--------------------------------------------------p-value < 0.05: Reject H0There is a statistically significant difference in verification across rating groupsThe effect size appears to be strong (H = 13425.29)</pre>"
      ],
      "text/plain": [
       "<IPython.core.display.HTML object>"
      ]
     },
     "metadata": {},
     "output_type": "display_data"
    },
    {
     "data": {
      "text/html": [
       "<hr>"
      ],
      "text/plain": [
       "<IPython.core.display.HTML object>"
      ]
     },
     "metadata": {},
     "output_type": "display_data"
    },
    {
     "data": {
      "text/html": [
       "<pre>Kruskal-Wallis Test Analysis: rating vs repeat_reviewer_encoded==================================================Hypothesis:H0: The samples come from the same distribution (no difference between rating groups)H1: The samples come from different distributions (difference exists between rating groups)Results:--------------------------------------------------H-statistic: 4462.5119p-value: 0.0000Interpretation:--------------------------------------------------p-value < 0.05: Reject H0There is a statistically significant difference in repeat_reviewer_encoded across rating groupsThe effect size appears to be strong (H = 4462.51)</pre>"
      ],
      "text/plain": [
       "<IPython.core.display.HTML object>"
      ]
     },
     "metadata": {},
     "output_type": "display_data"
    },
    {
     "data": {
      "text/html": [
       "<hr>"
      ],
      "text/plain": [
       "<IPython.core.display.HTML object>"
      ]
     },
     "metadata": {},
     "output_type": "display_data"
    },
    {
     "data": {
      "text/html": [
       "<pre>Kruskal-Wallis Test Analysis: rating vs answered==================================================Hypothesis:H0: The samples come from the same distribution (no difference between rating groups)H1: The samples come from different distributions (difference exists between rating groups)Results:--------------------------------------------------H-statistic: 13069.9306p-value: 0.0000Interpretation:--------------------------------------------------p-value < 0.05: Reject H0There is a statistically significant difference in answered across rating groupsThe effect size appears to be strong (H = 13069.93)</pre>"
      ],
      "text/plain": [
       "<IPython.core.display.HTML object>"
      ]
     },
     "metadata": {},
     "output_type": "display_data"
    },
    {
     "data": {
      "text/html": [
       "<hr>"
      ],
      "text/plain": [
       "<IPython.core.display.HTML object>"
      ]
     },
     "metadata": {},
     "output_type": "display_data"
    },
    {
     "data": {
      "text/html": [
       "<pre>Kruskal-Wallis Test Analysis: rating vs month_posted==================================================Hypothesis:H0: The samples come from the same distribution (no difference between rating groups)H1: The samples come from different distributions (difference exists between rating groups)Results:--------------------------------------------------H-statistic: 423.0590p-value: 0.0000Interpretation:--------------------------------------------------p-value < 0.05: Reject H0There is a statistically significant difference in month_posted across rating groupsThe effect size appears to be strong (H = 423.06)</pre>"
      ],
      "text/plain": [
       "<IPython.core.display.HTML object>"
      ]
     },
     "metadata": {},
     "output_type": "display_data"
    },
    {
     "data": {
      "text/html": [
       "<hr>"
      ],
      "text/plain": [
       "<IPython.core.display.HTML object>"
      ]
     },
     "metadata": {},
     "output_type": "display_data"
    },
    {
     "data": {
      "text/html": [
       "<pre>Kruskal-Wallis Test Analysis: rating vs local_hour==================================================Hypothesis:H0: The samples come from the same distribution (no difference between rating groups)H1: The samples come from different distributions (difference exists between rating groups)Results:--------------------------------------------------H-statistic: 1022.1906p-value: 0.0000Interpretation:--------------------------------------------------p-value < 0.05: Reject H0There is a statistically significant difference in local_hour across rating groupsThe effect size appears to be strong (H = 1022.19)</pre>"
      ],
      "text/plain": [
       "<IPython.core.display.HTML object>"
      ]
     },
     "metadata": {},
     "output_type": "display_data"
    },
    {
     "data": {
      "text/html": [
       "<hr>"
      ],
      "text/plain": [
       "<IPython.core.display.HTML object>"
      ]
     },
     "metadata": {},
     "output_type": "display_data"
    },
    {
     "data": {
      "text/html": [
       "<pre>Kruskal-Wallis Test Analysis: rating vs time_of_day==================================================Hypothesis:H0: The samples come from the same distribution (no difference between rating groups)H1: The samples come from different distributions (difference exists between rating groups)Results:--------------------------------------------------H-statistic: 334.4169p-value: 0.0000Interpretation:--------------------------------------------------p-value < 0.05: Reject H0There is a statistically significant difference in time_of_day across rating groupsThe effect size appears to be strong (H = 334.42)</pre>"
      ],
      "text/plain": [
       "<IPython.core.display.HTML object>"
      ]
     },
     "metadata": {},
     "output_type": "display_data"
    },
    {
     "data": {
      "text/html": [
       "<hr>"
      ],
      "text/plain": [
       "<IPython.core.display.HTML object>"
      ]
     },
     "metadata": {},
     "output_type": "display_data"
    },
    {
     "data": {
      "text/html": [
       "<pre>Kruskal-Wallis Test Analysis: rating vs day_of_week_posted==================================================Hypothesis:H0: The samples come from the same distribution (no difference between rating groups)H1: The samples come from different distributions (difference exists between rating groups)Results:--------------------------------------------------H-statistic: 815.3249p-value: 0.0000Interpretation:--------------------------------------------------p-value < 0.05: Reject H0There is a statistically significant difference in day_of_week_posted across rating groupsThe effect size appears to be strong (H = 815.32)</pre>"
      ],
      "text/plain": [
       "<IPython.core.display.HTML object>"
      ]
     },
     "metadata": {},
     "output_type": "display_data"
    },
    {
     "data": {
      "text/html": [
       "<hr>"
      ],
      "text/plain": [
       "<IPython.core.display.HTML object>"
      ]
     },
     "metadata": {},
     "output_type": "display_data"
    },
    {
     "data": {
      "text/html": [
       "<pre>Kruskal-Wallis Test Analysis: rating vs day_type==================================================Hypothesis:H0: The samples come from the same distribution (no difference between rating groups)H1: The samples come from different distributions (difference exists between rating groups)Results:--------------------------------------------------H-statistic: 1540.7197p-value: 0.0000Interpretation:--------------------------------------------------p-value < 0.05: Reject H0There is a statistically significant difference in day_type across rating groupsThe effect size appears to be strong (H = 1540.72)</pre>"
      ],
      "text/plain": [
       "<IPython.core.display.HTML object>"
      ]
     },
     "metadata": {},
     "output_type": "display_data"
    },
    {
     "data": {
      "text/html": [
       "<hr>"
      ],
      "text/plain": [
       "<IPython.core.display.HTML object>"
      ]
     },
     "metadata": {},
     "output_type": "display_data"
    },
    {
     "data": {
      "text/html": [
       "<pre>Kruskal-Wallis Test Analysis: rating vs review_time==================================================Hypothesis:H0: The samples come from the same distribution (no difference between rating groups)H1: The samples come from different distributions (difference exists between rating groups)Results:--------------------------------------------------H-statistic: 2526.5178p-value: 0.0000Interpretation:--------------------------------------------------p-value < 0.05: Reject H0There is a statistically significant difference in review_time across rating groupsThe effect size appears to be strong (H = 2526.52)</pre>"
      ],
      "text/plain": [
       "<IPython.core.display.HTML object>"
      ]
     },
     "metadata": {},
     "output_type": "display_data"
    },
    {
     "data": {
      "text/html": [
       "<hr>"
      ],
      "text/plain": [
       "<IPython.core.display.HTML object>"
      ]
     },
     "metadata": {},
     "output_type": "display_data"
    }
   ],
   "source": [
    "from scipy.stats import kruskal\n",
    "\n",
    "def analyze_kruskal_wallis(column_name):\n",
    "   if column_name not in train_df.columns:\n",
    "       return f\"Error: Column '{column_name}' not found in dataframe\"\n",
    "   \n",
    "   # Calculate test statistics\n",
    "   rating_groups = [train_df[train_df['rating'] == rating][column_name] \n",
    "                   for rating in train_df['rating'].unique()]\n",
    "   h_statistic, p_value = kruskal(*rating_groups)\n",
    "   \n",
    "   # Format output\n",
    "   output = []\n",
    "   output.append(f\"Kruskal-Wallis Test Analysis: rating vs {column_name}\")\n",
    "   output.append(\"=\" * 50)\n",
    "   \n",
    "   output.append(\"Hypothesis:\")\n",
    "   output.append(\"H0: The samples come from the same distribution (no difference between rating groups)\")\n",
    "   output.append(\"H1: The samples come from different distributions (difference exists between rating groups)\")\n",
    "   \n",
    "   output.append(\"Results:\")\n",
    "   output.append(\"-\" * 50)\n",
    "   output.append(f\"H-statistic: {h_statistic:.4f}\")\n",
    "   output.append(f\"p-value: {p_value:.4f}\")\n",
    "   \n",
    "   # Interpretation\n",
    "   output.append(\"Interpretation:\")\n",
    "   output.append(\"-\" * 50)\n",
    "   if p_value < 0.05:\n",
    "       output.append(\"p-value < 0.05: Reject H0\")\n",
    "       output.append(f\"There is a statistically significant difference in {column_name} across rating groups\")\n",
    "       \n",
    "       # Effect size interpretation (using H-statistic)\n",
    "       if h_statistic > 50:\n",
    "           strength = \"strong\"\n",
    "       elif h_statistic > 30:\n",
    "           strength = \"moderate\"\n",
    "       else:\n",
    "           strength = \"weak\"\n",
    "       output.append(f\"The effect size appears to be {strength} (H = {h_statistic:.2f})\")\n",
    "   else:\n",
    "       output.append(\"p-value ≥ 0.05: Fail to reject H0\")\n",
    "       output.append(f\"No significant difference in {column_name} across rating groups\")\n",
    "   \n",
    "   return \"\".join(output)\n",
    "\n",
    "# Get numeric columns excluding 'rating'\n",
    "numeric_columns = train_df.select_dtypes(include=['int64', 'float64']).columns\n",
    "numeric_columns = [col for col in numeric_columns if col != 'rating']\n",
    "\n",
    "print(\"Starting Kruskal-Wallis analysis for all numeric variables...\")\n",
    "print(\"=\" * 80)\n",
    "\n",
    "# Loop through each numeric column\n",
    "for column in numeric_columns:\n",
    "   display(HTML(f\"<pre>{analyze_kruskal_wallis(column)}</pre>\"))\n",
    "   display(HTML(\"<hr>\"))"
   ]
  },
  {
   "cell_type": "markdown",
   "metadata": {},
   "source": [
    "STAGE 10 - RECURSIVE FEATURE ELIMINATION"
   ]
  },
  {
   "cell_type": "code",
   "execution_count": 251,
   "metadata": {},
   "outputs": [
    {
     "name": "stderr",
     "output_type": "stream",
     "text": [
      "/Library/Frameworks/Python.framework/Versions/3.12/lib/python3.12/site-packages/sklearn/linear_model/_logistic.py:1247: FutureWarning: 'multi_class' was deprecated in version 1.5 and will be removed in 1.7. From then on, it will always use 'multinomial'. Leave it to its default value to avoid this warning.\n",
      "  warnings.warn(\n",
      "/Library/Frameworks/Python.framework/Versions/3.12/lib/python3.12/site-packages/sklearn/linear_model/_logistic.py:1247: FutureWarning: 'multi_class' was deprecated in version 1.5 and will be removed in 1.7. From then on, it will always use 'multinomial'. Leave it to its default value to avoid this warning.\n",
      "  warnings.warn(\n",
      "/Library/Frameworks/Python.framework/Versions/3.12/lib/python3.12/site-packages/sklearn/linear_model/_logistic.py:1247: FutureWarning: 'multi_class' was deprecated in version 1.5 and will be removed in 1.7. From then on, it will always use 'multinomial'. Leave it to its default value to avoid this warning.\n",
      "  warnings.warn(\n",
      "/Library/Frameworks/Python.framework/Versions/3.12/lib/python3.12/site-packages/sklearn/linear_model/_logistic.py:1247: FutureWarning: 'multi_class' was deprecated in version 1.5 and will be removed in 1.7. From then on, it will always use 'multinomial'. Leave it to its default value to avoid this warning.\n",
      "  warnings.warn(\n",
      "/Library/Frameworks/Python.framework/Versions/3.12/lib/python3.12/site-packages/sklearn/linear_model/_logistic.py:1247: FutureWarning: 'multi_class' was deprecated in version 1.5 and will be removed in 1.7. From then on, it will always use 'multinomial'. Leave it to its default value to avoid this warning.\n",
      "  warnings.warn(\n",
      "/Library/Frameworks/Python.framework/Versions/3.12/lib/python3.12/site-packages/sklearn/linear_model/_logistic.py:1247: FutureWarning: 'multi_class' was deprecated in version 1.5 and will be removed in 1.7. From then on, it will always use 'multinomial'. Leave it to its default value to avoid this warning.\n",
      "  warnings.warn(\n",
      "/Library/Frameworks/Python.framework/Versions/3.12/lib/python3.12/site-packages/sklearn/linear_model/_logistic.py:1247: FutureWarning: 'multi_class' was deprecated in version 1.5 and will be removed in 1.7. From then on, it will always use 'multinomial'. Leave it to its default value to avoid this warning.\n",
      "  warnings.warn(\n",
      "/Library/Frameworks/Python.framework/Versions/3.12/lib/python3.12/site-packages/sklearn/linear_model/_logistic.py:1247: FutureWarning: 'multi_class' was deprecated in version 1.5 and will be removed in 1.7. From then on, it will always use 'multinomial'. Leave it to its default value to avoid this warning.\n",
      "  warnings.warn(\n",
      "/Library/Frameworks/Python.framework/Versions/3.12/lib/python3.12/site-packages/sklearn/linear_model/_logistic.py:1247: FutureWarning: 'multi_class' was deprecated in version 1.5 and will be removed in 1.7. From then on, it will always use 'multinomial'. Leave it to its default value to avoid this warning.\n",
      "  warnings.warn(\n",
      "/Library/Frameworks/Python.framework/Versions/3.12/lib/python3.12/site-packages/sklearn/linear_model/_logistic.py:1247: FutureWarning: 'multi_class' was deprecated in version 1.5 and will be removed in 1.7. From then on, it will always use 'multinomial'. Leave it to its default value to avoid this warning.\n",
      "  warnings.warn(\n",
      "/Library/Frameworks/Python.framework/Versions/3.12/lib/python3.12/site-packages/sklearn/linear_model/_logistic.py:1247: FutureWarning: 'multi_class' was deprecated in version 1.5 and will be removed in 1.7. From then on, it will always use 'multinomial'. Leave it to its default value to avoid this warning.\n",
      "  warnings.warn(\n",
      "/Library/Frameworks/Python.framework/Versions/3.12/lib/python3.12/site-packages/sklearn/linear_model/_logistic.py:1247: FutureWarning: 'multi_class' was deprecated in version 1.5 and will be removed in 1.7. From then on, it will always use 'multinomial'. Leave it to its default value to avoid this warning.\n",
      "  warnings.warn(\n",
      "/Library/Frameworks/Python.framework/Versions/3.12/lib/python3.12/site-packages/sklearn/linear_model/_logistic.py:1247: FutureWarning: 'multi_class' was deprecated in version 1.5 and will be removed in 1.7. From then on, it will always use 'multinomial'. Leave it to its default value to avoid this warning.\n",
      "  warnings.warn(\n",
      "/Library/Frameworks/Python.framework/Versions/3.12/lib/python3.12/site-packages/sklearn/linear_model/_logistic.py:1247: FutureWarning: 'multi_class' was deprecated in version 1.5 and will be removed in 1.7. From then on, it will always use 'multinomial'. Leave it to its default value to avoid this warning.\n",
      "  warnings.warn(\n",
      "/Library/Frameworks/Python.framework/Versions/3.12/lib/python3.12/site-packages/sklearn/linear_model/_logistic.py:1247: FutureWarning: 'multi_class' was deprecated in version 1.5 and will be removed in 1.7. From then on, it will always use 'multinomial'. Leave it to its default value to avoid this warning.\n",
      "  warnings.warn(\n",
      "/Library/Frameworks/Python.framework/Versions/3.12/lib/python3.12/site-packages/sklearn/linear_model/_logistic.py:1247: FutureWarning: 'multi_class' was deprecated in version 1.5 and will be removed in 1.7. From then on, it will always use 'multinomial'. Leave it to its default value to avoid this warning.\n",
      "  warnings.warn(\n",
      "/Library/Frameworks/Python.framework/Versions/3.12/lib/python3.12/site-packages/sklearn/linear_model/_logistic.py:1247: FutureWarning: 'multi_class' was deprecated in version 1.5 and will be removed in 1.7. From then on, it will always use 'multinomial'. Leave it to its default value to avoid this warning.\n",
      "  warnings.warn(\n",
      "/Library/Frameworks/Python.framework/Versions/3.12/lib/python3.12/site-packages/sklearn/linear_model/_logistic.py:1247: FutureWarning: 'multi_class' was deprecated in version 1.5 and will be removed in 1.7. From then on, it will always use 'multinomial'. Leave it to its default value to avoid this warning.\n",
      "  warnings.warn(\n",
      "/Library/Frameworks/Python.framework/Versions/3.12/lib/python3.12/site-packages/sklearn/linear_model/_logistic.py:1247: FutureWarning: 'multi_class' was deprecated in version 1.5 and will be removed in 1.7. From then on, it will always use 'multinomial'. Leave it to its default value to avoid this warning.\n",
      "  warnings.warn(\n",
      "/Library/Frameworks/Python.framework/Versions/3.12/lib/python3.12/site-packages/sklearn/linear_model/_logistic.py:1247: FutureWarning: 'multi_class' was deprecated in version 1.5 and will be removed in 1.7. From then on, it will always use 'multinomial'. Leave it to its default value to avoid this warning.\n",
      "  warnings.warn(\n",
      "/Library/Frameworks/Python.framework/Versions/3.12/lib/python3.12/site-packages/sklearn/linear_model/_logistic.py:1247: FutureWarning: 'multi_class' was deprecated in version 1.5 and will be removed in 1.7. From then on, it will always use 'multinomial'. Leave it to its default value to avoid this warning.\n",
      "  warnings.warn(\n",
      "/Library/Frameworks/Python.framework/Versions/3.12/lib/python3.12/site-packages/sklearn/linear_model/_logistic.py:1247: FutureWarning: 'multi_class' was deprecated in version 1.5 and will be removed in 1.7. From then on, it will always use 'multinomial'. Leave it to its default value to avoid this warning.\n",
      "  warnings.warn(\n",
      "/Library/Frameworks/Python.framework/Versions/3.12/lib/python3.12/site-packages/sklearn/linear_model/_logistic.py:1247: FutureWarning: 'multi_class' was deprecated in version 1.5 and will be removed in 1.7. From then on, it will always use 'multinomial'. Leave it to its default value to avoid this warning.\n",
      "  warnings.warn(\n",
      "/Library/Frameworks/Python.framework/Versions/3.12/lib/python3.12/site-packages/sklearn/linear_model/_logistic.py:1247: FutureWarning: 'multi_class' was deprecated in version 1.5 and will be removed in 1.7. From then on, it will always use 'multinomial'. Leave it to its default value to avoid this warning.\n",
      "  warnings.warn(\n",
      "/Library/Frameworks/Python.framework/Versions/3.12/lib/python3.12/site-packages/sklearn/linear_model/_logistic.py:1247: FutureWarning: 'multi_class' was deprecated in version 1.5 and will be removed in 1.7. From then on, it will always use 'multinomial'. Leave it to its default value to avoid this warning.\n",
      "  warnings.warn(\n",
      "/Library/Frameworks/Python.framework/Versions/3.12/lib/python3.12/site-packages/sklearn/linear_model/_logistic.py:1247: FutureWarning: 'multi_class' was deprecated in version 1.5 and will be removed in 1.7. From then on, it will always use 'multinomial'. Leave it to its default value to avoid this warning.\n",
      "  warnings.warn(\n",
      "/Library/Frameworks/Python.framework/Versions/3.12/lib/python3.12/site-packages/sklearn/linear_model/_logistic.py:1247: FutureWarning: 'multi_class' was deprecated in version 1.5 and will be removed in 1.7. From then on, it will always use 'multinomial'. Leave it to its default value to avoid this warning.\n",
      "  warnings.warn(\n",
      "/Library/Frameworks/Python.framework/Versions/3.12/lib/python3.12/site-packages/sklearn/linear_model/_logistic.py:1247: FutureWarning: 'multi_class' was deprecated in version 1.5 and will be removed in 1.7. From then on, it will always use 'multinomial'. Leave it to its default value to avoid this warning.\n",
      "  warnings.warn(\n",
      "/Library/Frameworks/Python.framework/Versions/3.12/lib/python3.12/site-packages/sklearn/linear_model/_logistic.py:1247: FutureWarning: 'multi_class' was deprecated in version 1.5 and will be removed in 1.7. From then on, it will always use 'multinomial'. Leave it to its default value to avoid this warning.\n",
      "  warnings.warn(\n",
      "/Library/Frameworks/Python.framework/Versions/3.12/lib/python3.12/site-packages/sklearn/linear_model/_logistic.py:1247: FutureWarning: 'multi_class' was deprecated in version 1.5 and will be removed in 1.7. From then on, it will always use 'multinomial'. Leave it to its default value to avoid this warning.\n",
      "  warnings.warn(\n",
      "/Library/Frameworks/Python.framework/Versions/3.12/lib/python3.12/site-packages/sklearn/linear_model/_logistic.py:1247: FutureWarning: 'multi_class' was deprecated in version 1.5 and will be removed in 1.7. From then on, it will always use 'multinomial'. Leave it to its default value to avoid this warning.\n",
      "  warnings.warn(\n",
      "/Library/Frameworks/Python.framework/Versions/3.12/lib/python3.12/site-packages/sklearn/linear_model/_logistic.py:1247: FutureWarning: 'multi_class' was deprecated in version 1.5 and will be removed in 1.7. From then on, it will always use 'multinomial'. Leave it to its default value to avoid this warning.\n",
      "  warnings.warn(\n",
      "/Library/Frameworks/Python.framework/Versions/3.12/lib/python3.12/site-packages/sklearn/linear_model/_logistic.py:1247: FutureWarning: 'multi_class' was deprecated in version 1.5 and will be removed in 1.7. From then on, it will always use 'multinomial'. Leave it to its default value to avoid this warning.\n",
      "  warnings.warn(\n",
      "/Library/Frameworks/Python.framework/Versions/3.12/lib/python3.12/site-packages/sklearn/linear_model/_logistic.py:1247: FutureWarning: 'multi_class' was deprecated in version 1.5 and will be removed in 1.7. From then on, it will always use 'multinomial'. Leave it to its default value to avoid this warning.\n",
      "  warnings.warn(\n",
      "/Library/Frameworks/Python.framework/Versions/3.12/lib/python3.12/site-packages/sklearn/linear_model/_logistic.py:1247: FutureWarning: 'multi_class' was deprecated in version 1.5 and will be removed in 1.7. From then on, it will always use 'multinomial'. Leave it to its default value to avoid this warning.\n",
      "  warnings.warn(\n",
      "/Library/Frameworks/Python.framework/Versions/3.12/lib/python3.12/site-packages/sklearn/linear_model/_logistic.py:1247: FutureWarning: 'multi_class' was deprecated in version 1.5 and will be removed in 1.7. From then on, it will always use 'multinomial'. Leave it to its default value to avoid this warning.\n",
      "  warnings.warn(\n",
      "/Library/Frameworks/Python.framework/Versions/3.12/lib/python3.12/site-packages/sklearn/linear_model/_logistic.py:1247: FutureWarning: 'multi_class' was deprecated in version 1.5 and will be removed in 1.7. From then on, it will always use 'multinomial'. Leave it to its default value to avoid this warning.\n",
      "  warnings.warn(\n",
      "/Library/Frameworks/Python.framework/Versions/3.12/lib/python3.12/site-packages/sklearn/linear_model/_logistic.py:1247: FutureWarning: 'multi_class' was deprecated in version 1.5 and will be removed in 1.7. From then on, it will always use 'multinomial'. Leave it to its default value to avoid this warning.\n",
      "  warnings.warn(\n",
      "/Library/Frameworks/Python.framework/Versions/3.12/lib/python3.12/site-packages/sklearn/linear_model/_logistic.py:1247: FutureWarning: 'multi_class' was deprecated in version 1.5 and will be removed in 1.7. From then on, it will always use 'multinomial'. Leave it to its default value to avoid this warning.\n",
      "  warnings.warn(\n",
      "/Library/Frameworks/Python.framework/Versions/3.12/lib/python3.12/site-packages/sklearn/linear_model/_logistic.py:1247: FutureWarning: 'multi_class' was deprecated in version 1.5 and will be removed in 1.7. From then on, it will always use 'multinomial'. Leave it to its default value to avoid this warning.\n",
      "  warnings.warn(\n",
      "/Library/Frameworks/Python.framework/Versions/3.12/lib/python3.12/site-packages/sklearn/linear_model/_logistic.py:1247: FutureWarning: 'multi_class' was deprecated in version 1.5 and will be removed in 1.7. From then on, it will always use 'multinomial'. Leave it to its default value to avoid this warning.\n",
      "  warnings.warn(\n",
      "/Library/Frameworks/Python.framework/Versions/3.12/lib/python3.12/site-packages/sklearn/linear_model/_logistic.py:1247: FutureWarning: 'multi_class' was deprecated in version 1.5 and will be removed in 1.7. From then on, it will always use 'multinomial'. Leave it to its default value to avoid this warning.\n",
      "  warnings.warn(\n",
      "/Library/Frameworks/Python.framework/Versions/3.12/lib/python3.12/site-packages/sklearn/linear_model/_logistic.py:1247: FutureWarning: 'multi_class' was deprecated in version 1.5 and will be removed in 1.7. From then on, it will always use 'multinomial'. Leave it to its default value to avoid this warning.\n",
      "  warnings.warn(\n",
      "/Library/Frameworks/Python.framework/Versions/3.12/lib/python3.12/site-packages/sklearn/linear_model/_logistic.py:1247: FutureWarning: 'multi_class' was deprecated in version 1.5 and will be removed in 1.7. From then on, it will always use 'multinomial'. Leave it to its default value to avoid this warning.\n",
      "  warnings.warn(\n",
      "/Library/Frameworks/Python.framework/Versions/3.12/lib/python3.12/site-packages/sklearn/linear_model/_logistic.py:1247: FutureWarning: 'multi_class' was deprecated in version 1.5 and will be removed in 1.7. From then on, it will always use 'multinomial'. Leave it to its default value to avoid this warning.\n",
      "  warnings.warn(\n"
     ]
    },
    {
     "data": {
      "text/html": [
       "<pre>Recursive Feature Elimination Analysis==================================================Optimal number of features: 2Best CV score: 0.5900Feature Rankings (1 = selected, higher = eliminated earlier):--------------------------------------------------verification: 1 (selected)answered: 1 (selected)review_time: 2 (eliminated)day_type: 3 (eliminated)repeat_reviewer_encoded: 4 (eliminated)month_posted: 5 (eliminated)time_of_day: 6 (eliminated)local_hour: 7 (eliminated)day_of_week_posted: 8 (eliminated)Selected Features:--------------------------------------------------- verification- answeredRecommendations:--------------------------------------------------Consider removing these features:- repeat_reviewer_encoded- month_posted- local_hour- time_of_day- day_of_week_posted- day_type- review_time</pre>"
      ],
      "text/plain": [
       "<IPython.core.display.HTML object>"
      ]
     },
     "metadata": {},
     "output_type": "display_data"
    }
   ],
   "source": [
    "from sklearn.feature_selection import RFECV\n",
    "from sklearn.linear_model import LogisticRegression\n",
    "from sklearn.preprocessing import StandardScaler\n",
    "\n",
    "def analyze_recursive_feature_elimination():\n",
    "    # Get numeric features excluding the target\n",
    "    numeric_data = train_df.select_dtypes(include=['int64', 'float64'])\n",
    "    X = numeric_data.drop('rating', axis=1)\n",
    "    y = train_df['rating']\n",
    "\n",
    "    # Scale the features\n",
    "    scaler = StandardScaler()\n",
    "    X_scaled = scaler.fit_transform(X)\n",
    "\n",
    "    # Initialize the estimator\n",
    "    estimator = LogisticRegression(max_iter=1000, multi_class='multinomial')\n",
    "\n",
    "    # Initialize RFECV\n",
    "    selector = RFECV(\n",
    "        estimator=estimator,\n",
    "        step=1,\n",
    "        min_features_to_select=1,\n",
    "        cv=5,\n",
    "        scoring='accuracy',\n",
    "        n_jobs=-1\n",
    "    )\n",
    "\n",
    "    selector = selector.fit(X_scaled, y)\n",
    "\n",
    "    # Get selected features and their ranks\n",
    "    feature_ranks = dict(zip(X.columns, selector.ranking_))\n",
    "    selected_features = X.columns[selector.support_].tolist()\n",
    "\n",
    "    # Sort features by importance rank\n",
    "    sorted_features = sorted(feature_ranks.items(), key=lambda x: x[1])\n",
    "\n",
    "    # Prepare output\n",
    "    output = []\n",
    "    output.append(\"Recursive Feature Elimination Analysis\")\n",
    "    output.append(\"=\" * 50)\n",
    "    output.append(f\"Optimal number of features: {selector.n_features_}\")\n",
    "    \n",
    "    # Use cv_results_ instead of grid_scores_\n",
    "    best_score = max(selector.cv_results_['mean_test_score'])\n",
    "    output.append(f\"Best CV score: {best_score:.4f}\")\n",
    "\n",
    "    output.append(\"Feature Rankings (1 = selected, higher = eliminated earlier):\")\n",
    "    output.append(\"-\" * 50)\n",
    "    for feature, rank in sorted_features:\n",
    "        status = \"selected\" if rank == 1 else \"eliminated\"\n",
    "        output.append(f\"{feature}: {rank} ({status})\")\n",
    "\n",
    "    output.append(\"Selected Features:\")\n",
    "    output.append(\"-\" * 50)\n",
    "    for feature in selected_features:\n",
    "        output.append(f\"- {feature}\")\n",
    "\n",
    "    output.append(\"Recommendations:\")\n",
    "    output.append(\"-\" * 50)\n",
    "    eliminated_features = [feature for feature, rank in feature_ranks.items() if rank > 1]\n",
    "    if eliminated_features:\n",
    "        output.append(\"Consider removing these features:\")\n",
    "        for feature in eliminated_features:\n",
    "            output.append(f\"- {feature}\")\n",
    "\n",
    "    return \"\".join(output)\n",
    "\n",
    "from IPython.display import HTML, display\n",
    "display(HTML(f\"<pre>{analyze_recursive_feature_elimination()}</pre>\"))"
   ]
  },
  {
   "cell_type": "markdown",
   "metadata": {},
   "source": [
    "STAGE 11 - LASSO"
   ]
  },
  {
   "cell_type": "code",
   "execution_count": 252,
   "metadata": {},
   "outputs": [
    {
     "data": {
      "text/html": [
       "<pre>Lasso Feature Selection Analysis==================================================Best alpha: 0.000737Feature Coefficients (sorted by importance):--------------------------------------------------verification: 0.615704 (strong importance)answered: 0.377730 (moderate importance)review_time: 0.195695 (moderate importance)day_type: 0.136589 (moderate importance)repeat_reviewer_encoded: -0.106571 (moderate importance)month_posted: 0.075609 (weak importance)time_of_day: -0.028693 (weak importance)local_hour: -0.016742 (weak importance)day_of_week_posted: -0.008972 (very weak importance)Selected Features:--------------------------------------------------Number of features selected: 9- verification- answered- review_time- day_type- repeat_reviewer_encoded- month_posted- time_of_day- local_hour- day_of_week_postedRecommendations:--------------------------------------------------Features with very weak importance:- day_of_week_posted</pre>"
      ],
      "text/plain": [
       "<IPython.core.display.HTML object>"
      ]
     },
     "metadata": {},
     "output_type": "display_data"
    }
   ],
   "source": [
    "from sklearn.linear_model import LassoCV\n",
    "from sklearn.preprocessing import StandardScaler\n",
    "\n",
    "def analyze_lasso_feature_selection():\n",
    "   # Get numeric features excluding the target\n",
    "   numeric_data = train_df.select_dtypes(include=['int64', 'float64'])\n",
    "   X = numeric_data.drop('rating', axis=1)\n",
    "   y = train_df['rating']\n",
    "   \n",
    "   # Scale the features\n",
    "   scaler = StandardScaler()\n",
    "   X_scaled = scaler.fit_transform(X)\n",
    "   \n",
    "   # Initialize and fit LassoCV\n",
    "   lasso = LassoCV(\n",
    "       cv=5,\n",
    "       random_state=42,\n",
    "       max_iter=1000\n",
    "   )\n",
    "   lasso.fit(X_scaled, y)\n",
    "   \n",
    "   # Get feature coefficients\n",
    "   feature_coef = dict(zip(X.columns, lasso.coef_))\n",
    "   \n",
    "   # Sort features by absolute coefficient values\n",
    "   sorted_features = sorted(feature_coef.items(), key=lambda x: abs(x[1]), reverse=True)\n",
    "   \n",
    "   # Prepare output\n",
    "   output = []\n",
    "   output.append(\"Lasso Feature Selection Analysis\")\n",
    "   output.append(\"=\" * 50)\n",
    "   \n",
    "   output.append(f\"Best alpha: {lasso.alpha_:.6f}\")\n",
    "   \n",
    "   output.append(\"Feature Coefficients (sorted by importance):\")\n",
    "   output.append(\"-\" * 50)\n",
    "   \n",
    "   # Categorize features by importance\n",
    "   for feature, coef in sorted_features:\n",
    "       if abs(coef) == 0:\n",
    "           importance = \"not important (eliminated)\"\n",
    "       elif abs(coef) < 0.01:\n",
    "           importance = \"very weak importance\"\n",
    "       elif abs(coef) < 0.1:\n",
    "           importance = \"weak importance\"\n",
    "       elif abs(coef) < 0.5:\n",
    "           importance = \"moderate importance\"\n",
    "       else:\n",
    "           importance = \"strong importance\"\n",
    "           \n",
    "       output.append(f\"{feature}: {coef:.6f} ({importance})\")\n",
    "   \n",
    "   # Selected features (non-zero coefficients)\n",
    "   selected_features = [feature for feature, coef in sorted_features if coef != 0]\n",
    "   \n",
    "   output.append(\"Selected Features:\")\n",
    "   output.append(\"-\" * 50)\n",
    "   output.append(f\"Number of features selected: {len(selected_features)}\")\n",
    "   for feature in selected_features:\n",
    "       output.append(f\"- {feature}\")\n",
    "   \n",
    "   output.append(\"Recommendations:\")\n",
    "   output.append(\"-\" * 50)\n",
    "   eliminated_features = [feature for feature, coef in sorted_features if coef == 0]\n",
    "   if eliminated_features:\n",
    "       output.append(\"Consider removing these features (zero coefficients):\")\n",
    "       for feature in eliminated_features:\n",
    "           output.append(f\"- {feature}\")\n",
    "   \n",
    "   weak_features = [feature for feature, coef in sorted_features \n",
    "                   if 0 < abs(coef) < 0.01]\n",
    "   if weak_features:\n",
    "       output.append(\"Features with very weak importance:\")\n",
    "       for feature in weak_features:\n",
    "           output.append(f\"- {feature}\")\n",
    "   \n",
    "   return \"\".join(output)\n",
    "\n",
    "display(HTML(f\"<pre>{analyze_lasso_feature_selection()}</pre>\"))"
   ]
  },
  {
   "cell_type": "markdown",
   "metadata": {},
   "source": [
    "STAGE 12 - RANDOM FOREST IMPORTANCE"
   ]
  },
  {
   "cell_type": "code",
   "execution_count": 253,
   "metadata": {},
   "outputs": [
    {
     "data": {
      "text/html": [
       "<pre>Random Forest Feature Importance Analysis==================================================Model Performance:--------------------------------------------------Training accuracy: 0.6841Feature Importance Rankings:--------------------------------------------------local_hour: 0.2223 (Cumulative: 0.2223)month_posted: 0.2134 (Cumulative: 0.4357)answered: 0.1640 (Cumulative: 0.5998)verification: 0.1518 (Cumulative: 0.7515)day_of_week_posted: 0.1301 (Cumulative: 0.8816)repeat_reviewer_encoded: 0.0462 (Cumulative: 0.9277)review_time: 0.0379 (Cumulative: 0.9657)time_of_day: 0.0231 (Cumulative: 0.9887)day_type: 0.0113 (Cumulative: 1.0000)Key Features (95% of cumulative importance):--------------------------------------------------- local_hour- month_posted- answered- verification- day_of_week_posted- repeat_reviewer_encodedRecommendations:--------------------------------------------------Consider removing these low-importance features:- review_time (importance: 0.0379)- time_of_day (importance: 0.0231)- day_type (importance: 0.0113)Additional Insights:--------------------------------------------------Top 3 most important features account for 60.0% of total importanceNumber of features needed for 95% importance: 6</pre>"
      ],
      "text/plain": [
       "<IPython.core.display.HTML object>"
      ]
     },
     "metadata": {},
     "output_type": "display_data"
    },
    {
     "data": {
      "image/png": "[encoded data removed]",
      "text/plain": [
       "<Figure size 1000x600 with 1 Axes>"
      ]
     },
     "metadata": {},
     "output_type": "display_data"
    },
    {
     "data": {
      "image/png": "[encoded data removed]",
      "text/plain": [
       "<Figure size 1000x600 with 1 Axes>"
      ]
     },
     "metadata": {},
     "output_type": "display_data"
    }
   ],
   "source": [
    "from sklearn.ensemble import RandomForestClassifier\n",
    "from sklearn.preprocessing import StandardScaler\n",
    "import numpy as np\n",
    "import pandas as pd\n",
    "\n",
    "def analyze_random_forest_importance():\n",
    "    # Get numeric features excluding the target\n",
    "    numeric_data = train_df.select_dtypes(include=['int64', 'float64'])\n",
    "    X = numeric_data.drop('rating', axis=1)\n",
    "    y = train_df['rating']\n",
    "\n",
    "    # Scale the features\n",
    "    scaler = StandardScaler()\n",
    "    X_scaled = scaler.fit_transform(X)\n",
    "    \n",
    "    # Initialize and fit Random Forest\n",
    "    rf = RandomForestClassifier(\n",
    "        n_estimators=100,\n",
    "        max_depth=None,\n",
    "        min_samples_split=2,\n",
    "        min_samples_leaf=1,\n",
    "        n_jobs=-1,\n",
    "        random_state=42\n",
    "    )\n",
    "    \n",
    "    rf.fit(X_scaled, y)\n",
    "    \n",
    "    # Get feature importance scores\n",
    "    importance_scores = rf.feature_importances_\n",
    "    \n",
    "    # Create DataFrame with features and their importance scores\n",
    "    feature_importance = pd.DataFrame({\n",
    "        'feature': X.columns,\n",
    "        'importance': importance_scores\n",
    "    })\n",
    "    \n",
    "    # Sort by importance\n",
    "    feature_importance = feature_importance.sort_values('importance', ascending=False)\n",
    "    \n",
    "    # Calculate cumulative importance\n",
    "    feature_importance['cumulative_importance'] = np.cumsum(feature_importance['importance'])\n",
    "    \n",
    "    # Find features that account for 95% of cumulative importance\n",
    "    important_features = feature_importance[\n",
    "        feature_importance['cumulative_importance'] <= 0.95\n",
    "    ]['feature'].tolist()\n",
    "    \n",
    "    # Prepare output\n",
    "    output = []\n",
    "    output.append(\"Random Forest Feature Importance Analysis\")\n",
    "    output.append(\"=\" * 50)\n",
    "    \n",
    "    # Model performance\n",
    "    output.append(\"Model Performance:\")\n",
    "    output.append(\"-\" * 50)\n",
    "    train_score = rf.score(X_scaled, y)\n",
    "    output.append(f\"Training accuracy: {train_score:.4f}\")\n",
    "    \n",
    "    # Feature importance details\n",
    "    output.append(\"Feature Importance Rankings:\")\n",
    "    output.append(\"-\" * 50)\n",
    "    for idx, row in feature_importance.iterrows():\n",
    "        output.append(\n",
    "            f\"{row['feature']}: \"\n",
    "            f\"{row['importance']:.4f} \"\n",
    "            f\"(Cumulative: {row['cumulative_importance']:.4f})\"\n",
    "        )\n",
    "    \n",
    "    # Features accounting for 95% of importance\n",
    "    output.append(\"Key Features (95% of cumulative importance):\")\n",
    "    output.append(\"-\" * 50)\n",
    "    for feature in important_features:\n",
    "        output.append(f\"- {feature}\")\n",
    "    \n",
    "    # Low importance features\n",
    "    low_importance_features = feature_importance[\n",
    "        ~feature_importance['feature'].isin(important_features)\n",
    "    ]['feature'].tolist()\n",
    "    \n",
    "    output.append(\"Recommendations:\")\n",
    "    output.append(\"-\" * 50)\n",
    "    if low_importance_features:\n",
    "        output.append(\"Consider removing these low-importance features:\")\n",
    "        for feature in low_importance_features:\n",
    "            importance = feature_importance[\n",
    "                feature_importance['feature'] == feature\n",
    "            ]['importance'].values[0]\n",
    "            output.append(f\"- {feature} (importance: {importance:.4f})\")\n",
    "    \n",
    "    # Additional insights\n",
    "    output.append(\"Additional Insights:\")\n",
    "    output.append(\"-\" * 50)\n",
    "    output.append(f\"Top 3 most important features account for \"\n",
    "                 f\"{feature_importance['importance'][:3].sum():.1%} of total importance\")\n",
    "    output.append(f\"Number of features needed for 95% importance: {len(important_features)}\")\n",
    "    \n",
    "    return \"\".join(output)\n",
    "\n",
    "# Run the analysis\n",
    "from IPython.display import HTML, display\n",
    "display(HTML(f\"<pre>{analyze_random_forest_importance()}</pre>\"))\n",
    "\n",
    "# Optional: Create visualization of feature importance\n",
    "def plot_feature_importance():\n",
    "    \"\"\"\n",
    "    Create a visualization of feature importance\n",
    "    Returns a matplotlib figure\n",
    "    \"\"\"\n",
    "    import matplotlib.pyplot as plt\n",
    "    \n",
    "    # Run the analysis to get feature importance\n",
    "    numeric_data = train_df.select_dtypes(include=['int64', 'float64'])\n",
    "    X = numeric_data.drop('rating', axis=1)\n",
    "    y = train_df['rating']\n",
    "    \n",
    "    scaler = StandardScaler()\n",
    "    X_scaled = scaler.fit_transform(X)\n",
    "    \n",
    "    rf = RandomForestClassifier(n_estimators=100, random_state=42)\n",
    "    rf.fit(X_scaled, y)\n",
    "    \n",
    "    # Create feature importance DataFrame\n",
    "    importance_df = pd.DataFrame({\n",
    "        'feature': X.columns,\n",
    "        'importance': rf.feature_importances_\n",
    "    }).sort_values('importance', ascending=True)\n",
    "    \n",
    "    # Create plot\n",
    "    plt.figure(figsize=(10, 6))\n",
    "    plt.barh(importance_df['feature'], importance_df['importance'])\n",
    "    plt.xlabel('Importance')\n",
    "    plt.ylabel('Feature')\n",
    "    plt.title('Random Forest Feature Importance')\n",
    "    plt.tight_layout()\n",
    "    \n",
    "    return plt.gcf()\n",
    "\n",
    "display(plot_feature_importance())"
   ]
  },
  {
   "cell_type": "markdown",
   "metadata": {},
   "source": [
    "STAGE 13 - LOGISTIC REGRESSION WITH RIB RATIO STUDY"
   ]
  },
  {
   "cell_type": "code",
   "execution_count": 254,
   "metadata": {},
   "outputs": [
    {
     "name": "stdout",
     "output_type": "stream",
     "text": [
      "Starting variable importance analysis...\n",
      "================================================================================\n"
     ]
    },
    {
     "data": {
      "text/html": [
       "<pre>Variable Importance Analysis: verification vs High/Low Rating============================================================Basic Statistics:Mean value for low ratings: 0.436Mean value for high ratings: 0.790Correlation coefficient: 0.364P-value: 0.000e+00Logistic Regression Results:Coefficient: 1.578Intercept: -0.613ROC AUC Score: 0.678Classification Report:              precision    recall  f1-score   support\n",
       "\n",
       "           0       0.65      0.56      0.60      5108\n",
       "           1       0.73      0.79      0.76      7437\n",
       "\n",
       "    accuracy                           0.70     12545\n",
       "   macro avg       0.69      0.68      0.68     12545\n",
       "weighted avg       0.70      0.70      0.70     12545\n",
       "Interpretation:- The relationship is moderate and positive- The relationship is statistically significant- As verification increases, the likelihood of a high rating  increases- The model has an ROC AUC of 0.678, indicating  fair predictive powerKeep for model training: Yes</pre>"
      ],
      "text/plain": [
       "<IPython.core.display.HTML object>"
      ]
     },
     "metadata": {},
     "output_type": "display_data"
    },
    {
     "data": {
      "text/html": [
       "<hr>"
      ],
      "text/plain": [
       "<IPython.core.display.HTML object>"
      ]
     },
     "metadata": {},
     "output_type": "display_data"
    },
    {
     "data": {
      "text/html": [
       "<pre>Variable Importance Analysis: repeat_reviewer_encoded vs High/Low Rating============================================================Basic Statistics:Mean value for low ratings: 0.574Mean value for high ratings: 0.344Correlation coefficient: -0.228P-value: 0.000e+00Logistic Regression Results:Coefficient: -0.937Intercept: 0.800ROC AUC Score: 0.619Classification Report:              precision    recall  f1-score   support\n",
       "\n",
       "           0       0.54      0.58      0.56      5108\n",
       "           1       0.69      0.66      0.68      7437\n",
       "\n",
       "    accuracy                           0.63     12545\n",
       "   macro avg       0.62      0.62      0.62     12545\n",
       "weighted avg       0.63      0.63      0.63     12545\n",
       "Interpretation:- The relationship is weak and negative- The relationship is statistically significant- As repeat_reviewer_encoded increases, the likelihood of a high rating  decreases- The model has an ROC AUC of 0.619, indicating  fair predictive powerKeep for model training: Yes</pre>"
      ],
      "text/plain": [
       "<IPython.core.display.HTML object>"
      ]
     },
     "metadata": {},
     "output_type": "display_data"
    },
    {
     "data": {
      "text/html": [
       "<hr>"
      ],
      "text/plain": [
       "<IPython.core.display.HTML object>"
      ]
     },
     "metadata": {},
     "output_type": "display_data"
    },
    {
     "data": {
      "text/html": [
       "<pre>Variable Importance Analysis: answered vs High/Low Rating============================================================Basic Statistics:Mean value for low ratings: 0.049Mean value for high ratings: 0.385Correlation coefficient: 0.382P-value: 0.000e+00Logistic Regression Results:Coefficient: 2.491Intercept: -0.066ROC AUC Score: 0.665Classification Report:              precision    recall  f1-score   support\n",
       "\n",
       "           0       0.51      0.95      0.67      5108\n",
       "           1       0.92      0.38      0.54      7437\n",
       "\n",
       "    accuracy                           0.61     12545\n",
       "   macro avg       0.72      0.66      0.60     12545\n",
       "weighted avg       0.75      0.61      0.59     12545\n",
       "Interpretation:- The relationship is moderate and positive- The relationship is statistically significant- As answered increases, the likelihood of a high rating  increases- The model has an ROC AUC of 0.665, indicating  fair predictive powerKeep for model training: Yes</pre>"
      ],
      "text/plain": [
       "<IPython.core.display.HTML object>"
      ]
     },
     "metadata": {},
     "output_type": "display_data"
    },
    {
     "data": {
      "text/html": [
       "<hr>"
      ],
      "text/plain": [
       "<IPython.core.display.HTML object>"
      ]
     },
     "metadata": {},
     "output_type": "display_data"
    },
    {
     "data": {
      "text/html": [
       "<pre>Variable Importance Analysis: month_posted vs High/Low Rating============================================================Basic Statistics:Mean value for low ratings: 6.273Mean value for high ratings: 6.082Correlation coefficient: -0.026P-value: 1.334e-10Logistic Regression Results:Coefficient: -0.013Intercept: 0.454ROC AUC Score: 0.518Classification Report:              precision    recall  f1-score   support\n",
       "\n",
       "           0       0.00      0.00      0.00      5108\n",
       "           1       0.59      1.00      0.74      7437\n",
       "\n",
       "    accuracy                           0.59     12545\n",
       "   macro avg       0.30      0.50      0.37     12545\n",
       "weighted avg       0.35      0.59      0.44     12545\n",
       "Interpretation:- The relationship is negligible and negative- The relationship is statistically significant- As month_posted increases, the likelihood of a high rating  decreases- The model has an ROC AUC of 0.518, indicating  poor predictive powerKeep for model training: Consider dropping</pre>"
      ],
      "text/plain": [
       "<IPython.core.display.HTML object>"
      ]
     },
     "metadata": {},
     "output_type": "display_data"
    },
    {
     "data": {
      "text/html": [
       "<hr>"
      ],
      "text/plain": [
       "<IPython.core.display.HTML object>"
      ]
     },
     "metadata": {},
     "output_type": "display_data"
    },
    {
     "data": {
      "text/html": [
       "<pre>Variable Importance Analysis: local_hour vs High/Low Rating============================================================Basic Statistics:Mean value for low ratings: 12.878Mean value for high ratings: 12.047Correlation coefficient: -0.083P-value: 2.952e-97Logistic Regression Results:Coefficient: -0.036Intercept: 0.818ROC AUC Score: 0.541Classification Report:              precision    recall  f1-score   support\n",
       "\n",
       "           0       0.55      0.02      0.03      5108\n",
       "           1       0.59      0.99      0.74      7437\n",
       "\n",
       "    accuracy                           0.59     12545\n",
       "   macro avg       0.57      0.50      0.39     12545\n",
       "weighted avg       0.58      0.59      0.45     12545\n",
       "Interpretation:- The relationship is negligible and negative- The relationship is statistically significant- As local_hour increases, the likelihood of a high rating  decreases- The model has an ROC AUC of 0.541, indicating  poor predictive powerKeep for model training: Consider dropping</pre>"
      ],
      "text/plain": [
       "<IPython.core.display.HTML object>"
      ]
     },
     "metadata": {},
     "output_type": "display_data"
    },
    {
     "data": {
      "text/html": [
       "<hr>"
      ],
      "text/plain": [
       "<IPython.core.display.HTML object>"
      ]
     },
     "metadata": {},
     "output_type": "display_data"
    },
    {
     "data": {
      "text/html": [
       "<pre>Variable Importance Analysis: time_of_day vs High/Low Rating============================================================Basic Statistics:Mean value for low ratings: 2.231Mean value for high ratings: 2.297Correlation coefficient: 0.033P-value: 9.189e-17Logistic Regression Results:Coefficient: 0.062Intercept: 0.230ROC AUC Score: 0.530Classification Report:              precision    recall  f1-score   support\n",
       "\n",
       "           0       0.00      0.00      0.00      5108\n",
       "           1       0.59      1.00      0.74      7437\n",
       "\n",
       "    accuracy                           0.59     12545\n",
       "   macro avg       0.30      0.50      0.37     12545\n",
       "weighted avg       0.35      0.59      0.44     12545\n",
       "Interpretation:- The relationship is negligible and positive- The relationship is statistically significant- As time_of_day increases, the likelihood of a high rating  increases- The model has an ROC AUC of 0.530, indicating  poor predictive powerKeep for model training: Consider dropping</pre>"
      ],
      "text/plain": [
       "<IPython.core.display.HTML object>"
      ]
     },
     "metadata": {},
     "output_type": "display_data"
    },
    {
     "data": {
      "text/html": [
       "<hr>"
      ],
      "text/plain": [
       "<IPython.core.display.HTML object>"
      ]
     },
     "metadata": {},
     "output_type": "display_data"
    },
    {
     "data": {
      "text/html": [
       "<pre>Variable Importance Analysis: day_of_week_posted vs High/Low Rating============================================================Basic Statistics:Mean value for low ratings: 2.860Mean value for high ratings: 2.438Correlation coefficient: -0.112P-value: 5.976e-175Logistic Regression Results:Coefficient: -0.126Intercept: 0.704ROC AUC Score: 0.557Classification Report:              precision    recall  f1-score   support\n",
       "\n",
       "           0       0.55      0.12      0.20      5108\n",
       "           1       0.61      0.93      0.74      7437\n",
       "\n",
       "    accuracy                           0.60     12545\n",
       "   macro avg       0.58      0.53      0.47     12545\n",
       "weighted avg       0.58      0.60      0.52     12545\n",
       "Interpretation:- The relationship is weak and negative- The relationship is statistically significant- As day_of_week_posted increases, the likelihood of a high rating  decreases- The model has an ROC AUC of 0.557, indicating  poor predictive powerKeep for model training: Consider dropping</pre>"
      ],
      "text/plain": [
       "<IPython.core.display.HTML object>"
      ]
     },
     "metadata": {},
     "output_type": "display_data"
    },
    {
     "data": {
      "text/html": [
       "<hr>"
      ],
      "text/plain": [
       "<IPython.core.display.HTML object>"
      ]
     },
     "metadata": {},
     "output_type": "display_data"
    },
    {
     "data": {
      "text/html": [
       "<pre>Variable Importance Analysis: day_type vs High/Low Rating============================================================Basic Statistics:Mean value for low ratings: 0.749Mean value for high ratings: 0.862Correlation coefficient: 0.143P-value: 1.252e-283Logistic Regression Results:Coefficient: 0.748Intercept: -0.234ROC AUC Score: 0.554Classification Report:              precision    recall  f1-score   support\n",
       "\n",
       "           0       0.55      0.25      0.34      5108\n",
       "           1       0.62      0.86      0.72      7437\n",
       "\n",
       "    accuracy                           0.61     12545\n",
       "   macro avg       0.59      0.55      0.53     12545\n",
       "weighted avg       0.59      0.61      0.57     12545\n",
       "Interpretation:- The relationship is weak and positive- The relationship is statistically significant- As day_type increases, the likelihood of a high rating  increases- The model has an ROC AUC of 0.554, indicating  poor predictive powerKeep for model training: Consider dropping</pre>"
      ],
      "text/plain": [
       "<IPython.core.display.HTML object>"
      ]
     },
     "metadata": {},
     "output_type": "display_data"
    },
    {
     "data": {
      "text/html": [
       "<hr>"
      ],
      "text/plain": [
       "<IPython.core.display.HTML object>"
      ]
     },
     "metadata": {},
     "output_type": "display_data"
    },
    {
     "data": {
      "text/html": [
       "<pre>Variable Importance Analysis: review_time vs High/Low Rating============================================================Basic Statistics:Mean value for low ratings: 0.732Mean value for high ratings: 0.849Correlation coefficient: 0.144P-value: 7.175e-287Logistic Regression Results:Coefficient: 0.712Intercept: -0.195ROC AUC Score: 0.562Classification Report:              precision    recall  f1-score   support\n",
       "\n",
       "           0       0.56      0.27      0.37      5108\n",
       "           1       0.63      0.85      0.72      7437\n",
       "\n",
       "    accuracy                           0.61     12545\n",
       "   macro avg       0.59      0.56      0.55     12545\n",
       "weighted avg       0.60      0.61      0.58     12545\n",
       "Interpretation:- The relationship is weak and positive- The relationship is statistically significant- As review_time increases, the likelihood of a high rating  increases- The model has an ROC AUC of 0.562, indicating  poor predictive powerKeep for model training: Consider dropping</pre>"
      ],
      "text/plain": [
       "<IPython.core.display.HTML object>"
      ]
     },
     "metadata": {},
     "output_type": "display_data"
    },
    {
     "data": {
      "text/html": [
       "<hr>"
      ],
      "text/plain": [
       "<IPython.core.display.HTML object>"
      ]
     },
     "metadata": {},
     "output_type": "display_data"
    }
   ],
   "source": [
    "#Logistic regression with rib ratio study\n",
    "\n",
    "\n",
    "def analyze_variable_importance(column_name):\n",
    "    if column_name not in train_df.columns:\n",
    "        return f\"Error: Column '{column_name}' not found in dataframe\"\n",
    "    \n",
    "    y = (train_df['rating'] >= 4).astype(int)\n",
    "    \n",
    "    X = train_df[column_name]\n",
    "    \n",
    "    if not np.issubdtype(X.dtype, np.number):\n",
    "        return f\"Error: Column '{column_name}' is not numeric. Please encode categorical variables first.\"\n",
    "    \n",
    "    X = X.values.reshape(-1, 1)\n",
    "    \n",
    "    X_train, X_test, y_train, y_test = train_test_split(X, y, test_size=0.2, random_state=42)\n",
    "    \n",
    "    # Fit logistic regression\n",
    "    model = LogisticRegression(random_state=42)\n",
    "    model.fit(X_train, y_train)\n",
    "    \n",
    "    # Make predictions\n",
    "    y_pred_proba = model.predict_proba(X_test)[:, 1]\n",
    "    y_pred = model.predict(X_test)\n",
    "    \n",
    "    # Calculate ROC curve\n",
    "    fpr, tpr, _ = roc_curve(y_test, y_pred_proba)\n",
    "    roc_auc = auc(fpr, tpr)\n",
    "    \n",
    "    # Calculate correlation (point biserial for binary vs continuous)\n",
    "    correlation, p_value = stats.pointbiserialr(y, X.ravel())\n",
    "    \n",
    "    output = []\n",
    "    output.append(f\"Variable Importance Analysis: {column_name} vs High/Low Rating\")\n",
    "    output.append(\"=\" * 60)\n",
    "    \n",
    "    # Basic statistics\n",
    "    output.append(\"Basic Statistics:\")\n",
    "    output.append(f\"Mean value for low ratings: {X[y==0].mean():.3f}\")\n",
    "    output.append(f\"Mean value for high ratings: {X[y==1].mean():.3f}\")\n",
    "    output.append(f\"Correlation coefficient: {correlation:.3f}\")\n",
    "    output.append(f\"P-value: {p_value:.3e}\")\n",
    "    \n",
    "    # Logistic Regression Results\n",
    "    output.append(\"Logistic Regression Results:\")\n",
    "    output.append(f\"Coefficient: {model.coef_[0][0]:.3f}\")\n",
    "    output.append(f\"Intercept: {model.intercept_[0]:.3f}\")\n",
    "    output.append(f\"ROC AUC Score: {roc_auc:.3f}\")\n",
    "    \n",
    "    # Classification Report\n",
    "    output.append(\"Classification Report:\")\n",
    "    output.append(classification_report(y_test, y_pred))\n",
    "    \n",
    "    # Effect interpretation\n",
    "    output.append(\"Interpretation:\")\n",
    "    if abs(correlation) < 0.1:\n",
    "        strength = \"negligible\"\n",
    "    elif abs(correlation) < 0.3:\n",
    "        strength = \"weak\"\n",
    "    elif abs(correlation) < 0.5:\n",
    "        strength = \"moderate\"\n",
    "    else:\n",
    "        strength = \"strong\"\n",
    "    \n",
    "    direction = \"positive\" if correlation > 0 else \"negative\"\n",
    "    \n",
    "    output.append(f\"- The relationship is {strength} and {direction}\")\n",
    "    if p_value < 0.05:\n",
    "        output.append(\"- The relationship is statistically significant\")\n",
    "        output.append(f\"- As {column_name} increases, the likelihood of a high rating\")\n",
    "        output.append(f\"  {'increases' if correlation > 0 else 'decreases'}\")\n",
    "    else:\n",
    "        output.append(\"- The relationship is not statistically significant\")\n",
    "    \n",
    "    output.append(f\"- The model has an ROC AUC of {roc_auc:.3f}, indicating\")\n",
    "    if roc_auc < 0.6:\n",
    "        output.append(\"  poor predictive power\")\n",
    "    elif roc_auc < 0.7:\n",
    "        output.append(\"  fair predictive power\")\n",
    "    elif roc_auc < 0.8:\n",
    "        output.append(\"  good predictive power\")\n",
    "    else:\n",
    "        output.append(\"  excellent predictive power\")\n",
    "    \n",
    "    output.append(\"Keep for model training: \")\n",
    "    output.append(\"Yes\" if (p_value < 0.05 and roc_auc > 0.6) else \"Consider dropping\")\n",
    "    \n",
    "    return \"\".join(output)\n",
    "\n",
    "# Get numeric columns excluding rating\n",
    "numeric_columns = train_df.select_dtypes(include=['int64', 'float64']).columns\n",
    "numeric_columns = [col for col in numeric_columns if col != 'rating']\n",
    "\n",
    "print(\"Starting variable importance analysis...\")\n",
    "print(\"=\" * 80)\n",
    "\n",
    "# Loop through each numeric column\n",
    "for column in numeric_columns:\n",
    "    display(HTML(f\"<pre>{analyze_variable_importance(column)}</pre>\"))\n",
    "    display(HTML(\"<hr>\"))"
   ]
  },
  {
   "cell_type": "markdown",
   "metadata": {},
   "source": [
    "STAGE 14 - VALIDATE AND COMPARE METHODS"
   ]
  },
  {
   "cell_type": "code",
   "execution_count": 255,
   "metadata": {},
   "outputs": [
    {
     "name": "stdout",
     "output_type": "stream",
     "text": [
      "Collecting scores from all methods...\n",
      "Normalizing scores...\n",
      "Generating recommendations...\n",
      "\n",
      "Analysis Summary:\n"
     ]
    },
    {
     "data": {
      "text/html": [
       "<pre>Feature Selection Analysis Summary\n",
       "==================================================\n",
       "\n",
       "Recommendations:\n",
       "\n",
       "Strong Keep:\n",
       "- verification (mean score: 0.913)\n",
       "- answered (mean score: 0.847)\n",
       "\n",
       "Consider Keeping:\n",
       "- repeat_reviewer_encoded (mean score: 0.354)\n",
       "- day_of_week_posted (mean score: 0.212)\n",
       "- day_type (mean score: 0.166)\n",
       "- review_time (mean score: 0.218)\n",
       "\n",
       "Review (Conflicting Results):\n",
       "- month_posted (mean score: 0.235)\n",
       "- local_hour (mean score: 0.285)\n",
       "\n",
       "Consider Removing:\n",
       "- time_of_day (mean score: 0.028)</pre>"
      ],
      "text/plain": [
       "<IPython.core.display.HTML object>"
      ]
     },
     "metadata": {},
     "output_type": "display_data"
    },
    {
     "name": "stdout",
     "output_type": "stream",
     "text": [
      "\n",
      "Detailed Results:\n"
     ]
    },
    {
     "data": {
      "text/html": [
       "<style type=\"text/css\">\n",
       "#T_ece16_row0_col6 {\n",
       "  background-color: #023858;\n",
       "  color: #f1f1f1;\n",
       "}\n",
       "#T_ece16_row1_col6 {\n",
       "  background-color: #a8bedc;\n",
       "  color: #000000;\n",
       "}\n",
       "#T_ece16_row2_col6 {\n",
       "  background-color: #034c78;\n",
       "  color: #f1f1f1;\n",
       "}\n",
       "#T_ece16_row3_col6 {\n",
       "  background-color: #d4d4e8;\n",
       "  color: #000000;\n",
       "}\n",
       "#T_ece16_row4_col6 {\n",
       "  background-color: #c2cbe2;\n",
       "  color: #000000;\n",
       "}\n",
       "#T_ece16_row5_col6 {\n",
       "  background-color: #fff7fb;\n",
       "  color: #000000;\n",
       "}\n",
       "#T_ece16_row6_col6, #T_ece16_row8_col6 {\n",
       "  background-color: #d9d8ea;\n",
       "  color: #000000;\n",
       "}\n",
       "#T_ece16_row7_col6 {\n",
       "  background-color: #e6e2ef;\n",
       "  color: #000000;\n",
       "}\n",
       "</style>\n",
       "<table id=\"T_ece16\">\n",
       "  <caption>Feature Selection Results</caption>\n",
       "  <thead>\n",
       "    <tr>\n",
       "      <th class=\"blank level0\" >&nbsp;</th>\n",
       "      <th id=\"T_ece16_level0_col0\" class=\"col_heading level0 col0\" >feature</th>\n",
       "      <th id=\"T_ece16_level0_col1\" class=\"col_heading level0 col1\" >pearson</th>\n",
       "      <th id=\"T_ece16_level0_col2\" class=\"col_heading level0 col2\" >spearman</th>\n",
       "      <th id=\"T_ece16_level0_col3\" class=\"col_heading level0 col3\" >mutual_info</th>\n",
       "      <th id=\"T_ece16_level0_col4\" class=\"col_heading level0 col4\" >random_forest</th>\n",
       "      <th id=\"T_ece16_level0_col5\" class=\"col_heading level0 col5\" >lasso</th>\n",
       "      <th id=\"T_ece16_level0_col6\" class=\"col_heading level0 col6\" >mean_score</th>\n",
       "      <th id=\"T_ece16_level0_col7\" class=\"col_heading level0 col7\" >score_std</th>\n",
       "      <th id=\"T_ece16_level0_col8\" class=\"col_heading level0 col8\" >recommendation</th>\n",
       "    </tr>\n",
       "  </thead>\n",
       "  <tbody>\n",
       "    <tr>\n",
       "      <th id=\"T_ece16_level0_row0\" class=\"row_heading level0 row0\" >0</th>\n",
       "      <td id=\"T_ece16_row0_col0\" class=\"data row0 col0\" >verification</td>\n",
       "      <td id=\"T_ece16_row0_col1\" class=\"data row0 col1\" >1.000000</td>\n",
       "      <td id=\"T_ece16_row0_col2\" class=\"data row0 col2\" >0.977196</td>\n",
       "      <td id=\"T_ece16_row0_col3\" class=\"data row0 col3\" >0.924143</td>\n",
       "      <td id=\"T_ece16_row0_col4\" class=\"data row0 col4\" >0.665722</td>\n",
       "      <td id=\"T_ece16_row0_col5\" class=\"data row0 col5\" >1.000000</td>\n",
       "      <td id=\"T_ece16_row0_col6\" class=\"data row0 col6\" >0.913412</td>\n",
       "      <td id=\"T_ece16_row0_col7\" class=\"data row0 col7\" >0.141888</td>\n",
       "      <td id=\"T_ece16_row0_col8\" class=\"data row0 col8\" >Strong Keep</td>\n",
       "    </tr>\n",
       "    <tr>\n",
       "      <th id=\"T_ece16_level0_row1\" class=\"row_heading level0 row1\" >1</th>\n",
       "      <td id=\"T_ece16_row1_col0\" class=\"data row1 col0\" >repeat_reviewer_encoded</td>\n",
       "      <td id=\"T_ece16_row1_col1\" class=\"data row1 col1\" >0.571836</td>\n",
       "      <td id=\"T_ece16_row1_col2\" class=\"data row1 col2\" >0.581700</td>\n",
       "      <td id=\"T_ece16_row1_col3\" class=\"data row1 col3\" >0.289954</td>\n",
       "      <td id=\"T_ece16_row1_col4\" class=\"data row1 col4\" >0.165214</td>\n",
       "      <td id=\"T_ece16_row1_col5\" class=\"data row1 col5\" >0.160860</td>\n",
       "      <td id=\"T_ece16_row1_col6\" class=\"data row1 col6\" >0.353913</td>\n",
       "      <td id=\"T_ece16_row1_col7\" class=\"data row1 col7\" >0.209967</td>\n",
       "      <td id=\"T_ece16_row1_col8\" class=\"data row1 col8\" >Consider Keeping</td>\n",
       "    </tr>\n",
       "    <tr>\n",
       "      <th id=\"T_ece16_level0_row2\" class=\"row_heading level0 row2\" >2</th>\n",
       "      <td id=\"T_ece16_row2_col0\" class=\"data row2 col0\" >answered</td>\n",
       "      <td id=\"T_ece16_row2_col1\" class=\"data row2 col1\" >0.905497</td>\n",
       "      <td id=\"T_ece16_row2_col2\" class=\"data row2 col2\" >1.000000</td>\n",
       "      <td id=\"T_ece16_row2_col3\" class=\"data row2 col3\" >1.000000</td>\n",
       "      <td id=\"T_ece16_row2_col4\" class=\"data row2 col4\" >0.723812</td>\n",
       "      <td id=\"T_ece16_row2_col5\" class=\"data row2 col5\" >0.607778</td>\n",
       "      <td id=\"T_ece16_row2_col6\" class=\"data row2 col6\" >0.847417</td>\n",
       "      <td id=\"T_ece16_row2_col7\" class=\"data row2 col7\" >0.175101</td>\n",
       "      <td id=\"T_ece16_row2_col8\" class=\"data row2 col8\" >Strong Keep</td>\n",
       "    </tr>\n",
       "    <tr>\n",
       "      <th id=\"T_ece16_level0_row3\" class=\"row_heading level0 row3\" >3</th>\n",
       "      <td id=\"T_ece16_row3_col0\" class=\"data row3 col0\" >month_posted</td>\n",
       "      <td id=\"T_ece16_row3_col1\" class=\"data row3 col1\" >0.040617</td>\n",
       "      <td id=\"T_ece16_row3_col2\" class=\"data row3 col2\" >0.000000</td>\n",
       "      <td id=\"T_ece16_row3_col3\" class=\"data row3 col3\" >0.065980</td>\n",
       "      <td id=\"T_ece16_row3_col4\" class=\"data row3 col4\" >0.957808</td>\n",
       "      <td id=\"T_ece16_row3_col5\" class=\"data row3 col5\" >0.109830</td>\n",
       "      <td id=\"T_ece16_row3_col6\" class=\"data row3 col6\" >0.234847</td>\n",
       "      <td id=\"T_ece16_row3_col7\" class=\"data row3 col7\" >0.406109</td>\n",
       "      <td id=\"T_ece16_row3_col8\" class=\"data row3 col8\" >Review (Conflicting Results)</td>\n",
       "    </tr>\n",
       "    <tr>\n",
       "      <th id=\"T_ece16_level0_row4\" class=\"row_heading level0 row4\" >4</th>\n",
       "      <td id=\"T_ece16_row4_col0\" class=\"data row4 col0\" >local_hour</td>\n",
       "      <td id=\"T_ece16_row4_col1\" class=\"data row4 col1\" >0.194591</td>\n",
       "      <td id=\"T_ece16_row4_col2\" class=\"data row4 col2\" >0.163582</td>\n",
       "      <td id=\"T_ece16_row4_col3\" class=\"data row4 col3\" >0.053495</td>\n",
       "      <td id=\"T_ece16_row4_col4\" class=\"data row4 col4\" >1.000000</td>\n",
       "      <td id=\"T_ece16_row4_col5\" class=\"data row4 col5\" >0.012807</td>\n",
       "      <td id=\"T_ece16_row4_col6\" class=\"data row4 col6\" >0.284895</td>\n",
       "      <td id=\"T_ece16_row4_col7\" class=\"data row4 col7\" >0.406763</td>\n",
       "      <td id=\"T_ece16_row4_col8\" class=\"data row4 col8\" >Review (Conflicting Results)</td>\n",
       "    </tr>\n",
       "    <tr>\n",
       "      <th id=\"T_ece16_level0_row5\" class=\"row_heading level0 row5\" >5</th>\n",
       "      <td id=\"T_ece16_row5_col0\" class=\"data row5 col0\" >time_of_day</td>\n",
       "      <td id=\"T_ece16_row5_col1\" class=\"data row5 col1\" >0.000000</td>\n",
       "      <td id=\"T_ece16_row5_col2\" class=\"data row5 col2\" >0.038857</td>\n",
       "      <td id=\"T_ece16_row5_col3\" class=\"data row5 col3\" >0.015275</td>\n",
       "      <td id=\"T_ece16_row5_col4\" class=\"data row5 col4\" >0.055754</td>\n",
       "      <td id=\"T_ece16_row5_col5\" class=\"data row5 col5\" >0.032504</td>\n",
       "      <td id=\"T_ece16_row5_col6\" class=\"data row5 col6\" >0.028478</td>\n",
       "      <td id=\"T_ece16_row5_col7\" class=\"data row5 col7\" >0.021525</td>\n",
       "      <td id=\"T_ece16_row5_col8\" class=\"data row5 col8\" >Consider Removing</td>\n",
       "    </tr>\n",
       "    <tr>\n",
       "      <th id=\"T_ece16_level0_row6\" class=\"row_heading level0 row6\" >6</th>\n",
       "      <td id=\"T_ece16_row6_col0\" class=\"data row6 col0\" >day_of_week_posted</td>\n",
       "      <td id=\"T_ece16_row6_col1\" class=\"data row6 col1\" >0.226976</td>\n",
       "      <td id=\"T_ece16_row6_col2\" class=\"data row6 col2\" >0.206886</td>\n",
       "      <td id=\"T_ece16_row6_col3\" class=\"data row6 col3\" >0.063355</td>\n",
       "      <td id=\"T_ece16_row6_col4\" class=\"data row6 col4\" >0.562843</td>\n",
       "      <td id=\"T_ece16_row6_col5\" class=\"data row6 col5\" >0.000000</td>\n",
       "      <td id=\"T_ece16_row6_col6\" class=\"data row6 col6\" >0.212012</td>\n",
       "      <td id=\"T_ece16_row6_col7\" class=\"data row6 col7\" >0.218163</td>\n",
       "      <td id=\"T_ece16_row6_col8\" class=\"data row6 col8\" >Consider Keeping</td>\n",
       "    </tr>\n",
       "    <tr>\n",
       "      <th id=\"T_ece16_level0_row7\" class=\"row_heading level0 row7\" >7</th>\n",
       "      <td id=\"T_ece16_row7_col0\" class=\"data row7 col0\" >day_type</td>\n",
       "      <td id=\"T_ece16_row7_col1\" class=\"data row7 col1\" >0.306501</td>\n",
       "      <td id=\"T_ece16_row7_col2\" class=\"data row7 col2\" >0.313817</td>\n",
       "      <td id=\"T_ece16_row7_col3\" class=\"data row7 col3\" >0.000000</td>\n",
       "      <td id=\"T_ece16_row7_col4\" class=\"data row7 col4\" >0.000000</td>\n",
       "      <td id=\"T_ece16_row7_col5\" class=\"data row7 col5\" >0.210335</td>\n",
       "      <td id=\"T_ece16_row7_col6\" class=\"data row7 col6\" >0.166130</td>\n",
       "      <td id=\"T_ece16_row7_col7\" class=\"data row7 col7\" >0.157057</td>\n",
       "      <td id=\"T_ece16_row7_col8\" class=\"data row7 col8\" >Consider Keeping</td>\n",
       "    </tr>\n",
       "    <tr>\n",
       "      <th id=\"T_ece16_level0_row8\" class=\"row_heading level0 row8\" >8</th>\n",
       "      <td id=\"T_ece16_row8_col0\" class=\"data row8 col0\" >review_time</td>\n",
       "      <td id=\"T_ece16_row8_col1\" class=\"data row8 col1\" >0.239595</td>\n",
       "      <td id=\"T_ece16_row8_col2\" class=\"data row8 col2\" >0.281190</td>\n",
       "      <td id=\"T_ece16_row8_col3\" class=\"data row8 col3\" >0.132998</td>\n",
       "      <td id=\"T_ece16_row8_col4\" class=\"data row8 col4\" >0.126204</td>\n",
       "      <td id=\"T_ece16_row8_col5\" class=\"data row8 col5\" >0.307752</td>\n",
       "      <td id=\"T_ece16_row8_col6\" class=\"data row8 col6\" >0.217548</td>\n",
       "      <td id=\"T_ece16_row8_col7\" class=\"data row8 col7\" >0.083913</td>\n",
       "      <td id=\"T_ece16_row8_col8\" class=\"data row8 col8\" >Consider Keeping</td>\n",
       "    </tr>\n",
       "  </tbody>\n",
       "</table>\n"
      ],
      "text/plain": [
       "<pandas.io.formats.style.Styler at 0x1794bcfb0>"
      ]
     },
     "metadata": {},
     "output_type": "display_data"
    },
    {
     "name": "stdout",
     "output_type": "stream",
     "text": [
      "\n",
      "Feature Importance Heatmap:\n"
     ]
    },
    {
     "data": {
      "image/png": "[encoded data removed]",
      "text/plain": [
       "<Figure size 1200x800 with 2 Axes>"
      ]
     },
     "metadata": {},
     "output_type": "display_data"
    },
    {
     "data": {
      "image/png": "[encoded data removed]",
      "text/plain": [
       "<Figure size 1200x800 with 2 Axes>"
      ]
     },
     "metadata": {},
     "output_type": "display_data"
    }
   ],
   "source": [
    "import pandas as pd\n",
    "import numpy as np\n",
    "from scipy.stats import pearsonr, spearmanr\n",
    "from sklearn.feature_selection import mutual_info_regression\n",
    "from sklearn.ensemble import RandomForestClassifier\n",
    "from sklearn.linear_model import LassoCV\n",
    "from sklearn.preprocessing import StandardScaler\n",
    "import seaborn as sns\n",
    "import matplotlib.pyplot as plt\n",
    "from IPython.display import HTML, display\n",
    "\n",
    "def collect_all_scores(df, target_col='rating'):\n",
    "    # Get feature columns (numeric only)\n",
    "    features = df.select_dtypes(include=['int64', 'float64']).columns\n",
    "    features = [col for col in features if col != target_col]\n",
    "    \n",
    "    # Initialize results dictionary\n",
    "    scores = {\n",
    "        'feature': features,\n",
    "        'pearson': [],\n",
    "        'spearman': [],\n",
    "        'mutual_info': [],\n",
    "        'random_forest': [],\n",
    "        'lasso': []\n",
    "    }\n",
    "    \n",
    "    # Prepare data\n",
    "    X = df[features]\n",
    "    y = df[target_col]\n",
    "    scaler = StandardScaler()\n",
    "    X_scaled = scaler.fit_transform(X)\n",
    "    \n",
    "    # Calculate scores for each feature\n",
    "    for feature in features:\n",
    "        # Correlation scores\n",
    "        pearson_coef, _ = pearsonr(df[feature], y)\n",
    "        spearman_coef, _ = spearmanr(df[feature], y)\n",
    "        \n",
    "        scores['pearson'].append(abs(pearson_coef))\n",
    "        scores['spearman'].append(abs(spearman_coef))\n",
    "    \n",
    "    # Mutual Information\n",
    "    scores['mutual_info'] = mutual_info_regression(X, y)\n",
    "    \n",
    "    # Random Forest importance\n",
    "    rf = RandomForestClassifier(n_estimators=100, random_state=42)\n",
    "    rf.fit(X_scaled, y)\n",
    "    scores['random_forest'] = rf.feature_importances_\n",
    "    \n",
    "    # Lasso importance\n",
    "    lasso = LassoCV(cv=5, random_state=42)\n",
    "    lasso.fit(X_scaled, y)\n",
    "    scores['lasso'] = np.abs(lasso.coef_)\n",
    "    \n",
    "    # Convert to DataFrame\n",
    "    scores_df = pd.DataFrame(scores)\n",
    "    return scores_df\n",
    "\n",
    "def normalize_scores(scores_df):\n",
    "    # Get feature column\n",
    "    features = scores_df['feature']\n",
    "    \n",
    "    # Normalize each method's scores\n",
    "    methods = ['pearson', 'spearman', 'mutual_info', 'random_forest', 'lasso']\n",
    "    normalized_scores = scores_df[methods].apply(lambda x: (x - x.min()) / (x.max() - x.min()) if x.max() != x.min() else x)\n",
    "    \n",
    "    # Add features back\n",
    "    normalized_scores.insert(0, 'feature', features)\n",
    "    \n",
    "    return normalized_scores\n",
    "\n",
    "def get_feature_recommendations(scores_df):\n",
    "    # Calculate mean and std of scores for each feature\n",
    "    score_cols = ['pearson', 'spearman', 'mutual_info', 'random_forest', 'lasso']\n",
    "    scores_df['mean_score'] = scores_df[score_cols].mean(axis=1)\n",
    "    scores_df['score_std'] = scores_df[score_cols].std(axis=1)\n",
    "    \n",
    "    # Generate recommendations\n",
    "    def get_recommendation(row):\n",
    "        if row['mean_score'] >= 0.7 and row['score_std'] < 0.2:\n",
    "            return \"Strong Keep\"\n",
    "        elif row['mean_score'] >= 0.4 and row['score_std'] < 0.3:\n",
    "            return \"Keep\"\n",
    "        elif row['mean_score'] >= 0.1 and row['score_std'] < 0.4:\n",
    "            return \"Consider Keeping\"\n",
    "        elif row['score_std'] >= 0.4:\n",
    "            return \"Review (Conflicting Results)\"\n",
    "        else:\n",
    "            return \"Consider Removing\"\n",
    "    \n",
    "    scores_df['recommendation'] = scores_df.apply(get_recommendation, axis=1)\n",
    "    return scores_df\n",
    "\n",
    "def create_summary(final_scores):\n",
    "    summary = []\n",
    "    summary.append(\"Feature Selection Analysis Summary\")\n",
    "    summary.append(\"=\" * 50)\n",
    "    \n",
    "    # Overall recommendations\n",
    "    summary.append(\"\\nRecommendations:\")\n",
    "    for recommendation in final_scores['recommendation'].unique():\n",
    "        features = final_scores[final_scores['recommendation'] == recommendation]\n",
    "        summary.append(f\"\\n{recommendation}:\")\n",
    "        for _, row in features.iterrows():\n",
    "            summary.append(f\"- {row['feature']} (mean score: {row['mean_score']:.3f})\")\n",
    "    \n",
    "    return \"\\n\".join(summary)\n",
    "\n",
    "def plot_importance_heatmap(scores_df):\n",
    "    plt.figure(figsize=(12, 8))\n",
    "    score_cols = ['pearson', 'spearman', 'mutual_info', 'random_forest', 'lasso']\n",
    "    heatmap_data = scores_df.set_index('feature')[score_cols]\n",
    "    sns.heatmap(heatmap_data, annot=True, cmap='YlOrRd', fmt='.2f')\n",
    "    plt.title('Feature Importance Across Methods')\n",
    "    plt.tight_layout()\n",
    "    return plt.gcf()\n",
    "\n",
    "def analyze_features(df, target_col='rating'):\n",
    "    # 1. Collect all scores\n",
    "    print(\"Collecting scores from all methods...\")\n",
    "    scores = collect_all_scores(df, target_col)\n",
    "    \n",
    "    # 2. Normalize scores\n",
    "    print(\"Normalizing scores...\")\n",
    "    normalized_scores = normalize_scores(scores)\n",
    "    \n",
    "    # 3. Generate recommendations\n",
    "    print(\"Generating recommendations...\")\n",
    "    final_scores = get_feature_recommendations(normalized_scores)\n",
    "    \n",
    "    # 4. Create summary\n",
    "    print(\"\\nAnalysis Summary:\")\n",
    "    summary = create_summary(final_scores)\n",
    "    display(HTML(f\"<pre>{summary}</pre>\"))\n",
    "    \n",
    "    # 5. Show detailed results\n",
    "    print(\"\\nDetailed Results:\")\n",
    "    display(final_scores.style\n",
    "           .background_gradient(subset=['mean_score'])\n",
    "           .set_caption(\"Feature Selection Results\"))\n",
    "    \n",
    "    # 6. Show visualization\n",
    "    print(\"\\nFeature Importance Heatmap:\")\n",
    "    display(plot_importance_heatmap(normalized_scores))\n",
    "    \n",
    "    return final_scores\n",
    "\n",
    "results = analyze_features(train_df)"
   ]
  },
  {
   "cell_type": "code",
   "execution_count": 256,
   "metadata": {},
   "outputs": [
    {
     "name": "stdout",
     "output_type": "stream",
     "text": [
      "Analyzing multicollinearity...\n",
      "\n",
      "After multicollinearity handling:\n",
      "Conservative features: ['verification', 'answered', 'repeat_reviewer_encoded', 'day_type', 'review_time', 'month_posted', 'local_hour']\n",
      "Strict features: ['verification', 'answered', 'repeat_reviewer_encoded']\n",
      "\n",
      "Validating feature sets...\n"
     ]
    }
   ],
   "source": [
    "import pandas as pd\n",
    "import numpy as np\n",
    "from sklearn.preprocessing import StandardScaler\n",
    "from sklearn.model_selection import cross_val_score\n",
    "from sklearn.ensemble import RandomForestClassifier\n",
    "from sklearn.metrics import make_scorer, accuracy_score, precision_score, recall_score, f1_score\n",
    "import seaborn as sns\n",
    "import matplotlib.pyplot as plt\n",
    "from statsmodels.stats.outliers_influence import variance_inflation_factor\n",
    "\n",
    "def analyze_final_features(df, target_col='rating', vif_threshold=5, corr_threshold=0.7):\n",
    "    # Initial feature sets before multicollinearity check\n",
    "    initial_features = {\n",
    "        'conservative': [\n",
    "            'verification', \n",
    "            'answered', \n",
    "            'repeat_reviewer_encoded',\n",
    "            'day_of_week_posted',\n",
    "            'day_type',\n",
    "            'review_time',\n",
    "            'month_posted',\n",
    "            'local_hour'\n",
    "        ],\n",
    "        'strict': [\n",
    "            'verification',\n",
    "            'answered',\n",
    "            'repeat_reviewer_encoded'\n",
    "        ]\n",
    "    }\n",
    "    \n",
    "    results = {}\n",
    "    \n",
    "    # 1. Check multicollinearity and get cleaned feature sets\n",
    "    print(\"Analyzing multicollinearity...\")\n",
    "    multi_results = check_multicollinearity(df, initial_features['conservative'], \n",
    "                                          target_col, vif_threshold, corr_threshold)\n",
    "    results['multicollinearity'] = multi_results\n",
    "    \n",
    "    # Update feature sets based on multicollinearity analysis\n",
    "    cleaned_features = multi_results['cleaned_features']\n",
    "    \n",
    "    # Update conservative and strict approaches\n",
    "    conservative_features = cleaned_features\n",
    "    strict_features = [f for f in cleaned_features if f in initial_features['strict']]\n",
    "    \n",
    "    print(\"\\nAfter multicollinearity handling:\")\n",
    "    print(f\"Conservative features: {conservative_features}\")\n",
    "    print(f\"Strict features: {strict_features}\")\n",
    "    \n",
    "    # 2. Validate both feature sets\n",
    "    print(\"\\nValidating feature sets...\")\n",
    "    conservative_metrics = validate_feature_set(df, conservative_features, target_col)\n",
    "    strict_metrics = validate_feature_set(df, strict_features, target_col)\n",
    "    \n",
    "    results['conservative'] = {\n",
    "        'features': conservative_features,\n",
    "        'metrics': conservative_metrics\n",
    "    }\n",
    "    results['strict'] = {\n",
    "        'features': strict_features,\n",
    "        'metrics': strict_metrics\n",
    "    }\n",
    "    \n",
    "    # 3. Generate final importance ranking for both approaches\n",
    "    print(\"\\nGenerating final importance ranking...\")\n",
    "    importance_ranking = get_final_importance_ranking(df, conservative_features, strict_features, target_col)\n",
    "    results['importance_ranking'] = importance_ranking\n",
    "    \n",
    "    # Display results\n",
    "    display_comprehensive_results(results)\n",
    "    \n",
    "    return results\n",
    "\n",
    "def check_multicollinearity(df, features, target_col, vif_threshold=5, corr_threshold=0.7):\n",
    "    features_to_check = [f for f in features if f in df.columns]\n",
    "    X = df[features_to_check]\n",
    "    \n",
    "    # Calculate initial VIF\n",
    "    scaler = StandardScaler()\n",
    "    X_scaled = pd.DataFrame(scaler.fit_transform(X), columns=X.columns)\n",
    "    \n",
    "    vif_data = pd.DataFrame()\n",
    "    vif_data[\"Feature\"] = X_scaled.columns\n",
    "    vif_data[\"VIF\"] = [variance_inflation_factor(X_scaled.values, i) \n",
    "                       for i in range(X_scaled.shape[1])]\n",
    "    \n",
    "    # Calculate correlation matrix\n",
    "    corr_matrix = X.corr()\n",
    "    \n",
    "    # Calculate correlation with target for importance assessment\n",
    "    target_correlations = X.apply(lambda x: abs(x.corr(df[target_col])))\n",
    "    \n",
    "    # Find features to remove due to multicollinearity\n",
    "    features_to_remove = set()\n",
    "    \n",
    "    # Check VIF\n",
    "    high_vif_features = vif_data[vif_data[\"VIF\"] > vif_threshold][\"Feature\"].tolist()\n",
    "    if high_vif_features:\n",
    "        # Remove features with highest VIF iteratively\n",
    "        while len(high_vif_features) > 0:\n",
    "            # Remove feature with highest VIF and lowest correlation with target\n",
    "            worst_feature = min(high_vif_features, \n",
    "                              key=lambda x: target_correlations[x])\n",
    "            features_to_remove.add(worst_feature)\n",
    "            \n",
    "            # Recalculate VIF without the removed feature\n",
    "            remaining_features = [f for f in X.columns if f not in features_to_remove]\n",
    "            if not remaining_features:\n",
    "                break\n",
    "                \n",
    "            X_subset = X[remaining_features]\n",
    "            X_scaled = pd.DataFrame(scaler.fit_transform(X_subset), \n",
    "                                  columns=X_subset.columns)\n",
    "            \n",
    "            vif_data = pd.DataFrame()\n",
    "            vif_data[\"Feature\"] = X_scaled.columns\n",
    "            vif_data[\"VIF\"] = [variance_inflation_factor(X_scaled.values, i) \n",
    "                              for i in range(X_scaled.shape[1])]\n",
    "            \n",
    "            high_vif_features = vif_data[vif_data[\"VIF\"] > vif_threshold][\"Feature\"].tolist()\n",
    "    \n",
    "    # Check correlations\n",
    "    high_corr_pairs = []\n",
    "    for i in range(len(corr_matrix.columns)):\n",
    "        for j in range(i):\n",
    "            if abs(corr_matrix.iloc[i, j]) > corr_threshold:\n",
    "                feat1 = corr_matrix.columns[i]\n",
    "                feat2 = corr_matrix.columns[j]\n",
    "                corr = corr_matrix.iloc[i, j]\n",
    "                \n",
    "                # Decide which feature to remove based on correlation with target\n",
    "                if target_correlations[feat1] < target_correlations[feat2]:\n",
    "                    features_to_remove.add(feat1)\n",
    "                else:\n",
    "                    features_to_remove.add(feat2)\n",
    "                    \n",
    "                high_corr_pairs.append({\n",
    "                    'feature1': feat1,\n",
    "                    'feature2': feat2,\n",
    "                    'correlation': corr,\n",
    "                    'removed': feat1 if target_correlations[feat1] < target_correlations[feat2] else feat2\n",
    "                })\n",
    "    \n",
    "    # Get final cleaned feature set\n",
    "    cleaned_features = [f for f in features if f not in features_to_remove]\n",
    "    \n",
    "    return {\n",
    "        'vif': vif_data,\n",
    "        'correlation_matrix': corr_matrix,\n",
    "        'high_correlations': high_corr_pairs,\n",
    "        'removed_features': list(features_to_remove),\n",
    "        'cleaned_features': cleaned_features\n",
    "    }\n",
    "\n",
    "def validate_feature_set(df, features, target_col):\n",
    "    X = df[features]\n",
    "    y = df[target_col]\n",
    "    \n",
    "    scaler = StandardScaler()\n",
    "    X_scaled = scaler.fit_transform(X)\n",
    "    \n",
    "    rf = RandomForestClassifier(n_estimators=100, random_state=42)\n",
    "    \n",
    "    scoring = {\n",
    "        'accuracy': make_scorer(accuracy_score),\n",
    "        'precision': make_scorer(precision_score, average='weighted'),\n",
    "        'recall': make_scorer(recall_score, average='weighted'),\n",
    "        'f1': make_scorer(f1_score, average='weighted')\n",
    "    }\n",
    "    \n",
    "    metrics = {}\n",
    "    for metric_name, scorer in scoring.items():\n",
    "        cv_scores = cross_val_score(rf, X_scaled, y, scoring=scorer, cv=5)\n",
    "        metrics[metric_name] = {\n",
    "            'mean': cv_scores.mean(),\n",
    "            'std': cv_scores.std()\n",
    "        }\n",
    "    \n",
    "    return metrics\n",
    "\n",
    "def get_final_importance_ranking(df, conservative_features, strict_features, target_col):\n",
    "    X_conservative = df[conservative_features]\n",
    "    X_strict = df[strict_features]\n",
    "    y = df[target_col]\n",
    "    \n",
    "    scaler = StandardScaler()\n",
    "    rf = RandomForestClassifier(n_estimators=100, random_state=42)\n",
    "    \n",
    "    # Get conservative approach importance\n",
    "    X_cons_scaled = scaler.fit_transform(X_conservative)\n",
    "    rf.fit(X_cons_scaled, y)\n",
    "    conservative_importance = pd.DataFrame({\n",
    "        'feature': conservative_features,\n",
    "        'importance': rf.feature_importances_\n",
    "    }).sort_values('importance', ascending=False)\n",
    "    \n",
    "    # Get strict approach importance\n",
    "    X_strict_scaled = scaler.fit_transform(X_strict)\n",
    "    rf.fit(X_strict_scaled, y)\n",
    "    strict_importance = pd.DataFrame({\n",
    "        'feature': strict_features,\n",
    "        'importance': rf.feature_importances_\n",
    "    }).sort_values('importance', ascending=False)\n",
    "    \n",
    "    return {\n",
    "        'conservative': conservative_importance,\n",
    "        'strict': strict_importance\n",
    "    }\n",
    "\n",
    "def display_comprehensive_results(results):\n",
    "\n",
    "    print(\"\\nMulticollinearity Analysis Results:\")\n",
    "    print(\"=\" * 50)\n",
    "    \n",
    "    # Display removed features\n",
    "    print(\"\\nFeatures removed due to multicollinearity:\")\n",
    "    if results['multicollinearity']['removed_features']:\n",
    "        for feature in results['multicollinearity']['removed_features']:\n",
    "            print(f\"- {feature}\")\n",
    "    else:\n",
    "        print(\"No features removed\")\n",
    "    \n",
    "    # Display high correlations\n",
    "    print(\"\\nHighly Correlated Feature Pairs:\")\n",
    "    if results['multicollinearity']['high_correlations']:\n",
    "        for pair in results['multicollinearity']['high_correlations']:\n",
    "            print(f\"{pair['feature1']} & {pair['feature2']}: {pair['correlation']:.3f}\")\n",
    "            print(f\"Removed: {pair['removed']}\")\n",
    "    else:\n",
    "        print(\"No highly correlated pairs found\")\n",
    "    \n",
    "    # Plot correlation heatmap for final features\n",
    "    plt.figure(figsize=(10, 8))\n",
    "    sns.heatmap(results['multicollinearity']['correlation_matrix'], \n",
    "                annot=True, cmap='coolwarm', center=0)\n",
    "    plt.title('Feature Correlation Heatmap')\n",
    "    plt.tight_layout()\n",
    "    plt.show()\n",
    "    \n",
    "    # Display validation results\n",
    "    print(\"\\nFeature Set Validation Results:\")\n",
    "    print(\"=\" * 50)\n",
    "    \n",
    "    print(\"\\nConservative Approach:\")\n",
    "    print(\"-\" * 30)\n",
    "    print(\"Features:\", \", \".join(results['conservative']['features']))\n",
    "    for metric, scores in results['conservative']['metrics'].items():\n",
    "        print(f\"{metric}: {scores['mean']:.3f} (±{scores['std']:.3f})\")\n",
    "    \n",
    "    print(\"\\nStrict Approach:\")\n",
    "    print(\"-\" * 30)\n",
    "    print(\"Features:\", \", \".join(results['strict']['features']))\n",
    "    for metric, scores in results['strict']['metrics'].items():\n",
    "        print(f\"{metric}: {scores['mean']:.3f} (±{scores['std']:.3f})\")\n",
    "    \n",
    "    # Display feature importance rankings\n",
    "    print(\"\\nFeature Importance Rankings:\")\n",
    "    print(\"=\" * 50)\n",
    "    \n",
    "    print(\"\\nConservative Approach Importance:\")\n",
    "    print(\"-\" * 30)\n",
    "    display(results['importance_ranking']['conservative'])\n",
    "    \n",
    "    print(\"\\nStrict Approach Importance:\")\n",
    "    print(\"-\" * 30)\n",
    "    display(results['importance_ranking']['strict'])\n",
    "    \n",
    "    # Compare relative importance changes\n",
    "    common_features = set(results['importance_ranking']['strict']['feature']) & \\\n",
    "                     set(results['importance_ranking']['conservative']['feature'])\n",
    "    \n",
    "    if common_features:\n",
    "        print(\"\\nFeature Importance Comparison (Strict vs Conservative):\")\n",
    "        print(\"-\" * 30)\n",
    "        for feature in common_features:\n",
    "            strict_imp = results['importance_ranking']['strict'][\n",
    "                results['importance_ranking']['strict']['feature'] == feature]['importance'].iloc[0]\n",
    "            cons_imp = results['importance_ranking']['conservative'][\n",
    "                results['importance_ranking']['conservative']['feature'] == feature]['importance'].iloc[0]\n",
    "            print(f\"{feature}:\")\n",
    "            print(f\"  Strict: {strict_imp:.3f}\")\n",
    "            print(f\"  Conservative: {cons_imp:.3f}\")\n",
    "            print(f\"  Change: {(strict_imp - cons_imp):.3f}\")\n",
    "\n",
    "\n",
    "results = analyze_final_features(train_df)\n"
   ]
  },
  {
   "cell_type": "markdown",
   "metadata": {},
   "source": [
    "STAGE 15 - DIMENSION REDUCTION"
   ]
  },
  {
   "cell_type": "code",
   "execution_count": 234,
   "metadata": {},
   "outputs": [],
   "source": [
    "#Not needed as we have less than 20 features in our final selection"
   ]
  },
  {
   "cell_type": "markdown",
   "metadata": {},
   "source": [
    "STAGE 16 - UPDATING TRAIN/TEST SPLIT"
   ]
  },
  {
   "cell_type": "code",
   "execution_count": 235,
   "metadata": {},
   "outputs": [
    {
     "name": "stdout",
     "output_type": "stream",
     "text": [
      "Index(['rating', 'location', 'username', 'verification',\n",
      "       'repeat_reviewer_encoded', 'company', 'subject', 'text', 'answer',\n",
      "       'answered', 'local_date_posted', 'month_posted', 'local_hour',\n",
      "       'time_of_day', 'day_of_week_posted', 'day_type', 'review_time'],\n",
      "      dtype='object')\n",
      "<class 'pandas.core.frame.DataFrame'>\n",
      "RangeIndex: 62723 entries, 0 to 62722\n",
      "Data columns (total 17 columns):\n",
      " #   Column                   Non-Null Count  Dtype         \n",
      "---  ------                   --------------  -----         \n",
      " 0   rating                   62723 non-null  int64         \n",
      " 1   location                 62723 non-null  object        \n",
      " 2   username                 62720 non-null  object        \n",
      " 3   verification             62723 non-null  int64         \n",
      " 4   repeat_reviewer_encoded  62723 non-null  int64         \n",
      " 5   company                  62723 non-null  object        \n",
      " 6   subject                  62723 non-null  object        \n",
      " 7   text                     62723 non-null  object        \n",
      " 8   answer                   62723 non-null  object        \n",
      " 9   answered                 62723 non-null  int64         \n",
      " 10  local_date_posted        62723 non-null  datetime64[ns]\n",
      " 11  month_posted             62723 non-null  int64         \n",
      " 12  local_hour               62723 non-null  int64         \n",
      " 13  time_of_day              62723 non-null  int64         \n",
      " 14  day_of_week_posted       62723 non-null  int64         \n",
      " 15  day_type                 62723 non-null  int64         \n",
      " 16  review_time              62723 non-null  int64         \n",
      "dtypes: datetime64[ns](1), int64(10), object(6)\n",
      "memory usage: 8.1+ MB\n",
      "None\n",
      "The Trustpilot training dataset has  17 columns\n",
      "The Trustpilot training dataset has  62723 rows\n"
     ]
    },
    {
     "data": {
      "text/html": [
       "<div>\n",
       "<style scoped>\n",
       "    .dataframe tbody tr th:only-of-type {\n",
       "        vertical-align: middle;\n",
       "    }\n",
       "\n",
       "    .dataframe tbody tr th {\n",
       "        vertical-align: top;\n",
       "    }\n",
       "\n",
       "    .dataframe thead th {\n",
       "        text-align: right;\n",
       "    }\n",
       "</style>\n",
       "<table border=\"1\" class=\"dataframe\">\n",
       "  <thead>\n",
       "    <tr style=\"text-align: right;\">\n",
       "      <th></th>\n",
       "      <th>rating</th>\n",
       "      <th>location</th>\n",
       "      <th>username</th>\n",
       "      <th>verification</th>\n",
       "      <th>repeat_reviewer_encoded</th>\n",
       "      <th>company</th>\n",
       "      <th>subject</th>\n",
       "      <th>text</th>\n",
       "      <th>answer</th>\n",
       "      <th>answered</th>\n",
       "      <th>local_date_posted</th>\n",
       "      <th>month_posted</th>\n",
       "      <th>local_hour</th>\n",
       "      <th>time_of_day</th>\n",
       "      <th>day_of_week_posted</th>\n",
       "      <th>day_type</th>\n",
       "      <th>review_time</th>\n",
       "    </tr>\n",
       "  </thead>\n",
       "  <tbody>\n",
       "    <tr>\n",
       "      <th>0</th>\n",
       "      <td>5</td>\n",
       "      <td>US</td>\n",
       "      <td>Mark Bock</td>\n",
       "      <td>1</td>\n",
       "      <td>0</td>\n",
       "      <td>Flashbay</td>\n",
       "      <td>Great work</td>\n",
       "      <td>Great experience all around working with Flashbay. I was very impressed from the start -- the sample box they send to display the various styles of flash drives is ingeniously designed, and having actual samples of the styles helped a lot. My initial thought was that we would just go with the least expensive option, but everyone at my company liked one of the higher end options so much after handling it that we ended up going with that. \\r Our account manager, Samantha, was very easy to work with and quickly answered all questions, and once our management gave the green light to place the order, she got it into production immediately, and the finished drives arrived a day ahead of schedule. And the end product looks outstanding. All of us here are very pleased.\\r Consider me very impressed. I wish all vendors were this pleasant to work with.</td>\n",
       "      <td>Hi Mark,We are glad you found the sample pack useful in making your selection. It is also great to hear that Samantha was able to answer all of your questions, and you are happy with the final product.We look forward to working with you next time!-Flashbay Management</td>\n",
       "      <td>1</td>\n",
       "      <td>2016-02-09</td>\n",
       "      <td>2</td>\n",
       "      <td>11</td>\n",
       "      <td>3</td>\n",
       "      <td>1</td>\n",
       "      <td>1</td>\n",
       "      <td>1</td>\n",
       "    </tr>\n",
       "    <tr>\n",
       "      <th>1</th>\n",
       "      <td>5</td>\n",
       "      <td>US</td>\n",
       "      <td>Walt</td>\n",
       "      <td>1</td>\n",
       "      <td>1</td>\n",
       "      <td>Quicken</td>\n",
       "      <td>Works as it should.</td>\n",
       "      <td>Works as it should.</td>\n",
       "      <td>0</td>\n",
       "      <td>0</td>\n",
       "      <td>2024-04-03</td>\n",
       "      <td>4</td>\n",
       "      <td>8</td>\n",
       "      <td>1</td>\n",
       "      <td>2</td>\n",
       "      <td>1</td>\n",
       "      <td>1</td>\n",
       "    </tr>\n",
       "    <tr>\n",
       "      <th>2</th>\n",
       "      <td>3</td>\n",
       "      <td>US</td>\n",
       "      <td>David Banoff</td>\n",
       "      <td>1</td>\n",
       "      <td>0</td>\n",
       "      <td>Quicken</td>\n",
       "      <td>Earlier versions of Quicken saved the…</td>\n",
       "      <td>Earlier versions of Quicken saved the most recent values for entries and presented them the next time (e.g. categories. amounts). Quicken no longer does this, but it still presents the previous entries when a payee, for example, created under the older version is used again. This creates more editing than necessary.</td>\n",
       "      <td>0</td>\n",
       "      <td>0</td>\n",
       "      <td>2023-01-16</td>\n",
       "      <td>1</td>\n",
       "      <td>13</td>\n",
       "      <td>3</td>\n",
       "      <td>0</td>\n",
       "      <td>1</td>\n",
       "      <td>0</td>\n",
       "    </tr>\n",
       "    <tr>\n",
       "      <th>3</th>\n",
       "      <td>5</td>\n",
       "      <td>US</td>\n",
       "      <td>Sheri - March Of Dimes</td>\n",
       "      <td>1</td>\n",
       "      <td>0</td>\n",
       "      <td>Flashbay</td>\n",
       "      <td>Great Customer Service, Super Fast Turn</td>\n",
       "      <td>Extremely communicative sales rep (Mike Dods) - responsive and helpful through the entire order process.  Product arrived quickly and exactly as ordered.  We will definitely use Flashbay again without hesitation should the need arise.</td>\n",
       "      <td>Hi Sheri,Thank you for your kind words.It’s great to hear that Mike was so helpful throughout the ordering process. I will make sure to pass this along to him.We appreciate your business, and look forward to working with you next time! -Flashbay Management</td>\n",
       "      <td>1</td>\n",
       "      <td>2015-05-01</td>\n",
       "      <td>5</td>\n",
       "      <td>16</td>\n",
       "      <td>3</td>\n",
       "      <td>4</td>\n",
       "      <td>1</td>\n",
       "      <td>1</td>\n",
       "    </tr>\n",
       "    <tr>\n",
       "      <th>4</th>\n",
       "      <td>5</td>\n",
       "      <td>NL</td>\n",
       "      <td>Pascal</td>\n",
       "      <td>1</td>\n",
       "      <td>1</td>\n",
       "      <td>SteelSeries</td>\n",
       "      <td>Great product</td>\n",
       "      <td>Great product, great after sales!</td>\n",
       "      <td>0</td>\n",
       "      <td>0</td>\n",
       "      <td>2021-12-03</td>\n",
       "      <td>12</td>\n",
       "      <td>20</td>\n",
       "      <td>2</td>\n",
       "      <td>4</td>\n",
       "      <td>1</td>\n",
       "      <td>1</td>\n",
       "    </tr>\n",
       "  </tbody>\n",
       "</table>\n",
       "</div>"
      ],
      "text/plain": [
       "   rating location                username  verification  repeat_reviewer_encoded      company                                  subject                                                                                                                                                                                                                                                                                                                                                                                                                                                                                                                                                                                                                                                                                                                                                                                                                                                                                   text                                                                                                                                                                                                                                                                       answer  answered local_date_posted  month_posted  local_hour  time_of_day  day_of_week_posted  day_type  review_time\n",
       "0       5       US               Mark Bock             1                        0     Flashbay                               Great work  Great experience all around working with Flashbay. I was very impressed from the start -- the sample box they send to display the various styles of flash drives is ingeniously designed, and having actual samples of the styles helped a lot. My initial thought was that we would just go with the least expensive option, but everyone at my company liked one of the higher end options so much after handling it that we ended up going with that. \\r Our account manager, Samantha, was very easy to work with and quickly answered all questions, and once our management gave the green light to place the order, she got it into production immediately, and the finished drives arrived a day ahead of schedule. And the end product looks outstanding. All of us here are very pleased.\\r Consider me very impressed. I wish all vendors were this pleasant to work with.  Hi Mark,We are glad you found the sample pack useful in making your selection. It is also great to hear that Samantha was able to answer all of your questions, and you are happy with the final product.We look forward to working with you next time!-Flashbay Management         1        2016-02-09             2          11            3                   1         1            1\n",
       "1       5       US                    Walt             1                        1      Quicken                      Works as it should.                                                                                                                                                                                                                                                                                                                                                                                                                                                                                                                                                                                                                                                                                                                                                                                                                                                                    Works as it should.                                                                                                                                                                                                                                                                            0         0        2024-04-03             4           8            1                   2         1            1\n",
       "2       3       US            David Banoff             1                        0      Quicken   Earlier versions of Quicken saved the…                                                                                                                                                                                                                                                                                                                                                                                                                                                                                                                                                          Earlier versions of Quicken saved the most recent values for entries and presented them the next time (e.g. categories. amounts). Quicken no longer does this, but it still presents the previous entries when a payee, for example, created under the older version is used again. This creates more editing than necessary.                                                                                                                                                                                                                                                                            0         0        2023-01-16             1          13            3                   0         1            0\n",
       "3       5       US  Sheri - March Of Dimes             1                        0     Flashbay  Great Customer Service, Super Fast Turn                                                                                                                                                                                                                                                                                                                                                                                                                                                                                                                                                                                                                                             Extremely communicative sales rep (Mike Dods) - responsive and helpful through the entire order process.  Product arrived quickly and exactly as ordered.  We will definitely use Flashbay again without hesitation should the need arise.             Hi Sheri,Thank you for your kind words.It’s great to hear that Mike was so helpful throughout the ordering process. I will make sure to pass this along to him.We appreciate your business, and look forward to working with you next time! -Flashbay Management         1        2015-05-01             5          16            3                   4         1            1\n",
       "4       5       NL                  Pascal             1                        1  SteelSeries                            Great product                                                                                                                                                                                                                                                                                                                                                                                                                                                                                                                                                                                                                                                                                                                                                                                                                                                      Great product, great after sales!                                                                                                                                                                                                                                                                            0         0        2021-12-03            12          20            2                   4         1            1"
      ]
     },
     "metadata": {},
     "output_type": "display_data"
    }
   ],
   "source": [
    "#Inspecting final output \n",
    "\n",
    "print(train_df.columns)\n",
    "print(train_df.info())\n",
    "print(\"The Trustpilot training dataset has \", train_df.shape[1], \"columns\")\n",
    "print(\"The Trustpilot training dataset has \", train_df.shape[0], \"rows\")\n",
    "display(train_df.head())"
   ]
  },
  {
   "cell_type": "code",
   "execution_count": 236,
   "metadata": {},
   "outputs": [
    {
     "name": "stdout",
     "output_type": "stream",
     "text": [
      "Full DataFrame exported to data/data_trustpilot_4.csv\n",
      "Training set exported to data/train_trustpilot_4.csv\n",
      "Test set exported to data/test_trustpilot_4.csv\n",
      "Conservative datasets exported\n",
      "Strict datasets exported\n"
     ]
    }
   ],
   "source": [
    "# Create directory if it doesn't exist\n",
    "import os\n",
    "os.makedirs('data', exist_ok=True)\n",
    "\n",
    "# Save full dataset\n",
    "csv_path = 'data/data_trustpilot_4.csv'\n",
    "df_trustpilot.to_csv(csv_path, index=False)\n",
    "print(f\"Full DataFrame exported to {csv_path}\")\n",
    "\n",
    "# Save conservative feature sets\n",
    "conservative_cols = ['verification', 'answered', 'repeat_reviewer_encoded', \n",
    "                    'day_of_week_posted', 'day_type', 'review_time', \n",
    "                    'month_posted', 'local_hour', 'rating']\n",
    "train_conservative = train_df[conservative_cols]\n",
    "test_conservative = test_df[conservative_cols]\n",
    "\n",
    "train_conservative.to_csv('data/train_conservative_4.csv', index=False)\n",
    "test_conservative.to_csv('data/test_conservative_4.csv', index=False)\n",
    "\n",
    "# Save strict feature sets\n",
    "strict_cols = ['verification', 'answered', 'repeat_reviewer_encoded', 'rating']\n",
    "train_strict = train_df[strict_cols]\n",
    "test_strict = test_df[strict_cols]\n",
    "\n",
    "train_strict.to_csv('data/train_strict_4.csv', index=False)\n",
    "test_strict.to_csv('data/test_strict_4.csv', index=False)\n"
   ]
  }
 ],
 "metadata": {
  "kernelspec": {
   "display_name": "Python 3",
   "language": "python",
   "name": "python3"
  },
  "language_info": {
   "codemirror_mode": {
    "name": "ipython",
    "version": 3
   },
   "file_extension": ".py",
   "mimetype": "text/x-python",
   "name": "python",
   "nbconvert_exporter": "python",
   "pygments_lexer": "ipython3",
   "version": "3.12.2"
  }
 },
 "nbformat": 4,
 "nbformat_minor": 2
}
