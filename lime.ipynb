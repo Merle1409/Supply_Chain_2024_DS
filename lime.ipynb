{
 "cells": [
  {
   "cell_type": "code",
   "execution_count": 2,
   "metadata": {},
   "outputs": [
    {
     "name": "stdout",
     "output_type": "stream",
     "text": [
      "Collecting shap\n",
      "  Downloading shap-0.46.0-cp312-cp312-win_amd64.whl.metadata (25 kB)\n",
      "Requirement already satisfied: numpy in c:\\users\\admin\\.conda\\envs\\supply_chain\\lib\\site-packages (from shap) (1.26.4)\n",
      "Requirement already satisfied: scipy in c:\\users\\admin\\.conda\\envs\\supply_chain\\lib\\site-packages (from shap) (1.13.1)\n",
      "Requirement already satisfied: scikit-learn in c:\\users\\admin\\.conda\\envs\\supply_chain\\lib\\site-packages (from shap) (1.5.1)\n",
      "Requirement already satisfied: pandas in c:\\users\\admin\\.conda\\envs\\supply_chain\\lib\\site-packages (from shap) (2.2.2)\n",
      "Requirement already satisfied: tqdm>=4.27.0 in c:\\users\\admin\\.conda\\envs\\supply_chain\\lib\\site-packages (from shap) (4.66.5)\n",
      "Requirement already satisfied: packaging>20.9 in c:\\users\\admin\\.conda\\envs\\supply_chain\\lib\\site-packages (from shap) (24.1)\n",
      "Collecting slicer==0.0.8 (from shap)\n",
      "  Downloading slicer-0.0.8-py3-none-any.whl.metadata (4.0 kB)\n",
      "Collecting numba (from shap)\n",
      "  Downloading numba-0.60.0-cp312-cp312-win_amd64.whl.metadata (2.8 kB)\n",
      "Collecting cloudpickle (from shap)\n",
      "  Downloading cloudpickle-3.1.0-py3-none-any.whl.metadata (7.0 kB)\n",
      "Requirement already satisfied: colorama in c:\\users\\admin\\.conda\\envs\\supply_chain\\lib\\site-packages (from tqdm>=4.27.0->shap) (0.4.6)\n",
      "Collecting llvmlite<0.44,>=0.43.0dev0 (from numba->shap)\n",
      "  Downloading llvmlite-0.43.0-cp312-cp312-win_amd64.whl.metadata (4.9 kB)\n",
      "Requirement already satisfied: python-dateutil>=2.8.2 in c:\\users\\admin\\.conda\\envs\\supply_chain\\lib\\site-packages (from pandas->shap) (2.9.0.post0)\n",
      "Requirement already satisfied: pytz>=2020.1 in c:\\users\\admin\\.conda\\envs\\supply_chain\\lib\\site-packages (from pandas->shap) (2024.1)\n",
      "Requirement already satisfied: tzdata>=2022.7 in c:\\users\\admin\\.conda\\envs\\supply_chain\\lib\\site-packages (from pandas->shap) (2023.3)\n",
      "Requirement already satisfied: joblib>=1.2.0 in c:\\users\\admin\\.conda\\envs\\supply_chain\\lib\\site-packages (from scikit-learn->shap) (1.4.2)\n",
      "Requirement already satisfied: threadpoolctl>=3.1.0 in c:\\users\\admin\\.conda\\envs\\supply_chain\\lib\\site-packages (from scikit-learn->shap) (3.5.0)\n",
      "Requirement already satisfied: six>=1.5 in c:\\users\\admin\\.conda\\envs\\supply_chain\\lib\\site-packages (from python-dateutil>=2.8.2->pandas->shap) (1.16.0)\n",
      "Downloading shap-0.46.0-cp312-cp312-win_amd64.whl (456 kB)\n",
      "Downloading slicer-0.0.8-py3-none-any.whl (15 kB)\n",
      "Downloading cloudpickle-3.1.0-py3-none-any.whl (22 kB)\n",
      "Downloading numba-0.60.0-cp312-cp312-win_amd64.whl (2.7 MB)\n",
      "   ---------------------------------------- 0.0/2.7 MB ? eta -:--:--\n",
      "   ------------------- -------------------- 1.3/2.7 MB 6.7 MB/s eta 0:00:01\n",
      "   ---------------------------------------- 2.7/2.7 MB 6.3 MB/s eta 0:00:00\n",
      "Downloading llvmlite-0.43.0-cp312-cp312-win_amd64.whl (28.1 MB)\n",
      "   ---------------------------------------- 0.0/28.1 MB ? eta -:--:--\n",
      "   - -------------------------------------- 1.3/28.1 MB 6.1 MB/s eta 0:00:05\n",
      "   --- ------------------------------------ 2.6/28.1 MB 6.3 MB/s eta 0:00:05\n",
      "   ----- ---------------------------------- 4.2/28.1 MB 6.5 MB/s eta 0:00:04\n",
      "   ------- -------------------------------- 5.5/28.1 MB 6.5 MB/s eta 0:00:04\n",
      "   --------- ------------------------------ 6.8/28.1 MB 6.5 MB/s eta 0:00:04\n",
      "   ----------- ---------------------------- 8.1/28.1 MB 6.4 MB/s eta 0:00:04\n",
      "   ------------- -------------------------- 9.7/28.1 MB 6.4 MB/s eta 0:00:03\n",
      "   --------------- ------------------------ 10.7/28.1 MB 6.4 MB/s eta 0:00:03\n",
      "   ----------------- ---------------------- 12.3/28.1 MB 6.4 MB/s eta 0:00:03\n",
      "   ------------------- -------------------- 13.6/28.1 MB 6.4 MB/s eta 0:00:03\n",
      "   --------------------- ------------------ 14.9/28.1 MB 6.4 MB/s eta 0:00:03\n",
      "   ----------------------- ---------------- 16.3/28.1 MB 6.4 MB/s eta 0:00:02\n",
      "   ------------------------ --------------- 17.6/28.1 MB 6.4 MB/s eta 0:00:02\n",
      "   --------------------------- ------------ 19.1/28.1 MB 6.4 MB/s eta 0:00:02\n",
      "   ----------------------------- ---------- 20.7/28.1 MB 6.4 MB/s eta 0:00:02\n",
      "   ------------------------------- -------- 22.0/28.1 MB 6.4 MB/s eta 0:00:01\n",
      "   --------------------------------- ------ 23.3/28.1 MB 6.4 MB/s eta 0:00:01\n",
      "   ----------------------------------- ---- 24.9/28.1 MB 6.4 MB/s eta 0:00:01\n",
      "   ------------------------------------- -- 26.2/28.1 MB 6.4 MB/s eta 0:00:01\n",
      "   ---------------------------------------  27.5/28.1 MB 6.4 MB/s eta 0:00:01\n",
      "   ---------------------------------------- 28.1/28.1 MB 6.3 MB/s eta 0:00:00\n",
      "Installing collected packages: slicer, llvmlite, cloudpickle, numba, shap\n",
      "Successfully installed cloudpickle-3.1.0 llvmlite-0.43.0 numba-0.60.0 shap-0.46.0 slicer-0.0.8\n"
     ]
    }
   ],
   "source": [
    "!pip install shap"
   ]
  },
  {
   "cell_type": "code",
   "execution_count": 3,
   "metadata": {},
   "outputs": [
    {
     "name": "stdout",
     "output_type": "stream",
     "text": [
      "Collecting lime\n",
      "  Downloading lime-0.2.0.1.tar.gz (275 kB)\n",
      "  Preparing metadata (setup.py): started\n",
      "  Preparing metadata (setup.py): finished with status 'done'\n",
      "Requirement already satisfied: matplotlib in c:\\users\\admin\\.conda\\envs\\supply_chain\\lib\\site-packages (from lime) (3.9.2)\n",
      "Requirement already satisfied: numpy in c:\\users\\admin\\.conda\\envs\\supply_chain\\lib\\site-packages (from lime) (1.26.4)\n",
      "Requirement already satisfied: scipy in c:\\users\\admin\\.conda\\envs\\supply_chain\\lib\\site-packages (from lime) (1.13.1)\n",
      "Requirement already satisfied: tqdm in c:\\users\\admin\\.conda\\envs\\supply_chain\\lib\\site-packages (from lime) (4.66.5)\n",
      "Requirement already satisfied: scikit-learn>=0.18 in c:\\users\\admin\\.conda\\envs\\supply_chain\\lib\\site-packages (from lime) (1.5.1)\n",
      "Collecting scikit-image>=0.12 (from lime)\n",
      "  Downloading scikit_image-0.24.0-cp312-cp312-win_amd64.whl.metadata (14 kB)\n",
      "Requirement already satisfied: networkx>=2.8 in c:\\users\\admin\\.conda\\envs\\supply_chain\\lib\\site-packages (from scikit-image>=0.12->lime) (3.4.2)\n",
      "Requirement already satisfied: pillow>=9.1 in c:\\users\\admin\\.conda\\envs\\supply_chain\\lib\\site-packages (from scikit-image>=0.12->lime) (10.4.0)\n",
      "Collecting imageio>=2.33 (from scikit-image>=0.12->lime)\n",
      "  Downloading imageio-2.36.1-py3-none-any.whl.metadata (5.2 kB)\n",
      "Collecting tifffile>=2022.8.12 (from scikit-image>=0.12->lime)\n",
      "  Downloading tifffile-2024.9.20-py3-none-any.whl.metadata (32 kB)\n",
      "Requirement already satisfied: packaging>=21 in c:\\users\\admin\\.conda\\envs\\supply_chain\\lib\\site-packages (from scikit-image>=0.12->lime) (24.1)\n",
      "Collecting lazy-loader>=0.4 (from scikit-image>=0.12->lime)\n",
      "  Downloading lazy_loader-0.4-py3-none-any.whl.metadata (7.6 kB)\n",
      "Requirement already satisfied: joblib>=1.2.0 in c:\\users\\admin\\.conda\\envs\\supply_chain\\lib\\site-packages (from scikit-learn>=0.18->lime) (1.4.2)\n",
      "Requirement already satisfied: threadpoolctl>=3.1.0 in c:\\users\\admin\\.conda\\envs\\supply_chain\\lib\\site-packages (from scikit-learn>=0.18->lime) (3.5.0)\n",
      "Requirement already satisfied: contourpy>=1.0.1 in c:\\users\\admin\\.conda\\envs\\supply_chain\\lib\\site-packages (from matplotlib->lime) (1.2.0)\n",
      "Requirement already satisfied: cycler>=0.10 in c:\\users\\admin\\.conda\\envs\\supply_chain\\lib\\site-packages (from matplotlib->lime) (0.11.0)\n",
      "Requirement already satisfied: fonttools>=4.22.0 in c:\\users\\admin\\.conda\\envs\\supply_chain\\lib\\site-packages (from matplotlib->lime) (4.51.0)\n",
      "Requirement already satisfied: kiwisolver>=1.3.1 in c:\\users\\admin\\.conda\\envs\\supply_chain\\lib\\site-packages (from matplotlib->lime) (1.4.4)\n",
      "Requirement already satisfied: pyparsing>=2.3.1 in c:\\users\\admin\\.conda\\envs\\supply_chain\\lib\\site-packages (from matplotlib->lime) (3.1.2)\n",
      "Requirement already satisfied: python-dateutil>=2.7 in c:\\users\\admin\\.conda\\envs\\supply_chain\\lib\\site-packages (from matplotlib->lime) (2.9.0.post0)\n",
      "Requirement already satisfied: colorama in c:\\users\\admin\\.conda\\envs\\supply_chain\\lib\\site-packages (from tqdm->lime) (0.4.6)\n",
      "Requirement already satisfied: six>=1.5 in c:\\users\\admin\\.conda\\envs\\supply_chain\\lib\\site-packages (from python-dateutil>=2.7->matplotlib->lime) (1.16.0)\n",
      "Downloading scikit_image-0.24.0-cp312-cp312-win_amd64.whl (12.9 MB)\n",
      "   ---------------------------------------- 0.0/12.9 MB ? eta -:--:--\n",
      "   ---- ----------------------------------- 1.3/12.9 MB 6.1 MB/s eta 0:00:02\n",
      "   -------- ------------------------------- 2.6/12.9 MB 6.3 MB/s eta 0:00:02\n",
      "   ------------ --------------------------- 3.9/12.9 MB 6.3 MB/s eta 0:00:02\n",
      "   ---------------- ----------------------- 5.2/12.9 MB 6.4 MB/s eta 0:00:02\n",
      "   -------------------- ------------------- 6.6/12.9 MB 6.4 MB/s eta 0:00:02\n",
      "   ------------------------- -------------- 8.1/12.9 MB 6.4 MB/s eta 0:00:01\n",
      "   ----------------------------- ---------- 9.4/12.9 MB 6.4 MB/s eta 0:00:01\n",
      "   --------------------------------- ------ 10.7/12.9 MB 6.4 MB/s eta 0:00:01\n",
      "   ------------------------------------- -- 12.1/12.9 MB 6.4 MB/s eta 0:00:01\n",
      "   ---------------------------------------- 12.9/12.9 MB 6.3 MB/s eta 0:00:00\n",
      "Downloading imageio-2.36.1-py3-none-any.whl (315 kB)\n",
      "Downloading lazy_loader-0.4-py3-none-any.whl (12 kB)\n",
      "Downloading tifffile-2024.9.20-py3-none-any.whl (228 kB)\n",
      "Building wheels for collected packages: lime\n",
      "  Building wheel for lime (setup.py): started\n",
      "  Building wheel for lime (setup.py): finished with status 'done'\n",
      "  Created wheel for lime: filename=lime-0.2.0.1-py3-none-any.whl size=283840 sha256=7e1dd5f792dabe2c5fd1fb0c7906e2408515576020a99bef66b8f53d224a2eb1\n",
      "  Stored in directory: c:\\users\\admin\\appdata\\local\\pip\\cache\\wheels\\e7\\5d\\0e\\4b4fff9a47468fed5633211fb3b76d1db43fe806a17fb7486a\n",
      "Successfully built lime\n",
      "Installing collected packages: tifffile, lazy-loader, imageio, scikit-image, lime\n",
      "Successfully installed imageio-2.36.1 lazy-loader-0.4 lime-0.2.0.1 scikit-image-0.24.0 tifffile-2024.9.20\n"
     ]
    }
   ],
   "source": [
    "!pip install lime"
   ]
  },
  {
   "cell_type": "code",
   "execution_count": 3,
   "metadata": {},
   "outputs": [
    {
     "name": "stdout",
     "output_type": "stream",
     "text": [
      "Collecting captum\n",
      "  Downloading captum-0.7.0-py3-none-any.whl.metadata (26 kB)\n",
      "Requirement already satisfied: matplotlib in c:\\users\\admin\\.conda\\envs\\supply_chain\\lib\\site-packages (from captum) (3.9.2)\n",
      "Requirement already satisfied: numpy in c:\\users\\admin\\.conda\\envs\\supply_chain\\lib\\site-packages (from captum) (1.26.4)\n",
      "Requirement already satisfied: torch>=1.6 in c:\\users\\admin\\.conda\\envs\\supply_chain\\lib\\site-packages (from captum) (2.5.1)\n",
      "Requirement already satisfied: tqdm in c:\\users\\admin\\.conda\\envs\\supply_chain\\lib\\site-packages (from captum) (4.66.5)\n",
      "Requirement already satisfied: filelock in c:\\users\\admin\\.conda\\envs\\supply_chain\\lib\\site-packages (from torch>=1.6->captum) (3.16.1)\n",
      "Requirement already satisfied: typing-extensions>=4.8.0 in c:\\users\\admin\\.conda\\envs\\supply_chain\\lib\\site-packages (from torch>=1.6->captum) (4.12.2)\n",
      "Requirement already satisfied: networkx in c:\\users\\admin\\.conda\\envs\\supply_chain\\lib\\site-packages (from torch>=1.6->captum) (3.4.2)\n",
      "Requirement already satisfied: jinja2 in c:\\users\\admin\\.conda\\envs\\supply_chain\\lib\\site-packages (from torch>=1.6->captum) (3.1.4)\n",
      "Requirement already satisfied: fsspec in c:\\users\\admin\\.conda\\envs\\supply_chain\\lib\\site-packages (from torch>=1.6->captum) (2024.9.0)\n",
      "Requirement already satisfied: setuptools in c:\\users\\admin\\.conda\\envs\\supply_chain\\lib\\site-packages (from torch>=1.6->captum) (75.1.0)\n",
      "Requirement already satisfied: sympy==1.13.1 in c:\\users\\admin\\.conda\\envs\\supply_chain\\lib\\site-packages (from torch>=1.6->captum) (1.13.1)\n",
      "Requirement already satisfied: mpmath<1.4,>=1.1.0 in c:\\users\\admin\\.conda\\envs\\supply_chain\\lib\\site-packages (from sympy==1.13.1->torch>=1.6->captum) (1.3.0)\n",
      "Requirement already satisfied: contourpy>=1.0.1 in c:\\users\\admin\\.conda\\envs\\supply_chain\\lib\\site-packages (from matplotlib->captum) (1.2.0)\n",
      "Requirement already satisfied: cycler>=0.10 in c:\\users\\admin\\.conda\\envs\\supply_chain\\lib\\site-packages (from matplotlib->captum) (0.11.0)\n",
      "Requirement already satisfied: fonttools>=4.22.0 in c:\\users\\admin\\.conda\\envs\\supply_chain\\lib\\site-packages (from matplotlib->captum) (4.51.0)\n",
      "Requirement already satisfied: kiwisolver>=1.3.1 in c:\\users\\admin\\.conda\\envs\\supply_chain\\lib\\site-packages (from matplotlib->captum) (1.4.4)\n",
      "Requirement already satisfied: packaging>=20.0 in c:\\users\\admin\\.conda\\envs\\supply_chain\\lib\\site-packages (from matplotlib->captum) (24.1)\n",
      "Requirement already satisfied: pillow>=8 in c:\\users\\admin\\.conda\\envs\\supply_chain\\lib\\site-packages (from matplotlib->captum) (10.4.0)\n",
      "Requirement already satisfied: pyparsing>=2.3.1 in c:\\users\\admin\\.conda\\envs\\supply_chain\\lib\\site-packages (from matplotlib->captum) (3.1.2)\n",
      "Requirement already satisfied: python-dateutil>=2.7 in c:\\users\\admin\\.conda\\envs\\supply_chain\\lib\\site-packages (from matplotlib->captum) (2.9.0.post0)\n",
      "Requirement already satisfied: colorama in c:\\users\\admin\\.conda\\envs\\supply_chain\\lib\\site-packages (from tqdm->captum) (0.4.6)\n",
      "Requirement already satisfied: six>=1.5 in c:\\users\\admin\\.conda\\envs\\supply_chain\\lib\\site-packages (from python-dateutil>=2.7->matplotlib->captum) (1.16.0)\n",
      "Requirement already satisfied: MarkupSafe>=2.0 in c:\\users\\admin\\.conda\\envs\\supply_chain\\lib\\site-packages (from jinja2->torch>=1.6->captum) (2.1.3)\n",
      "Downloading captum-0.7.0-py3-none-any.whl (1.3 MB)\n",
      "   ---------------------------------------- 0.0/1.3 MB ? eta -:--:--\n",
      "   ------------------------------- -------- 1.0/1.3 MB 6.3 MB/s eta 0:00:01\n",
      "   ---------------------------------------- 1.3/1.3 MB 5.7 MB/s eta 0:00:00\n",
      "Installing collected packages: captum\n",
      "Successfully installed captum-0.7.0\n"
     ]
    }
   ],
   "source": [
    "!pip install captum"
   ]
  },
  {
   "cell_type": "code",
   "execution_count": 2,
   "metadata": {},
   "outputs": [
    {
     "name": "stderr",
     "output_type": "stream",
     "text": [
      "c:\\Users\\Admin\\.conda\\envs\\supply_chain\\Lib\\site-packages\\tqdm\\auto.py:21: TqdmWarning: IProgress not found. Please update jupyter and ipywidgets. See https://ipywidgets.readthedocs.io/en/stable/user_install.html\n",
      "  from .autonotebook import tqdm as notebook_tqdm\n"
     ]
    },
    {
     "data": {
      "text/plain": [
       "DistilBertForSequenceClassification(\n",
       "  (distilbert): DistilBertModel(\n",
       "    (embeddings): Embeddings(\n",
       "      (word_embeddings): Embedding(30522, 768, padding_idx=0)\n",
       "      (position_embeddings): Embedding(512, 768)\n",
       "      (LayerNorm): LayerNorm((768,), eps=1e-12, elementwise_affine=True)\n",
       "      (dropout): Dropout(p=0.1, inplace=False)\n",
       "    )\n",
       "    (transformer): Transformer(\n",
       "      (layer): ModuleList(\n",
       "        (0-5): 6 x TransformerBlock(\n",
       "          (attention): DistilBertSdpaAttention(\n",
       "            (dropout): Dropout(p=0.1, inplace=False)\n",
       "            (q_lin): Linear(in_features=768, out_features=768, bias=True)\n",
       "            (k_lin): Linear(in_features=768, out_features=768, bias=True)\n",
       "            (v_lin): Linear(in_features=768, out_features=768, bias=True)\n",
       "            (out_lin): Linear(in_features=768, out_features=768, bias=True)\n",
       "          )\n",
       "          (sa_layer_norm): LayerNorm((768,), eps=1e-12, elementwise_affine=True)\n",
       "          (ffn): FFN(\n",
       "            (dropout): Dropout(p=0.1, inplace=False)\n",
       "            (lin1): Linear(in_features=768, out_features=3072, bias=True)\n",
       "            (lin2): Linear(in_features=3072, out_features=768, bias=True)\n",
       "            (activation): GELUActivation()\n",
       "          )\n",
       "          (output_layer_norm): LayerNorm((768,), eps=1e-12, elementwise_affine=True)\n",
       "        )\n",
       "      )\n",
       "    )\n",
       "  )\n",
       "  (pre_classifier): Linear(in_features=768, out_features=768, bias=True)\n",
       "  (classifier): Linear(in_features=768, out_features=5, bias=True)\n",
       "  (dropout): Dropout(p=0.2, inplace=False)\n",
       ")"
      ]
     },
     "execution_count": 2,
     "metadata": {},
     "output_type": "execute_result"
    }
   ],
   "source": [
    "import transformers\n",
    "from transformers import DistilBertTokenizer, DistilBertForSequenceClassification\n",
    "import numpy as np\n",
    "from lime.lime_text import LimeTextExplainer\n",
    "import torch\n",
    "import lime\n",
    "import lime.lime_tabular\n",
    "from captum.attr import IntegratedGradients\n",
    "\n",
    "# Load the fine-tuned DistilBERT model and tokenizer\n",
    "model_save_path = \"finetuned_destilbert_unpr_model\"\n",
    "tokenizer_save_path = \"finetuned_destilbert_unpr_tokenizer\"\n",
    "\n",
    "tokenizer = DistilBertTokenizer.from_pretrained(tokenizer_save_path)\n",
    "model = DistilBertForSequenceClassification.from_pretrained(model_save_path)\n",
    "model.eval()\n",
    "\n"
   ]
  },
  {
   "cell_type": "code",
   "execution_count": 3,
   "metadata": {},
   "outputs": [
    {
     "ename": "",
     "evalue": "",
     "output_type": "error",
     "traceback": [
      "\u001b[1;31mThe Kernel crashed while executing code in the current cell or a previous cell. \n",
      "\u001b[1;31mPlease review the code in the cell(s) to identify a possible cause of the failure. \n",
      "\u001b[1;31mClick <a href='https://aka.ms/vscodeJupyterKernelCrash'>here</a> for more info. \n",
      "\u001b[1;31mView Jupyter <a href='command:jupyter.viewOutput'>log</a> for further details."
     ]
    }
   ],
   "source": [
    "     \n",
    "\n",
    "# Define a function to predict ratings\n",
    "def predict_ratings(texts):\n",
    "  inputs = tokenizer(texts, padding=True, truncation=True, return_tensors=\"pt\")\n",
    "  outputs = model(**inputs)\n",
    "  # Get probabilities using softmax\n",
    "  probabilities = torch.nn.functional.softmax(outputs.logits, dim=-1)  \n",
    "  return probabilities.detach().cpu().numpy()\n",
    "\n",
    "# Create an explainer for LIME\n",
    "class_names = [\"1\", \"2\", \"3\", \"4\", \"5\"]  \n",
    "explainer = lime.lime_text.LimeTextExplainer(class_names=class_names)\n",
    "\n",
    "\n",
    "# Explain the prediction for the example sentence using LIME\n",
    "explanation = explainer.explain_instance(\"Good product, bad aftercare\", predict_ratings, num_features=10)\n",
    "\n",
    "# Display the LIME explanation\n",
    "explanation.show_in_notebook(text=True)"
   ]
  },
  {
   "cell_type": "code",
   "execution_count": null,
   "metadata": {},
   "outputs": [],
   "source": []
  },
  {
   "cell_type": "code",
   "execution_count": null,
   "metadata": {},
   "outputs": [],
   "source": [
    "\n"
   ]
  },
  {
   "cell_type": "code",
   "execution_count": null,
   "metadata": {},
   "outputs": [],
   "source": []
  },
  {
   "cell_type": "code",
   "execution_count": null,
   "metadata": {},
   "outputs": [],
   "source": []
  }
 ],
 "metadata": {
  "kernelspec": {
   "display_name": "supply_chain",
   "language": "python",
   "name": "python3"
  },
  "language_info": {
   "codemirror_mode": {
    "name": "ipython",
    "version": 3
   },
   "file_extension": ".py",
   "mimetype": "text/x-python",
   "name": "python",
   "nbconvert_exporter": "python",
   "pygments_lexer": "ipython3",
   "version": "3.12.7"
  }
 },
 "nbformat": 4,
 "nbformat_minor": 2
}
