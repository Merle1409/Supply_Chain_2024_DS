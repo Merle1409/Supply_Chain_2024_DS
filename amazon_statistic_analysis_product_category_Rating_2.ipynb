{
 "cells": [
  {
   "cell_type": "code",
   "execution_count": 25,
   "metadata": {},
   "outputs": [],
   "source": [
    "import pandas as pd\n",
    "import seaborn as sns\n",
    "import matplotlib.pyplot as plt"
   ]
  },
  {
   "cell_type": "code",
   "execution_count": 7,
   "metadata": {},
   "outputs": [
    {
     "data": {
      "text/html": [
       "<div>\n",
       "<style scoped>\n",
       "    .dataframe tbody tr th:only-of-type {\n",
       "        vertical-align: middle;\n",
       "    }\n",
       "\n",
       "    .dataframe tbody tr th {\n",
       "        vertical-align: top;\n",
       "    }\n",
       "\n",
       "    .dataframe thead th {\n",
       "        text-align: right;\n",
       "    }\n",
       "</style>\n",
       "<table border=\"1\" class=\"dataframe\">\n",
       "  <thead>\n",
       "    <tr style=\"text-align: right;\">\n",
       "      <th></th>\n",
       "      <th>Product_Category</th>\n",
       "      <th>Review_Header</th>\n",
       "      <th>Review_Text</th>\n",
       "      <th>Rating</th>\n",
       "    </tr>\n",
       "  </thead>\n",
       "  <tbody>\n",
       "    <tr>\n",
       "      <th>0</th>\n",
       "      <td>smartTv</td>\n",
       "      <td>Nice one</td>\n",
       "      <td>I liked it</td>\n",
       "      <td>5</td>\n",
       "    </tr>\n",
       "    <tr>\n",
       "      <th>1</th>\n",
       "      <td>mobile</td>\n",
       "      <td>Huge battery life with amazing display</td>\n",
       "      <td>I bought the phone on Amazon and been using my...</td>\n",
       "      <td>5</td>\n",
       "    </tr>\n",
       "    <tr>\n",
       "      <th>2</th>\n",
       "      <td>books</td>\n",
       "      <td>Four Stars</td>\n",
       "      <td>Awesome book at reasonable price, must buy ......</td>\n",
       "      <td>4</td>\n",
       "    </tr>\n",
       "    <tr>\n",
       "      <th>3</th>\n",
       "      <td>smartTv</td>\n",
       "      <td>Nice quality</td>\n",
       "      <td>good</td>\n",
       "      <td>5</td>\n",
       "    </tr>\n",
       "    <tr>\n",
       "      <th>4</th>\n",
       "      <td>books</td>\n",
       "      <td>Nice book</td>\n",
       "      <td>The book is fine,not bad,contains nice concept...</td>\n",
       "      <td>3</td>\n",
       "    </tr>\n",
       "  </tbody>\n",
       "</table>\n",
       "</div>"
      ],
      "text/plain": [
       "  Product_Category                           Review_Header  \\\n",
       "0          smartTv                                Nice one   \n",
       "1           mobile  Huge battery life with amazing display   \n",
       "2            books                              Four Stars   \n",
       "3          smartTv                            Nice quality   \n",
       "4            books                               Nice book   \n",
       "\n",
       "                                         Review_Text  Rating  \n",
       "0                                         I liked it       5  \n",
       "1  I bought the phone on Amazon and been using my...       5  \n",
       "2  Awesome book at reasonable price, must buy ......       4  \n",
       "3                                               good       5  \n",
       "4  The book is fine,not bad,contains nice concept...       3  "
      ]
     },
     "execution_count": 7,
     "metadata": {},
     "output_type": "execute_result"
    }
   ],
   "source": [
    "df = pd.read_csv(r\"data\\amazon_cleand_data\\Amazon_Review_clean_with_Category.csv\")\n",
    "df.head()"
   ]
  },
  {
   "cell_type": "code",
   "execution_count": 38,
   "metadata": {},
   "outputs": [
    {
     "data": {
      "text/html": [
       "<div>\n",
       "<style scoped>\n",
       "    .dataframe tbody tr th:only-of-type {\n",
       "        vertical-align: middle;\n",
       "    }\n",
       "\n",
       "    .dataframe tbody tr th {\n",
       "        vertical-align: top;\n",
       "    }\n",
       "\n",
       "    .dataframe thead th {\n",
       "        text-align: right;\n",
       "    }\n",
       "</style>\n",
       "<table border=\"1\" class=\"dataframe\">\n",
       "  <thead>\n",
       "    <tr style=\"text-align: right;\">\n",
       "      <th>Rating</th>\n",
       "      <th>1</th>\n",
       "      <th>2</th>\n",
       "      <th>3</th>\n",
       "      <th>4</th>\n",
       "      <th>5</th>\n",
       "    </tr>\n",
       "    <tr>\n",
       "      <th>Product_Category</th>\n",
       "      <th></th>\n",
       "      <th></th>\n",
       "      <th></th>\n",
       "      <th></th>\n",
       "      <th></th>\n",
       "    </tr>\n",
       "  </thead>\n",
       "  <tbody>\n",
       "    <tr>\n",
       "      <th>books</th>\n",
       "      <td>0.036592</td>\n",
       "      <td>0.016377</td>\n",
       "      <td>0.048362</td>\n",
       "      <td>0.172467</td>\n",
       "      <td>0.726203</td>\n",
       "    </tr>\n",
       "    <tr>\n",
       "      <th>mobile</th>\n",
       "      <td>0.117106</td>\n",
       "      <td>0.036544</td>\n",
       "      <td>0.076297</td>\n",
       "      <td>0.213896</td>\n",
       "      <td>0.556157</td>\n",
       "    </tr>\n",
       "    <tr>\n",
       "      <th>mobile accessories</th>\n",
       "      <td>0.125456</td>\n",
       "      <td>0.039028</td>\n",
       "      <td>0.083120</td>\n",
       "      <td>0.235652</td>\n",
       "      <td>0.516745</td>\n",
       "    </tr>\n",
       "    <tr>\n",
       "      <th>refrigerator</th>\n",
       "      <td>0.097199</td>\n",
       "      <td>0.025293</td>\n",
       "      <td>0.057065</td>\n",
       "      <td>0.208612</td>\n",
       "      <td>0.611831</td>\n",
       "    </tr>\n",
       "    <tr>\n",
       "      <th>smartTv</th>\n",
       "      <td>0.126600</td>\n",
       "      <td>0.035106</td>\n",
       "      <td>0.063984</td>\n",
       "      <td>0.201328</td>\n",
       "      <td>0.572983</td>\n",
       "    </tr>\n",
       "  </tbody>\n",
       "</table>\n",
       "</div>"
      ],
      "text/plain": [
       "Rating                     1         2         3         4         5\n",
       "Product_Category                                                    \n",
       "books               0.036592  0.016377  0.048362  0.172467  0.726203\n",
       "mobile              0.117106  0.036544  0.076297  0.213896  0.556157\n",
       "mobile accessories  0.125456  0.039028  0.083120  0.235652  0.516745\n",
       "refrigerator        0.097199  0.025293  0.057065  0.208612  0.611831\n",
       "smartTv             0.126600  0.035106  0.063984  0.201328  0.572983"
      ]
     },
     "execution_count": 38,
     "metadata": {},
     "output_type": "execute_result"
    }
   ],
   "source": [
    "cross = pd.crosstab(df.Product_Category, df.Rating, rownames = [\"Product_Category\"], colnames = [\"Rating\"], normalize= \"index\")\n",
    "cross"
   ]
  },
  {
   "cell_type": "code",
   "execution_count": 39,
   "metadata": {},
   "outputs": [
    {
     "data": {
      "text/html": [
       "<div>\n",
       "<style scoped>\n",
       "    .dataframe tbody tr th:only-of-type {\n",
       "        vertical-align: middle;\n",
       "    }\n",
       "\n",
       "    .dataframe tbody tr th {\n",
       "        vertical-align: top;\n",
       "    }\n",
       "\n",
       "    .dataframe thead th {\n",
       "        text-align: right;\n",
       "    }\n",
       "</style>\n",
       "<table border=\"1\" class=\"dataframe\">\n",
       "  <thead>\n",
       "    <tr style=\"text-align: right;\">\n",
       "      <th>Rating</th>\n",
       "      <th>1</th>\n",
       "      <th>2</th>\n",
       "      <th>3</th>\n",
       "      <th>4</th>\n",
       "      <th>5</th>\n",
       "    </tr>\n",
       "    <tr>\n",
       "      <th>Product_Category</th>\n",
       "      <th></th>\n",
       "      <th></th>\n",
       "      <th></th>\n",
       "      <th></th>\n",
       "      <th></th>\n",
       "    </tr>\n",
       "  </thead>\n",
       "  <tbody>\n",
       "    <tr>\n",
       "      <th>books</th>\n",
       "      <td>143</td>\n",
       "      <td>64</td>\n",
       "      <td>189</td>\n",
       "      <td>674</td>\n",
       "      <td>2838</td>\n",
       "    </tr>\n",
       "    <tr>\n",
       "      <th>mobile</th>\n",
       "      <td>2663</td>\n",
       "      <td>831</td>\n",
       "      <td>1735</td>\n",
       "      <td>4864</td>\n",
       "      <td>12647</td>\n",
       "    </tr>\n",
       "    <tr>\n",
       "      <th>mobile accessories</th>\n",
       "      <td>1858</td>\n",
       "      <td>578</td>\n",
       "      <td>1231</td>\n",
       "      <td>3490</td>\n",
       "      <td>7653</td>\n",
       "    </tr>\n",
       "    <tr>\n",
       "      <th>refrigerator</th>\n",
       "      <td>465</td>\n",
       "      <td>121</td>\n",
       "      <td>273</td>\n",
       "      <td>998</td>\n",
       "      <td>2927</td>\n",
       "    </tr>\n",
       "    <tr>\n",
       "      <th>smartTv</th>\n",
       "      <td>1850</td>\n",
       "      <td>513</td>\n",
       "      <td>935</td>\n",
       "      <td>2942</td>\n",
       "      <td>8373</td>\n",
       "    </tr>\n",
       "  </tbody>\n",
       "</table>\n",
       "</div>"
      ],
      "text/plain": [
       "Rating                 1    2     3     4      5\n",
       "Product_Category                                \n",
       "books                143   64   189   674   2838\n",
       "mobile              2663  831  1735  4864  12647\n",
       "mobile accessories  1858  578  1231  3490   7653\n",
       "refrigerator         465  121   273   998   2927\n",
       "smartTv             1850  513   935  2942   8373"
      ]
     },
     "execution_count": 39,
     "metadata": {},
     "output_type": "execute_result"
    }
   ],
   "source": [
    "cross_2 = pd.crosstab(df.Product_Category, df.Rating, rownames = [\"Product_Category\"], colnames = [\"Rating\"])\n",
    "cross_2"
   ]
  },
  {
   "cell_type": "markdown",
   "metadata": {},
   "source": [
    "# statistical chi2 test to see if the two categorical varialbles Product_Category and Rating depent on eachother\n",
    "H0 Hypothesis: The Rating is independent from the Product Category"
   ]
  },
  {
   "cell_type": "code",
   "execution_count": 40,
   "metadata": {},
   "outputs": [
    {
     "name": "stdout",
     "output_type": "stream",
     "text": [
      "The p_value of the chi_2 test is:  4.8328739131733316e-148\n"
     ]
    }
   ],
   "source": [
    "from scipy.stats import chi2_contingency\n",
    "result = chi2_contingency(cross_2)\n",
    "print(\"The p_value of the chi_2 test is: \", result[1])"
   ]
  },
  {
   "cell_type": "markdown",
   "metadata": {},
   "source": [
    " The p_value is ver high --> thus the Null Hypothesis is rejected, there is anno influence of the Product category on the Rating"
   ]
  },
  {
   "cell_type": "code",
   "execution_count": 43,
   "metadata": {},
   "outputs": [
    {
     "data": {
      "image/png": "[encoded data removed]",
      "text/plain": [
       "<Figure size 558.875x500 with 1 Axes>"
      ]
     },
     "metadata": {},
     "output_type": "display_data"
    }
   ],
   "source": [
    "# countplot on the product category\n",
    "sns.catplot(x = \"Product_Category\", hue = \"Rating\", kind = \"count\", data = df)\n",
    "plt.xticks(rotation = 45);"
   ]
  },
  {
   "cell_type": "code",
   "execution_count": 18,
   "metadata": {},
   "outputs": [],
   "source": [
    "# testing the influence of review length on hte category \n",
    "df[\"len_review\"] = df[\"Review_Text\"].apply(lambda x: len(x.split()))"
   ]
  },
  {
   "cell_type": "code",
   "execution_count": 29,
   "metadata": {},
   "outputs": [
    {
     "data": {
      "image/png": "[encoded data removed]",
      "text/plain": [
       "<Figure size 511.111x500 with 1 Axes>"
      ]
     },
     "metadata": {},
     "output_type": "display_data"
    }
   ],
   "source": [
    "sns.catplot(x = \"Product_Category\", y = \"len_review\", kind = \"violin\", data = df)\n",
    "plt.xticks(rotation = 45);"
   ]
  },
  {
   "cell_type": "code",
   "execution_count": null,
   "metadata": {},
   "outputs": [],
   "source": [
    "# an ANOVA test is performed to veryfy this \n",
    "# H0: there is no significant effect of the Product_category on the Product Category"
   ]
  },
  {
   "cell_type": "code",
   "execution_count": 36,
   "metadata": {},
   "outputs": [
    {
     "name": "stderr",
     "output_type": "stream",
     "text": [
      "C:\\Users\\Admin\\AppData\\Local\\Temp\\ipykernel_11428\\2558851021.py:1: FutureWarning: Downcasting behavior in `replace` is deprecated and will be removed in a future version. To retain the old behavior, explicitly call `result.infer_objects(copy=False)`. To opt-in to the future behavior, set `pd.set_option('future.no_silent_downcasting', True)`\n",
      "  df_num=df.replace({'mobile': 1, \"mobile accessories\": 2, \"smartTv\": 3, \"refrigerator\": 4, \"books\": 5})\n"
     ]
    }
   ],
   "source": [
    "df_num=df.replace({'mobile': 1, \"mobile accessories\": 2, \"smartTv\": 3, \"refrigerator\": 4, \"books\": 5})"
   ]
  },
  {
   "cell_type": "code",
   "execution_count": 34,
   "metadata": {},
   "outputs": [
    {
     "data": {
      "text/plain": [
       "Product_Category\n",
       "mobile                22740\n",
       "mobile accessories    14810\n",
       "smartTv               14613\n",
       "refrigerator           4784\n",
       "books                  3908\n",
       "Name: count, dtype: int64"
      ]
     },
     "execution_count": 34,
     "metadata": {},
     "output_type": "execute_result"
    }
   ],
   "source": []
  },
  {
   "cell_type": "code",
   "execution_count": 37,
   "metadata": {},
   "outputs": [
    {
     "name": "stdout",
     "output_type": "stream",
     "text": [
      "                 df        sum_sq     mean_sq           F        PR(>F)\n",
      "len_review      1.0    378.521095  378.521095  260.465757  1.797289e-58\n",
      "Residual    60853.0  88434.443000    1.453247         NaN           NaN\n"
     ]
    }
   ],
   "source": [
    "from scipy import stats\n",
    "import statsmodels.api\n",
    "x= statsmodels.formula.api.ols(\"Product_Category ~ len_review\", data = df_num).fit()\n",
    "result = statsmodels.api.stats.anova_lm(x)\n",
    "print(result)"
   ]
  },
  {
   "cell_type": "code",
   "execution_count": null,
   "metadata": {},
   "outputs": [],
   "source": [
    "# H0 can be rejected: there is a significant effect of the Product_category on the len_review"
   ]
  }
 ],
 "metadata": {
  "kernelspec": {
   "display_name": "supply_chain",
   "language": "python",
   "name": "python3"
  },
  "language_info": {
   "codemirror_mode": {
    "name": "ipython",
    "version": 3
   },
   "file_extension": ".py",
   "mimetype": "text/x-python",
   "name": "python",
   "nbconvert_exporter": "python",
   "pygments_lexer": "ipython3",
   "version": "3.12.7"
  }
 },
 "nbformat": 4,
 "nbformat_minor": 2
}
