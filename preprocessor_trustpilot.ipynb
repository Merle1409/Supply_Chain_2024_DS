{
  "cells": [
    {
      "cell_type": "code",
      "execution_count": 120,
      "metadata": {
        "trusted": true
      },
      "outputs": [],
      "source": [
        "import pandas as pd\n",
        "import numpy as np\n",
        "from datetime import datetime\n",
        "import re\n",
        "import csv"
      ]
    },
    {
      "cell_type": "code",
      "execution_count": 121,
      "metadata": {
        "trusted": true
      },
      "outputs": [],
      "source": [
        "#Preparing the dataset\n",
        "pd.set_option('display.max_columns', None)\n",
        "\n",
        "df_flashbay = pd.read_csv('data/data_flashbay_clean.csv', engine='python')\n",
        "df_steelseries = pd.read_csv('data/data_steelseries_clean.csv', engine='python')\n",
        "df_asda = pd.read_csv('data/data_asda_clean.csv', engine='python')"
      ]
    },
    {
      "cell_type": "code",
      "execution_count": 122,
      "metadata": {
        "trusted": true
      },
      "outputs": [
        {
          "name": "stdout",
          "output_type": "stream",
          "text": [
            "These are the names of the columns present in Flashbay:  \n",
            " Index(['username', 'number_reviews', 'location', 'rating', 'text',\n",
            "       'date_of_experience', 'date_posted', 'verification', 'subject',\n",
            "       'page_number'],\n",
            "      dtype='object')\n",
            "These are the names of the columns present in SteelSeries:  \n",
            " Index(['username', 'number_reviews', 'location', 'rating', 'text',\n",
            "       'date_of_experience', 'date_posted', 'verification', 'subject',\n",
            "       'page_number'],\n",
            "      dtype='object')\n",
            "These are the names of the columns present in Asda:  \n",
            " Index(['username', 'number_reviews', 'location', 'rating', 'text',\n",
            "       'date_of_experience', 'date_posted', 'verification', 'subject',\n",
            "       'page_number'],\n",
            "      dtype='object')\n",
            "The Flashbay dataset has  10 columns\n",
            "The SteelSeries dataset has  10 columns\n",
            "The Asda dataset has  10 columns\n",
            "The Flashbay dataset has  18275 rows\n",
            "The SteelSeries dataset has  17740 rows\n",
            "The Asda dataset has  0 rows\n"
          ]
        }
      ],
      "source": [
        "#Check compatibility of the three datasets for merging\n",
        "\n",
        "print(\"These are the names of the columns present in Flashbay: \", \"\\n\", df_flashbay.columns)\n",
        "print(\"These are the names of the columns present in SteelSeries: \", \"\\n\", df_steelseries.columns)\n",
        "print(\"These are the names of the columns present in Asda: \", \"\\n\", df_asda.columns)\n",
        "\n",
        "print(\"The Flashbay dataset has \", df_flashbay.shape[1], \"columns\")\n",
        "print(\"The SteelSeries dataset has \", df_steelseries.shape[1], \"columns\")\n",
        "print(\"The Asda dataset has \", df_asda.shape[1], \"columns\")\n",
        "\n",
        "print(\"The Flashbay dataset has \", df_flashbay.shape[0], \"rows\")\n",
        "print(\"The SteelSeries dataset has \", df_steelseries.shape[0], \"rows\")\n",
        "print(\"The Asda dataset has \", df_asda.shape[0], \"rows\")\n"
      ]
    },
    {
      "cell_type": "code",
      "execution_count": 123,
      "metadata": {
        "trusted": true
      },
      "outputs": [
        {
          "name": "stdout",
          "output_type": "stream",
          "text": [
            "Printing the first few rows of Flashbay:  \n",
            "            username number_reviews location  rating  \\\n",
            "0  Margarita Orlova       1 review       CZ       5   \n",
            "1  Oran Whittington       1 review       US       5   \n",
            "2      Cristen Gros       1 review       US       5   \n",
            "3   Mechelle Fields       1 review       US       5   \n",
            "4   Sarah Venturini       1 review       US       5   \n",
            "\n",
            "                                                text date_of_experience  \\\n",
            "0  I had the pleasure of working with Shelby Gibs...   October 10, 2024   \n",
            "1  The company rep I was working with made everyt...   October 14, 2024   \n",
            "2  Ellie was GREAT! Super helpful with the design...   October 15, 2024   \n",
            "3  My team member “Ellie’s’  worked with me throu...   October 11, 2024   \n",
            "4  Rachel was amazing. She responded immediately ...   October 10, 2024   \n",
            "\n",
            "           date_posted verification  \\\n",
            "0  2024-10-17 10:27:44     Verified   \n",
            "1  2024-10-15 16:54:36     Verified   \n",
            "2  2024-10-15 17:01:29     Verified   \n",
            "3  2024-10-12 03:50:51     Verified   \n",
            "4  2024-10-14 17:21:09     Verified   \n",
            "\n",
            "                                             subject  page_number  \n",
            "0                             Great customer service          1.0  \n",
            "1  Certified Crane and Rigging Services. The comp...          1.0  \n",
            "2                                  Ellie was GREAT!!          1.0  \n",
            "3                             Beautiful Red Coasters          1.0  \n",
            "4                               Rachel was amazing!!          1.0  \n"
          ]
        }
      ],
      "source": [
        "print(\"Printing the first few rows of Flashbay: \", \"\\n\", df_flashbay.head())\n"
      ]
    },
    {
      "cell_type": "code",
      "execution_count": 124,
      "metadata": {
        "trusted": true
      },
      "outputs": [
        {
          "name": "stdout",
          "output_type": "stream",
          "text": [
            "Printing the first few rows of SteelSeries:  \n",
            "          username number_reviews location  rating  \\\n",
            "0        Consumer       1 review       CY       5   \n",
            "1   ulices Alfice       1 review       GB       1   \n",
            "2  PHILIP DAMIANO       1 review       US       1   \n",
            "3              dj      7 reviews       BE       1   \n",
            "4  Charlie Watson      4 reviews       GB       5   \n",
            "\n",
            "                                                text date_of_experience  \\\n",
            "0  I paid 60€ for QcK Prism Gaming Mouse Pad and ...   October 17, 2024   \n",
            "1  I was having issues with my old headphones and...   October 01, 2024   \n",
            "2  My APEX PRO TKL (2023) just stop turning on on...   October 09, 2024   \n",
            "3  Why? Because their RMA is awful. It is an endl...   October 01, 2024   \n",
            "4  My son loves these headphones. Unfortunately o...    August 31, 2024   \n",
            "\n",
            "           date_posted verification  \\\n",
            "0  2024-10-19 21:26:17          NaN   \n",
            "1  2024-10-19 22:08:56          NaN   \n",
            "2  2024-10-12 14:39:07          NaN   \n",
            "3  2024-10-06 18:08:33          NaN   \n",
            "4  2024-08-31 01:15:19          NaN   \n",
            "\n",
            "                                     subject  page_number  \n",
            "0  Ultra fast delivery,Excellent CustSuppot…            1  \n",
            "1        Do not purchase from them directly.            1  \n",
            "2          My APEX PRO TKL (2023) just stop…            1  \n",
            "3        Don't buy directly from SteelSeries            1  \n",
            "4                              Arctis nova 1            1  \n"
          ]
        }
      ],
      "source": [
        "print(\"Printing the first few rows of SteelSeries: \", \"\\n\", df_steelseries.head())"
      ]
    },
    {
      "cell_type": "code",
      "execution_count": 125,
      "metadata": {},
      "outputs": [
        {
          "ename": "NameError",
          "evalue": "name 'asda' is not defined",
          "output_type": "error",
          "traceback": [
            "\u001b[0;31m---------------------------------------------------------------------------\u001b[0m",
            "\u001b[0;31mNameError\u001b[0m                                 Traceback (most recent call last)",
            "Cell \u001b[0;32mIn[125], line 1\u001b[0m\n\u001b[0;32m----> 1\u001b[0m \u001b[38;5;28mprint\u001b[39m(\u001b[38;5;124m\"\u001b[39m\u001b[38;5;124mPrinting the first few rows of Asda: \u001b[39m\u001b[38;5;124m\"\u001b[39m, \u001b[38;5;124m\"\u001b[39m\u001b[38;5;130;01m\\n\u001b[39;00m\u001b[38;5;124m\"\u001b[39m, \u001b[43masda\u001b[49m\u001b[38;5;241m.\u001b[39mhead())\n",
            "\u001b[0;31mNameError\u001b[0m: name 'asda' is not defined"
          ]
        }
      ],
      "source": [
        "print(\"Printing the first few rows of Asda: \", \"\\n\", asda.head())"
      ]
    },
    {
      "cell_type": "code",
      "execution_count": 94,
      "metadata": {
        "trusted": true
      },
      "outputs": [
        {
          "name": "stdout",
          "output_type": "stream",
          "text": [
            "           username number_reviews location  rating  \\\n",
            "0      Pat Anderson       1 review       US       5   \n",
            "1  Margarita Orlova       1 review       CZ       5   \n",
            "2  Oran Whittington       1 review       US       5   \n",
            "3      Cristen Gros       1 review       US       5   \n",
            "4   Mechelle Fields       1 review       US       5   \n",
            "\n",
            "                                                text date_of_experience  \\\n",
            "0  I highly recommend using Flashbay. Immediately...   October 16, 2024   \n",
            "1  I had the pleasure of working with Shelby Gibs...   October 10, 2024   \n",
            "2  The company rep I was working with made everyt...   October 14, 2024   \n",
            "3  Ellie was GREAT! Super helpful with the design...   October 15, 2024   \n",
            "4  My team member “Ellie’s’  worked with me throu...   October 11, 2024   \n",
            "\n",
            "           date_posted verification  \\\n",
            "0  2024-10-16 19:34:05     Verified   \n",
            "1  2024-10-17 10:27:44     Verified   \n",
            "2  2024-10-15 16:54:36     Verified   \n",
            "3  2024-10-15 17:01:29     Verified   \n",
            "4  2024-10-12 03:50:51     Verified   \n",
            "\n",
            "                                             subject  page_number  \n",
            "0                  I highly recommend using Flashbay          1.0  \n",
            "1                             Great customer service          1.0  \n",
            "2  Certified Crane and Rigging Services. The comp...          1.0  \n",
            "3                                  Ellie was GREAT!!          1.0  \n",
            "4                             Beautiful Red Coasters          1.0  \n"
          ]
        }
      ],
      "source": [
        "df_trustpilot_2 = pd.concat([df_flashbay, df_steelseries], axis=0)\n",
        "df_trustpilot = pd.concat([df_trustpilot_2, df_asda], axis=0)\n",
        "\n",
        "print(df_trustpilot.head())"
      ]
    },
    {
      "cell_type": "code",
      "execution_count": 119,
      "metadata": {},
      "outputs": [
        {
          "data": {
            "text/html": [
              "<div>\n",
              "<style scoped>\n",
              "    .dataframe tbody tr th:only-of-type {\n",
              "        vertical-align: middle;\n",
              "    }\n",
              "\n",
              "    .dataframe tbody tr th {\n",
              "        vertical-align: top;\n",
              "    }\n",
              "\n",
              "    .dataframe thead th {\n",
              "        text-align: right;\n",
              "    }\n",
              "</style>\n",
              "<table border=\"1\" class=\"dataframe\">\n",
              "  <thead>\n",
              "    <tr style=\"text-align: right;\">\n",
              "      <th></th>\n",
              "      <th>username</th>\n",
              "      <th>number_reviews</th>\n",
              "      <th>location</th>\n",
              "      <th>rating</th>\n",
              "      <th>text</th>\n",
              "      <th>date_of_experience</th>\n",
              "      <th>date_posted</th>\n",
              "      <th>verification</th>\n",
              "      <th>subject</th>\n",
              "      <th>hour_posted</th>\n",
              "      <th>day_of_week_posted</th>\n",
              "      <th>days_between_experience_and_post</th>\n",
              "    </tr>\n",
              "  </thead>\n",
              "  <tbody>\n",
              "    <tr>\n",
              "      <th>0</th>\n",
              "      <td>Pat Anderson</td>\n",
              "      <td>1</td>\n",
              "      <td>US</td>\n",
              "      <td>5</td>\n",
              "      <td>I highly recommend using Flashbay. Immediately...</td>\n",
              "      <td>2024-10-16</td>\n",
              "      <td>2024-10-16</td>\n",
              "      <td>Verified</td>\n",
              "      <td>I highly recommend using Flashbay</td>\n",
              "      <td>19</td>\n",
              "      <td>2</td>\n",
              "      <td>0</td>\n",
              "    </tr>\n",
              "    <tr>\n",
              "      <th>1</th>\n",
              "      <td>Margarita Orlova</td>\n",
              "      <td>1</td>\n",
              "      <td>CZ</td>\n",
              "      <td>5</td>\n",
              "      <td>I had the pleasure of working with Shelby Gibs...</td>\n",
              "      <td>2024-10-10</td>\n",
              "      <td>2024-10-17</td>\n",
              "      <td>Verified</td>\n",
              "      <td>Great customer service</td>\n",
              "      <td>10</td>\n",
              "      <td>3</td>\n",
              "      <td>7</td>\n",
              "    </tr>\n",
              "    <tr>\n",
              "      <th>2</th>\n",
              "      <td>Oran Whittington</td>\n",
              "      <td>1</td>\n",
              "      <td>US</td>\n",
              "      <td>5</td>\n",
              "      <td>The company rep I was working with made everyt...</td>\n",
              "      <td>2024-10-14</td>\n",
              "      <td>2024-10-15</td>\n",
              "      <td>Verified</td>\n",
              "      <td>Certified Crane and Rigging Services. The comp...</td>\n",
              "      <td>16</td>\n",
              "      <td>1</td>\n",
              "      <td>1</td>\n",
              "    </tr>\n",
              "    <tr>\n",
              "      <th>3</th>\n",
              "      <td>Cristen Gros</td>\n",
              "      <td>1</td>\n",
              "      <td>US</td>\n",
              "      <td>5</td>\n",
              "      <td>Ellie was GREAT! Super helpful with the design...</td>\n",
              "      <td>2024-10-15</td>\n",
              "      <td>2024-10-15</td>\n",
              "      <td>Verified</td>\n",
              "      <td>Ellie was GREAT!!</td>\n",
              "      <td>17</td>\n",
              "      <td>1</td>\n",
              "      <td>0</td>\n",
              "    </tr>\n",
              "    <tr>\n",
              "      <th>4</th>\n",
              "      <td>Mechelle Fields</td>\n",
              "      <td>1</td>\n",
              "      <td>US</td>\n",
              "      <td>5</td>\n",
              "      <td>My team member “Ellie’s’  worked with me throu...</td>\n",
              "      <td>2024-10-11</td>\n",
              "      <td>2024-10-12</td>\n",
              "      <td>Verified</td>\n",
              "      <td>Beautiful Red Coasters</td>\n",
              "      <td>3</td>\n",
              "      <td>5</td>\n",
              "      <td>1</td>\n",
              "    </tr>\n",
              "    <tr>\n",
              "      <th>...</th>\n",
              "      <td>...</td>\n",
              "      <td>...</td>\n",
              "      <td>...</td>\n",
              "      <td>...</td>\n",
              "      <td>...</td>\n",
              "      <td>...</td>\n",
              "      <td>...</td>\n",
              "      <td>...</td>\n",
              "      <td>...</td>\n",
              "      <td>...</td>\n",
              "      <td>...</td>\n",
              "      <td>...</td>\n",
              "    </tr>\n",
              "    <tr>\n",
              "      <th>17735</th>\n",
              "      <td>Daniel</td>\n",
              "      <td>1</td>\n",
              "      <td>SE</td>\n",
              "      <td>1</td>\n",
              "      <td>RMA Request within 1-2 days? Yeah right.\\rSent...</td>\n",
              "      <td>2015-09-29</td>\n",
              "      <td>2015-09-29</td>\n",
              "      <td>Not Verified</td>\n",
              "      <td>RMA Request within 1-2 days and pay for shippi...</td>\n",
              "      <td>13</td>\n",
              "      <td>1</td>\n",
              "      <td>0</td>\n",
              "    </tr>\n",
              "    <tr>\n",
              "      <th>17736</th>\n",
              "      <td>Esben Lægteskov-Heidmann</td>\n",
              "      <td>1</td>\n",
              "      <td>DK</td>\n",
              "      <td>2</td>\n",
              "      <td>Submitted an RMA request Sep. 2, at around 2pm...</td>\n",
              "      <td>2015-09-07</td>\n",
              "      <td>2015-09-07</td>\n",
              "      <td>Not Verified</td>\n",
              "      <td>RMA Request within 1-2 days? Yeah right.</td>\n",
              "      <td>16</td>\n",
              "      <td>0</td>\n",
              "      <td>0</td>\n",
              "    </tr>\n",
              "    <tr>\n",
              "      <th>17737</th>\n",
              "      <td>Kenneth Jessen</td>\n",
              "      <td>22</td>\n",
              "      <td>DK</td>\n",
              "      <td>1</td>\n",
              "      <td>Bought a WoW wireless gaming mouse. I assumed ...</td>\n",
              "      <td>2014-01-17</td>\n",
              "      <td>2014-01-17</td>\n",
              "      <td>Not Verified</td>\n",
              "      <td>Was told my new mouse was defect.</td>\n",
              "      <td>19</td>\n",
              "      <td>4</td>\n",
              "      <td>0</td>\n",
              "    </tr>\n",
              "    <tr>\n",
              "      <th>17738</th>\n",
              "      <td>Mr. McIntyre</td>\n",
              "      <td>2</td>\n",
              "      <td>US</td>\n",
              "      <td>5</td>\n",
              "      <td>I never get dissapointed when recieving new pr...</td>\n",
              "      <td>2013-10-19</td>\n",
              "      <td>2013-10-19</td>\n",
              "      <td>Not Verified</td>\n",
              "      <td>High-end equipment</td>\n",
              "      <td>1</td>\n",
              "      <td>5</td>\n",
              "      <td>0</td>\n",
              "    </tr>\n",
              "    <tr>\n",
              "      <th>17739</th>\n",
              "      <td>Mads Nikolaj Lauritsen</td>\n",
              "      <td>31</td>\n",
              "      <td>DK</td>\n",
              "      <td>2</td>\n",
              "      <td>I've been using Steelseries for a long time, w...</td>\n",
              "      <td>2013-08-08</td>\n",
              "      <td>2013-08-08</td>\n",
              "      <td>Not Verified</td>\n",
              "      <td>Fragile and uselsss</td>\n",
              "      <td>13</td>\n",
              "      <td>3</td>\n",
              "      <td>0</td>\n",
              "    </tr>\n",
              "  </tbody>\n",
              "</table>\n",
              "<p>33276 rows × 12 columns</p>\n",
              "</div>"
            ],
            "text/plain": [
              "                       username  number_reviews location  rating  \\\n",
              "0                  Pat Anderson               1       US       5   \n",
              "1              Margarita Orlova               1       CZ       5   \n",
              "2              Oran Whittington               1       US       5   \n",
              "3                  Cristen Gros               1       US       5   \n",
              "4               Mechelle Fields               1       US       5   \n",
              "...                         ...             ...      ...     ...   \n",
              "17735                    Daniel               1       SE       1   \n",
              "17736  Esben Lægteskov-Heidmann               1       DK       2   \n",
              "17737            Kenneth Jessen              22       DK       1   \n",
              "17738              Mr. McIntyre               2       US       5   \n",
              "17739    Mads Nikolaj Lauritsen              31       DK       2   \n",
              "\n",
              "                                                    text date_of_experience  \\\n",
              "0      I highly recommend using Flashbay. Immediately...         2024-10-16   \n",
              "1      I had the pleasure of working with Shelby Gibs...         2024-10-10   \n",
              "2      The company rep I was working with made everyt...         2024-10-14   \n",
              "3      Ellie was GREAT! Super helpful with the design...         2024-10-15   \n",
              "4      My team member “Ellie’s’  worked with me throu...         2024-10-11   \n",
              "...                                                  ...                ...   \n",
              "17735  RMA Request within 1-2 days? Yeah right.\\rSent...         2015-09-29   \n",
              "17736  Submitted an RMA request Sep. 2, at around 2pm...         2015-09-07   \n",
              "17737  Bought a WoW wireless gaming mouse. I assumed ...         2014-01-17   \n",
              "17738  I never get dissapointed when recieving new pr...         2013-10-19   \n",
              "17739  I've been using Steelseries for a long time, w...         2013-08-08   \n",
              "\n",
              "      date_posted  verification  \\\n",
              "0      2024-10-16      Verified   \n",
              "1      2024-10-17      Verified   \n",
              "2      2024-10-15      Verified   \n",
              "3      2024-10-15      Verified   \n",
              "4      2024-10-12      Verified   \n",
              "...           ...           ...   \n",
              "17735  2015-09-29  Not Verified   \n",
              "17736  2015-09-07  Not Verified   \n",
              "17737  2014-01-17  Not Verified   \n",
              "17738  2013-10-19  Not Verified   \n",
              "17739  2013-08-08  Not Verified   \n",
              "\n",
              "                                                 subject  hour_posted  \\\n",
              "0                      I highly recommend using Flashbay           19   \n",
              "1                                 Great customer service           10   \n",
              "2      Certified Crane and Rigging Services. The comp...           16   \n",
              "3                                      Ellie was GREAT!!           17   \n",
              "4                                 Beautiful Red Coasters            3   \n",
              "...                                                  ...          ...   \n",
              "17735  RMA Request within 1-2 days and pay for shippi...           13   \n",
              "17736           RMA Request within 1-2 days? Yeah right.           16   \n",
              "17737                  Was told my new mouse was defect.           19   \n",
              "17738                                 High-end equipment            1   \n",
              "17739                                Fragile and uselsss           13   \n",
              "\n",
              "       day_of_week_posted  days_between_experience_and_post  \n",
              "0                       2                                 0  \n",
              "1                       3                                 7  \n",
              "2                       1                                 1  \n",
              "3                       1                                 0  \n",
              "4                       5                                 1  \n",
              "...                   ...                               ...  \n",
              "17735                   1                                 0  \n",
              "17736                   0                                 0  \n",
              "17737                   4                                 0  \n",
              "17738                   5                                 0  \n",
              "17739                   3                                 0  \n",
              "\n",
              "[33276 rows x 12 columns]"
            ]
          },
          "metadata": {},
          "output_type": "display_data"
        }
      ],
      "source": [
        "display(df_trustpilot)"
      ]
    },
    {
      "cell_type": "code",
      "execution_count": 95,
      "metadata": {
        "trusted": true
      },
      "outputs": [
        {
          "name": "stdout",
          "output_type": "stream",
          "text": [
            "These are the names of the columns present:  \n",
            " Index(['username', 'number_reviews', 'location', 'rating', 'text',\n",
            "       'date_of_experience', 'date_posted', 'verification', 'subject',\n",
            "       'page_number'],\n",
            "      dtype='object')\n",
            "The dataset has  10 columns\n",
            "The dataset has  36017 rows\n"
          ]
        }
      ],
      "source": [
        "print(\"These are the names of the columns present: \", \"\\n\", df_trustpilot.columns)\n",
        "print(\"The dataset has \", df_trustpilot.shape[1], \"columns\")\n",
        "print(\"The dataset has \", df_trustpilot.shape[0], \"rows\")"
      ]
    },
    {
      "cell_type": "code",
      "execution_count": 96,
      "metadata": {
        "trusted": true
      },
      "outputs": [],
      "source": [
        "#Deleting the page_number column as it is no longer needed or relevant\n",
        "\n",
        "df_trustpilot.drop(columns=['page_number'], inplace=True)"
      ]
    },
    {
      "cell_type": "code",
      "execution_count": 97,
      "metadata": {
        "trusted": true
      },
      "outputs": [
        {
          "name": "stdout",
          "output_type": "stream",
          "text": [
            "These are the names of the columns present:  \n",
            " Index(['username', 'number_reviews', 'location', 'rating', 'text',\n",
            "       'date_of_experience', 'date_posted', 'verification', 'subject'],\n",
            "      dtype='object')\n",
            "The dataset has  9 columns\n",
            "The dataset has  36017 rows\n"
          ]
        }
      ],
      "source": [
        "print(\"These are the names of the columns present: \", \"\\n\", df_trustpilot.columns)\n",
        "print(\"The dataset has \", df_trustpilot.shape[1], \"columns\")\n",
        "print(\"The dataset has \", df_trustpilot.shape[0], \"rows\")"
      ]
    },
    {
      "cell_type": "code",
      "execution_count": 98,
      "metadata": {
        "trusted": true
      },
      "outputs": [
        {
          "name": "stdout",
          "output_type": "stream",
          "text": [
            "Printing the relevant information from the file such as type per variable:  \n",
            "\n",
            "<class 'pandas.core.frame.DataFrame'>\n",
            "Index: 36017 entries, 0 to 17739\n",
            "Data columns (total 9 columns):\n",
            " #   Column              Non-Null Count  Dtype \n",
            "---  ------              --------------  ----- \n",
            " 0   username            36009 non-null  object\n",
            " 1   number_reviews      36017 non-null  object\n",
            " 2   location            36017 non-null  object\n",
            " 3   rating              36017 non-null  int64 \n",
            " 4   text                33282 non-null  object\n",
            " 5   date_of_experience  36017 non-null  object\n",
            " 6   date_posted         36017 non-null  object\n",
            " 7   verification        34844 non-null  object\n",
            " 8   subject             36017 non-null  object\n",
            "dtypes: int64(1), object(8)\n",
            "memory usage: 2.7+ MB\n",
            "None\n"
          ]
        }
      ],
      "source": [
        "print(\"Printing the relevant information from the file such as type per variable: \", \"\\n\")\n",
        "print(df_trustpilot.info())"
      ]
    },
    {
      "cell_type": "code",
      "execution_count": 99,
      "metadata": {
        "trusted": true
      },
      "outputs": [
        {
          "name": "stdout",
          "output_type": "stream",
          "text": [
            "number_reviews\n",
            "1      27559\n",
            "2       4694\n",
            "3       1511\n",
            "4        730\n",
            "5        388\n",
            "       ...  \n",
            "43         1\n",
            "97         1\n",
            "147        1\n",
            "90         1\n",
            "58         1\n",
            "Name: count, Length: 64, dtype: int64\n",
            "<class 'pandas.core.frame.DataFrame'>\n",
            "Index: 36017 entries, 0 to 17739\n",
            "Data columns (total 9 columns):\n",
            " #   Column              Non-Null Count  Dtype \n",
            "---  ------              --------------  ----- \n",
            " 0   username            36009 non-null  object\n",
            " 1   number_reviews      36017 non-null  int64 \n",
            " 2   location            36017 non-null  object\n",
            " 3   rating              36017 non-null  int64 \n",
            " 4   text                33282 non-null  object\n",
            " 5   date_of_experience  36017 non-null  object\n",
            " 6   date_posted         36017 non-null  object\n",
            " 7   verification        34844 non-null  object\n",
            " 8   subject             36017 non-null  object\n",
            "dtypes: int64(2), object(7)\n",
            "memory usage: 2.7+ MB\n",
            "None\n",
            "           username  number_reviews location  rating  \\\n",
            "0      Pat Anderson               1       US       5   \n",
            "1  Margarita Orlova               1       CZ       5   \n",
            "2  Oran Whittington               1       US       5   \n",
            "3      Cristen Gros               1       US       5   \n",
            "4   Mechelle Fields               1       US       5   \n",
            "\n",
            "                                                text date_of_experience  \\\n",
            "0  I highly recommend using Flashbay. Immediately...   October 16, 2024   \n",
            "1  I had the pleasure of working with Shelby Gibs...   October 10, 2024   \n",
            "2  The company rep I was working with made everyt...   October 14, 2024   \n",
            "3  Ellie was GREAT! Super helpful with the design...   October 15, 2024   \n",
            "4  My team member “Ellie’s’  worked with me throu...   October 11, 2024   \n",
            "\n",
            "           date_posted verification  \\\n",
            "0  2024-10-16 19:34:05     Verified   \n",
            "1  2024-10-17 10:27:44     Verified   \n",
            "2  2024-10-15 16:54:36     Verified   \n",
            "3  2024-10-15 17:01:29     Verified   \n",
            "4  2024-10-12 03:50:51     Verified   \n",
            "\n",
            "                                             subject  \n",
            "0                  I highly recommend using Flashbay  \n",
            "1                             Great customer service  \n",
            "2  Certified Crane and Rigging Services. The comp...  \n",
            "3                                  Ellie was GREAT!!  \n",
            "4                             Beautiful Red Coasters  \n"
          ]
        }
      ],
      "source": [
        "#Amending the dataset\n",
        "#number_reviews: Removing 'review(s)' from cell and converting to an integer\n",
        "df_trustpilot['number_reviews'] = df_trustpilot['number_reviews'].str.replace('(?i)reviews', '', regex=True).str.strip()\n",
        "df_trustpilot['number_reviews'] = df_trustpilot['number_reviews'].str.replace('(?i)review', '', regex=True).str.strip()\n",
        "print(df_trustpilot['number_reviews'].value_counts())\n",
        "df_trustpilot['number_reviews'] = df_trustpilot['number_reviews'].astype(int)\n",
        "\n",
        "print(df_trustpilot.info())\n",
        "print(df_trustpilot.head())"
      ]
    },
    {
      "cell_type": "code",
      "execution_count": 100,
      "metadata": {
        "trusted": true
      },
      "outputs": [
        {
          "name": "stdout",
          "output_type": "stream",
          "text": [
            "<class 'pandas.core.frame.DataFrame'>\n",
            "Index: 36017 entries, 0 to 17739\n",
            "Data columns (total 9 columns):\n",
            " #   Column              Non-Null Count  Dtype         \n",
            "---  ------              --------------  -----         \n",
            " 0   username            36009 non-null  object        \n",
            " 1   number_reviews      36017 non-null  int64         \n",
            " 2   location            36017 non-null  object        \n",
            " 3   rating              36017 non-null  int64         \n",
            " 4   text                33282 non-null  object        \n",
            " 5   date_of_experience  36017 non-null  datetime64[ns]\n",
            " 6   date_posted         36017 non-null  object        \n",
            " 7   verification        34844 non-null  object        \n",
            " 8   subject             36017 non-null  object        \n",
            "dtypes: datetime64[ns](1), int64(2), object(6)\n",
            "memory usage: 2.7+ MB\n",
            "None\n"
          ]
        }
      ],
      "source": [
        "#date_of_experience: Converting to datetime format\n",
        "df_trustpilot['date_of_experience'] = pd.to_datetime(df_trustpilot['date_of_experience'], errors='coerce')\n",
        "print(df_trustpilot.info())"
      ]
    },
    {
      "cell_type": "code",
      "execution_count": 101,
      "metadata": {
        "trusted": true
      },
      "outputs": [
        {
          "name": "stdout",
          "output_type": "stream",
          "text": [
            "           username  number_reviews location  rating  \\\n",
            "0      Pat Anderson               1       US       5   \n",
            "1  Margarita Orlova               1       CZ       5   \n",
            "2  Oran Whittington               1       US       5   \n",
            "3      Cristen Gros               1       US       5   \n",
            "4   Mechelle Fields               1       US       5   \n",
            "\n",
            "                                                text date_of_experience  \\\n",
            "0  I highly recommend using Flashbay. Immediately...         2024-10-16   \n",
            "1  I had the pleasure of working with Shelby Gibs...         2024-10-10   \n",
            "2  The company rep I was working with made everyt...         2024-10-14   \n",
            "3  Ellie was GREAT! Super helpful with the design...         2024-10-15   \n",
            "4  My team member “Ellie’s’  worked with me throu...         2024-10-11   \n",
            "\n",
            "  date_posted verification                                            subject  \\\n",
            "0  2024-10-16     Verified                  I highly recommend using Flashbay   \n",
            "1  2024-10-17     Verified                             Great customer service   \n",
            "2  2024-10-15     Verified  Certified Crane and Rigging Services. The comp...   \n",
            "3  2024-10-15     Verified                                  Ellie was GREAT!!   \n",
            "4  2024-10-12     Verified                             Beautiful Red Coasters   \n",
            "\n",
            "  hour_posted  \n",
            "0    19:34:05  \n",
            "1    10:27:44  \n",
            "2    16:54:36  \n",
            "3    17:01:29  \n",
            "4    03:50:51  \n"
          ]
        }
      ],
      "source": [
        "#date_posted: convert to datetime format, then split into two columns, one for time of day, one for date.\n",
        "\n",
        "df_trustpilot['date_posted'] = pd.to_datetime(df_trustpilot['date_posted'])\n",
        "df_trustpilot['hour_posted'] = df_trustpilot['date_posted'].dt.time\n",
        "df_trustpilot['date_posted'] = df_trustpilot['date_posted'].dt.date\n",
        "\n",
        "print(df_trustpilot.head())"
      ]
    },
    {
      "cell_type": "code",
      "execution_count": 102,
      "metadata": {
        "trusted": true
      },
      "outputs": [
        {
          "name": "stdout",
          "output_type": "stream",
          "text": [
            "           username  number_reviews location  rating  \\\n",
            "0      Pat Anderson               1       US       5   \n",
            "1  Margarita Orlova               1       CZ       5   \n",
            "2  Oran Whittington               1       US       5   \n",
            "3      Cristen Gros               1       US       5   \n",
            "4   Mechelle Fields               1       US       5   \n",
            "\n",
            "                                                text date_of_experience  \\\n",
            "0  I highly recommend using Flashbay. Immediately...         2024-10-16   \n",
            "1  I had the pleasure of working with Shelby Gibs...         2024-10-10   \n",
            "2  The company rep I was working with made everyt...         2024-10-14   \n",
            "3  Ellie was GREAT! Super helpful with the design...         2024-10-15   \n",
            "4  My team member “Ellie’s’  worked with me throu...         2024-10-11   \n",
            "\n",
            "  date_posted verification                                            subject  \\\n",
            "0  2024-10-16     Verified                  I highly recommend using Flashbay   \n",
            "1  2024-10-17     Verified                             Great customer service   \n",
            "2  2024-10-15     Verified  Certified Crane and Rigging Services. The comp...   \n",
            "3  2024-10-15     Verified                                  Ellie was GREAT!!   \n",
            "4  2024-10-12     Verified                             Beautiful Red Coasters   \n",
            "\n",
            "  hour_posted day_of_week_posted  \n",
            "0    19:34:05          Wednesday  \n",
            "1    10:27:44           Thursday  \n",
            "2    16:54:36            Tuesday  \n",
            "3    17:01:29            Tuesday  \n",
            "4    03:50:51           Saturday  \n",
            "<class 'pandas.core.frame.DataFrame'>\n",
            "Index: 36017 entries, 0 to 17739\n",
            "Data columns (total 11 columns):\n",
            " #   Column              Non-Null Count  Dtype         \n",
            "---  ------              --------------  -----         \n",
            " 0   username            36009 non-null  object        \n",
            " 1   number_reviews      36017 non-null  int64         \n",
            " 2   location            36017 non-null  object        \n",
            " 3   rating              36017 non-null  int64         \n",
            " 4   text                33282 non-null  object        \n",
            " 5   date_of_experience  36017 non-null  datetime64[ns]\n",
            " 6   date_posted         36017 non-null  datetime64[ns]\n",
            " 7   verification        34844 non-null  object        \n",
            " 8   subject             36017 non-null  object        \n",
            " 9   hour_posted         36017 non-null  object        \n",
            " 10  day_of_week_posted  36017 non-null  object        \n",
            "dtypes: datetime64[ns](2), int64(2), object(7)\n",
            "memory usage: 3.3+ MB\n",
            "None\n"
          ]
        }
      ],
      "source": [
        "#Creating a new column indicating the day of the week the post was created\n",
        "\n",
        "df_trustpilot['date_posted'] = pd.to_datetime(df_trustpilot['date_posted'])\n",
        "\n",
        "df_trustpilot['day_of_week_posted'] = df_trustpilot['date_posted'].dt.day_name()\n",
        "\n",
        "print(df_trustpilot.head())\n",
        "print(df_trustpilot.info())"
      ]
    },
    {
      "cell_type": "code",
      "execution_count": 103,
      "metadata": {
        "trusted": true
      },
      "outputs": [
        {
          "name": "stdout",
          "output_type": "stream",
          "text": [
            "<class 'pandas.core.frame.DataFrame'>\n",
            "Index: 36017 entries, 0 to 17739\n",
            "Data columns (total 12 columns):\n",
            " #   Column                            Non-Null Count  Dtype         \n",
            "---  ------                            --------------  -----         \n",
            " 0   username                          36009 non-null  object        \n",
            " 1   number_reviews                    36017 non-null  int64         \n",
            " 2   location                          36017 non-null  object        \n",
            " 3   rating                            36017 non-null  int64         \n",
            " 4   text                              33282 non-null  object        \n",
            " 5   date_of_experience                36017 non-null  datetime64[ns]\n",
            " 6   date_posted                       36017 non-null  datetime64[ns]\n",
            " 7   verification                      34844 non-null  object        \n",
            " 8   subject                           36017 non-null  object        \n",
            " 9   hour_posted                       36017 non-null  object        \n",
            " 10  day_of_week_posted                36017 non-null  object        \n",
            " 11  days_between_experience_and_post  36017 non-null  int64         \n",
            "dtypes: datetime64[ns](2), int64(3), object(7)\n",
            "memory usage: 3.6+ MB\n",
            "None\n",
            "           username  number_reviews location  rating  \\\n",
            "0      Pat Anderson               1       US       5   \n",
            "1  Margarita Orlova               1       CZ       5   \n",
            "2  Oran Whittington               1       US       5   \n",
            "3      Cristen Gros               1       US       5   \n",
            "4   Mechelle Fields               1       US       5   \n",
            "\n",
            "                                                text date_of_experience  \\\n",
            "0  I highly recommend using Flashbay. Immediately...         2024-10-16   \n",
            "1  I had the pleasure of working with Shelby Gibs...         2024-10-10   \n",
            "2  The company rep I was working with made everyt...         2024-10-14   \n",
            "3  Ellie was GREAT! Super helpful with the design...         2024-10-15   \n",
            "4  My team member “Ellie’s’  worked with me throu...         2024-10-11   \n",
            "\n",
            "  date_posted verification                                            subject  \\\n",
            "0  2024-10-16     Verified                  I highly recommend using Flashbay   \n",
            "1  2024-10-17     Verified                             Great customer service   \n",
            "2  2024-10-15     Verified  Certified Crane and Rigging Services. The comp...   \n",
            "3  2024-10-15     Verified                                  Ellie was GREAT!!   \n",
            "4  2024-10-12     Verified                             Beautiful Red Coasters   \n",
            "\n",
            "  hour_posted day_of_week_posted  days_between_experience_and_post  \n",
            "0    19:34:05          Wednesday                                 0  \n",
            "1    10:27:44           Thursday                                 7  \n",
            "2    16:54:36            Tuesday                                 1  \n",
            "3    17:01:29            Tuesday                                 0  \n",
            "4    03:50:51           Saturday                                 1  \n"
          ]
        }
      ],
      "source": [
        "#Create a new column calculating the amount of time (in days) that passed between date_of_experience and date_posted\n",
        "\n",
        "df_trustpilot['days_between_experience_and_post'] = (df_trustpilot['date_posted'] - df_trustpilot['date_of_experience']).dt.days\n",
        "\n",
        "print(df_trustpilot.info())\n",
        "print(df_trustpilot.head())"
      ]
    },
    {
      "cell_type": "code",
      "execution_count": 104,
      "metadata": {
        "trusted": true
      },
      "outputs": [
        {
          "name": "stdout",
          "output_type": "stream",
          "text": [
            "Duplicate rows before:\n",
            "7\n",
            "Duplicate rows after:\n",
            "0\n"
          ]
        }
      ],
      "source": [
        "#Identifying duplicates in the dataset\n",
        "\n",
        "print(\"Duplicate rows before:\")\n",
        "print(df_trustpilot.duplicated().sum())\n",
        "\n",
        "df_trustpilot = df_trustpilot.drop_duplicates()\n",
        "\n",
        "print(\"Duplicate rows after:\")\n",
        "print(df_trustpilot.duplicated().sum())"
      ]
    },
    {
      "cell_type": "code",
      "execution_count": 105,
      "metadata": {
        "trusted": true
      },
      "outputs": [
        {
          "name": "stdout",
          "output_type": "stream",
          "text": [
            "Missing values:\n",
            "username                               8\n",
            "number_reviews                         0\n",
            "location                               0\n",
            "rating                                 0\n",
            "text                                2734\n",
            "date_of_experience                     0\n",
            "date_posted                            0\n",
            "verification                        1173\n",
            "subject                                0\n",
            "hour_posted                            0\n",
            "day_of_week_posted                     0\n",
            "days_between_experience_and_post       0\n",
            "dtype: int64\n"
          ]
        }
      ],
      "source": [
        "#Identifying missing values in the dataset\n",
        "\n",
        "print(\"Missing values:\")\n",
        "print(df_trustpilot.isnull().sum())"
      ]
    },
    {
      "cell_type": "code",
      "execution_count": 106,
      "metadata": {
        "trusted": true
      },
      "outputs": [],
      "source": [
        "#There are three columns with missing values: username, text and verification\n",
        "#username only has 8 missing values and the username column is not critical so we can override that with the most frequently used value from other columns\n",
        "#verification has 1173 missing values - if verification is missing that means the user didnt verify themselves. Based on this, we should inspect the different options for this column and fill it with the value most likely representing 'Not verified'. \n",
        "#text has 2734 missing values and is our biggest challenge. Based on the text we predict the rating. Determine what % of our entries has no text and then most likely proceed with deleting those rows."
      ]
    },
    {
      "cell_type": "code",
      "execution_count": 107,
      "metadata": {
        "trusted": true
      },
      "outputs": [
        {
          "name": "stdout",
          "output_type": "stream",
          "text": [
            "This is the distribution of the types of username in the dataset:  \n",
            " username\n",
            "Customer     174\n",
            "Anonymous     78\n",
            "Chris         73\n",
            "Alex          70\n",
            "David         68\n",
            "Name: count, dtype: int64\n",
            "Missing values:\n",
            "0\n"
          ]
        }
      ],
      "source": [
        "#Username missing value\n",
        "\n",
        "print(\"This is the distribution of the types of username in the dataset: \", \"\\n\", df_trustpilot['username'].value_counts().head())\n",
        "\n",
        "#The username with the highest number in the dataset is 'Customer'. As this is a non-descript name for a username, we will apply it to the missing username.\n",
        "\n",
        "df_trustpilot['username'] = df_trustpilot['username'].fillna('Customer')\n",
        "\n",
        "print(\"Missing values:\")\n",
        "print(df_trustpilot['username'].isnull().sum())\n"
      ]
    },
    {
      "cell_type": "code",
      "execution_count": 108,
      "metadata": {
        "trusted": true
      },
      "outputs": [
        {
          "name": "stdout",
          "output_type": "stream",
          "text": [
            "This is the distribution of the types of verifications in the dataset:  \n",
            " verification\n",
            "Verified      30278\n",
            "Invited        4554\n",
            "Redirected        5\n",
            "Name: count, dtype: int64\n",
            "Missing values:\n",
            "0\n"
          ]
        }
      ],
      "source": [
        "#Verification missing value\n",
        "\n",
        "print(\"This is the distribution of the types of verifications in the dataset: \", \"\\n\", df_trustpilot['verification'].value_counts().head())\n",
        "\n",
        "#Inspection indicates that there is no value under verification specifically indicating that a user is not verified. We will hence create a new variable named 'Not Verified' and fill the n/a values with it. \n",
        "\n",
        "df_trustpilot['verification'] = df_trustpilot['verification'].fillna('Not Verified')\n",
        "\n",
        "print(\"Missing values:\")\n",
        "print(df_trustpilot['verification'].isnull().sum())\n"
      ]
    },
    {
      "cell_type": "code",
      "execution_count": 109,
      "metadata": {
        "trusted": true
      },
      "outputs": [
        {
          "name": "stdout",
          "output_type": "stream",
          "text": [
            "The percentage of n/a values in the text column compared to the full dataset is: \n",
            "\n",
            "7.5923354623715635\n",
            "Missing values:\n",
            "username                               0\n",
            "number_reviews                         0\n",
            "location                               0\n",
            "rating                                 0\n",
            "text                                2734\n",
            "date_of_experience                     0\n",
            "date_posted                            0\n",
            "verification                           0\n",
            "subject                                0\n",
            "hour_posted                            0\n",
            "day_of_week_posted                     0\n",
            "days_between_experience_and_post       0\n",
            "dtype: int64\n"
          ]
        }
      ],
      "source": [
        "#Text missing value\n",
        "\n",
        "na_percentage = (df_trustpilot['text'].isna().sum() / len(df_trustpilot)) * 100\n",
        "print(\"The percentage of n/a values in the text column compared to the full dataset is:\", \"\\n\")\n",
        "print(na_percentage)\n",
        "\n",
        "print(\"Missing values:\")\n",
        "print(df_trustpilot.isnull().sum())"
      ]
    },
    {
      "cell_type": "code",
      "execution_count": 110,
      "metadata": {
        "trusted": true
      },
      "outputs": [
        {
          "name": "stdout",
          "output_type": "stream",
          "text": [
            "Missing values:\n",
            "username                            0\n",
            "number_reviews                      0\n",
            "location                            0\n",
            "rating                              0\n",
            "text                                0\n",
            "date_of_experience                  0\n",
            "date_posted                         0\n",
            "verification                        0\n",
            "subject                             0\n",
            "hour_posted                         0\n",
            "day_of_week_posted                  0\n",
            "days_between_experience_and_post    0\n",
            "dtype: int64\n",
            "The dataset has  12 columns\n",
            "The dataset has  33276 rows\n"
          ]
        }
      ],
      "source": [
        "#The cells with missing values for text represent 7.6% of the full dataset. Due to the criticality of this column and the size of the dataset, the decision has been made to remove rows with n/a values for text.\n",
        "\n",
        "df_trustpilot = df_trustpilot.dropna(axis=0, how='any', subset=['text'])\n",
        "\n",
        "print(\"Missing values:\")\n",
        "print(df_trustpilot.isnull().sum())\n",
        "\n",
        "print(\"The dataset has \", df_trustpilot.shape[1], \"columns\")\n",
        "print(\"The dataset has \", df_trustpilot.shape[0], \"rows\")"
      ]
    },
    {
      "cell_type": "code",
      "execution_count": 111,
      "metadata": {
        "trusted": true
      },
      "outputs": [
        {
          "name": "stdout",
          "output_type": "stream",
          "text": [
            "These are the names of the columns present:  \n",
            " Index(['username', 'number_reviews', 'location', 'rating', 'text',\n",
            "       'date_of_experience', 'date_posted', 'verification', 'subject',\n",
            "       'hour_posted', 'day_of_week_posted',\n",
            "       'days_between_experience_and_post'],\n",
            "      dtype='object')\n",
            "Printing the relevant information from the file such as type per variable:  \n",
            "\n",
            "<class 'pandas.core.frame.DataFrame'>\n",
            "Index: 33276 entries, 0 to 17739\n",
            "Data columns (total 12 columns):\n",
            " #   Column                            Non-Null Count  Dtype         \n",
            "---  ------                            --------------  -----         \n",
            " 0   username                          33276 non-null  object        \n",
            " 1   number_reviews                    33276 non-null  int64         \n",
            " 2   location                          33276 non-null  object        \n",
            " 3   rating                            33276 non-null  int64         \n",
            " 4   text                              33276 non-null  object        \n",
            " 5   date_of_experience                33276 non-null  datetime64[ns]\n",
            " 6   date_posted                       33276 non-null  datetime64[ns]\n",
            " 7   verification                      33276 non-null  object        \n",
            " 8   subject                           33276 non-null  object        \n",
            " 9   hour_posted                       33276 non-null  object        \n",
            " 10  day_of_week_posted                33276 non-null  object        \n",
            " 11  days_between_experience_and_post  33276 non-null  int64         \n",
            "dtypes: datetime64[ns](2), int64(3), object(7)\n",
            "memory usage: 3.3+ MB\n",
            "None\n"
          ]
        }
      ],
      "source": [
        "print(\"These are the names of the columns present: \", \"\\n\", df_trustpilot.columns)\n",
        "\n",
        "print(\"Printing the relevant information from the file such as type per variable: \", \"\\n\")\n",
        "print(df_trustpilot.info())\n"
      ]
    },
    {
      "cell_type": "code",
      "execution_count": 112,
      "metadata": {
        "trusted": true
      },
      "outputs": [
        {
          "name": "stdout",
          "output_type": "stream",
          "text": [
            "These are the statistical distributions of the numeric variables present in the dataset:  \n",
            "\n",
            "       number_reviews        rating             date_of_experience  \\\n",
            "count    33276.000000  33276.000000                          33276   \n",
            "mean         1.693292      4.447890  2019-02-15 11:41:07.940858368   \n",
            "min          1.000000      1.000000            2012-03-22 00:00:00   \n",
            "25%          1.000000      5.000000            2016-08-18 00:00:00   \n",
            "50%          1.000000      5.000000            2020-01-03 00:00:00   \n",
            "75%          1.000000      5.000000            2021-05-26 00:00:00   \n",
            "max        280.000000      5.000000            2024-10-21 00:00:00   \n",
            "std          3.371778      1.244174                            NaN   \n",
            "\n",
            "                         date_posted  days_between_experience_and_post  \n",
            "count                          33276                      33276.000000  \n",
            "mean   2019-02-16 06:17:26.375766272                          0.775213  \n",
            "min              2012-03-22 00:00:00                         -1.000000  \n",
            "25%              2016-08-18 00:00:00                          0.000000  \n",
            "50%              2020-01-03 00:00:00                          0.000000  \n",
            "75%              2021-05-27 00:00:00                          0.000000  \n",
            "max              2024-10-21 00:00:00                       3842.000000  \n",
            "std                              NaN                         28.521345  \n"
          ]
        }
      ],
      "source": [
        "print(\"These are the statistical distributions of the numeric variables present in the dataset: \", \"\\n\")\n",
        "print(df_trustpilot.describe())"
      ]
    },
    {
      "cell_type": "code",
      "execution_count": 113,
      "metadata": {
        "trusted": true
      },
      "outputs": [
        {
          "name": "stdout",
          "output_type": "stream",
          "text": [
            "number_reviews has the following values number_reviews\n",
            "1      25568\n",
            "2       4279\n",
            "3       1363\n",
            "4        669\n",
            "5        356\n",
            "       ...  \n",
            "43         1\n",
            "97         1\n",
            "147        1\n",
            "90         1\n",
            "58         1\n",
            "Name: count, Length: 64, dtype: int64\n",
            "location has the following values location\n",
            "US    23912\n",
            "GB     1854\n",
            "CA     1490\n",
            "DE      837\n",
            "FR      449\n",
            "      ...  \n",
            "FJ        1\n",
            "RE        1\n",
            "BM        1\n",
            "FO        1\n",
            "CU        1\n",
            "Name: count, Length: 139, dtype: int64\n",
            "rating has the following values rating\n",
            "5    26551\n",
            "1     3061\n",
            "4     2010\n",
            "3      844\n",
            "2      810\n",
            "Name: count, dtype: int64\n",
            "verification has the following values verification\n",
            "Verified        28328\n",
            "Invited          3798\n",
            "Not Verified     1145\n",
            "Redirected          5\n",
            "Name: count, dtype: int64\n",
            "day_of_week_posted has the following values day_of_week_posted\n",
            "Tuesday      6579\n",
            "Wednesday    6223\n",
            "Thursday     5979\n",
            "Monday       5313\n",
            "Friday       5238\n",
            "Saturday     2229\n",
            "Sunday       1715\n",
            "Name: count, dtype: int64\n",
            "days_between_experience_and_post has the following values days_between_experience_and_post\n",
            "0      32340\n",
            "1        390\n",
            "2         78\n",
            "3         65\n",
            "4         37\n",
            "       ...  \n",
            "37         1\n",
            "86         1\n",
            "111        1\n",
            "110        1\n",
            "54         1\n",
            "Name: count, Length: 97, dtype: int64\n"
          ]
        }
      ],
      "source": [
        "list = ['number_reviews', 'location', 'rating', 'verification', 'day_of_week_posted',\n",
        "       'days_between_experience_and_post']\n",
        "\n",
        "for value in list:\n",
        "    print(f\"{value} has the following values\", df_trustpilot[value].value_counts())"
      ]
    },
    {
      "cell_type": "code",
      "execution_count": 114,
      "metadata": {
        "trusted": true
      },
      "outputs": [
        {
          "name": "stdout",
          "output_type": "stream",
          "text": [
            "The Trustpilot dataset has  12 columns\n",
            "The Trustpilot dataset has  33276 rows\n"
          ]
        }
      ],
      "source": [
        "print(\"The Trustpilot dataset has \", df_trustpilot.shape[1], \"columns\")\n",
        "\n",
        "print(\"The Trustpilot dataset has \", df_trustpilot.shape[0], \"rows\")"
      ]
    },
    {
      "cell_type": "code",
      "execution_count": 115,
      "metadata": {},
      "outputs": [
        {
          "name": "stdout",
          "output_type": "stream",
          "text": [
            "<class 'pandas.core.frame.DataFrame'>\n",
            "Index: 33276 entries, 0 to 17739\n",
            "Data columns (total 12 columns):\n",
            " #   Column                            Non-Null Count  Dtype         \n",
            "---  ------                            --------------  -----         \n",
            " 0   username                          33276 non-null  object        \n",
            " 1   number_reviews                    33276 non-null  int64         \n",
            " 2   location                          33276 non-null  object        \n",
            " 3   rating                            33276 non-null  int64         \n",
            " 4   text                              33276 non-null  object        \n",
            " 5   date_of_experience                33276 non-null  datetime64[ns]\n",
            " 6   date_posted                       33276 non-null  datetime64[ns]\n",
            " 7   verification                      33276 non-null  object        \n",
            " 8   subject                           33276 non-null  object        \n",
            " 9   hour_posted                       33276 non-null  object        \n",
            " 10  day_of_week_posted                33276 non-null  object        \n",
            " 11  days_between_experience_and_post  33276 non-null  int64         \n",
            "dtypes: datetime64[ns](2), int64(3), object(7)\n",
            "memory usage: 3.3+ MB\n",
            "None\n"
          ]
        }
      ],
      "source": [
        "print(df_trustpilot.info())"
      ]
    },
    {
      "cell_type": "code",
      "execution_count": 116,
      "metadata": {},
      "outputs": [
        {
          "name": "stdout",
          "output_type": "stream",
          "text": [
            "Current data type of hour_posted: object\n",
            "\n",
            "Sample of converted hour_posted:\n",
            "0    19\n",
            "1    10\n",
            "2    16\n",
            "3    17\n",
            "4     3\n",
            "Name: hour_posted, dtype: int64\n",
            "\n",
            "Sample of converted day_of_week_posted:\n",
            "0    2\n",
            "1    3\n",
            "2    1\n",
            "3    1\n",
            "4    5\n",
            "Name: day_of_week_posted, dtype: int64\n",
            "<class 'pandas.core.frame.DataFrame'>\n",
            "Index: 33276 entries, 0 to 17739\n",
            "Data columns (total 12 columns):\n",
            " #   Column                            Non-Null Count  Dtype         \n",
            "---  ------                            --------------  -----         \n",
            " 0   username                          33276 non-null  object        \n",
            " 1   number_reviews                    33276 non-null  int64         \n",
            " 2   location                          33276 non-null  object        \n",
            " 3   rating                            33276 non-null  int64         \n",
            " 4   text                              33276 non-null  object        \n",
            " 5   date_of_experience                33276 non-null  datetime64[ns]\n",
            " 6   date_posted                       33276 non-null  datetime64[ns]\n",
            " 7   verification                      33276 non-null  object        \n",
            " 8   subject                           33276 non-null  object        \n",
            " 9   hour_posted                       33276 non-null  int64         \n",
            " 10  day_of_week_posted                33276 non-null  int64         \n",
            " 11  days_between_experience_and_post  33276 non-null  int64         \n",
            "dtypes: datetime64[ns](2), int64(5), object(5)\n",
            "memory usage: 3.3+ MB\n"
          ]
        }
      ],
      "source": [
        "#Converting hour_posted to only keep the hour and convert to integer\n",
        "\n",
        "print(\"Current data type of hour_posted:\", df_trustpilot['hour_posted'].dtype)\n",
        "\n",
        "# Convert hour_posted from datetime.time to integer hour\n",
        "df_trustpilot['hour_posted'] = df_trustpilot['hour_posted'].apply(lambda x: x.hour if hasattr(x, 'hour') else x)\n",
        "\n",
        "\n",
        "#Converting day_of_week_posted to numeric value\n",
        "\n",
        "day_map = {\n",
        "    'Monday': 0,\n",
        "    'Tuesday': 1,\n",
        "    'Wednesday': 2,\n",
        "    'Thursday': 3,\n",
        "    'Friday': 4,\n",
        "    'Saturday': 5,\n",
        "    'Sunday': 6\n",
        "}\n",
        "df_trustpilot['day_of_week_posted'] = df_trustpilot['day_of_week_posted'].map(day_map)\n",
        "\n",
        "print(\"\\nSample of converted hour_posted:\")\n",
        "print(df_trustpilot['hour_posted'].head())\n",
        "print(\"\\nSample of converted day_of_week_posted:\")\n",
        "print(df_trustpilot['day_of_week_posted'].head())\n",
        "\n",
        "df_trustpilot.info()\n"
      ]
    },
    {
      "cell_type": "code",
      "execution_count": 117,
      "metadata": {},
      "outputs": [
        {
          "name": "stdout",
          "output_type": "stream",
          "text": [
            "DataFrame exported to data/data_trustpilot.csv\n"
          ]
        }
      ],
      "source": [
        "import os\n",
        "\n",
        "os.makedirs('data', exist_ok=True)\n",
        "\n",
        "csv_path = 'data/data_trustpilot.csv'\n",
        "df_trustpilot.to_csv(csv_path, index=False)\n",
        "print(f\"DataFrame exported to {csv_path}\")"
      ]
    },
    {
      "cell_type": "markdown",
      "metadata": {},
      "source": []
    }
  ],
  "metadata": {
    "kernelspec": {
      "display_name": "Python 3",
      "language": "python",
      "name": "python3"
    },
    "language_info": {
      "codemirror_mode": {
        "name": "ipython",
        "version": 3
      },
      "file_extension": ".py",
      "mimetype": "text/x-python",
      "name": "python",
      "nbconvert_exporter": "python",
      "pygments_lexer": "ipython3",
      "version": "3.12.2"
    }
  },
  "nbformat": 4,
  "nbformat_minor": 4
}
