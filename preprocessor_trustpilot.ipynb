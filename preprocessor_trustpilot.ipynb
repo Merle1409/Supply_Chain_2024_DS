{
  "cells": [
    {
      "cell_type": "code",
      "execution_count": 299,
      "metadata": {
        "trusted": true
      },
      "outputs": [],
      "source": [
        "import pandas as pd\n",
        "import numpy as np\n",
        "from datetime import datetime\n",
        "import re\n",
        "import csv"
      ]
    },
    {
      "cell_type": "code",
      "execution_count": 300,
      "metadata": {
        "trusted": true
      },
      "outputs": [],
      "source": [
        "#Preparing the dataset\n",
        "pd.set_option('display.max_columns', None)\n",
        "\n",
        "df_flashbay = pd.read_csv('data/data_flashbay_clean.csv', engine='python')\n",
        "df_steelseries = pd.read_csv('data/data_steelseries_clean.csv', engine='python')\n",
        "df_asda = pd.read_csv('data/data_asda_clean.csv', engine='python')"
      ]
    },
    {
      "cell_type": "code",
      "execution_count": 301,
      "metadata": {
        "trusted": true
      },
      "outputs": [
        {
          "name": "stdout",
          "output_type": "stream",
          "text": [
            "These are the names of the columns present in Flashbay:  \n",
            " Index(['username', 'number_reviews', 'location', 'rating', 'text',\n",
            "       'date_of_experience', 'date_posted', 'verification', 'subject',\n",
            "       'page_number'],\n",
            "      dtype='object')\n",
            "These are the names of the columns present in SteelSeries:  \n",
            " Index(['username', 'number_reviews', 'location', 'rating', 'text',\n",
            "       'date_of_experience', 'date_posted', 'verification', 'subject',\n",
            "       'page_number'],\n",
            "      dtype='object')\n",
            "These are the names of the columns present in Asda:  \n",
            " Index(['username', 'number_reviews', 'location', 'rating', 'text',\n",
            "       'date_of_experience', 'date_posted', 'verification', 'subject',\n",
            "       'page_number'],\n",
            "      dtype='object')\n",
            "The Flashbay dataset has  10 columns\n",
            "The SteelSeries dataset has  10 columns\n",
            "The Asda dataset has  10 columns\n",
            "The Flashbay dataset has  18275 rows\n",
            "The SteelSeries dataset has  17740 rows\n",
            "The Asda dataset has  15769 rows\n"
          ]
        }
      ],
      "source": [
        "#Check compatibility of the three datasets for merging\n",
        "\n",
        "print(\"These are the names of the columns present in Flashbay: \", \"\\n\", df_flashbay.columns)\n",
        "print(\"These are the names of the columns present in SteelSeries: \", \"\\n\", df_steelseries.columns)\n",
        "print(\"These are the names of the columns present in Asda: \", \"\\n\", df_asda.columns)\n",
        "\n",
        "print(\"The Flashbay dataset has \", df_flashbay.shape[1], \"columns\")\n",
        "print(\"The SteelSeries dataset has \", df_steelseries.shape[1], \"columns\")\n",
        "print(\"The Asda dataset has \", df_asda.shape[1], \"columns\")\n",
        "\n",
        "print(\"The Flashbay dataset has \", df_flashbay.shape[0], \"rows\")\n",
        "print(\"The SteelSeries dataset has \", df_steelseries.shape[0], \"rows\")\n",
        "print(\"The Asda dataset has \", df_asda.shape[0], \"rows\")\n"
      ]
    },
    {
      "cell_type": "code",
      "execution_count": 302,
      "metadata": {
        "trusted": true
      },
      "outputs": [
        {
          "name": "stdout",
          "output_type": "stream",
          "text": [
            "Printing the first few rows of Flashbay:  \n",
            "            username number_reviews location  rating  \\\n",
            "0  Margarita Orlova       1 review       CZ       5   \n",
            "1  Oran Whittington       1 review       US       5   \n",
            "2      Cristen Gros       1 review       US       5   \n",
            "3   Mechelle Fields       1 review       US       5   \n",
            "4   Sarah Venturini       1 review       US       5   \n",
            "\n",
            "                                                text date_of_experience  \\\n",
            "0  I had the pleasure of working with Shelby Gibs...   October 10, 2024   \n",
            "1  The company rep I was working with made everyt...   October 14, 2024   \n",
            "2  Ellie was GREAT! Super helpful with the design...   October 15, 2024   \n",
            "3  My team member “Ellie’s’  worked with me throu...   October 11, 2024   \n",
            "4  Rachel was amazing. She responded immediately ...   October 10, 2024   \n",
            "\n",
            "           date_posted verification  \\\n",
            "0  2024-10-17 10:27:44     Verified   \n",
            "1  2024-10-15 16:54:36     Verified   \n",
            "2  2024-10-15 17:01:29     Verified   \n",
            "3  2024-10-12 03:50:51     Verified   \n",
            "4  2024-10-14 17:21:09     Verified   \n",
            "\n",
            "                                             subject  page_number  \n",
            "0                             Great customer service          1.0  \n",
            "1  Certified Crane and Rigging Services. The comp...          1.0  \n",
            "2                                  Ellie was GREAT!!          1.0  \n",
            "3                             Beautiful Red Coasters          1.0  \n",
            "4                               Rachel was amazing!!          1.0  \n"
          ]
        }
      ],
      "source": [
        "print(\"Printing the first few rows of Flashbay: \", \"\\n\", df_flashbay.head())\n"
      ]
    },
    {
      "cell_type": "code",
      "execution_count": 303,
      "metadata": {
        "trusted": true
      },
      "outputs": [
        {
          "name": "stdout",
          "output_type": "stream",
          "text": [
            "Printing the first few rows of SteelSeries:  \n",
            "          username number_reviews location  rating  \\\n",
            "0        Consumer       1 review       CY       5   \n",
            "1   ulices Alfice       1 review       GB       1   \n",
            "2  PHILIP DAMIANO       1 review       US       1   \n",
            "3              dj      7 reviews       BE       1   \n",
            "4  Charlie Watson      4 reviews       GB       5   \n",
            "\n",
            "                                                text date_of_experience  \\\n",
            "0  I paid 60€ for QcK Prism Gaming Mouse Pad and ...   October 17, 2024   \n",
            "1  I was having issues with my old headphones and...   October 01, 2024   \n",
            "2  My APEX PRO TKL (2023) just stop turning on on...   October 09, 2024   \n",
            "3  Why? Because their RMA is awful. It is an endl...   October 01, 2024   \n",
            "4  My son loves these headphones. Unfortunately o...    August 31, 2024   \n",
            "\n",
            "           date_posted verification  \\\n",
            "0  2024-10-19 21:26:17          NaN   \n",
            "1  2024-10-19 22:08:56          NaN   \n",
            "2  2024-10-12 14:39:07          NaN   \n",
            "3  2024-10-06 18:08:33          NaN   \n",
            "4  2024-08-31 01:15:19          NaN   \n",
            "\n",
            "                                     subject  page_number  \n",
            "0  Ultra fast delivery,Excellent CustSuppot…            1  \n",
            "1        Do not purchase from them directly.            1  \n",
            "2          My APEX PRO TKL (2023) just stop…            1  \n",
            "3        Don't buy directly from SteelSeries            1  \n",
            "4                              Arctis nova 1            1  \n"
          ]
        }
      ],
      "source": [
        "print(\"Printing the first few rows of SteelSeries: \", \"\\n\", df_steelseries.head())"
      ]
    },
    {
      "cell_type": "code",
      "execution_count": 304,
      "metadata": {},
      "outputs": [
        {
          "name": "stdout",
          "output_type": "stream",
          "text": [
            "Printing the first few rows of Asda:  \n",
            "           username number_reviews location  rating  \\\n",
            "0    Darren Bolton     16 reviews       GB     1.0   \n",
            "1    richard mason     18 reviews       GB     1.0   \n",
            "2  Paul Zuchlinski       1 review       GB     1.0   \n",
            "3        Katarzyna      6 reviews       GB     1.0   \n",
            "4        bobozilla      7 reviews       GB     1.0   \n",
            "\n",
            "                                                text date_of_experience  \\\n",
            "0  Buy at least 2 online shops per week at Asda s...   October 21, 2024   \n",
            "1  It is quite apparent that ASDA shelf stackers ...   October 17, 2024   \n",
            "2  I put £20.01 in the tank & got charged £99 I h...   October 20, 2024   \n",
            "3  Absolutely shocking experience EACH TIME. This...   October 22, 2024   \n",
            "4  Worst service imaginable. They do not deliver ...   October 19, 2024   \n",
            "\n",
            "           date_posted  verification                                  subject  \\\n",
            "0  2024-10-21 17:17:36           NaN                   Every little helps....   \n",
            "1  2024-10-20 16:33:41           NaN                  Please train your staff   \n",
            "2  2024-10-20 20:09:06           NaN  I put £20.01 in the tank & got charged…   \n",
            "3  2024-10-22 13:14:54           NaN     Absolutely shocking experience EACH…   \n",
            "4  2024-10-20 17:26:31           NaN                 Worst service imaginable   \n",
            "\n",
            "   page_number  \n",
            "0          1.0  \n",
            "1          1.0  \n",
            "2          1.0  \n",
            "3          1.0  \n",
            "4          1.0  \n"
          ]
        }
      ],
      "source": [
        "print(\"Printing the first few rows of Asda: \", \"\\n\", df_asda.head())"
      ]
    },
    {
      "cell_type": "code",
      "execution_count": 305,
      "metadata": {
        "trusted": true
      },
      "outputs": [
        {
          "data": {
            "text/html": [
              "<div>\n",
              "<style scoped>\n",
              "    .dataframe tbody tr th:only-of-type {\n",
              "        vertical-align: middle;\n",
              "    }\n",
              "\n",
              "    .dataframe tbody tr th {\n",
              "        vertical-align: top;\n",
              "    }\n",
              "\n",
              "    .dataframe thead th {\n",
              "        text-align: right;\n",
              "    }\n",
              "</style>\n",
              "<table border=\"1\" class=\"dataframe\">\n",
              "  <thead>\n",
              "    <tr style=\"text-align: right;\">\n",
              "      <th></th>\n",
              "      <th>username</th>\n",
              "      <th>number_reviews</th>\n",
              "      <th>location</th>\n",
              "      <th>rating</th>\n",
              "      <th>text</th>\n",
              "      <th>date_of_experience</th>\n",
              "      <th>date_posted</th>\n",
              "      <th>verification</th>\n",
              "      <th>subject</th>\n",
              "      <th>page_number</th>\n",
              "    </tr>\n",
              "  </thead>\n",
              "  <tbody>\n",
              "    <tr>\n",
              "      <th>0</th>\n",
              "      <td>Margarita Orlova</td>\n",
              "      <td>1 review</td>\n",
              "      <td>CZ</td>\n",
              "      <td>5.0</td>\n",
              "      <td>I had the pleasure of working with Shelby Gibs...</td>\n",
              "      <td>October 10, 2024</td>\n",
              "      <td>2024-10-17 10:27:44</td>\n",
              "      <td>Verified</td>\n",
              "      <td>Great customer service</td>\n",
              "      <td>1.0</td>\n",
              "    </tr>\n",
              "    <tr>\n",
              "      <th>1</th>\n",
              "      <td>Oran Whittington</td>\n",
              "      <td>1 review</td>\n",
              "      <td>US</td>\n",
              "      <td>5.0</td>\n",
              "      <td>The company rep I was working with made everyt...</td>\n",
              "      <td>October 14, 2024</td>\n",
              "      <td>2024-10-15 16:54:36</td>\n",
              "      <td>Verified</td>\n",
              "      <td>Certified Crane and Rigging Services. The comp...</td>\n",
              "      <td>1.0</td>\n",
              "    </tr>\n",
              "    <tr>\n",
              "      <th>2</th>\n",
              "      <td>Cristen Gros</td>\n",
              "      <td>1 review</td>\n",
              "      <td>US</td>\n",
              "      <td>5.0</td>\n",
              "      <td>Ellie was GREAT! Super helpful with the design...</td>\n",
              "      <td>October 15, 2024</td>\n",
              "      <td>2024-10-15 17:01:29</td>\n",
              "      <td>Verified</td>\n",
              "      <td>Ellie was GREAT!!</td>\n",
              "      <td>1.0</td>\n",
              "    </tr>\n",
              "    <tr>\n",
              "      <th>3</th>\n",
              "      <td>Mechelle Fields</td>\n",
              "      <td>1 review</td>\n",
              "      <td>US</td>\n",
              "      <td>5.0</td>\n",
              "      <td>My team member “Ellie’s’  worked with me throu...</td>\n",
              "      <td>October 11, 2024</td>\n",
              "      <td>2024-10-12 03:50:51</td>\n",
              "      <td>Verified</td>\n",
              "      <td>Beautiful Red Coasters</td>\n",
              "      <td>1.0</td>\n",
              "    </tr>\n",
              "    <tr>\n",
              "      <th>4</th>\n",
              "      <td>Sarah Venturini</td>\n",
              "      <td>1 review</td>\n",
              "      <td>US</td>\n",
              "      <td>5.0</td>\n",
              "      <td>Rachel was amazing. She responded immediately ...</td>\n",
              "      <td>October 10, 2024</td>\n",
              "      <td>2024-10-14 17:21:09</td>\n",
              "      <td>Verified</td>\n",
              "      <td>Rachel was amazing!!</td>\n",
              "      <td>1.0</td>\n",
              "    </tr>\n",
              "    <tr>\n",
              "      <th>...</th>\n",
              "      <td>...</td>\n",
              "      <td>...</td>\n",
              "      <td>...</td>\n",
              "      <td>...</td>\n",
              "      <td>...</td>\n",
              "      <td>...</td>\n",
              "      <td>...</td>\n",
              "      <td>...</td>\n",
              "      <td>...</td>\n",
              "      <td>...</td>\n",
              "    </tr>\n",
              "    <tr>\n",
              "      <th>15764</th>\n",
              "      <td>Joyce</td>\n",
              "      <td>3 reviews</td>\n",
              "      <td>IN</td>\n",
              "      <td>3.0</td>\n",
              "      <td>Had to wait a week for my new garden set, slow...</td>\n",
              "      <td>July 09, 2009</td>\n",
              "      <td>2009-07-09 17:06:50</td>\n",
              "      <td>NaN</td>\n",
              "      <td>Slow delivery</td>\n",
              "      <td>796.0</td>\n",
              "    </tr>\n",
              "    <tr>\n",
              "      <th>15765</th>\n",
              "      <td>d young</td>\n",
              "      <td>2 reviews</td>\n",
              "      <td>GB</td>\n",
              "      <td>1.0</td>\n",
              "      <td>i am doing an assignment at college as part of...</td>\n",
              "      <td>June 09, 2009</td>\n",
              "      <td>2009-06-09 08:57:17</td>\n",
              "      <td>NaN</td>\n",
              "      <td>problems with them in the past 6 months</td>\n",
              "      <td>796.0</td>\n",
              "    </tr>\n",
              "    <tr>\n",
              "      <th>15766</th>\n",
              "      <td>B L</td>\n",
              "      <td>1 review</td>\n",
              "      <td>GB</td>\n",
              "      <td>1.0</td>\n",
              "      <td>Ordered a game a while ago which would be disp...</td>\n",
              "      <td>May 20, 2009</td>\n",
              "      <td>2009-05-20 16:29:05</td>\n",
              "      <td>NaN</td>\n",
              "      <td>Two orders, Zero received</td>\n",
              "      <td>796.0</td>\n",
              "    </tr>\n",
              "    <tr>\n",
              "      <th>15767</th>\n",
              "      <td>Zena Gledhill</td>\n",
              "      <td>1 review</td>\n",
              "      <td>IR</td>\n",
              "      <td>1.0</td>\n",
              "      <td>Do you think it is ethical of asda to use a tr...</td>\n",
              "      <td>March 07, 2009</td>\n",
              "      <td>2009-03-07 16:25:25</td>\n",
              "      <td>NaN</td>\n",
              "      <td>Ethical or not</td>\n",
              "      <td>796.0</td>\n",
              "    </tr>\n",
              "    <tr>\n",
              "      <th>15768</th>\n",
              "      <td>Cilla</td>\n",
              "      <td>1 review</td>\n",
              "      <td>GB</td>\n",
              "      <td>2.0</td>\n",
              "      <td>Ordered a cd on the 17th Dec 2008 still had no...</td>\n",
              "      <td>January 15, 2009</td>\n",
              "      <td>2009-01-15 13:41:54</td>\n",
              "      <td>NaN</td>\n",
              "      <td>Non delivery of CD</td>\n",
              "      <td>796.0</td>\n",
              "    </tr>\n",
              "  </tbody>\n",
              "</table>\n",
              "<p>51784 rows × 10 columns</p>\n",
              "</div>"
            ],
            "text/plain": [
              "               username number_reviews location  rating  \\\n",
              "0      Margarita Orlova       1 review       CZ     5.0   \n",
              "1      Oran Whittington       1 review       US     5.0   \n",
              "2          Cristen Gros       1 review       US     5.0   \n",
              "3       Mechelle Fields       1 review       US     5.0   \n",
              "4       Sarah Venturini       1 review       US     5.0   \n",
              "...                 ...            ...      ...     ...   \n",
              "15764             Joyce      3 reviews       IN     3.0   \n",
              "15765           d young      2 reviews       GB     1.0   \n",
              "15766               B L       1 review       GB     1.0   \n",
              "15767     Zena Gledhill       1 review       IR     1.0   \n",
              "15768             Cilla       1 review       GB     2.0   \n",
              "\n",
              "                                                    text date_of_experience  \\\n",
              "0      I had the pleasure of working with Shelby Gibs...   October 10, 2024   \n",
              "1      The company rep I was working with made everyt...   October 14, 2024   \n",
              "2      Ellie was GREAT! Super helpful with the design...   October 15, 2024   \n",
              "3      My team member “Ellie’s’  worked with me throu...   October 11, 2024   \n",
              "4      Rachel was amazing. She responded immediately ...   October 10, 2024   \n",
              "...                                                  ...                ...   \n",
              "15764  Had to wait a week for my new garden set, slow...      July 09, 2009   \n",
              "15765  i am doing an assignment at college as part of...      June 09, 2009   \n",
              "15766  Ordered a game a while ago which would be disp...       May 20, 2009   \n",
              "15767  Do you think it is ethical of asda to use a tr...     March 07, 2009   \n",
              "15768  Ordered a cd on the 17th Dec 2008 still had no...   January 15, 2009   \n",
              "\n",
              "               date_posted verification  \\\n",
              "0      2024-10-17 10:27:44     Verified   \n",
              "1      2024-10-15 16:54:36     Verified   \n",
              "2      2024-10-15 17:01:29     Verified   \n",
              "3      2024-10-12 03:50:51     Verified   \n",
              "4      2024-10-14 17:21:09     Verified   \n",
              "...                    ...          ...   \n",
              "15764  2009-07-09 17:06:50          NaN   \n",
              "15765  2009-06-09 08:57:17          NaN   \n",
              "15766  2009-05-20 16:29:05          NaN   \n",
              "15767  2009-03-07 16:25:25          NaN   \n",
              "15768  2009-01-15 13:41:54          NaN   \n",
              "\n",
              "                                                 subject  page_number  \n",
              "0                                 Great customer service          1.0  \n",
              "1      Certified Crane and Rigging Services. The comp...          1.0  \n",
              "2                                      Ellie was GREAT!!          1.0  \n",
              "3                                 Beautiful Red Coasters          1.0  \n",
              "4                                   Rachel was amazing!!          1.0  \n",
              "...                                                  ...          ...  \n",
              "15764                                      Slow delivery        796.0  \n",
              "15765            problems with them in the past 6 months        796.0  \n",
              "15766                          Two orders, Zero received        796.0  \n",
              "15767                                     Ethical or not        796.0  \n",
              "15768                                 Non delivery of CD        796.0  \n",
              "\n",
              "[51784 rows x 10 columns]"
            ]
          },
          "metadata": {},
          "output_type": "display_data"
        }
      ],
      "source": [
        "df_trustpilot_2 = pd.concat([df_flashbay, df_steelseries], axis=0)\n",
        "df_trustpilot = pd.concat([df_trustpilot_2, df_asda], axis=0)\n",
        "\n",
        "display(df_trustpilot)"
      ]
    },
    {
      "cell_type": "code",
      "execution_count": 306,
      "metadata": {
        "trusted": true
      },
      "outputs": [
        {
          "name": "stdout",
          "output_type": "stream",
          "text": [
            "These are the names of the columns present:  \n",
            " Index(['username', 'number_reviews', 'location', 'rating', 'text',\n",
            "       'date_of_experience', 'date_posted', 'verification', 'subject',\n",
            "       'page_number'],\n",
            "      dtype='object')\n",
            "The dataset has  10 columns\n",
            "The dataset has  51784 rows\n"
          ]
        }
      ],
      "source": [
        "print(\"These are the names of the columns present: \", \"\\n\", df_trustpilot.columns)\n",
        "print(\"The dataset has \", df_trustpilot.shape[1], \"columns\")\n",
        "print(\"The dataset has \", df_trustpilot.shape[0], \"rows\")"
      ]
    },
    {
      "cell_type": "code",
      "execution_count": 307,
      "metadata": {
        "trusted": true
      },
      "outputs": [],
      "source": [
        "#Deleting the page_number column as it is no longer needed or relevant\n",
        "\n",
        "df_trustpilot.drop(columns=['page_number'], inplace=True)"
      ]
    },
    {
      "cell_type": "code",
      "execution_count": 308,
      "metadata": {
        "trusted": true
      },
      "outputs": [
        {
          "name": "stdout",
          "output_type": "stream",
          "text": [
            "These are the names of the columns present:  \n",
            " Index(['username', 'number_reviews', 'location', 'rating', 'text',\n",
            "       'date_of_experience', 'date_posted', 'verification', 'subject'],\n",
            "      dtype='object')\n",
            "The dataset has  9 columns\n",
            "The dataset has  51784 rows\n"
          ]
        }
      ],
      "source": [
        "print(\"These are the names of the columns present: \", \"\\n\", df_trustpilot.columns)\n",
        "print(\"The dataset has \", df_trustpilot.shape[1], \"columns\")\n",
        "print(\"The dataset has \", df_trustpilot.shape[0], \"rows\")"
      ]
    },
    {
      "cell_type": "code",
      "execution_count": 309,
      "metadata": {
        "trusted": true
      },
      "outputs": [
        {
          "name": "stdout",
          "output_type": "stream",
          "text": [
            "Printing the relevant information from the file such as type per variable:  \n",
            "\n",
            "<class 'pandas.core.frame.DataFrame'>\n",
            "Index: 51784 entries, 0 to 15768\n",
            "Data columns (total 9 columns):\n",
            " #   Column              Non-Null Count  Dtype  \n",
            "---  ------              --------------  -----  \n",
            " 0   username            51773 non-null  object \n",
            " 1   number_reviews      51784 non-null  object \n",
            " 2   location            51784 non-null  object \n",
            " 3   rating              51784 non-null  float64\n",
            " 4   text                48937 non-null  object \n",
            " 5   date_of_experience  51784 non-null  object \n",
            " 6   date_posted         51784 non-null  object \n",
            " 7   verification        34850 non-null  object \n",
            " 8   subject             51784 non-null  object \n",
            "dtypes: float64(1), object(8)\n",
            "memory usage: 4.0+ MB\n",
            "None\n"
          ]
        }
      ],
      "source": [
        "print(\"Printing the relevant information from the file such as type per variable: \", \"\\n\")\n",
        "print(df_trustpilot.info())"
      ]
    },
    {
      "cell_type": "code",
      "execution_count": 310,
      "metadata": {
        "trusted": true
      },
      "outputs": [
        {
          "name": "stdout",
          "output_type": "stream",
          "text": [
            "number_reviews\n",
            "1      30316\n",
            "2       6599\n",
            "3       2993\n",
            "4       1815\n",
            "5       1288\n",
            "       ...  \n",
            "141        1\n",
            "454        1\n",
            "151        1\n",
            "124        1\n",
            "128        1\n",
            "Name: count, Length: 171, dtype: int64\n",
            "<class 'pandas.core.frame.DataFrame'>\n",
            "Index: 51784 entries, 0 to 15768\n",
            "Data columns (total 9 columns):\n",
            " #   Column              Non-Null Count  Dtype  \n",
            "---  ------              --------------  -----  \n",
            " 0   username            51773 non-null  object \n",
            " 1   number_reviews      51784 non-null  int64  \n",
            " 2   location            51784 non-null  object \n",
            " 3   rating              51784 non-null  float64\n",
            " 4   text                48937 non-null  object \n",
            " 5   date_of_experience  51784 non-null  object \n",
            " 6   date_posted         51784 non-null  object \n",
            " 7   verification        34850 non-null  object \n",
            " 8   subject             51784 non-null  object \n",
            "dtypes: float64(1), int64(1), object(7)\n",
            "memory usage: 4.0+ MB\n",
            "None\n",
            "           username  number_reviews location  rating  \\\n",
            "0  Margarita Orlova               1       CZ     5.0   \n",
            "1  Oran Whittington               1       US     5.0   \n",
            "2      Cristen Gros               1       US     5.0   \n",
            "3   Mechelle Fields               1       US     5.0   \n",
            "4   Sarah Venturini               1       US     5.0   \n",
            "\n",
            "                                                text date_of_experience  \\\n",
            "0  I had the pleasure of working with Shelby Gibs...   October 10, 2024   \n",
            "1  The company rep I was working with made everyt...   October 14, 2024   \n",
            "2  Ellie was GREAT! Super helpful with the design...   October 15, 2024   \n",
            "3  My team member “Ellie’s’  worked with me throu...   October 11, 2024   \n",
            "4  Rachel was amazing. She responded immediately ...   October 10, 2024   \n",
            "\n",
            "           date_posted verification  \\\n",
            "0  2024-10-17 10:27:44     Verified   \n",
            "1  2024-10-15 16:54:36     Verified   \n",
            "2  2024-10-15 17:01:29     Verified   \n",
            "3  2024-10-12 03:50:51     Verified   \n",
            "4  2024-10-14 17:21:09     Verified   \n",
            "\n",
            "                                             subject  \n",
            "0                             Great customer service  \n",
            "1  Certified Crane and Rigging Services. The comp...  \n",
            "2                                  Ellie was GREAT!!  \n",
            "3                             Beautiful Red Coasters  \n",
            "4                               Rachel was amazing!!  \n"
          ]
        }
      ],
      "source": [
        "#Amending the dataset\n",
        "#number_reviews: Removing 'review(s)' from cell and converting to an integer\n",
        "df_trustpilot['number_reviews'] = df_trustpilot['number_reviews'].str.replace('(?i)reviews', '', regex=True).str.strip()\n",
        "df_trustpilot['number_reviews'] = df_trustpilot['number_reviews'].str.replace('(?i)review', '', regex=True).str.strip()\n",
        "print(df_trustpilot['number_reviews'].value_counts())\n",
        "df_trustpilot['number_reviews'] = df_trustpilot['number_reviews'].astype(int)\n",
        "\n",
        "print(df_trustpilot.info())\n",
        "print(df_trustpilot.head())"
      ]
    },
    {
      "cell_type": "code",
      "execution_count": 311,
      "metadata": {
        "trusted": true
      },
      "outputs": [
        {
          "name": "stdout",
          "output_type": "stream",
          "text": [
            "<class 'pandas.core.frame.DataFrame'>\n",
            "Index: 51784 entries, 0 to 15768\n",
            "Data columns (total 9 columns):\n",
            " #   Column              Non-Null Count  Dtype         \n",
            "---  ------              --------------  -----         \n",
            " 0   username            51773 non-null  object        \n",
            " 1   number_reviews      51784 non-null  int64         \n",
            " 2   location            51784 non-null  object        \n",
            " 3   rating              51784 non-null  float64       \n",
            " 4   text                48937 non-null  object        \n",
            " 5   date_of_experience  51784 non-null  datetime64[ns]\n",
            " 6   date_posted         51784 non-null  object        \n",
            " 7   verification        34850 non-null  object        \n",
            " 8   subject             51784 non-null  object        \n",
            "dtypes: datetime64[ns](1), float64(1), int64(1), object(6)\n",
            "memory usage: 4.0+ MB\n",
            "None\n"
          ]
        }
      ],
      "source": [
        "#date_of_experience: Converting to datetime format\n",
        "df_trustpilot['date_of_experience'] = pd.to_datetime(df_trustpilot['date_of_experience'], errors='coerce')\n",
        "print(df_trustpilot.info())"
      ]
    },
    {
      "cell_type": "code",
      "execution_count": 312,
      "metadata": {
        "trusted": true
      },
      "outputs": [
        {
          "name": "stdout",
          "output_type": "stream",
          "text": [
            "           username  number_reviews location  rating  \\\n",
            "0  Margarita Orlova               1       CZ     5.0   \n",
            "1  Oran Whittington               1       US     5.0   \n",
            "2      Cristen Gros               1       US     5.0   \n",
            "3   Mechelle Fields               1       US     5.0   \n",
            "4   Sarah Venturini               1       US     5.0   \n",
            "\n",
            "                                                text date_of_experience  \\\n",
            "0  I had the pleasure of working with Shelby Gibs...         2024-10-10   \n",
            "1  The company rep I was working with made everyt...         2024-10-14   \n",
            "2  Ellie was GREAT! Super helpful with the design...         2024-10-15   \n",
            "3  My team member “Ellie’s’  worked with me throu...         2024-10-11   \n",
            "4  Rachel was amazing. She responded immediately ...         2024-10-10   \n",
            "\n",
            "  date_posted verification                                            subject  \\\n",
            "0  2024-10-17     Verified                             Great customer service   \n",
            "1  2024-10-15     Verified  Certified Crane and Rigging Services. The comp...   \n",
            "2  2024-10-15     Verified                                  Ellie was GREAT!!   \n",
            "3  2024-10-12     Verified                             Beautiful Red Coasters   \n",
            "4  2024-10-14     Verified                               Rachel was amazing!!   \n",
            "\n",
            "  hour_posted  \n",
            "0    10:27:44  \n",
            "1    16:54:36  \n",
            "2    17:01:29  \n",
            "3    03:50:51  \n",
            "4    17:21:09  \n"
          ]
        }
      ],
      "source": [
        "#date_posted: convert to datetime format, then split into two columns, one for time of day, one for date.\n",
        "\n",
        "df_trustpilot['date_posted'] = pd.to_datetime(df_trustpilot['date_posted'])\n",
        "df_trustpilot['hour_posted'] = df_trustpilot['date_posted'].dt.time\n",
        "df_trustpilot['date_posted'] = df_trustpilot['date_posted'].dt.date\n",
        "\n",
        "print(df_trustpilot.head())"
      ]
    },
    {
      "cell_type": "code",
      "execution_count": 313,
      "metadata": {
        "trusted": true
      },
      "outputs": [
        {
          "name": "stdout",
          "output_type": "stream",
          "text": [
            "           username  number_reviews location  rating  \\\n",
            "0  Margarita Orlova               1       CZ     5.0   \n",
            "1  Oran Whittington               1       US     5.0   \n",
            "2      Cristen Gros               1       US     5.0   \n",
            "3   Mechelle Fields               1       US     5.0   \n",
            "4   Sarah Venturini               1       US     5.0   \n",
            "\n",
            "                                                text date_of_experience  \\\n",
            "0  I had the pleasure of working with Shelby Gibs...         2024-10-10   \n",
            "1  The company rep I was working with made everyt...         2024-10-14   \n",
            "2  Ellie was GREAT! Super helpful with the design...         2024-10-15   \n",
            "3  My team member “Ellie’s’  worked with me throu...         2024-10-11   \n",
            "4  Rachel was amazing. She responded immediately ...         2024-10-10   \n",
            "\n",
            "  date_posted verification                                            subject  \\\n",
            "0  2024-10-17     Verified                             Great customer service   \n",
            "1  2024-10-15     Verified  Certified Crane and Rigging Services. The comp...   \n",
            "2  2024-10-15     Verified                                  Ellie was GREAT!!   \n",
            "3  2024-10-12     Verified                             Beautiful Red Coasters   \n",
            "4  2024-10-14     Verified                               Rachel was amazing!!   \n",
            "\n",
            "  hour_posted day_of_week_posted  \n",
            "0    10:27:44           Thursday  \n",
            "1    16:54:36            Tuesday  \n",
            "2    17:01:29            Tuesday  \n",
            "3    03:50:51           Saturday  \n",
            "4    17:21:09             Monday  \n",
            "<class 'pandas.core.frame.DataFrame'>\n",
            "Index: 51784 entries, 0 to 15768\n",
            "Data columns (total 11 columns):\n",
            " #   Column              Non-Null Count  Dtype         \n",
            "---  ------              --------------  -----         \n",
            " 0   username            51773 non-null  object        \n",
            " 1   number_reviews      51784 non-null  int64         \n",
            " 2   location            51784 non-null  object        \n",
            " 3   rating              51784 non-null  float64       \n",
            " 4   text                48937 non-null  object        \n",
            " 5   date_of_experience  51784 non-null  datetime64[ns]\n",
            " 6   date_posted         51784 non-null  datetime64[ns]\n",
            " 7   verification        34850 non-null  object        \n",
            " 8   subject             51784 non-null  object        \n",
            " 9   hour_posted         51784 non-null  object        \n",
            " 10  day_of_week_posted  51784 non-null  object        \n",
            "dtypes: datetime64[ns](2), float64(1), int64(1), object(7)\n",
            "memory usage: 4.7+ MB\n",
            "None\n"
          ]
        }
      ],
      "source": [
        "#Creating a new column indicating the day of the week the post was created\n",
        "\n",
        "df_trustpilot['date_posted'] = pd.to_datetime(df_trustpilot['date_posted'])\n",
        "\n",
        "df_trustpilot['day_of_week_posted'] = df_trustpilot['date_posted'].dt.day_name()\n",
        "\n",
        "print(df_trustpilot.head())\n",
        "print(df_trustpilot.info())"
      ]
    },
    {
      "cell_type": "code",
      "execution_count": 314,
      "metadata": {
        "trusted": true
      },
      "outputs": [
        {
          "name": "stdout",
          "output_type": "stream",
          "text": [
            "<class 'pandas.core.frame.DataFrame'>\n",
            "Index: 51784 entries, 0 to 15768\n",
            "Data columns (total 12 columns):\n",
            " #   Column                            Non-Null Count  Dtype         \n",
            "---  ------                            --------------  -----         \n",
            " 0   username                          51773 non-null  object        \n",
            " 1   number_reviews                    51784 non-null  int64         \n",
            " 2   location                          51784 non-null  object        \n",
            " 3   rating                            51784 non-null  float64       \n",
            " 4   text                              48937 non-null  object        \n",
            " 5   date_of_experience                51784 non-null  datetime64[ns]\n",
            " 6   date_posted                       51784 non-null  datetime64[ns]\n",
            " 7   verification                      34850 non-null  object        \n",
            " 8   subject                           51784 non-null  object        \n",
            " 9   hour_posted                       51784 non-null  object        \n",
            " 10  day_of_week_posted                51784 non-null  object        \n",
            " 11  days_between_experience_and_post  51784 non-null  int64         \n",
            "dtypes: datetime64[ns](2), float64(1), int64(2), object(7)\n",
            "memory usage: 5.1+ MB\n",
            "None\n",
            "           username  number_reviews location  rating  \\\n",
            "0  Margarita Orlova               1       CZ     5.0   \n",
            "1  Oran Whittington               1       US     5.0   \n",
            "2      Cristen Gros               1       US     5.0   \n",
            "3   Mechelle Fields               1       US     5.0   \n",
            "4   Sarah Venturini               1       US     5.0   \n",
            "\n",
            "                                                text date_of_experience  \\\n",
            "0  I had the pleasure of working with Shelby Gibs...         2024-10-10   \n",
            "1  The company rep I was working with made everyt...         2024-10-14   \n",
            "2  Ellie was GREAT! Super helpful with the design...         2024-10-15   \n",
            "3  My team member “Ellie’s’  worked with me throu...         2024-10-11   \n",
            "4  Rachel was amazing. She responded immediately ...         2024-10-10   \n",
            "\n",
            "  date_posted verification                                            subject  \\\n",
            "0  2024-10-17     Verified                             Great customer service   \n",
            "1  2024-10-15     Verified  Certified Crane and Rigging Services. The comp...   \n",
            "2  2024-10-15     Verified                                  Ellie was GREAT!!   \n",
            "3  2024-10-12     Verified                             Beautiful Red Coasters   \n",
            "4  2024-10-14     Verified                               Rachel was amazing!!   \n",
            "\n",
            "  hour_posted day_of_week_posted  days_between_experience_and_post  \n",
            "0    10:27:44           Thursday                                 7  \n",
            "1    16:54:36            Tuesday                                 1  \n",
            "2    17:01:29            Tuesday                                 0  \n",
            "3    03:50:51           Saturday                                 1  \n",
            "4    17:21:09             Monday                                 4  \n"
          ]
        }
      ],
      "source": [
        "#Create a new column calculating the amount of time (in days) that passed between date_of_experience and date_posted\n",
        "\n",
        "df_trustpilot['days_between_experience_and_post'] = (df_trustpilot['date_posted'] - df_trustpilot['date_of_experience']).dt.days\n",
        "\n",
        "print(df_trustpilot.info())\n",
        "print(df_trustpilot.head())"
      ]
    },
    {
      "cell_type": "code",
      "execution_count": 315,
      "metadata": {
        "trusted": true
      },
      "outputs": [
        {
          "name": "stdout",
          "output_type": "stream",
          "text": [
            "Duplicate rows before:\n",
            "5\n",
            "Duplicate rows after:\n",
            "0\n"
          ]
        }
      ],
      "source": [
        "#Identifying duplicates in the dataset\n",
        "\n",
        "print(\"Duplicate rows before:\")\n",
        "print(df_trustpilot.duplicated().sum())\n",
        "\n",
        "df_trustpilot = df_trustpilot.drop_duplicates()\n",
        "\n",
        "print(\"Duplicate rows after:\")\n",
        "print(df_trustpilot.duplicated().sum())"
      ]
    },
    {
      "cell_type": "code",
      "execution_count": 316,
      "metadata": {
        "trusted": true
      },
      "outputs": [
        {
          "name": "stdout",
          "output_type": "stream",
          "text": [
            "Missing values:\n",
            "username                               11\n",
            "number_reviews                          0\n",
            "location                                0\n",
            "rating                                  0\n",
            "text                                 2846\n",
            "date_of_experience                      0\n",
            "date_posted                             0\n",
            "verification                        16934\n",
            "subject                                 0\n",
            "hour_posted                             0\n",
            "day_of_week_posted                      0\n",
            "days_between_experience_and_post        0\n",
            "dtype: int64\n"
          ]
        }
      ],
      "source": [
        "#Identifying missing values in the dataset\n",
        "\n",
        "print(\"Missing values:\")\n",
        "print(df_trustpilot.isnull().sum())"
      ]
    },
    {
      "cell_type": "code",
      "execution_count": 317,
      "metadata": {
        "trusted": true
      },
      "outputs": [],
      "source": [
        "#There are three columns with missing values: username, text and verification\n",
        "#username only has 11 missing values and the username column is not critical so we can override that with the most frequently used value from other columns\n",
        "#verification has 16,934 missing values - if verification is missing that means the user didnt verify themselves. Based on this, we should inspect the different options for this column and fill it with the value most likely representing 'Not verified'. \n",
        "#text has 2846 missing values and is our biggest challenge. Based on the text we predict the rating. Determine what % of our entries has no text and then most likely proceed with deleting those rows."
      ]
    },
    {
      "cell_type": "code",
      "execution_count": 318,
      "metadata": {
        "trusted": true
      },
      "outputs": [
        {
          "name": "stdout",
          "output_type": "stream",
          "text": [
            "This is the distribution of the types of username in the dataset:  \n",
            " username\n",
            "Customer     247\n",
            "customer     141\n",
            "Anonymous    103\n",
            "Chris        103\n",
            "David         99\n",
            "Name: count, dtype: int64\n",
            "Missing values:\n",
            "0\n"
          ]
        }
      ],
      "source": [
        "#Username missing value\n",
        "\n",
        "print(\"This is the distribution of the types of username in the dataset: \", \"\\n\", df_trustpilot['username'].value_counts().head())\n",
        "\n",
        "#The username with the highest number in the dataset is 'Customer'. As this is a non-descript name for a username, we will apply it to the missing username.\n",
        "\n",
        "df_trustpilot['username'] = df_trustpilot['username'].fillna('Customer')\n",
        "\n",
        "print(\"Missing values:\")\n",
        "print(df_trustpilot['username'].isnull().sum())\n"
      ]
    },
    {
      "cell_type": "code",
      "execution_count": 319,
      "metadata": {
        "trusted": true
      },
      "outputs": [
        {
          "name": "stdout",
          "output_type": "stream",
          "text": [
            "This is the distribution of the types of verifications in the dataset:  \n",
            " verification\n",
            "Verified      30286\n",
            "Invited        4554\n",
            "Redirected        5\n",
            "Name: count, dtype: int64\n",
            "Missing values:\n",
            "0\n"
          ]
        }
      ],
      "source": [
        "#Verification missing value\n",
        "\n",
        "print(\"This is the distribution of the types of verifications in the dataset: \", \"\\n\", df_trustpilot['verification'].value_counts().head())\n",
        "\n",
        "#Inspection indicates that there is no value under verification specifically indicating that a user is not verified. We will hence create a new variable named 'Not Verified' and fill the n/a values with it. \n",
        "\n",
        "df_trustpilot['verification'] = df_trustpilot['verification'].fillna('Not Verified')\n",
        "\n",
        "print(\"Missing values:\")\n",
        "print(df_trustpilot['verification'].isnull().sum())\n"
      ]
    },
    {
      "cell_type": "code",
      "execution_count": 320,
      "metadata": {
        "trusted": true
      },
      "outputs": [
        {
          "name": "stdout",
          "output_type": "stream",
          "text": [
            "The percentage of n/a values in the text column compared to the full dataset is: \n",
            "\n",
            "5.496436779389327\n",
            "Missing values:\n",
            "username                               0\n",
            "number_reviews                         0\n",
            "location                               0\n",
            "rating                                 0\n",
            "text                                2846\n",
            "date_of_experience                     0\n",
            "date_posted                            0\n",
            "verification                           0\n",
            "subject                                0\n",
            "hour_posted                            0\n",
            "day_of_week_posted                     0\n",
            "days_between_experience_and_post       0\n",
            "dtype: int64\n"
          ]
        }
      ],
      "source": [
        "#Text missing value\n",
        "\n",
        "na_percentage = (df_trustpilot['text'].isna().sum() / len(df_trustpilot)) * 100\n",
        "print(\"The percentage of n/a values in the text column compared to the full dataset is:\", \"\\n\")\n",
        "print(na_percentage)\n",
        "\n",
        "print(\"Missing values:\")\n",
        "print(df_trustpilot.isnull().sum())"
      ]
    },
    {
      "cell_type": "code",
      "execution_count": 321,
      "metadata": {
        "trusted": true
      },
      "outputs": [
        {
          "name": "stdout",
          "output_type": "stream",
          "text": [
            "Missing values:\n",
            "username                            0\n",
            "number_reviews                      0\n",
            "location                            0\n",
            "rating                              0\n",
            "text                                0\n",
            "date_of_experience                  0\n",
            "date_posted                         0\n",
            "verification                        0\n",
            "subject                             0\n",
            "hour_posted                         0\n",
            "day_of_week_posted                  0\n",
            "days_between_experience_and_post    0\n",
            "dtype: int64\n",
            "The dataset has  12 columns\n",
            "The dataset has  48933 rows\n"
          ]
        }
      ],
      "source": [
        "#The cells with missing values for text represent 5.5% of the full dataset. Due to the criticality of this column and the size of the dataset, the decision has been made to remove rows with n/a values for text.\n",
        "\n",
        "df_trustpilot = df_trustpilot.dropna(axis=0, how='any', subset=['text'])\n",
        "\n",
        "print(\"Missing values:\")\n",
        "print(df_trustpilot.isnull().sum())\n",
        "\n",
        "print(\"The dataset has \", df_trustpilot.shape[1], \"columns\")\n",
        "print(\"The dataset has \", df_trustpilot.shape[0], \"rows\")"
      ]
    },
    {
      "cell_type": "code",
      "execution_count": 322,
      "metadata": {
        "trusted": true
      },
      "outputs": [
        {
          "name": "stdout",
          "output_type": "stream",
          "text": [
            "These are the names of the columns present:  \n",
            " Index(['username', 'number_reviews', 'location', 'rating', 'text',\n",
            "       'date_of_experience', 'date_posted', 'verification', 'subject',\n",
            "       'hour_posted', 'day_of_week_posted',\n",
            "       'days_between_experience_and_post'],\n",
            "      dtype='object')\n",
            "Printing the relevant information from the file such as type per variable:  \n",
            "\n",
            "<class 'pandas.core.frame.DataFrame'>\n",
            "Index: 48933 entries, 0 to 15768\n",
            "Data columns (total 12 columns):\n",
            " #   Column                            Non-Null Count  Dtype         \n",
            "---  ------                            --------------  -----         \n",
            " 0   username                          48933 non-null  object        \n",
            " 1   number_reviews                    48933 non-null  int64         \n",
            " 2   location                          48933 non-null  object        \n",
            " 3   rating                            48933 non-null  float64       \n",
            " 4   text                              48933 non-null  object        \n",
            " 5   date_of_experience                48933 non-null  datetime64[ns]\n",
            " 6   date_posted                       48933 non-null  datetime64[ns]\n",
            " 7   verification                      48933 non-null  object        \n",
            " 8   subject                           48933 non-null  object        \n",
            " 9   hour_posted                       48933 non-null  object        \n",
            " 10  day_of_week_posted                48933 non-null  object        \n",
            " 11  days_between_experience_and_post  48933 non-null  int64         \n",
            "dtypes: datetime64[ns](2), float64(1), int64(2), object(7)\n",
            "memory usage: 4.9+ MB\n",
            "None\n"
          ]
        }
      ],
      "source": [
        "print(\"These are the names of the columns present: \", \"\\n\", df_trustpilot.columns)\n",
        "\n",
        "print(\"Printing the relevant information from the file such as type per variable: \", \"\\n\")\n",
        "print(df_trustpilot.info())\n"
      ]
    },
    {
      "cell_type": "code",
      "execution_count": 323,
      "metadata": {
        "trusted": true
      },
      "outputs": [
        {
          "name": "stdout",
          "output_type": "stream",
          "text": [
            "These are the statistical distributions of the numeric variables present in the dataset:  \n",
            "\n",
            "       number_reviews        rating             date_of_experience  \\\n",
            "count    48933.000000  48933.000000                          48933   \n",
            "mean         4.791797      3.517974  2019-08-27 20:34:14.368217600   \n",
            "min          1.000000      1.000000            2009-01-15 00:00:00   \n",
            "25%          1.000000      1.000000            2017-04-11 00:00:00   \n",
            "50%          1.000000      5.000000            2020-07-14 00:00:00   \n",
            "75%          3.000000      5.000000            2021-09-13 00:00:00   \n",
            "max        592.000000      5.000000            2024-10-22 00:00:00   \n",
            "std         12.363238      1.836672                            NaN   \n",
            "\n",
            "                         date_posted  days_between_experience_and_post  \n",
            "count                          48933                      48933.000000  \n",
            "mean   2019-08-29 20:02:39.794003968                          1.978072  \n",
            "min              2009-01-15 00:00:00                         -1.000000  \n",
            "25%              2017-04-12 00:00:00                          0.000000  \n",
            "50%              2020-07-15 00:00:00                          0.000000  \n",
            "75%              2021-09-13 00:00:00                          0.000000  \n",
            "max              2024-10-22 00:00:00                       3972.000000  \n",
            "std                              NaN                         41.564092  \n"
          ]
        }
      ],
      "source": [
        "print(\"These are the statistical distributions of the numeric variables present in the dataset: \", \"\\n\")\n",
        "print(df_trustpilot.describe())"
      ]
    },
    {
      "cell_type": "code",
      "execution_count": 324,
      "metadata": {
        "trusted": true
      },
      "outputs": [
        {
          "name": "stdout",
          "output_type": "stream",
          "text": [
            "number_reviews has the following values number_reviews\n",
            "1      28306\n",
            "2       6163\n",
            "3       2826\n",
            "4       1745\n",
            "5       1249\n",
            "       ...  \n",
            "385        1\n",
            "141        1\n",
            "151        1\n",
            "124        1\n",
            "128        1\n",
            "Name: count, Length: 170, dtype: int64\n",
            "location has the following values location\n",
            "US    23956\n",
            "GB    17289\n",
            "CA     1494\n",
            "DE      843\n",
            "FR      466\n",
            "      ...  \n",
            "RE        1\n",
            "BM        1\n",
            "FO        1\n",
            "GP        1\n",
            "AM        1\n",
            "Name: count, Length: 140, dtype: int64\n",
            "rating has the following values rating\n",
            "5.0    27936\n",
            "1.0    15577\n",
            "4.0     2385\n",
            "2.0     1757\n",
            "3.0     1278\n",
            "Name: count, dtype: int64\n",
            "verification has the following values verification\n",
            "Verified        28336\n",
            "Not Verified    16794\n",
            "Invited          3798\n",
            "Redirected          5\n",
            "Name: count, dtype: int64\n",
            "day_of_week_posted has the following values day_of_week_posted\n",
            "Tuesday      8824\n",
            "Wednesday    8494\n",
            "Thursday     8255\n",
            "Friday       7621\n",
            "Monday       7481\n",
            "Saturday     4535\n",
            "Sunday       3723\n",
            "Name: count, dtype: int64\n",
            "days_between_experience_and_post has the following values days_between_experience_and_post\n",
            "0       44993\n",
            "1        1476\n",
            "2         424\n",
            "3         307\n",
            "4         186\n",
            "        ...  \n",
            "291         1\n",
            "240         1\n",
            "3842        1\n",
            "95          1\n",
            "2309        1\n",
            "Name: count, Length: 217, dtype: int64\n"
          ]
        }
      ],
      "source": [
        "list = ['number_reviews', 'location', 'rating', 'verification', 'day_of_week_posted',\n",
        "       'days_between_experience_and_post']\n",
        "\n",
        "for value in list:\n",
        "    print(f\"{value} has the following values\", df_trustpilot[value].value_counts())"
      ]
    },
    {
      "cell_type": "code",
      "execution_count": 325,
      "metadata": {
        "trusted": true
      },
      "outputs": [
        {
          "name": "stdout",
          "output_type": "stream",
          "text": [
            "The Trustpilot dataset has  12 columns\n",
            "The Trustpilot dataset has  48933 rows\n"
          ]
        }
      ],
      "source": [
        "print(\"The Trustpilot dataset has \", df_trustpilot.shape[1], \"columns\")\n",
        "\n",
        "print(\"The Trustpilot dataset has \", df_trustpilot.shape[0], \"rows\")"
      ]
    },
    {
      "cell_type": "code",
      "execution_count": 326,
      "metadata": {},
      "outputs": [
        {
          "name": "stdout",
          "output_type": "stream",
          "text": [
            "<class 'pandas.core.frame.DataFrame'>\n",
            "Index: 48933 entries, 0 to 15768\n",
            "Data columns (total 12 columns):\n",
            " #   Column                            Non-Null Count  Dtype         \n",
            "---  ------                            --------------  -----         \n",
            " 0   username                          48933 non-null  object        \n",
            " 1   number_reviews                    48933 non-null  int64         \n",
            " 2   location                          48933 non-null  object        \n",
            " 3   rating                            48933 non-null  float64       \n",
            " 4   text                              48933 non-null  object        \n",
            " 5   date_of_experience                48933 non-null  datetime64[ns]\n",
            " 6   date_posted                       48933 non-null  datetime64[ns]\n",
            " 7   verification                      48933 non-null  object        \n",
            " 8   subject                           48933 non-null  object        \n",
            " 9   hour_posted                       48933 non-null  object        \n",
            " 10  day_of_week_posted                48933 non-null  object        \n",
            " 11  days_between_experience_and_post  48933 non-null  int64         \n",
            "dtypes: datetime64[ns](2), float64(1), int64(2), object(7)\n",
            "memory usage: 4.9+ MB\n",
            "None\n"
          ]
        }
      ],
      "source": [
        "print(df_trustpilot.info())"
      ]
    },
    {
      "cell_type": "code",
      "execution_count": 327,
      "metadata": {},
      "outputs": [
        {
          "name": "stdout",
          "output_type": "stream",
          "text": [
            "Current data type of hour_posted: object\n",
            "\n",
            "Sample of converted hour_posted:\n",
            "0    10\n",
            "1    16\n",
            "2    17\n",
            "3     3\n",
            "4    17\n",
            "Name: hour_posted, dtype: int64\n",
            "\n",
            "Sample of converted day_of_week_posted:\n",
            "0    3\n",
            "1    1\n",
            "2    1\n",
            "3    5\n",
            "4    0\n",
            "Name: day_of_week_posted, dtype: int64\n"
          ]
        }
      ],
      "source": [
        "#Converting hour_posted to only keep the hour and convert to integer\n",
        "\n",
        "print(\"Current data type of hour_posted:\", df_trustpilot['hour_posted'].dtype)\n",
        "\n",
        "# Convert hour_posted from datetime.time to integer hour\n",
        "df_trustpilot['hour_posted'] = df_trustpilot['hour_posted'].apply(lambda x: x.hour if hasattr(x, 'hour') else x)\n",
        "\n",
        "\n",
        "#Converting day_of_week_posted to numeric value\n",
        "\n",
        "day_map = {\n",
        "    'Monday': 0,\n",
        "    'Tuesday': 1,\n",
        "    'Wednesday': 2,\n",
        "    'Thursday': 3,\n",
        "    'Friday': 4,\n",
        "    'Saturday': 5,\n",
        "    'Sunday': 6\n",
        "}\n",
        "df_trustpilot['day_of_week_posted'] = df_trustpilot['day_of_week_posted'].map(day_map)\n",
        "\n",
        "print(\"\\nSample of converted hour_posted:\")\n",
        "print(df_trustpilot['hour_posted'].head())\n",
        "print(\"\\nSample of converted day_of_week_posted:\")\n",
        "print(df_trustpilot['day_of_week_posted'].head())\n",
        "\n"
      ]
    },
    {
      "cell_type": "code",
      "execution_count": 328,
      "metadata": {},
      "outputs": [
        {
          "name": "stdout",
          "output_type": "stream",
          "text": [
            "['Verified' 'Not Verified' 'Redirected' 'Invited']\n",
            "<class 'pandas.core.frame.DataFrame'>\n",
            "Index: 48933 entries, 0 to 15768\n",
            "Data columns (total 12 columns):\n",
            " #   Column                            Non-Null Count  Dtype         \n",
            "---  ------                            --------------  -----         \n",
            " 0   username                          48933 non-null  object        \n",
            " 1   number_reviews                    48933 non-null  int64         \n",
            " 2   location                          48933 non-null  object        \n",
            " 3   rating                            48933 non-null  float64       \n",
            " 4   text                              48933 non-null  object        \n",
            " 5   date_of_experience                48933 non-null  datetime64[ns]\n",
            " 6   date_posted                       48933 non-null  datetime64[ns]\n",
            " 7   verification                      48933 non-null  object        \n",
            " 8   subject                           48933 non-null  object        \n",
            " 9   hour_posted                       48933 non-null  int64         \n",
            " 10  day_of_week_posted                48933 non-null  int64         \n",
            " 11  days_between_experience_and_post  48933 non-null  int64         \n",
            "dtypes: datetime64[ns](2), float64(1), int64(4), object(5)\n",
            "memory usage: 4.9+ MB\n"
          ]
        }
      ],
      "source": [
        "print(df_trustpilot['verification'].unique())\n",
        "\n",
        "df_trustpilot.info()"
      ]
    },
    {
      "cell_type": "code",
      "execution_count": 329,
      "metadata": {},
      "outputs": [],
      "source": [
        "# Verification currently has 4 values. In order to simplify this variable, we will perform binary encoding.\n",
        "# ['Verified' 'Not Verified' 'Redirected' 'Invited']\n",
        "# 'Verified' = 1\n",
        "# 'Not Verified', 'Redirected', 'Invited' = 0 \n",
        "# 'Not Verified', 'Redirected', 'Invited' were all encoded 0 as they are not verified by the Trustpilot website\n",
        "\n",
        "verification_map = {\n",
        "    'Verified': 1,\n",
        "    'Not Verified': 0,\n",
        "    'Redirected': 0,\n",
        "    'Invited': 0\n",
        "}\n",
        "\n",
        "df_trustpilot['verification_encoded'] = df_trustpilot['verification'].map(verification_map)\n",
        "\n",
        "df_trustpilot = df_trustpilot.drop('verification', axis=1)\n"
      ]
    },
    {
      "cell_type": "code",
      "execution_count": 330,
      "metadata": {},
      "outputs": [
        {
          "name": "stdout",
          "output_type": "stream",
          "text": [
            "<class 'pandas.core.frame.DataFrame'>\n",
            "Index: 48933 entries, 0 to 15768\n",
            "Data columns (total 12 columns):\n",
            " #   Column                            Non-Null Count  Dtype         \n",
            "---  ------                            --------------  -----         \n",
            " 0   username                          48933 non-null  object        \n",
            " 1   number_reviews                    48933 non-null  int64         \n",
            " 2   location                          48933 non-null  object        \n",
            " 3   rating                            48933 non-null  float64       \n",
            " 4   text                              48933 non-null  object        \n",
            " 5   date_of_experience                48933 non-null  datetime64[ns]\n",
            " 6   date_posted                       48933 non-null  datetime64[ns]\n",
            " 7   subject                           48933 non-null  object        \n",
            " 8   hour_posted                       48933 non-null  int64         \n",
            " 9   day_of_week_posted                48933 non-null  int64         \n",
            " 10  days_between_experience_and_post  48933 non-null  int64         \n",
            " 11  verification                      48933 non-null  int64         \n",
            "dtypes: datetime64[ns](2), float64(1), int64(5), object(4)\n",
            "memory usage: 4.9+ MB\n"
          ]
        }
      ],
      "source": [
        "df_trustpilot['verification'] = df_trustpilot['verification_encoded']\n",
        "df_trustpilot = df_trustpilot.drop('verification_encoded', axis=1)\n",
        "\n",
        "df_trustpilot.info()"
      ]
    },
    {
      "cell_type": "code",
      "execution_count": 331,
      "metadata": {},
      "outputs": [
        {
          "name": "stdout",
          "output_type": "stream",
          "text": [
            "DataFrame exported to data/data_trustpilot.csv\n"
          ]
        }
      ],
      "source": [
        "import os\n",
        "\n",
        "os.makedirs('data', exist_ok=True)\n",
        "\n",
        "csv_path = 'data/data_trustpilot.csv'\n",
        "df_trustpilot.to_csv(csv_path, index=False)\n",
        "print(f\"DataFrame exported to {csv_path}\")"
      ]
    },
    {
      "cell_type": "markdown",
      "metadata": {},
      "source": []
    }
  ],
  "metadata": {
    "kernelspec": {
      "display_name": "Python 3",
      "language": "python",
      "name": "python3"
    },
    "language_info": {
      "codemirror_mode": {
        "name": "ipython",
        "version": 3
      },
      "file_extension": ".py",
      "mimetype": "text/x-python",
      "name": "python",
      "nbconvert_exporter": "python",
      "pygments_lexer": "ipython3",
      "version": "3.12.2"
    }
  },
  "nbformat": 4,
  "nbformat_minor": 4
}
